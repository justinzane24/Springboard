{
 "cells": [
  {
   "cell_type": "markdown",
   "id": "b3f43c41-2ec3-4bff-b158-bc044533e546",
   "metadata": {},
   "source": [
    "## Data Wrangling"
   ]
  },
  {
   "cell_type": "markdown",
   "id": "9c780667-a8c5-49cf-a46e-f238993bbc7e",
   "metadata": {},
   "source": [
    "### Imports"
   ]
  },
  {
   "cell_type": "code",
   "execution_count": 1,
   "id": "14bb6aea-52e3-4efc-aac0-519917e8d67e",
   "metadata": {},
   "outputs": [],
   "source": [
    "# Fixes threadpoolctl to skip BLAS probing issues on Windows\n",
    "import os\n",
    "os.environ[\"OPENBLAS_NUM_THREADS\"] = \"1\"\n",
    "os.environ[\"OMP_NUM_THREADS\"]       = \"1\"\n",
    "os.environ[\"MKL_NUM_THREADS\"]       = \"1\"\n",
    "import contextlib, threadpoolctl\n",
    "def no_op_threadpool_limits(limits=None, user_api=None):\n",
    "    return contextlib.nullcontext()\n",
    "threadpoolctl.threadpool_limits = no_op_threadpool_limits\n",
    "\n",
    "# Standard imports\n",
    "import pandas as pd\n",
    "import numpy as np\n",
    "import matplotlib.pyplot as plt\n",
    "import seaborn as sns\n",
    "from sklearn.manifold import TSNE\n",
    "from sklearn.model_selection import StratifiedKFold, cross_validate, train_test_split\n",
    "from sklearn.preprocessing import StandardScaler\n",
    "from sklearn.linear_model import LogisticRegression\n",
    "from sklearn.ensemble import RandomForestClassifier\n",
    "from xgboost import XGBClassifier\n",
    "from sklearn.neural_network import MLPClassifier\n",
    "from sklearn.metrics import (make_scorer, roc_auc_score, precision_recall_curve, f1_score,\n",
    "                             precision_score, recall_score, average_precision_score)\n",
    "from imblearn.pipeline import Pipeline\n",
    "from imblearn.over_sampling import SMOTE\n",
    "from sklearn.base import clone\n",
    "import warnings\n",
    "warnings.filterwarnings('ignore') # suppress warnings"
   ]
  },
  {
   "cell_type": "markdown",
   "id": "7a00f473-88bd-4070-b402-7079c439417f",
   "metadata": {},
   "source": [
    "### Read In & Inspect Data"
   ]
  },
  {
   "cell_type": "code",
   "execution_count": 3,
   "id": "f4b8ab09-75e4-4e0d-8cf7-e17dc89151ec",
   "metadata": {},
   "outputs": [],
   "source": [
    "df = pd.read_csv('creditcard.csv')"
   ]
  },
  {
   "cell_type": "code",
   "execution_count": null,
   "id": "4dc991ad-c043-47eb-8a8d-c6f44f897168",
   "metadata": {},
   "outputs": [],
   "source": [
    "df.head()"
   ]
  },
  {
   "cell_type": "markdown",
   "id": "fb6b1c89-42c2-40b1-998d-c733e0cc54e7",
   "metadata": {},
   "source": [
    "Note: Due to confidentiality limitations, PCA components are provided rather than original features (e.g., merchant category, card type, or location). While the PCA components keep variability intact, using them directly removes the need for proper feature engineering that would typically be done beforehand - this is a limitation of public use data."
   ]
  },
  {
   "cell_type": "markdown",
   "id": "5709a256-1e3e-4895-989a-fc136677551e",
   "metadata": {},
   "source": [
    "## EDA"
   ]
  },
  {
   "cell_type": "code",
   "execution_count": null,
   "id": "d08deedc-6afc-4a23-9f5d-6cd1dbde4b6a",
   "metadata": {},
   "outputs": [],
   "source": [
    "df.info()"
   ]
  },
  {
   "cell_type": "markdown",
   "id": "dbb45525-ec40-47b8-b2ec-2d13bc6ddfb1",
   "metadata": {},
   "source": [
    "All values are numeric and there are no missing values. We have 28 PCA components, Time, Amount, and Class. The Time feature is the number of seconds that have elapsed between this transaction and the first transaction; with a max of 179792, this dataset encompasses 48 hours of transactions. The Amount feature is self-explanatory. And finally, Class is the binary target feature to signify fraud."
   ]
  },
  {
   "cell_type": "code",
   "execution_count": null,
   "id": "29c91b4e-512a-404a-aa84-1c97265ee60f",
   "metadata": {},
   "outputs": [],
   "source": [
    "df.describe().T"
   ]
  },
  {
   "cell_type": "code",
   "execution_count": null,
   "id": "29121d41-ea1d-45bf-952c-07d8ea9b7175",
   "metadata": {},
   "outputs": [],
   "source": [
    "# Check class imbalance\n",
    "df['Class'].value_counts(normalize=True)"
   ]
  },
  {
   "cell_type": "code",
   "execution_count": null,
   "id": "bc2acaa0-f43d-4fae-9ab4-1cd332cf6576",
   "metadata": {},
   "outputs": [],
   "source": [
    "# Check kernel density estimate plots by Class\n",
    "fraud_df = df[df['Class'] == 1]\n",
    "normal_df = df[df['Class'] == 0]\n",
    "\n",
    "plt.figure(figsize=(16, 12))\n",
    "for i in range(1, 29):\n",
    "    plt.subplot(7, 4, i)\n",
    "    sns.kdeplot(normal_df[f'V{i}'], label='Normal', fill=True)\n",
    "    sns.kdeplot(fraud_df[f'V{i}'], label='Fraud', fill=True)\n",
    "    plt.title(f'V{i}')\n",
    "    plt.xticks([])\n",
    "    plt.yticks([])\n",
    "plt.tight_layout()\n",
    "plt.legend()"
   ]
  },
  {
   "cell_type": "markdown",
   "id": "a67b31b1-e250-4841-a572-a4cba7d2374a",
   "metadata": {},
   "source": [
    "These plots can be used to determine which PCA components are most influential in helping our model learn. Generally speaking, we are looking for plots without a lot of overlap."
   ]
  },
  {
   "cell_type": "code",
   "execution_count": null,
   "id": "004b8e7f-b6a4-4fad-b26e-b00ac5341550",
   "metadata": {},
   "outputs": [],
   "source": [
    "# Fraud per hour\n",
    "df['Hour'] = (df['Time'] % 86400) // 3600\n",
    "\n",
    "sns.countplot(data=df[df['Class'] == 1], x='Hour')\n",
    "plt.xticks(rotation=45)\n",
    "plt.title(\"Fraud Count by Hour of Day\")"
   ]
  },
  {
   "cell_type": "markdown",
   "id": "dbe69835-afaa-4958-bb38-8ee51f346079",
   "metadata": {},
   "source": [
    "The highest frequencies were at 2 a.m. and 11 a.m."
   ]
  },
  {
   "cell_type": "code",
   "execution_count": null,
   "id": "bdb8360f-4b00-4b04-a46b-d32028d1e677",
   "metadata": {},
   "outputs": [],
   "source": [
    "df['Amount'].describe()"
   ]
  },
  {
   "cell_type": "markdown",
   "id": "fd5f20c9-dc5c-4f86-ab31-6b8266bd2a29",
   "metadata": {},
   "source": [
    "There is a huge maximum value of 25691 while the mean is only 88 with std of 250. We will leave the outliers for now, but should adjust the limit for visualization purposes."
   ]
  },
  {
   "cell_type": "code",
   "execution_count": null,
   "id": "fd1fe42e-1b5b-41c8-b6b9-e8379637780c",
   "metadata": {},
   "outputs": [],
   "source": [
    "sns.kdeplot(df[df['Class']==0]['Amount'], label='Normal', fill=True)\n",
    "sns.kdeplot(df[df['Class']==1]['Amount'], label='Fraud', fill=True)\n",
    "plt.xlim(0, 1000)  # Helps remove noise from huge outliers\n",
    "plt.title(\"Amount Distribution\")\n",
    "plt.legend()"
   ]
  },
  {
   "cell_type": "markdown",
   "id": "1a535363-af62-44b9-9ff6-0d9b0e4ac188",
   "metadata": {},
   "source": [
    "The distributions of Amount (presumably in Euros) by Class appear to be relatively similar, but with a notable spike in the lower end of the distribution for fraudulent charges."
   ]
  },
  {
   "cell_type": "code",
   "execution_count": null,
   "id": "9e810f46-103f-4f71-8c5f-856cc2b097f7",
   "metadata": {},
   "outputs": [],
   "source": [
    "# Sample df\n",
    "sample_df = df.sample(10000, random_state=42)\n",
    "X = sample_df.drop(columns=['Class', 'Time']).astype('float64').values\n",
    "\n",
    "# Run t-SNE\n",
    "tsne = TSNE(n_components=2, random_state=42)\n",
    "tsne_result = tsne.fit_transform(X)\n",
    "\n",
    "# Plot\n",
    "sns.scatterplot(\n",
    "    x=tsne_result[:, 0],\n",
    "    y=tsne_result[:, 1],\n",
    "    hue=sample_df['Class'],\n",
    "    palette='Set1',\n",
    "    alpha=0.6\n",
    ")\n",
    "plt.title(\"t-SNE Visualization of PCA Components\")\n",
    "plt.xlabel(\"t-SNE Component 1\")\n",
    "plt.ylabel(\"t-SNE Component 2\")\n",
    "plt.legend(title='Class')\n",
    "plt.show()"
   ]
  },
  {
   "cell_type": "markdown",
   "id": "384615fe-690f-4d5d-a3ae-3ccee0c1af6e",
   "metadata": {},
   "source": [
    "## Preprocessing"
   ]
  },
  {
   "cell_type": "code",
   "execution_count": 5,
   "id": "5615ee76-8df2-4821-aebb-506c289add35",
   "metadata": {},
   "outputs": [],
   "source": [
    "# Define scorers\n",
    "scoring = {\n",
    "    'precision': 'precision',\n",
    "    'recall': 'recall',    \n",
    "    'f1': 'f1',\n",
    "    'average_precision': 'average_precision'\n",
    "}\n",
    "\n",
    "# Define cross-validator\n",
    "cv = StratifiedKFold(n_splits=5, shuffle=True, random_state=42)\n",
    "\n",
    "# X, y preparation\n",
    "X = df.drop(columns='Class')\n",
    "y = df['Class']\n",
    "\n",
    "# Create train/test split\n",
    "X_train, X_test, y_train, y_test = train_test_split(X, y, test_size=0.2, stratify=y, random_state=42)"
   ]
  },
  {
   "cell_type": "markdown",
   "id": "3df7ab72-ac6a-4e0a-b300-349db6fa6d79",
   "metadata": {
    "jp-MarkdownHeadingCollapsed": true
   },
   "source": [
    "## Modeling"
   ]
  },
  {
   "cell_type": "code",
   "execution_count": null,
   "id": "bc47fcb1-7172-4cf1-a722-62ec799296cb",
   "metadata": {},
   "outputs": [],
   "source": [
    "# ======= STEP 1: Evaluation Function (Cross-Validation) ======= #\n",
    "def evaluate_model(model, scale=True):\n",
    "    steps = []\n",
    "    if scale:\n",
    "        steps.append(('scaler', StandardScaler()))\n",
    "    \n",
    "    steps += [('smote', SMOTE(random_state=42, n_jobs=7)), ('classifier', clone(model))]\n",
    "    pipeline = Pipeline(steps)\n",
    "\n",
    "    results = cross_validate(pipeline, X, y, scoring=scoring, cv=cv, return_train_score=False)\n",
    "    \n",
    "    print(f\"\\n📊 Cross-Validation Results for {model.__class__.__name__}\")\n",
    "    for metric in scoring:\n",
    "        mean = np.mean(results[f'test_{metric}'])\n",
    "        std = np.std(results[f'test_{metric}'])\n",
    "        print(f'{metric:<17}: {mean:.4f} ± {std:.4f}')\n",
    "\n",
    "# ======= STEP 2: Threshold Tuning Function ======= #\n",
    "def threshold_tuning(model, scale=True):\n",
    "    print(f\"\\n🔍 Threshold Tuning for {model.__class__.__name__}\")\n",
    "    thresholds = np.arange(0.1, 0.91, 0.05)\n",
    "    f1_scores = []\n",
    "    recalls = []\n",
    "    precisions = []\n",
    "\n",
    "    for train_idx, test_idx in cv.split(X, y):\n",
    "        X_train, X_test = X.iloc[train_idx], X.iloc[test_idx]\n",
    "        y_train, y_test = y.iloc[train_idx], y.iloc[test_idx]\n",
    "\n",
    "        steps = []\n",
    "        if scale:\n",
    "            steps.append(('scaler', StandardScaler()))\n",
    "        steps += [('smote', SMOTE(random_state=42, n_jobs=7)), ('classifier', clone(model))]\n",
    "        pipeline = Pipeline(steps)\n",
    "        pipeline.fit(X_train, y_train)\n",
    "\n",
    "        probas = pipeline.predict_proba(X_test)[:, 1]\n",
    "\n",
    "        for t in thresholds:\n",
    "            preds = (probas >= t).astype(int)\n",
    "            f1_scores.append(f1_score(y_test, preds))\n",
    "            recalls.append(recall_score(y_test, preds))\n",
    "            precisions.append(precision_score(y_test, preds))\n",
    "\n",
    "    # Aggregate and plot\n",
    "    mean_f1 = [np.mean(f1_scores[i::len(thresholds)]) for i in range(len(thresholds))]\n",
    "    mean_rec = [np.mean(recalls[i::len(thresholds)]) for i in range(len(thresholds))]\n",
    "    mean_prec = [np.mean(precisions[i::len(thresholds)]) for i in range(len(thresholds))]\n",
    "\n",
    "    print(f\"{'Threshold':<10} {'F1':<8} {'Recall':<8} {'Precision':<8}\")\n",
    "    for t, f, r, p in zip(thresholds, mean_f1, mean_rec, mean_prec):\n",
    "        print(f\"{t:<10.2f} {f:<8.4f} {r:<8.4f} {p:<8.4f}\")\n",
    "\n",
    "    plt.figure(figsize=(8, 5))\n",
    "    plt.plot(thresholds, mean_f1, label='F1 Score')\n",
    "    plt.plot(thresholds, mean_rec, label='Recall')\n",
    "    plt.plot(thresholds, mean_prec, label='Precision')\n",
    "    plt.xlabel(\"Threshold\")\n",
    "    plt.ylabel(\"Score\")\n",
    "    plt.title(f\"{model.__class__.__name__} - Threshold Tuning\")\n",
    "    plt.legend()\n",
    "    plt.grid(True)\n",
    "    plt.tight_layout()\n",
    "    plt.show()"
   ]
  },
  {
   "cell_type": "markdown",
   "id": "b747fb08-24a4-4806-b348-646411ad2736",
   "metadata": {},
   "source": [
    "### Logistic Regression"
   ]
  },
  {
   "cell_type": "code",
   "execution_count": null,
   "id": "e9e0ac52-299b-4155-8461-340d1bee744f",
   "metadata": {},
   "outputs": [],
   "source": [
    "evaluate_model(LogisticRegression(solver='liblinear', class_weight='balanced', n_jobs=7, random_state=42))"
   ]
  },
  {
   "cell_type": "markdown",
   "id": "1835a5b0-89f5-4513-8c4b-e672bfbcdffc",
   "metadata": {},
   "source": [
    "### Random Forest"
   ]
  },
  {
   "cell_type": "code",
   "execution_count": null,
   "id": "044c927a-b7c9-47ef-a8e2-d60a59154809",
   "metadata": {},
   "outputs": [],
   "source": [
    "rf ="
   ]
  },
  {
   "cell_type": "code",
   "execution_count": null,
   "id": "5e6b96e0-b7bd-4ed7-b827-f7b4296514d1",
   "metadata": {},
   "outputs": [],
   "source": [
    "evaluate_model(RandomForestClassifier(n_estimators=100, class_weight='balanced', n_jobs=7, random_state=42),\n",
    "               scale=False)"
   ]
  },
  {
   "cell_type": "markdown",
   "id": "e087a0b6-9600-4366-b841-4e108ac8775a",
   "metadata": {},
   "source": [
    "### XGBoost"
   ]
  },
  {
   "cell_type": "code",
   "execution_count": null,
   "id": "44964256-0378-4006-b0ba-610063c59cc4",
   "metadata": {},
   "outputs": [],
   "source": [
    "evaluate_model(XGBClassifier(n_estimators=100, use_label_encoder=False, eval_metric='logloss',\n",
    "                             scale_pos_weight=(y==0).sum()/(y==1).sum(), n_jobs=7, random_state=42),\n",
    "               scale=False)"
   ]
  },
  {
   "cell_type": "markdown",
   "id": "95c62231-ac34-4690-935f-55d02997b9a4",
   "metadata": {},
   "source": [
    "### Multi-Layer Perceptron"
   ]
  },
  {
   "cell_type": "code",
   "execution_count": null,
   "id": "7a693464-1155-49a0-aa99-f99cca464e86",
   "metadata": {},
   "outputs": [],
   "source": [
    "evaluate_model(MLPClassifier(hidden_layer_sizes=(64, 32), max_iter=300, random_state=42))"
   ]
  },
  {
   "cell_type": "markdown",
   "id": "b937f47b-45ef-40ee-948e-e73688a76e62",
   "metadata": {},
   "source": [
    "### Threshold Tuning for Best Models"
   ]
  },
  {
   "cell_type": "code",
   "execution_count": null,
   "id": "5edf4157-844a-42fa-97e0-c27192b2b9f2",
   "metadata": {},
   "outputs": [],
   "source": [
    "# Threshold Tuning\n",
    "threshold_tuning(RandomForestClassifier(n_estimators=100, class_weight='balanced', n_jobs=7, random_state=42),\n",
    "                 scale=False)\n",
    "threshold_tuning(XGBClassifier(n_estimators=100, use_label_encoder=False, eval_metric='logloss',\n",
    "                               scale_pos_weight=(y==0).sum()/(y==1).sum(), n_jobs=7, random_state=42),\n",
    "                 scale=False)"
   ]
  },
  {
   "cell_type": "code",
   "execution_count": null,
   "id": "eecbb443-f3fe-4bdc-bd83-cb24572bdf0f",
   "metadata": {},
   "outputs": [],
   "source": [
    "def compute_ks_and_threshold(y_true, y_score, target_capture_rate=0.9):\n",
    "    df = pd.DataFrame({'y_true': y_true, 'y_score': y_score})\n",
    "    df = df.sort_values('y_score', ascending=False).reset_index(drop=True)\n",
    "\n",
    "    df['cum_total'] = np.arange(1, len(df)+1)\n",
    "    df['cum_fraud'] = df['y_true'].cumsum()\n",
    "    df['cum_nonfraud'] = df['cum_total'] - df['cum_fraud']\n",
    "\n",
    "    total_fraud = df['y_true'].sum()\n",
    "    total_nonfraud = len(df) - total_fraud\n",
    "\n",
    "    df['cum_fraud_rate'] = df['cum_fraud']/total_fraud\n",
    "    df['cum_nonfraud_rate'] = df['cum_nonfraud']/total_nonfraud\n",
    "    df['ks_stat'] = df['cum_fraud_rate'] - df['cum_nonfraud_rate']\n",
    "\n",
    "    ks_stat = df['ks_stat'].max()\n",
    "    ks_idx = df['ks_stat'].idxmax()\n",
    "    ks_threshold = df.loc[ks_idx, 'y_score']\n",
    "\n",
    "    # Find smallest portion of sample that contains target_capture_rate (e.g. 90%) of frauds\n",
    "    capture_idx = df[df['cum_fraud_rate'] >= target_capture_rate].index[0]\n",
    "    capture_percent_of_data = (capture_idx + 1)/len(df)\n",
    "    capture_threshold = df.loc[capture_idx, 'y_score']\n",
    "\n",
    "    print(f'KS Statistic: {ks_stat:.4f} at threshold {ks_threshold:.4f}')\n",
    "    print(f'To capture {target_capture_rate*100:.0f}% of frauds, analyze top \\\n",
    "        {capture_percent_of_data*100:.1f}% of data (threshold: {capture_threshold:.4f})')\n",
    "\n",
    "    return {\n",
    "        'ks_stat': ks_stat,\n",
    "        'ks_threshold': ks_threshold,\n",
    "        'capture_threshold': capture_threshold,\n",
    "        'capture_percent_of_data': capture_percent_of_data\n",
    "    }"
   ]
  },
  {
   "cell_type": "markdown",
   "id": "7cb681b0-a139-40ca-b960-f11349fe5f46",
   "metadata": {},
   "source": [
    "**Placeholder text** Talk about which recall/precision trade-off is best to go with depending on the cost of false positives vs false negatives"
   ]
  },
  {
   "cell_type": "markdown",
   "id": "9cb34d7b-819e-4c41-aa1d-579de77c296f",
   "metadata": {},
   "source": [
    "## Temp code"
   ]
  },
  {
   "cell_type": "code",
   "execution_count": 7,
   "id": "efabf4fb-b8a6-4398-a12b-d9a9a1a0f3d6",
   "metadata": {},
   "outputs": [],
   "source": [
    "# ======= STEP 1: Evaluation Function (CV on Training Data) ======= #\n",
    "def evaluate_model(model, scale=True):\n",
    "    steps = []\n",
    "    if scale:\n",
    "        steps.append(('scaler', StandardScaler()))\n",
    "    steps += [('smote', SMOTE(random_state=42, n_jobs=7)), ('classifier', clone(model))]\n",
    "    \n",
    "    pipeline = Pipeline(steps)\n",
    "    results = cross_validate(pipeline, X_train, y_train, scoring=scoring, cv=cv, return_train_score=False)\n",
    "    \n",
    "    print(f\"\\n📊 Cross-Validation Results for {model.__class__.__name__}\")\n",
    "    for metric in scoring:\n",
    "        mean = np.mean(results[f'test_{metric}'])\n",
    "        std = np.std(results[f'test_{metric}'])\n",
    "        print(f'{metric:<17}: {mean:.4f} ± {std:.4f}')\n",
    "\n",
    "# ======= STEP 2: Fit on Full Training Set and Get Test Set Predictions ======= #\n",
    "def fit_and_predict(model, scale=True):\n",
    "    X_resampled, y_resampled = SMOTE(random_state=42, n_jobs=7).fit_resample(X_train, y_train)\n",
    "    steps = []\n",
    "    if scale:\n",
    "        steps.append(('scaler', StandardScaler()))\n",
    "    steps += [('classifier', clone(model))]\n",
    "    \n",
    "    pipeline = Pipeline(steps)\n",
    "    pipeline.fit(X_resampled, y_resampled)\n",
    "    y_score = pipeline.predict_proba(X_test)[:, 1]\n",
    "    y_pred = (y_score >= 0.5).astype(int)\n",
    "    return y_test, y_pred, y_score\n",
    "\n",
    "# ======= STEP 3: Threshold Tuning (on training set only) ======= #\n",
    "def threshold_tuning(model, scale=True):\n",
    "    print(f\"\\n🔍 Threshold Tuning for {model.__class__.__name__}\")\n",
    "    thresholds = np.arange(0.1, 0.91, 0.05)\n",
    "    f1_scores, recalls, precisions = [], [], []\n",
    "\n",
    "    for train_idx, val_idx in cv.split(X_train, y_train):\n",
    "        X_tr, X_val = X_train.iloc[train_idx], X_train.iloc[val_idx]\n",
    "        y_tr, y_val = y_train.iloc[train_idx], y_train.iloc[val_idx]\n",
    "\n",
    "        steps = []\n",
    "        if scale:\n",
    "            steps.append(('scaler', StandardScaler()))\n",
    "        steps += [('smote', SMOTE(random_state=42, n_jobs=7)), ('classifier', clone(model))]\n",
    "\n",
    "        pipeline = Pipeline(steps)\n",
    "        pipeline.fit(X_tr, y_tr)\n",
    "        probas = pipeline.predict_proba(X_val)[:, 1]\n",
    "\n",
    "        for t in thresholds:\n",
    "            preds = (probas >= t).astype(int)\n",
    "            f1_scores.append(f1_score(y_val, preds))\n",
    "            recalls.append(recall_score(y_val, preds))\n",
    "            precisions.append(precision_score(y_val, preds))\n",
    "\n",
    "    # Aggregate and plot\n",
    "    mean_f1 = [np.mean(f1_scores[i::len(thresholds)]) for i in range(len(thresholds))]\n",
    "    mean_rec = [np.mean(recalls[i::len(thresholds)]) for i in range(len(thresholds))]\n",
    "    mean_prec = [np.mean(precisions[i::len(thresholds)]) for i in range(len(thresholds))]\n",
    "\n",
    "    print(f\"{'Threshold':<10} {'F1':<8} {'Recall':<8} {'Precision':<8}\")\n",
    "    for t, f, r, p in zip(thresholds, mean_f1, mean_rec, mean_prec):\n",
    "        print(f\"{t:<10.2f} {f:<8.4f} {r:<8.4f} {p:<8.4f}\")\n",
    "\n",
    "    plt.figure(figsize=(8, 5))\n",
    "    plt.plot(thresholds, mean_f1, label='F1 Score')\n",
    "    plt.plot(thresholds, mean_rec, label='Recall')\n",
    "    plt.plot(thresholds, mean_prec, label='Precision')\n",
    "    plt.xlabel(\"Threshold\")\n",
    "    plt.ylabel(\"Score\")\n",
    "    plt.title(f\"{model.__class__.__name__} - Threshold Tuning\")\n",
    "    plt.legend()\n",
    "    plt.grid(True)\n",
    "    plt.tight_layout()\n",
    "    plt.show()\n",
    "\n",
    "# ======= STEP 4: KS Function ======= #\n",
    "def compute_ks_and_threshold(y_true, y_score, target_capture_rate=0.9):\n",
    "    df = pd.DataFrame({'y_true': y_true, 'y_score': y_score}).sort_values('y_score', ascending=False).reset_index(drop=True)\n",
    "    df['cum_total'] = np.arange(1, len(df)+1)\n",
    "    df['cum_fraud'] = df['y_true'].cumsum()\n",
    "    df['cum_nonfraud'] = df['cum_total'] - df['cum_fraud']\n",
    "    total_fraud = df['y_true'].sum()\n",
    "    total_nonfraud = len(df) - total_fraud\n",
    "    df['cum_fraud_rate'] = df['cum_fraud'] / total_fraud\n",
    "    df['cum_nonfraud_rate'] = df['cum_nonfraud'] / total_nonfraud\n",
    "    df['ks_stat'] = df['cum_fraud_rate'] - df['cum_nonfraud_rate']\n",
    "\n",
    "    ks_stat = df['ks_stat'].max()\n",
    "    ks_idx = df['ks_stat'].idxmax()\n",
    "    ks_threshold = df.loc[ks_idx, 'y_score']\n",
    "    capture_idx = df[df['cum_fraud_rate'] >= target_capture_rate].index[0]\n",
    "    capture_percent_of_data = (capture_idx + 1) / len(df)\n",
    "    capture_threshold = df.loc[capture_idx, 'y_score']\n",
    "\n",
    "    print(f'KS Statistic: {ks_stat:.4f} at threshold {ks_threshold:.4f}')\n",
    "    print(f'To capture {target_capture_rate*100:.0f}% of frauds, analyze top {capture_percent_of_data*100:.1f}% of data (threshold: {capture_threshold:.4f})')\n",
    "\n",
    "    return {\n",
    "        'ks_stat': ks_stat,\n",
    "        'ks_threshold': ks_threshold,\n",
    "        'capture_threshold': capture_threshold,\n",
    "        'capture_percent_of_data': capture_percent_of_data\n",
    "    }"
   ]
  },
  {
   "cell_type": "code",
   "execution_count": 13,
   "id": "aacd3dd7-a62c-44e4-98cf-e625c575b807",
   "metadata": {},
   "outputs": [
    {
     "name": "stdout",
     "output_type": "stream",
     "text": [
      "\n",
      "📊 Cross-Validation Results for RandomForestClassifier\n",
      "precision        : 0.8878 ± 0.0227\n",
      "recall           : 0.8123 ± 0.0423\n",
      "f1               : 0.8473 ± 0.0174\n",
      "average_precision: 0.8422 ± 0.0220\n"
     ]
    }
   ],
   "source": [
    "# ======= Run Models ======= #\n",
    "models = {\n",
    "    #'Logistic': LogisticRegression(solver='liblinear', class_weight='balanced', n_jobs=7, random_state=42),\n",
    "    'RandomForest': RandomForestClassifier(n_estimators=100, class_weight='balanced', n_jobs=7, random_state=42),\n",
    "    #'XGBoost': XGBClassifier(n_estimators=100, use_label_encoder=False, eval_metric='logloss',\n",
    "    #                         scale_pos_weight=(y==0).sum()/(y==1).sum(), n_jobs=7, random_state=42),\n",
    "    #'MLP': MLPClassifier(hidden_layer_sizes=(64, 32), max_iter=300, random_state=42)\n",
    "}\n",
    "\n",
    "results = {}\n",
    "for name, model in models.items():\n",
    "    scale = name not in ['RandomForest', 'XGBoost']\n",
    "    evaluate_model(model, scale=scale)\n",
    "    y_true, y_pred, y_score = fit_and_predict(model, scale=scale)\n",
    "    results[name] = {'y_true': y_true, 'y_pred': y_pred, 'y_score': y_score}"
   ]
  },
  {
   "cell_type": "code",
   "execution_count": null,
   "id": "7bac62bb-fb9f-4e09-954f-64c01c44f453",
   "metadata": {},
   "outputs": [],
   "source": [
    "# Threshold tuning\n",
    "threshold_tuning(models['RandomForest'], scale=False)\n",
    "threshold_tuning(models['XGBoost'], scale=False)"
   ]
  },
  {
   "cell_type": "code",
   "execution_count": 15,
   "id": "f3926226-1145-4e35-ae91-8579c1b2813a",
   "metadata": {},
   "outputs": [
    {
     "name": "stdout",
     "output_type": "stream",
     "text": [
      "KS Statistic: 0.9066 at threshold 0.1700\n",
      "To capture 90% of frauds, analyze top 0.3% of data (threshold: 0.1700)\n"
     ]
    },
    {
     "data": {
      "text/plain": [
       "{'ks_stat': 0.9065981274333031,\n",
       " 'ks_threshold': 0.17,\n",
       " 'capture_threshold': 0.17,\n",
       " 'capture_percent_of_data': 0.0031248902777290125}"
      ]
     },
     "execution_count": 15,
     "metadata": {},
     "output_type": "execute_result"
    }
   ],
   "source": [
    "# KS analysis\n",
    "compute_ks_and_threshold(results['RandomForest']['y_true'], results['RandomForest']['y_score'])"
   ]
  },
  {
   "cell_type": "code",
   "execution_count": 19,
   "id": "c6fbf67f-e077-479c-bf63-405f92f9633a",
   "metadata": {},
   "outputs": [
    {
     "data": {
      "text/plain": [
       "Class\n",
       "0    56864\n",
       "1       98\n",
       "Name: count, dtype: int64"
      ]
     },
     "execution_count": 19,
     "metadata": {},
     "output_type": "execute_result"
    }
   ],
   "source": [
    "y_test.value_counts()"
   ]
  },
  {
   "cell_type": "code",
   "execution_count": null,
   "id": "efa03b22-1d9a-4c32-b1ef-40b3f6e97966",
   "metadata": {},
   "outputs": [],
   "source": [
    "import seaborn as sns\n",
    "sns.histplot(results['RandomForest']['y_score'], bins=50, kde=True)\n",
    "plt.title('Distribution of RandomForest predicted probabilities')"
   ]
  },
  {
   "cell_type": "code",
   "execution_count": 21,
   "id": "a281e495-54c4-49ca-918c-4ab381e5b2c6",
   "metadata": {},
   "outputs": [
    {
     "data": {
      "image/png": "[encoded data removed]",
      "text/plain": [
       "<Figure size 800x500 with 1 Axes>"
      ]
     },
     "metadata": {},
     "output_type": "display_data"
    }
   ],
   "source": [
    "import matplotlib.pyplot as plt\n",
    "import seaborn as sns\n",
    "\n",
    "df_scores = pd.DataFrame({\n",
    "    'y_true': y_true,\n",
    "    'y_score': y_score\n",
    "})\n",
    "\n",
    "plt.figure(figsize=(8,5))\n",
    "sns.histplot(\n",
    "    df_scores[df_scores['y_true']==0]['y_score'], \n",
    "    bins=50, label='Non‐Fraud', color='gray', alpha=0.5, stat='density'\n",
    ")\n",
    "sns.histplot(\n",
    "    df_scores[df_scores['y_true']==1]['y_score'], \n",
    "    bins=50, label='Fraud', color='red', alpha=0.5, stat='density'\n",
    ")\n",
    "plt.legend()\n",
    "plt.title(\"Score Distribution: Fraud (red) vs. Non‐Fraud (gray)\")\n",
    "plt.xlabel(\"Predicted Probability\")\n",
    "plt.ylabel(\"Density\")\n",
    "plt.tight_layout()\n",
    "plt.show()\n"
   ]
  },
  {
   "cell_type": "code",
   "execution_count": 23,
   "id": "898a9b1f-c03b-4eee-93c3-694dc0502533",
   "metadata": {},
   "outputs": [
    {
     "name": "stdout",
     "output_type": "stream",
     "text": [
      "Test‐set Classification Report at threshold 0.5:\n",
      "              precision    recall  f1-score   support\n",
      "\n",
      "           0     0.9997    0.9997    0.9997     56864\n",
      "           1     0.8100    0.8265    0.8182        98\n",
      "\n",
      "    accuracy                         0.9994     56962\n",
      "   macro avg     0.9049    0.9131    0.9089     56962\n",
      "weighted avg     0.9994    0.9994    0.9994     56962\n",
      "\n",
      "Test ROC‐AUC: 0.9644232605112952\n"
     ]
    }
   ],
   "source": [
    "from sklearn.metrics import classification_report, roc_auc_score\n",
    "\n",
    "print(\"Test‐set Classification Report at threshold 0.5:\")\n",
    "print(classification_report(y_true, y_pred, digits=4))\n",
    "print(\"Test ROC‐AUC:\", roc_auc_score(y_true, y_score))"
   ]
  },
  {
   "cell_type": "code",
   "execution_count": 29,
   "id": "870997be-1856-4cde-8f0d-6dd307ec922c",
   "metadata": {},
   "outputs": [
    {
     "name": "stdout",
     "output_type": "stream",
     "text": [
      "Top 20 by predicted score:\n",
      "     y_true  y_score\n",
      "0        1     1.00\n",
      "1        1     1.00\n",
      "2        1     1.00\n",
      "3        1     1.00\n",
      "4        1     1.00\n",
      "..     ...      ...\n",
      "95       0     0.54\n",
      "96       1     0.51\n",
      "97       0     0.50\n",
      "98       0     0.50\n",
      "99       0     0.50\n",
      "\n",
      "[100 rows x 2 columns] \n",
      "\n",
      "Rows in top 0.3%: 170 (of 56962), frauds in that slice: 88\n",
      "\n"
     ]
    },
    {
     "data": {
      "image/png": "[encoded data removed]",
      "text/plain": [
       "<Figure size 800x500 with 1 Axes>"
      ]
     },
     "metadata": {},
     "output_type": "display_data"
    },
    {
     "data": {
      "image/png": "[encoded data removed]",
      "text/plain": [
       "<Figure size 800x500 with 1 Axes>"
      ]
     },
     "metadata": {},
     "output_type": "display_data"
    },
    {
     "name": "stdout",
     "output_type": "stream",
     "text": [
      "Classification report at 0.5‐threshold on test set:\n",
      "               precision    recall  f1-score   support\n",
      "\n",
      "           0       1.00      1.00      1.00     56864\n",
      "           1       0.81      0.83      0.82        98\n",
      "\n",
      "    accuracy                           1.00     56962\n",
      "   macro avg       0.90      0.91      0.91     56962\n",
      "weighted avg       1.00      1.00      1.00     56962\n",
      "\n",
      "Test ROC‐AUC: 0.9644232605112952\n"
     ]
    }
   ],
   "source": [
    "import matplotlib.pyplot as plt\n",
    "import seaborn as sns\n",
    "from sklearn.metrics import classification_report, roc_auc_score\n",
    "\n",
    "# 1) Peek at top‐20 scored rows:\n",
    "df_top20 = (\n",
    "    pd.DataFrame({'y_true': y_true, 'y_score': y_score})\n",
    "      .sort_values('y_score', ascending=False)\n",
    "      .reset_index(drop=True)\n",
    ")\n",
    "print(\"Top 20 by predicted score:\\n\", df_top20.head(100), \"\\n\")\n",
    "\n",
    "# 2) Check how many frauds you captured in the top 0.3%:\n",
    "N = len(df_top20)\n",
    "cutoff_index = int(0.003 * N)\n",
    "num_frauds_in_top = df_top20.iloc[:cutoff_index]['y_true'].sum()\n",
    "print(f\"Rows in top 0.3%: {cutoff_index} (of {N}), frauds in that slice: {num_frauds_in_top}\\n\")\n",
    "\n",
    "# 3) Plot separate histograms of scores by class:\n",
    "plt.figure(figsize=(8,5))\n",
    "sns.histplot(df_top20['y_score'], bins=50, kde=True)  # just to see full range\n",
    "plt.title(\"All Test Scores (unsplit)\"); plt.show()\n",
    "\n",
    "plt.figure(figsize=(8,5))\n",
    "sns.histplot(df_top20[df_top20['y_true']==0]['y_score'], bins=50, label='Non‐Fraud', color='gray', alpha=0.5, stat='density')\n",
    "sns.histplot(df_top20[df_top20['y_true']==1]['y_score'], bins=50, label='Fraud', color='red', alpha=0.5, stat='density')\n",
    "plt.legend(); plt.title(\"Fraud vs Non‐Fraud Score Densities\"); plt.show()\n",
    "\n",
    "# 4) Compare test‐set metrics against CV metrics:\n",
    "print(\"Classification report at 0.5‐threshold on test set:\\n\", classification_report(y_true, y_pred))\n",
    "print(\"Test ROC‐AUC:\", roc_auc_score(y_true, y_score))\n"
   ]
  }
 ],
 "metadata": {
  "kernelspec": {
   "display_name": "Python 3 (ipykernel)",
   "language": "python",
   "name": "python3"
  },
  "language_info": {
   "codemirror_mode": {
    "name": "ipython",
    "version": 3
   },
   "file_extension": ".py",
   "mimetype": "text/x-python",
   "name": "python",
   "nbconvert_exporter": "python",
   "pygments_lexer": "ipython3",
   "version": "3.12.4"
  }
 },
 "nbformat": 4,
 "nbformat_minor": 5
}
