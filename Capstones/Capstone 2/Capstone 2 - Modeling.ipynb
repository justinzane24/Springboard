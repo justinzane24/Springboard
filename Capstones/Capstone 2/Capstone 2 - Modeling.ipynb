{
 "cells": [
  {
   "cell_type": "markdown",
   "id": "5ea884ea-f235-4f09-aec8-e6e576092a5e",
   "metadata": {},
   "source": [
    "### Imports"
   ]
  },
  {
   "cell_type": "code",
   "execution_count": 1,
   "id": "c7ecdcd1-06c7-4b92-a603-b5024969cffc",
   "metadata": {
    "scrolled": true
   },
   "outputs": [
    {
     "name": "stderr",
     "output_type": "stream",
     "text": [
      "2025-05-14 22:54:17,365\tINFO util.py:154 -- Outdated packages:\n",
      "  ipywidgets==7.8.1 found, needs ipywidgets>=8\n",
      "Run `pip install -U ipywidgets`, then restart the notebook server for rich notebook output.\n",
      "2025-05-14 22:54:17,800\tINFO util.py:154 -- Outdated packages:\n",
      "  ipywidgets==7.8.1 found, needs ipywidgets>=8\n",
      "Run `pip install -U ipywidgets`, then restart the notebook server for rich notebook output.\n",
      "2025-05-14 22:54:17,905\tINFO util.py:154 -- Outdated packages:\n",
      "  ipywidgets==7.8.1 found, needs ipywidgets>=8\n",
      "Run `pip install -U ipywidgets`, then restart the notebook server for rich notebook output.\n"
     ]
    }
   ],
   "source": [
    "import pandas as pd\n",
    "import numpy as np\n",
    "import pmdarima as pm\n",
    "import matplotlib.pyplot as plt\n",
    "from sklearn.metrics import root_mean_squared_error, mean_absolute_error\n",
    "import torch\n",
    "import torch.nn as nn\n",
    "import ray\n",
    "from ray.train import ScalingConfig, RunConfig, FailureConfig\n",
    "from ray.train.torch import TorchTrainer\n",
    "from ray import tune\n",
    "import os\n",
    "import pickle\n",
    "with open('pre-processed_data.pkl', 'rb') as f:\n",
    "    data = pickle.load(f)\n",
    "globals().update(data)"
   ]
  },
  {
   "cell_type": "markdown",
   "id": "d71990cb-397e-4a18-b1a0-225ca98ef9c3",
   "metadata": {
    "jp-MarkdownHeadingCollapsed": true
   },
   "source": [
    "### SARIMA Model"
   ]
  },
  {
   "cell_type": "code",
   "execution_count": null,
   "id": "7488e7f3-9505-40a7-b929-22aff96aa798",
   "metadata": {},
   "outputs": [],
   "source": [
    "model_sarima = pm.auto_arima(\n",
    "    sarima_train,\n",
    "    seasonal=True,\n",
    "    m=12,\n",
    "    stepwise=True,\n",
    "    suppress_warnings=True,\n",
    "    trace=True\n",
    ")    "
   ]
  },
  {
   "cell_type": "code",
   "execution_count": null,
   "id": "adf89ee3-1680-4967-a8a6-e89f7bd29f84",
   "metadata": {},
   "outputs": [],
   "source": [
    "model_sarima.summary()"
   ]
  },
  {
   "cell_type": "code",
   "execution_count": null,
   "id": "85857b19-1d75-4642-b2a4-6d3115335c58",
   "metadata": {},
   "outputs": [],
   "source": [
    "sarima_pred = model_sarima.predict(n_periods=len(sarima_test))"
   ]
  },
  {
   "cell_type": "code",
   "execution_count": null,
   "id": "4f1073d6-77a3-4b19-bc59-5ffeac613391",
   "metadata": {},
   "outputs": [],
   "source": [
    "plt.plot(sarima_test.index, sarima_test, label='Actual Sales')\n",
    "plt.plot(sarima_test.index, sarima_pred, label='Predicted Sales')\n",
    "plt.ylabel('Sales ($)')\n",
    "plt.title('SARIMA Forecast vs Actual')\n",
    "plt.legend()\n",
    "plt.show()"
   ]
  },
  {
   "cell_type": "code",
   "execution_count": null,
   "id": "0b387f44-7d8b-449b-a176-bd43c909374c",
   "metadata": {},
   "outputs": [],
   "source": [
    "sarima_test, sarima_pred"
   ]
  },
  {
   "cell_type": "code",
   "execution_count": null,
   "id": "566cfdb4-cd2b-48ef-b976-7cf6a77a3321",
   "metadata": {},
   "outputs": [],
   "source": [
    "rmse = root_mean_squared_error(sarima_test, sarima_pred)\n",
    "mae = mean_absolute_error(sarima_test, sarima_pred)\n",
    "mape = (abs((sarima_test - sarima_pred) / sarima_test)).mean() * 100\n",
    "\n",
    "print(f\"RMSE: {rmse:.2f}\")\n",
    "print(f\"MAE: {mae:.2f}\")\n",
    "print(f\"MAPE: {mape:.2f}%\")"
   ]
  },
  {
   "cell_type": "markdown",
   "id": "e3217b70-87b6-43bc-9b6c-9281e4c11841",
   "metadata": {
    "jp-MarkdownHeadingCollapsed": true
   },
   "source": [
    "### SARIMAX Model"
   ]
  },
  {
   "cell_type": "code",
   "execution_count": null,
   "id": "388efec3-ded5-444f-bfad-b06c3292e765",
   "metadata": {},
   "outputs": [],
   "source": [
    "X_train = sarimax_train.drop(columns='Sales')\n",
    "y_train = sarimax_train['Sales']\n",
    "\n",
    "X_test = sarimax_test.drop(columns='Sales')\n",
    "y_test = sarimax_test['Sales']"
   ]
  },
  {
   "cell_type": "code",
   "execution_count": null,
   "id": "8c9a79e5-d8d5-4f7f-8be0-8eb29b83e628",
   "metadata": {},
   "outputs": [],
   "source": [
    "model_sarimax = pm.auto_arima(\n",
    "    y_train,\n",
    "    exogenous=X_train,\n",
    "    seasonal=True,\n",
    "    m=12,\n",
    "    d=1,\n",
    "    D=1,\n",
    "    stepwise=True,\n",
    "    suppress_warnings=True,\n",
    "    trace=True\n",
    ") "
   ]
  },
  {
   "cell_type": "code",
   "execution_count": null,
   "id": "cf32d6bd-34ca-46c0-ada1-fbc80f93bbf4",
   "metadata": {},
   "outputs": [],
   "source": [
    "model_sarimax.summary()"
   ]
  },
  {
   "cell_type": "code",
   "execution_count": null,
   "id": "3a0d55ad-0e1e-46e0-9d29-efd378062dda",
   "metadata": {},
   "outputs": [],
   "source": [
    "sarimax_pred = model_sarimax.predict(n_periods=len(sarimax_test))"
   ]
  },
  {
   "cell_type": "code",
   "execution_count": null,
   "id": "4d104706-60d8-428a-8bc0-728b8b48926a",
   "metadata": {
    "scrolled": true
   },
   "outputs": [],
   "source": [
    "plt.plot(sarimax_test.index, sarimax_test['Sales'], label='Actual Sales')\n",
    "plt.plot(sarimax_test.index, sarimax_pred, label='Predicted Sales')\n",
    "plt.ylabel('Sales ($)')\n",
    "plt.title('SARIMAX Forecast vs Actual')\n",
    "plt.legend()\n",
    "plt.show()"
   ]
  },
  {
   "cell_type": "code",
   "execution_count": null,
   "id": "486213b2-46db-4a3e-8109-67c4fcdbe09d",
   "metadata": {},
   "outputs": [],
   "source": [
    "sarimax_test['Sales'], sarimax_pred"
   ]
  },
  {
   "cell_type": "code",
   "execution_count": null,
   "id": "53d60e27-7062-4284-b6fe-68e8192cbd91",
   "metadata": {},
   "outputs": [],
   "source": [
    "actual_sales = sarimax_test['Sales']\n",
    "predicted_sales = sarimax_pred\n",
    "\n",
    "rmse = root_mean_squared_error(actual_sales, predicted_sales)\n",
    "mae = mean_absolute_error(actual_sales, predicted_sales)\n",
    "mape = (abs((actual_sales - predicted_sales) / actual_sales)).mean() * 100\n",
    "\n",
    "print(f\"RMSE: {rmse:.2f}\")\n",
    "print(f\"MAE: {mae:.2f}\")\n",
    "print(f\"MAPE: {mape:.2f}%\")"
   ]
  },
  {
   "cell_type": "markdown",
   "id": "cb0866e8-4126-4341-8422-7ce1e1c6546a",
   "metadata": {},
   "source": [
    "### LSTM Model"
   ]
  },
  {
   "cell_type": "code",
   "execution_count": 5,
   "id": "7f9ad716-a856-4967-b64f-4b0d998e975f",
   "metadata": {
    "scrolled": true
   },
   "outputs": [
    {
     "data": {
      "text/html": [
       "<div class=\"tuneStatus\">\n",
       "  <div style=\"display: flex;flex-direction: row\">\n",
       "    <div style=\"display: flex;flex-direction: column;\">\n",
       "      <h3>Tune Status</h3>\n",
       "      <table>\n",
       "<tbody>\n",
       "<tr><td>Current time:</td><td>2025-05-14 21:58:20</td></tr>\n",
       "<tr><td>Running for: </td><td>00:03:00.99        </td></tr>\n",
       "<tr><td>Memory:      </td><td>12.1/31.9 GiB      </td></tr>\n",
       "</tbody>\n",
       "</table>\n",
       "    </div>\n",
       "    <div class=\"vDivider\"></div>\n",
       "    <div class=\"systemInfo\">\n",
       "      <h3>System Info</h3>\n",
       "      Using AsyncHyperBand: num_stopped=45<br>Bracket: Iter 64.000: -23868577.333333332 | Iter 16.000: -40384671.0 | Iter 4.000: -46906877.0 | Iter 1.000: -47517183.666666664<br>Logical resource usage: 1.0/8 CPUs, 0/1 GPUs (0.0/1.0 accelerator_type:G)\n",
       "    </div>\n",
       "    \n",
       "  </div>\n",
       "  <div class=\"hDivider\"></div>\n",
       "  <div class=\"trialStatus\">\n",
       "    <h3>Trial Status</h3>\n",
       "    <table>\n",
       "<thead>\n",
       "<tr><th>Trial name            </th><th>status    </th><th>loc            </th><th style=\"text-align: right;\">  epochs</th><th style=\"text-align: right;\">  hidden_layer_size</th><th style=\"text-align: right;\">  learning_rate</th><th style=\"text-align: right;\">  iter</th><th style=\"text-align: right;\">  total time (s)</th><th style=\"text-align: right;\">       loss</th></tr>\n",
       "</thead>\n",
       "<tbody>\n",
       "<tr><td>train_lstm_a7ef5_00000</td><td>TERMINATED</td><td>127.0.0.1:51340</td><td style=\"text-align: right;\">     500</td><td style=\"text-align: right;\">                128</td><td style=\"text-align: right;\">     0.0391819 </td><td style=\"text-align: right;\">     1</td><td style=\"text-align: right;\">         4.64355</td><td style=\"text-align: right;\">4.80781e+07</td></tr>\n",
       "<tr><td>train_lstm_a7ef5_00001</td><td>TERMINATED</td><td>127.0.0.1:51204</td><td style=\"text-align: right;\">     500</td><td style=\"text-align: right;\">                 32</td><td style=\"text-align: right;\">     0.00205134</td><td style=\"text-align: right;\">    50</td><td style=\"text-align: right;\">        16.6675 </td><td style=\"text-align: right;\">4.60006e+07</td></tr>\n",
       "<tr><td>train_lstm_a7ef5_00002</td><td>TERMINATED</td><td>127.0.0.1:55492</td><td style=\"text-align: right;\">     600</td><td style=\"text-align: right;\">                128</td><td style=\"text-align: right;\">     0.0539948 </td><td style=\"text-align: right;\">     1</td><td style=\"text-align: right;\">         4.54355</td><td style=\"text-align: right;\">4.80648e+07</td></tr>\n",
       "<tr><td>train_lstm_a7ef5_00003</td><td>TERMINATED</td><td>127.0.0.1:43272</td><td style=\"text-align: right;\">     400</td><td style=\"text-align: right;\">                128</td><td style=\"text-align: right;\">     0.00109943</td><td style=\"text-align: right;\">     4</td><td style=\"text-align: right;\">         5.60961</td><td style=\"text-align: right;\">4.94978e+07</td></tr>\n",
       "<tr><td>train_lstm_a7ef5_00004</td><td>TERMINATED</td><td>127.0.0.1:49516</td><td style=\"text-align: right;\">     600</td><td style=\"text-align: right;\">                 64</td><td style=\"text-align: right;\">     0.00265875</td><td style=\"text-align: right;\">     4</td><td style=\"text-align: right;\">         5.4136 </td><td style=\"text-align: right;\">4.8084e+07 </td></tr>\n",
       "<tr><td>train_lstm_a7ef5_00005</td><td>TERMINATED</td><td>127.0.0.1:42992</td><td style=\"text-align: right;\">     700</td><td style=\"text-align: right;\">                256</td><td style=\"text-align: right;\">     0.0167227 </td><td style=\"text-align: right;\">     1</td><td style=\"text-align: right;\">         4.68855</td><td style=\"text-align: right;\">4.78843e+07</td></tr>\n",
       "<tr><td>train_lstm_a7ef5_00006</td><td>TERMINATED</td><td>127.0.0.1:36388</td><td style=\"text-align: right;\">     400</td><td style=\"text-align: right;\">                 32</td><td style=\"text-align: right;\">     0.0112085 </td><td style=\"text-align: right;\">    40</td><td style=\"text-align: right;\">        14.3084 </td><td style=\"text-align: right;\">4.29609e+07</td></tr>\n",
       "<tr><td>train_lstm_a7ef5_00007</td><td>TERMINATED</td><td>127.0.0.1:53728</td><td style=\"text-align: right;\">     800</td><td style=\"text-align: right;\">                256</td><td style=\"text-align: right;\">     0.0054041 </td><td style=\"text-align: right;\">     1</td><td style=\"text-align: right;\">         4.74455</td><td style=\"text-align: right;\">4.79171e+07</td></tr>\n",
       "<tr><td>train_lstm_a7ef5_00008</td><td>TERMINATED</td><td>127.0.0.1:55944</td><td style=\"text-align: right;\">     600</td><td style=\"text-align: right;\">                 64</td><td style=\"text-align: right;\">     0.00250812</td><td style=\"text-align: right;\">     1</td><td style=\"text-align: right;\">         4.54056</td><td style=\"text-align: right;\">4.75507e+07</td></tr>\n",
       "<tr><td>train_lstm_a7ef5_00009</td><td>TERMINATED</td><td>127.0.0.1:39692</td><td style=\"text-align: right;\">     700</td><td style=\"text-align: right;\">                128</td><td style=\"text-align: right;\">     0.0524663 </td><td style=\"text-align: right;\">     1</td><td style=\"text-align: right;\">         4.52956</td><td style=\"text-align: right;\">4.8066e+07 </td></tr>\n",
       "<tr><td>train_lstm_a7ef5_00010</td><td>TERMINATED</td><td>127.0.0.1:36684</td><td style=\"text-align: right;\">     600</td><td style=\"text-align: right;\">                 64</td><td style=\"text-align: right;\">     0.0790262 </td><td style=\"text-align: right;\">    60</td><td style=\"text-align: right;\">        55.9847 </td><td style=\"text-align: right;\">1.90695e+07</td></tr>\n",
       "<tr><td>train_lstm_a7ef5_00011</td><td>TERMINATED</td><td>127.0.0.1:54204</td><td style=\"text-align: right;\">     700</td><td style=\"text-align: right;\">                 64</td><td style=\"text-align: right;\">     0.00406656</td><td style=\"text-align: right;\">     1</td><td style=\"text-align: right;\">         4.58756</td><td style=\"text-align: right;\">4.75503e+07</td></tr>\n",
       "<tr><td>train_lstm_a7ef5_00012</td><td>TERMINATED</td><td>127.0.0.1:34972</td><td style=\"text-align: right;\">     600</td><td style=\"text-align: right;\">                256</td><td style=\"text-align: right;\">     0.0075911 </td><td style=\"text-align: right;\">     1</td><td style=\"text-align: right;\">         4.68056</td><td style=\"text-align: right;\">4.79092e+07</td></tr>\n",
       "<tr><td>train_lstm_a7ef5_00013</td><td>TERMINATED</td><td>127.0.0.1:49728</td><td style=\"text-align: right;\">     300</td><td style=\"text-align: right;\">                128</td><td style=\"text-align: right;\">     0.00222192</td><td style=\"text-align: right;\">     1</td><td style=\"text-align: right;\">         4.78956</td><td style=\"text-align: right;\">4.81247e+07</td></tr>\n",
       "<tr><td>train_lstm_a7ef5_00014</td><td>TERMINATED</td><td>127.0.0.1:48852</td><td style=\"text-align: right;\">     800</td><td style=\"text-align: right;\">                256</td><td style=\"text-align: right;\">     0.0324133 </td><td style=\"text-align: right;\">     1</td><td style=\"text-align: right;\">         5.33555</td><td style=\"text-align: right;\">4.78496e+07</td></tr>\n",
       "<tr><td>train_lstm_a7ef5_00015</td><td>TERMINATED</td><td>127.0.0.1:51472</td><td style=\"text-align: right;\">     700</td><td style=\"text-align: right;\">                 64</td><td style=\"text-align: right;\">     0.0136584 </td><td style=\"text-align: right;\">    70</td><td style=\"text-align: right;\">        25.7841 </td><td style=\"text-align: right;\">2.98754e+07</td></tr>\n",
       "<tr><td>train_lstm_a7ef5_00016</td><td>TERMINATED</td><td>127.0.0.1:54776</td><td style=\"text-align: right;\">     400</td><td style=\"text-align: right;\">                 64</td><td style=\"text-align: right;\">     0.00793429</td><td style=\"text-align: right;\">     4</td><td style=\"text-align: right;\">         5.76515</td><td style=\"text-align: right;\">4.77165e+07</td></tr>\n",
       "<tr><td>train_lstm_a7ef5_00017</td><td>TERMINATED</td><td>127.0.0.1:48024</td><td style=\"text-align: right;\">     800</td><td style=\"text-align: right;\">                 64</td><td style=\"text-align: right;\">     0.0284803 </td><td style=\"text-align: right;\">    80</td><td style=\"text-align: right;\">        29.2152 </td><td style=\"text-align: right;\">1.76932e+07</td></tr>\n",
       "<tr><td>train_lstm_a7ef5_00018</td><td>TERMINATED</td><td>127.0.0.1:20660</td><td style=\"text-align: right;\">     700</td><td style=\"text-align: right;\">                 32</td><td style=\"text-align: right;\">     0.0836265 </td><td style=\"text-align: right;\">    16</td><td style=\"text-align: right;\">        10.2827 </td><td style=\"text-align: right;\">4.18169e+07</td></tr>\n",
       "<tr><td>train_lstm_a7ef5_00019</td><td>TERMINATED</td><td>127.0.0.1:49132</td><td style=\"text-align: right;\">     400</td><td style=\"text-align: right;\">                 64</td><td style=\"text-align: right;\">     0.0120056 </td><td style=\"text-align: right;\">     1</td><td style=\"text-align: right;\">         4.48111</td><td style=\"text-align: right;\">4.75478e+07</td></tr>\n",
       "<tr><td>train_lstm_a7ef5_00020</td><td>TERMINATED</td><td>127.0.0.1:45344</td><td style=\"text-align: right;\">     300</td><td style=\"text-align: right;\">                256</td><td style=\"text-align: right;\">     0.0121728 </td><td style=\"text-align: right;\">     1</td><td style=\"text-align: right;\">         4.59207</td><td style=\"text-align: right;\">4.78925e+07</td></tr>\n",
       "<tr><td>train_lstm_a7ef5_00021</td><td>TERMINATED</td><td>127.0.0.1:52628</td><td style=\"text-align: right;\">     300</td><td style=\"text-align: right;\">                 32</td><td style=\"text-align: right;\">     0.00140962</td><td style=\"text-align: right;\">     4</td><td style=\"text-align: right;\">         6.21004</td><td style=\"text-align: right;\">4.77724e+07</td></tr>\n",
       "<tr><td>train_lstm_a7ef5_00022</td><td>TERMINATED</td><td>127.0.0.1:54568</td><td style=\"text-align: right;\">     500</td><td style=\"text-align: right;\">                256</td><td style=\"text-align: right;\">     0.00386346</td><td style=\"text-align: right;\">     1</td><td style=\"text-align: right;\">         4.44955</td><td style=\"text-align: right;\">4.79204e+07</td></tr>\n",
       "<tr><td>train_lstm_a7ef5_00023</td><td>TERMINATED</td><td>127.0.0.1:45932</td><td style=\"text-align: right;\">     300</td><td style=\"text-align: right;\">                256</td><td style=\"text-align: right;\">     0.0287088 </td><td style=\"text-align: right;\">     1</td><td style=\"text-align: right;\">         4.47455</td><td style=\"text-align: right;\">4.7856e+07 </td></tr>\n",
       "<tr><td>train_lstm_a7ef5_00024</td><td>TERMINATED</td><td>127.0.0.1:54932</td><td style=\"text-align: right;\">     300</td><td style=\"text-align: right;\">                 64</td><td style=\"text-align: right;\">     0.00521112</td><td style=\"text-align: right;\">     1</td><td style=\"text-align: right;\">         4.42855</td><td style=\"text-align: right;\">4.755e+07  </td></tr>\n",
       "<tr><td>train_lstm_a7ef5_00025</td><td>TERMINATED</td><td>127.0.0.1:45468</td><td style=\"text-align: right;\">     400</td><td style=\"text-align: right;\">                 32</td><td style=\"text-align: right;\">     0.017644  </td><td style=\"text-align: right;\">     4</td><td style=\"text-align: right;\">         4.84855</td><td style=\"text-align: right;\">4.71948e+07</td></tr>\n",
       "<tr><td>train_lstm_a7ef5_00026</td><td>TERMINATED</td><td>127.0.0.1:34296</td><td style=\"text-align: right;\">     700</td><td style=\"text-align: right;\">                128</td><td style=\"text-align: right;\">     0.00418759</td><td style=\"text-align: right;\">     1</td><td style=\"text-align: right;\">         4.79504</td><td style=\"text-align: right;\">4.81237e+07</td></tr>\n",
       "<tr><td>train_lstm_a7ef5_00027</td><td>TERMINATED</td><td>127.0.0.1:53816</td><td style=\"text-align: right;\">     500</td><td style=\"text-align: right;\">                256</td><td style=\"text-align: right;\">     0.00354359</td><td style=\"text-align: right;\">     1</td><td style=\"text-align: right;\">         4.36504</td><td style=\"text-align: right;\">4.79209e+07</td></tr>\n",
       "<tr><td>train_lstm_a7ef5_00028</td><td>TERMINATED</td><td>127.0.0.1:19748</td><td style=\"text-align: right;\">     500</td><td style=\"text-align: right;\">                 32</td><td style=\"text-align: right;\">     0.0877858 </td><td style=\"text-align: right;\">    16</td><td style=\"text-align: right;\">        10.9956 </td><td style=\"text-align: right;\">4.13969e+07</td></tr>\n",
       "<tr><td>train_lstm_a7ef5_00029</td><td>TERMINATED</td><td>127.0.0.1:31156</td><td style=\"text-align: right;\">     800</td><td style=\"text-align: right;\">                 64</td><td style=\"text-align: right;\">     0.00296463</td><td style=\"text-align: right;\">     1</td><td style=\"text-align: right;\">         5.00161</td><td style=\"text-align: right;\">4.75506e+07</td></tr>\n",
       "<tr><td>train_lstm_a7ef5_00030</td><td>TERMINATED</td><td>127.0.0.1:42644</td><td style=\"text-align: right;\">     400</td><td style=\"text-align: right;\">                 32</td><td style=\"text-align: right;\">     0.0263831 </td><td style=\"text-align: right;\">     4</td><td style=\"text-align: right;\">         5.73661</td><td style=\"text-align: right;\">4.68883e+07</td></tr>\n",
       "<tr><td>train_lstm_a7ef5_00031</td><td>TERMINATED</td><td>127.0.0.1:17600</td><td style=\"text-align: right;\">     300</td><td style=\"text-align: right;\">                 32</td><td style=\"text-align: right;\">     0.00253185</td><td style=\"text-align: right;\">     4</td><td style=\"text-align: right;\">         5.58066</td><td style=\"text-align: right;\">4.77303e+07</td></tr>\n",
       "<tr><td>train_lstm_a7ef5_00032</td><td>TERMINATED</td><td>127.0.0.1:51428</td><td style=\"text-align: right;\">     700</td><td style=\"text-align: right;\">                256</td><td style=\"text-align: right;\">     0.0246055 </td><td style=\"text-align: right;\">     1</td><td style=\"text-align: right;\">         4.63961</td><td style=\"text-align: right;\">4.7865e+07 </td></tr>\n",
       "<tr><td>train_lstm_a7ef5_00033</td><td>TERMINATED</td><td>127.0.0.1:54380</td><td style=\"text-align: right;\">     700</td><td style=\"text-align: right;\">                 32</td><td style=\"text-align: right;\">     0.0120138 </td><td style=\"text-align: right;\">     4</td><td style=\"text-align: right;\">         6.05465</td><td style=\"text-align: right;\">4.73928e+07</td></tr>\n",
       "<tr><td>train_lstm_a7ef5_00034</td><td>TERMINATED</td><td>127.0.0.1:32084</td><td style=\"text-align: right;\">     500</td><td style=\"text-align: right;\">                256</td><td style=\"text-align: right;\">     0.0157663 </td><td style=\"text-align: right;\">     1</td><td style=\"text-align: right;\">         5.40066</td><td style=\"text-align: right;\">4.7886e+07 </td></tr>\n",
       "<tr><td>train_lstm_a7ef5_00035</td><td>TERMINATED</td><td>127.0.0.1:30248</td><td style=\"text-align: right;\">     800</td><td style=\"text-align: right;\">                 64</td><td style=\"text-align: right;\">     0.01773   </td><td style=\"text-align: right;\">     1</td><td style=\"text-align: right;\">         5.04065</td><td style=\"text-align: right;\">4.75448e+07</td></tr>\n",
       "<tr><td>train_lstm_a7ef5_00036</td><td>TERMINATED</td><td>127.0.0.1:54196</td><td style=\"text-align: right;\">     600</td><td style=\"text-align: right;\">                 64</td><td style=\"text-align: right;\">     0.00818595</td><td style=\"text-align: right;\">     1</td><td style=\"text-align: right;\">         4.68007</td><td style=\"text-align: right;\">4.75492e+07</td></tr>\n",
       "<tr><td>train_lstm_a7ef5_00037</td><td>TERMINATED</td><td>127.0.0.1:55712</td><td style=\"text-align: right;\">     400</td><td style=\"text-align: right;\">                 64</td><td style=\"text-align: right;\">     0.0584199 </td><td style=\"text-align: right;\">     1</td><td style=\"text-align: right;\">         4.76303</td><td style=\"text-align: right;\">4.75275e+07</td></tr>\n",
       "<tr><td>train_lstm_a7ef5_00038</td><td>TERMINATED</td><td>127.0.0.1:56076</td><td style=\"text-align: right;\">     300</td><td style=\"text-align: right;\">                 32</td><td style=\"text-align: right;\">     0.00432521</td><td style=\"text-align: right;\">     4</td><td style=\"text-align: right;\">         5.36703</td><td style=\"text-align: right;\">4.76655e+07</td></tr>\n",
       "<tr><td>train_lstm_a7ef5_00039</td><td>TERMINATED</td><td>127.0.0.1:52064</td><td style=\"text-align: right;\">     600</td><td style=\"text-align: right;\">                128</td><td style=\"text-align: right;\">     0.00714851</td><td style=\"text-align: right;\">     1</td><td style=\"text-align: right;\">         4.89152</td><td style=\"text-align: right;\">4.81214e+07</td></tr>\n",
       "<tr><td>train_lstm_a7ef5_00040</td><td>TERMINATED</td><td>127.0.0.1:46964</td><td style=\"text-align: right;\">     500</td><td style=\"text-align: right;\">                128</td><td style=\"text-align: right;\">     0.00103253</td><td style=\"text-align: right;\">     1</td><td style=\"text-align: right;\">         4.82452</td><td style=\"text-align: right;\">4.81253e+07</td></tr>\n",
       "<tr><td>train_lstm_a7ef5_00041</td><td>TERMINATED</td><td>127.0.0.1:46568</td><td style=\"text-align: right;\">     400</td><td style=\"text-align: right;\">                 32</td><td style=\"text-align: right;\">     0.024259  </td><td style=\"text-align: right;\">     4</td><td style=\"text-align: right;\">         5.66052</td><td style=\"text-align: right;\">4.69627e+07</td></tr>\n",
       "<tr><td>train_lstm_a7ef5_00042</td><td>TERMINATED</td><td>127.0.0.1:47608</td><td style=\"text-align: right;\">     300</td><td style=\"text-align: right;\">                128</td><td style=\"text-align: right;\">     0.00217061</td><td style=\"text-align: right;\">     1</td><td style=\"text-align: right;\">         4.91352</td><td style=\"text-align: right;\">4.81248e+07</td></tr>\n",
       "<tr><td>train_lstm_a7ef5_00043</td><td>TERMINATED</td><td>127.0.0.1:35668</td><td style=\"text-align: right;\">     600</td><td style=\"text-align: right;\">                 64</td><td style=\"text-align: right;\">     0.0878141 </td><td style=\"text-align: right;\">     1</td><td style=\"text-align: right;\">         4.68552</td><td style=\"text-align: right;\">4.75183e+07</td></tr>\n",
       "<tr><td>train_lstm_a7ef5_00044</td><td>TERMINATED</td><td>127.0.0.1:49884</td><td style=\"text-align: right;\">     300</td><td style=\"text-align: right;\">                128</td><td style=\"text-align: right;\">     0.00987409</td><td style=\"text-align: right;\">     1</td><td style=\"text-align: right;\">         4.61504</td><td style=\"text-align: right;\">4.8118e+07 </td></tr>\n",
       "<tr><td>train_lstm_a7ef5_00045</td><td>TERMINATED</td><td>127.0.0.1:27076</td><td style=\"text-align: right;\">     300</td><td style=\"text-align: right;\">                256</td><td style=\"text-align: right;\">     0.00118515</td><td style=\"text-align: right;\">     1</td><td style=\"text-align: right;\">         4.70903</td><td style=\"text-align: right;\">4.79236e+07</td></tr>\n",
       "<tr><td>train_lstm_a7ef5_00046</td><td>TERMINATED</td><td>127.0.0.1:54176</td><td style=\"text-align: right;\">     700</td><td style=\"text-align: right;\">                256</td><td style=\"text-align: right;\">     0.00126753</td><td style=\"text-align: right;\">     1</td><td style=\"text-align: right;\">         4.92804</td><td style=\"text-align: right;\">4.79235e+07</td></tr>\n",
       "<tr><td>train_lstm_a7ef5_00047</td><td>TERMINATED</td><td>127.0.0.1:46036</td><td style=\"text-align: right;\">     400</td><td style=\"text-align: right;\">                 32</td><td style=\"text-align: right;\">     0.00301386</td><td style=\"text-align: right;\">     4</td><td style=\"text-align: right;\">         5.66704</td><td style=\"text-align: right;\">4.77127e+07</td></tr>\n",
       "<tr><td>train_lstm_a7ef5_00048</td><td>TERMINATED</td><td>127.0.0.1:53736</td><td style=\"text-align: right;\">     600</td><td style=\"text-align: right;\">                 64</td><td style=\"text-align: right;\">     0.0936054 </td><td style=\"text-align: right;\">     1</td><td style=\"text-align: right;\">         4.82403</td><td style=\"text-align: right;\">4.75168e+07</td></tr>\n",
       "<tr><td>train_lstm_a7ef5_00049</td><td>TERMINATED</td><td>127.0.0.1:54364</td><td style=\"text-align: right;\">     800</td><td style=\"text-align: right;\">                256</td><td style=\"text-align: right;\">     0.00298727</td><td style=\"text-align: right;\">     1</td><td style=\"text-align: right;\">         4.99404</td><td style=\"text-align: right;\">4.79217e+07</td></tr>\n",
       "</tbody>\n",
       "</table>\n",
       "  </div>\n",
       "</div>\n",
       "<style>\n",
       ".tuneStatus {\n",
       "  color: var(--jp-ui-font-color1);\n",
       "}\n",
       ".tuneStatus .systemInfo {\n",
       "  display: flex;\n",
       "  flex-direction: column;\n",
       "}\n",
       ".tuneStatus td {\n",
       "  white-space: nowrap;\n",
       "}\n",
       ".tuneStatus .trialStatus {\n",
       "  display: flex;\n",
       "  flex-direction: column;\n",
       "}\n",
       ".tuneStatus h3 {\n",
       "  font-weight: bold;\n",
       "}\n",
       ".tuneStatus .hDivider {\n",
       "  border-bottom-width: var(--jp-border-width);\n",
       "  border-bottom-color: var(--jp-border-color0);\n",
       "  border-bottom-style: solid;\n",
       "}\n",
       ".tuneStatus .vDivider {\n",
       "  border-left-width: var(--jp-border-width);\n",
       "  border-left-color: var(--jp-border-color0);\n",
       "  border-left-style: solid;\n",
       "  margin: 0.5em 1em 0.5em 1em;\n",
       "}\n",
       "</style>\n"
      ],
      "text/plain": [
       "<IPython.core.display.HTML object>"
      ]
     },
     "metadata": {},
     "output_type": "display_data"
    },
    {
     "name": "stdout",
     "output_type": "stream",
     "text": [
      "\u001b[36m(train_lstm pid=43272)\u001b[0m Epoch 0: loss = 48125264.000000\n"
     ]
    },
    {
     "name": "stderr",
     "output_type": "stream",
     "text": [
      "\u001b[36m(train_lstm pid=43272)\u001b[0m C:\\Users\\justi\\anaconda3\\Lib\\site-packages\\ray\\train\\_internal\\session.py:772: RayDeprecationWarning: `ray.train.report` should be switched to `ray.tune.report` when running in a function passed to Ray Tune. This will be an error in the future. See this issue for more context: https://github.com/ray-project/ray/issues/49454\n",
      "\u001b[36m(train_lstm pid=43272)\u001b[0m   _log_deprecation_warning(\n",
      "\u001b[36m(train_lstm pid=43272)\u001b[0m C:\\Users\\justi\\anaconda3\\Lib\\site-packages\\ray\\tune\\trainable\\trainable_fn_utils.py:41: RayDeprecationWarning: The `Checkpoint` class should be imported from `ray.tune` when passing it to `ray.tune.report` in a Tune function. Please update your imports. See this issue for more context and migration options: https://github.com/ray-project/ray/issues/49454. Disable these warnings by setting the environment variable: RAY_TRAIN_ENABLE_V2_MIGRATION_WARNINGS=0\n",
      "\u001b[36m(train_lstm pid=43272)\u001b[0m   _log_deprecation_warning(\n",
      "\u001b[36m(train_lstm pid=43272)\u001b[0m Checkpoint successfully created at: Checkpoint(filesystem=local, path=E:/datasets/ray_results/lstm_experiment/train_lstm_a7ef5_00003_3_epochs=400,hidden_layer_size=128,learning_rate=0.0011_2025-05-14_21-55-20/checkpoint_000000)\n"
     ]
    },
    {
     "name": "stdout",
     "output_type": "stream",
     "text": [
      "\u001b[36m(train_lstm pid=36388)\u001b[0m Epoch 170: loss = 45067146.666667\u001b[32m [repeated 48x across cluster] (Ray deduplicates logs by default. Set RAY_DEDUP_LOGS=0 to disable log deduplication, or see https://docs.ray.io/en/master/ray-observability/user-guides/configure-logging.html#log-deduplication for more options.)\u001b[0m\n"
     ]
    },
    {
     "name": "stderr",
     "output_type": "stream",
     "text": [
      "\u001b[36m(train_lstm pid=53728)\u001b[0m C:\\Users\\justi\\anaconda3\\Lib\\site-packages\\ray\\train\\_internal\\session.py:772: RayDeprecationWarning: `ray.train.report` should be switched to `ray.tune.report` when running in a function passed to Ray Tune. This will be an error in the future. See this issue for more context: https://github.com/ray-project/ray/issues/49454\u001b[32m [repeated 7x across cluster]\u001b[0m\n",
      "\u001b[36m(train_lstm pid=53728)\u001b[0m   _log_deprecation_warning(\u001b[32m [repeated 14x across cluster]\u001b[0m\n",
      "\u001b[36m(train_lstm pid=53728)\u001b[0m C:\\Users\\justi\\anaconda3\\Lib\\site-packages\\ray\\tune\\trainable\\trainable_fn_utils.py:41: RayDeprecationWarning: The `Checkpoint` class should be imported from `ray.tune` when passing it to `ray.tune.report` in a Tune function. Please update your imports. See this issue for more context and migration options: https://github.com/ray-project/ray/issues/49454. Disable these warnings by setting the environment variable: RAY_TRAIN_ENABLE_V2_MIGRATION_WARNINGS=0\u001b[32m [repeated 7x across cluster]\u001b[0m\n",
      "\u001b[36m(train_lstm pid=51204)\u001b[0m Checkpoint successfully created at: Checkpoint(filesystem=local, path=E:/datasets/ray_results/lstm_experiment/train_lstm_a7ef5_00001_1_epochs=500,hidden_layer_size=32,learning_rate=0.0021_2025-05-14_21-55-20/checkpoint_000019)\u001b[32m [repeated 49x across cluster]\u001b[0m\n",
      "\u001b[36m(train_lstm pid=51204)\u001b[0m Checkpoint successfully created at: Checkpoint(filesystem=local, path=E:/datasets/ray_results/lstm_experiment/train_lstm_a7ef5_00001_1_epochs=500,hidden_layer_size=32,learning_rate=0.0021_2025-05-14_21-55-20/checkpoint_000038)\u001b[32m [repeated 37x across cluster]\u001b[0m\n"
     ]
    },
    {
     "name": "stdout",
     "output_type": "stream",
     "text": [
      "\u001b[36m(train_lstm pid=51204)\u001b[0m Epoch 380: loss = 44813510.666667\u001b[32m [repeated 38x across cluster]\u001b[0m\n"
     ]
    },
    {
     "name": "stderr",
     "output_type": "stream",
     "text": [
      "\u001b[36m(train_lstm pid=55944)\u001b[0m C:\\Users\\justi\\anaconda3\\Lib\\site-packages\\ray\\train\\_internal\\session.py:772: RayDeprecationWarning: `ray.train.report` should be switched to `ray.tune.report` when running in a function passed to Ray Tune. This will be an error in the future. See this issue for more context: https://github.com/ray-project/ray/issues/49454\n",
      "\u001b[36m(train_lstm pid=55944)\u001b[0m   _log_deprecation_warning(\n",
      "\u001b[36m(train_lstm pid=55944)\u001b[0m C:\\Users\\justi\\anaconda3\\Lib\\site-packages\\ray\\tune\\trainable\\trainable_fn_utils.py:41: RayDeprecationWarning: The `Checkpoint` class should be imported from `ray.tune` when passing it to `ray.tune.report` in a Tune function. Please update your imports. See this issue for more context and migration options: https://github.com/ray-project/ray/issues/49454. Disable these warnings by setting the environment variable: RAY_TRAIN_ENABLE_V2_MIGRATION_WARNINGS=0\n",
      "\u001b[36m(train_lstm pid=55944)\u001b[0m   _log_deprecation_warning(\n",
      "\u001b[36m(train_lstm pid=55944)\u001b[0m Checkpoint successfully created at: Checkpoint(filesystem=local, path=E:/datasets/ray_results/lstm_experiment/train_lstm_a7ef5_00008_8_epochs=600,hidden_layer_size=64,learning_rate=0.0025_2025-05-14_21-55-20/checkpoint_000000)\u001b[32m [repeated 16x across cluster]\u001b[0m\n"
     ]
    },
    {
     "name": "stdout",
     "output_type": "stream",
     "text": [
      "\u001b[36m(train_lstm pid=55944)\u001b[0m Epoch 0: loss = 47550724.000000\u001b[32m [repeated 16x across cluster]\u001b[0m\n"
     ]
    },
    {
     "name": "stderr",
     "output_type": "stream",
     "text": [
      "\u001b[36m(train_lstm pid=49728)\u001b[0m C:\\Users\\justi\\anaconda3\\Lib\\site-packages\\ray\\train\\_internal\\session.py:772: RayDeprecationWarning: `ray.train.report` should be switched to `ray.tune.report` when running in a function passed to Ray Tune. This will be an error in the future. See this issue for more context: https://github.com/ray-project/ray/issues/49454\u001b[32m [repeated 5x across cluster]\u001b[0m\n",
      "\u001b[36m(train_lstm pid=49728)\u001b[0m   _log_deprecation_warning(\u001b[32m [repeated 10x across cluster]\u001b[0m\n",
      "\u001b[36m(train_lstm pid=49728)\u001b[0m C:\\Users\\justi\\anaconda3\\Lib\\site-packages\\ray\\tune\\trainable\\trainable_fn_utils.py:41: RayDeprecationWarning: The `Checkpoint` class should be imported from `ray.tune` when passing it to `ray.tune.report` in a Tune function. Please update your imports. See this issue for more context and migration options: https://github.com/ray-project/ray/issues/49454. Disable these warnings by setting the environment variable: RAY_TRAIN_ENABLE_V2_MIGRATION_WARNINGS=0\u001b[32m [repeated 5x across cluster]\u001b[0m\n",
      "\u001b[36m(train_lstm pid=36684)\u001b[0m Checkpoint successfully created at: Checkpoint(filesystem=local, path=E:/datasets/ray_results/lstm_experiment/train_lstm_a7ef5_00010_10_epochs=600,hidden_layer_size=64,learning_rate=0.0790_2025-05-14_21-55-20/checkpoint_000006)\u001b[32m [repeated 11x across cluster]\u001b[0m\n"
     ]
    },
    {
     "name": "stdout",
     "output_type": "stream",
     "text": [
      "\u001b[36m(train_lstm pid=36684)\u001b[0m Epoch 60: loss = 43886794.666667\u001b[32m [repeated 11x across cluster]\u001b[0m\n"
     ]
    },
    {
     "name": "stderr",
     "output_type": "stream",
     "text": [
      "\u001b[36m(train_lstm pid=51472)\u001b[0m C:\\Users\\justi\\anaconda3\\Lib\\site-packages\\ray\\train\\_internal\\session.py:772: RayDeprecationWarning: `ray.train.report` should be switched to `ray.tune.report` when running in a function passed to Ray Tune. This will be an error in the future. See this issue for more context: https://github.com/ray-project/ray/issues/49454\u001b[32m [repeated 2x across cluster]\u001b[0m\n",
      "\u001b[36m(train_lstm pid=51472)\u001b[0m   _log_deprecation_warning(\u001b[32m [repeated 4x across cluster]\u001b[0m\n",
      "\u001b[36m(train_lstm pid=51472)\u001b[0m C:\\Users\\justi\\anaconda3\\Lib\\site-packages\\ray\\tune\\trainable\\trainable_fn_utils.py:41: RayDeprecationWarning: The `Checkpoint` class should be imported from `ray.tune` when passing it to `ray.tune.report` in a Tune function. Please update your imports. See this issue for more context and migration options: https://github.com/ray-project/ray/issues/49454. Disable these warnings by setting the environment variable: RAY_TRAIN_ENABLE_V2_MIGRATION_WARNINGS=0\u001b[32m [repeated 2x across cluster]\u001b[0m\n",
      "\u001b[36m(train_lstm pid=51472)\u001b[0m Checkpoint successfully created at: Checkpoint(filesystem=local, path=E:/datasets/ray_results/lstm_experiment/train_lstm_a7ef5_00015_15_epochs=700,hidden_layer_size=64,learning_rate=0.0137_2025-05-14_21-55-20/checkpoint_000007)\u001b[32m [repeated 14x across cluster]\u001b[0m\n"
     ]
    },
    {
     "name": "stdout",
     "output_type": "stream",
     "text": [
      "\u001b[36m(train_lstm pid=51472)\u001b[0m Epoch 70: loss = 47206329.333333\u001b[32m [repeated 14x across cluster]\u001b[0m\n"
     ]
    },
    {
     "name": "stderr",
     "output_type": "stream",
     "text": [
      "\u001b[36m(train_lstm pid=51472)\u001b[0m Checkpoint successfully created at: Checkpoint(filesystem=local, path=E:/datasets/ray_results/lstm_experiment/train_lstm_a7ef5_00015_15_epochs=700,hidden_layer_size=64,learning_rate=0.0137_2025-05-14_21-55-20/checkpoint_000023)\u001b[32m [repeated 22x across cluster]\u001b[0m\n"
     ]
    },
    {
     "name": "stdout",
     "output_type": "stream",
     "text": [
      "\u001b[36m(train_lstm pid=51472)\u001b[0m Epoch 230: loss = 42618864.000000\u001b[32m [repeated 22x across cluster]\u001b[0m\n"
     ]
    },
    {
     "name": "stderr",
     "output_type": "stream",
     "text": [
      "\u001b[36m(train_lstm pid=51472)\u001b[0m Checkpoint successfully created at: Checkpoint(filesystem=local, path=E:/datasets/ray_results/lstm_experiment/train_lstm_a7ef5_00015_15_epochs=700,hidden_layer_size=64,learning_rate=0.0137_2025-05-14_21-55-20/checkpoint_000040)\u001b[32m [repeated 23x across cluster]\u001b[0m\n"
     ]
    },
    {
     "name": "stdout",
     "output_type": "stream",
     "text": [
      "\u001b[36m(train_lstm pid=51472)\u001b[0m Epoch 400: loss = 38769076.000000\u001b[32m [repeated 23x across cluster]\u001b[0m\n"
     ]
    },
    {
     "name": "stderr",
     "output_type": "stream",
     "text": [
      "\u001b[36m(train_lstm pid=54776)\u001b[0m C:\\Users\\justi\\anaconda3\\Lib\\site-packages\\ray\\train\\_internal\\session.py:772: RayDeprecationWarning: `ray.train.report` should be switched to `ray.tune.report` when running in a function passed to Ray Tune. This will be an error in the future. See this issue for more context: https://github.com/ray-project/ray/issues/49454\n",
      "\u001b[36m(train_lstm pid=54776)\u001b[0m   _log_deprecation_warning(\n",
      "\u001b[36m(train_lstm pid=54776)\u001b[0m C:\\Users\\justi\\anaconda3\\Lib\\site-packages\\ray\\tune\\trainable\\trainable_fn_utils.py:41: RayDeprecationWarning: The `Checkpoint` class should be imported from `ray.tune` when passing it to `ray.tune.report` in a Tune function. Please update your imports. See this issue for more context and migration options: https://github.com/ray-project/ray/issues/49454. Disable these warnings by setting the environment variable: RAY_TRAIN_ENABLE_V2_MIGRATION_WARNINGS=0\n",
      "\u001b[36m(train_lstm pid=54776)\u001b[0m   _log_deprecation_warning(\n",
      "\u001b[36m(train_lstm pid=51472)\u001b[0m Checkpoint successfully created at: Checkpoint(filesystem=local, path=E:/datasets/ray_results/lstm_experiment/train_lstm_a7ef5_00015_15_epochs=700,hidden_layer_size=64,learning_rate=0.0137_2025-05-14_21-55-20/checkpoint_000056)\u001b[32m [repeated 24x across cluster]\u001b[0m\n"
     ]
    },
    {
     "name": "stdout",
     "output_type": "stream",
     "text": [
      "\u001b[36m(train_lstm pid=51472)\u001b[0m Epoch 560: loss = 32904568.666667\u001b[32m [repeated 24x across cluster]\u001b[0m\n"
     ]
    },
    {
     "name": "stderr",
     "output_type": "stream",
     "text": [
      "\u001b[36m(train_lstm pid=45344)\u001b[0m C:\\Users\\justi\\anaconda3\\Lib\\site-packages\\ray\\train\\_internal\\session.py:772: RayDeprecationWarning: `ray.train.report` should be switched to `ray.tune.report` when running in a function passed to Ray Tune. This will be an error in the future. See this issue for more context: https://github.com/ray-project/ray/issues/49454\u001b[32m [repeated 4x across cluster]\u001b[0m\n",
      "\u001b[36m(train_lstm pid=45344)\u001b[0m   _log_deprecation_warning(\u001b[32m [repeated 8x across cluster]\u001b[0m\n",
      "\u001b[36m(train_lstm pid=45344)\u001b[0m C:\\Users\\justi\\anaconda3\\Lib\\site-packages\\ray\\tune\\trainable\\trainable_fn_utils.py:41: RayDeprecationWarning: The `Checkpoint` class should be imported from `ray.tune` when passing it to `ray.tune.report` in a Tune function. Please update your imports. See this issue for more context and migration options: https://github.com/ray-project/ray/issues/49454. Disable these warnings by setting the environment variable: RAY_TRAIN_ENABLE_V2_MIGRATION_WARNINGS=0\u001b[32m [repeated 4x across cluster]\u001b[0m\n",
      "\u001b[36m(train_lstm pid=36684)\u001b[0m Checkpoint successfully created at: Checkpoint(filesystem=local, path=E:/datasets/ray_results/lstm_experiment/train_lstm_a7ef5_00010_10_epochs=600,hidden_layer_size=64,learning_rate=0.0790_2025-05-14_21-55-20/checkpoint_000035)\u001b[32m [repeated 54x across cluster]\u001b[0m\n"
     ]
    },
    {
     "name": "stdout",
     "output_type": "stream",
     "text": [
      "\u001b[36m(train_lstm pid=36684)\u001b[0m Epoch 350: loss = 26616743.333333\u001b[32m [repeated 54x across cluster]\u001b[0m\n"
     ]
    },
    {
     "name": "stderr",
     "output_type": "stream",
     "text": [
      "\u001b[36m(train_lstm pid=52628)\u001b[0m C:\\Users\\justi\\anaconda3\\Lib\\site-packages\\ray\\train\\_internal\\session.py:772: RayDeprecationWarning: `ray.train.report` should be switched to `ray.tune.report` when running in a function passed to Ray Tune. This will be an error in the future. See this issue for more context: https://github.com/ray-project/ray/issues/49454\n",
      "\u001b[36m(train_lstm pid=52628)\u001b[0m   _log_deprecation_warning(\u001b[32m [repeated 2x across cluster]\u001b[0m\n",
      "\u001b[36m(train_lstm pid=52628)\u001b[0m C:\\Users\\justi\\anaconda3\\Lib\\site-packages\\ray\\tune\\trainable\\trainable_fn_utils.py:41: RayDeprecationWarning: The `Checkpoint` class should be imported from `ray.tune` when passing it to `ray.tune.report` in a Tune function. Please update your imports. See this issue for more context and migration options: https://github.com/ray-project/ray/issues/49454. Disable these warnings by setting the environment variable: RAY_TRAIN_ENABLE_V2_MIGRATION_WARNINGS=0\n",
      "\u001b[36m(train_lstm pid=48024)\u001b[0m Checkpoint successfully created at: Checkpoint(filesystem=local, path=E:/datasets/ray_results/lstm_experiment/train_lstm_a7ef5_00017_17_epochs=800,hidden_layer_size=64,learning_rate=0.0285_2025-05-14_21-55-20/checkpoint_000033)\u001b[32m [repeated 28x across cluster]\u001b[0m\n"
     ]
    },
    {
     "name": "stdout",
     "output_type": "stream",
     "text": [
      "\u001b[36m(train_lstm pid=48024)\u001b[0m Epoch 330: loss = 31956351.333333\u001b[32m [repeated 28x across cluster]\u001b[0m\n"
     ]
    },
    {
     "name": "stderr",
     "output_type": "stream",
     "text": [
      "\u001b[36m(train_lstm pid=48024)\u001b[0m Checkpoint successfully created at: Checkpoint(filesystem=local, path=E:/datasets/ray_results/lstm_experiment/train_lstm_a7ef5_00017_17_epochs=800,hidden_layer_size=64,learning_rate=0.0285_2025-05-14_21-55-20/checkpoint_000049)\u001b[32m [repeated 22x across cluster]\u001b[0m\n"
     ]
    },
    {
     "name": "stdout",
     "output_type": "stream",
     "text": [
      "\u001b[36m(train_lstm pid=48024)\u001b[0m Epoch 490: loss = 27116704.000000\u001b[32m [repeated 22x across cluster]\u001b[0m\n"
     ]
    },
    {
     "name": "stderr",
     "output_type": "stream",
     "text": [
      "\u001b[36m(train_lstm pid=48024)\u001b[0m Checkpoint successfully created at: Checkpoint(filesystem=local, path=E:/datasets/ray_results/lstm_experiment/train_lstm_a7ef5_00017_17_epochs=800,hidden_layer_size=64,learning_rate=0.0285_2025-05-14_21-55-20/checkpoint_000064)\u001b[32m [repeated 21x across cluster]\u001b[0m\n"
     ]
    },
    {
     "name": "stdout",
     "output_type": "stream",
     "text": [
      "\u001b[36m(train_lstm pid=48024)\u001b[0m Epoch 640: loss = 21505576.666667\u001b[32m [repeated 21x across cluster]\u001b[0m\n"
     ]
    },
    {
     "name": "stderr",
     "output_type": "stream",
     "text": [
      "\u001b[36m(train_lstm pid=36684)\u001b[0m Checkpoint successfully created at: Checkpoint(filesystem=local, path=E:/datasets/ray_results/lstm_experiment/train_lstm_a7ef5_00010_10_epochs=600,hidden_layer_size=64,learning_rate=0.0790_2025-05-14_21-55-20/checkpoint_000058)\u001b[32m [repeated 20x across cluster]\u001b[0m\n",
      "\u001b[36m(train_lstm pid=54568)\u001b[0m C:\\Users\\justi\\anaconda3\\Lib\\site-packages\\ray\\train\\_internal\\session.py:772: RayDeprecationWarning: `ray.train.report` should be switched to `ray.tune.report` when running in a function passed to Ray Tune. This will be an error in the future. See this issue for more context: https://github.com/ray-project/ray/issues/49454\n",
      "\u001b[36m(train_lstm pid=54568)\u001b[0m   _log_deprecation_warning(\n",
      "\u001b[36m(train_lstm pid=54568)\u001b[0m C:\\Users\\justi\\anaconda3\\Lib\\site-packages\\ray\\tune\\trainable\\trainable_fn_utils.py:41: RayDeprecationWarning: The `Checkpoint` class should be imported from `ray.tune` when passing it to `ray.tune.report` in a Tune function. Please update your imports. See this issue for more context and migration options: https://github.com/ray-project/ray/issues/49454. Disable these warnings by setting the environment variable: RAY_TRAIN_ENABLE_V2_MIGRATION_WARNINGS=0\n",
      "\u001b[36m(train_lstm pid=54568)\u001b[0m   _log_deprecation_warning(\n"
     ]
    },
    {
     "name": "stdout",
     "output_type": "stream",
     "text": [
      "\u001b[36m(train_lstm pid=36684)\u001b[0m Epoch 580: loss = 18040380.000000\u001b[32m [repeated 20x across cluster]\u001b[0m\n"
     ]
    },
    {
     "name": "stderr",
     "output_type": "stream",
     "text": [
      "\u001b[36m(train_lstm pid=31156)\u001b[0m Checkpoint successfully created at: Checkpoint(filesystem=local, path=E:/datasets/ray_results/lstm_experiment/train_lstm_a7ef5_00029_29_epochs=800,hidden_layer_size=64,learning_rate=0.0030_2025-05-14_21-55-20/checkpoint_000000)\u001b[32m [repeated 12x across cluster]\u001b[0m\n",
      "\u001b[36m(train_lstm pid=31156)\u001b[0m C:\\Users\\justi\\anaconda3\\Lib\\site-packages\\ray\\train\\_internal\\session.py:772: RayDeprecationWarning: `ray.train.report` should be switched to `ray.tune.report` when running in a function passed to Ray Tune. This will be an error in the future. See this issue for more context: https://github.com/ray-project/ray/issues/49454\u001b[32m [repeated 6x across cluster]\u001b[0m\n",
      "\u001b[36m(train_lstm pid=31156)\u001b[0m   _log_deprecation_warning(\u001b[32m [repeated 12x across cluster]\u001b[0m\n",
      "\u001b[36m(train_lstm pid=31156)\u001b[0m C:\\Users\\justi\\anaconda3\\Lib\\site-packages\\ray\\tune\\trainable\\trainable_fn_utils.py:41: RayDeprecationWarning: The `Checkpoint` class should be imported from `ray.tune` when passing it to `ray.tune.report` in a Tune function. Please update your imports. See this issue for more context and migration options: https://github.com/ray-project/ray/issues/49454. Disable these warnings by setting the environment variable: RAY_TRAIN_ENABLE_V2_MIGRATION_WARNINGS=0\u001b[32m [repeated 6x across cluster]\u001b[0m\n"
     ]
    },
    {
     "name": "stdout",
     "output_type": "stream",
     "text": [
      "\u001b[36m(train_lstm pid=31156)\u001b[0m Epoch 0: loss = 47550606.666667\u001b[32m [repeated 12x across cluster]\u001b[0m\n"
     ]
    },
    {
     "name": "stderr",
     "output_type": "stream",
     "text": [
      "\u001b[36m(train_lstm pid=19748)\u001b[0m Checkpoint successfully created at: Checkpoint(filesystem=local, path=E:/datasets/ray_results/lstm_experiment/train_lstm_a7ef5_00028_28_epochs=500,hidden_layer_size=32,learning_rate=0.0878_2025-05-14_21-55-20/checkpoint_000013)\u001b[32m [repeated 29x across cluster]\u001b[0m\n",
      "\u001b[36m(train_lstm pid=30248)\u001b[0m C:\\Users\\justi\\anaconda3\\Lib\\site-packages\\ray\\train\\_internal\\session.py:772: RayDeprecationWarning: `ray.train.report` should be switched to `ray.tune.report` when running in a function passed to Ray Tune. This will be an error in the future. See this issue for more context: https://github.com/ray-project/ray/issues/49454\u001b[32m [repeated 7x across cluster]\u001b[0m\n",
      "\u001b[36m(train_lstm pid=30248)\u001b[0m   _log_deprecation_warning(\u001b[32m [repeated 14x across cluster]\u001b[0m\n",
      "\u001b[36m(train_lstm pid=30248)\u001b[0m C:\\Users\\justi\\anaconda3\\Lib\\site-packages\\ray\\tune\\trainable\\trainable_fn_utils.py:41: RayDeprecationWarning: The `Checkpoint` class should be imported from `ray.tune` when passing it to `ray.tune.report` in a Tune function. Please update your imports. See this issue for more context and migration options: https://github.com/ray-project/ray/issues/49454. Disable these warnings by setting the environment variable: RAY_TRAIN_ENABLE_V2_MIGRATION_WARNINGS=0\u001b[32m [repeated 7x across cluster]\u001b[0m\n"
     ]
    },
    {
     "name": "stdout",
     "output_type": "stream",
     "text": [
      "\u001b[36m(train_lstm pid=19748)\u001b[0m Epoch 130: loss = 40228507.333333\u001b[32m [repeated 29x across cluster]\u001b[0m\n"
     ]
    },
    {
     "name": "stderr",
     "output_type": "stream",
     "text": [
      "\u001b[36m(train_lstm pid=54196)\u001b[0m Checkpoint successfully created at: Checkpoint(filesystem=local, path=E:/datasets/ray_results/lstm_experiment/train_lstm_a7ef5_00036_36_epochs=600,hidden_layer_size=64,learning_rate=0.0082_2025-05-14_21-55-20/checkpoint_000000)\u001b[32m [repeated 3x across cluster]\u001b[0m\n",
      "\u001b[36m(train_lstm pid=54196)\u001b[0m C:\\Users\\justi\\anaconda3\\Lib\\site-packages\\ray\\train\\_internal\\session.py:772: RayDeprecationWarning: `ray.train.report` should be switched to `ray.tune.report` when running in a function passed to Ray Tune. This will be an error in the future. See this issue for more context: https://github.com/ray-project/ray/issues/49454\n",
      "\u001b[36m(train_lstm pid=54196)\u001b[0m   _log_deprecation_warning(\u001b[32m [repeated 2x across cluster]\u001b[0m\n",
      "\u001b[36m(train_lstm pid=54196)\u001b[0m C:\\Users\\justi\\anaconda3\\Lib\\site-packages\\ray\\tune\\trainable\\trainable_fn_utils.py:41: RayDeprecationWarning: The `Checkpoint` class should be imported from `ray.tune` when passing it to `ray.tune.report` in a Tune function. Please update your imports. See this issue for more context and migration options: https://github.com/ray-project/ray/issues/49454. Disable these warnings by setting the environment variable: RAY_TRAIN_ENABLE_V2_MIGRATION_WARNINGS=0\n",
      "\u001b[36m(train_lstm pid=56076)\u001b[0m C:\\Users\\justi\\anaconda3\\Lib\\site-packages\\ray\\train\\_internal\\session.py:772: RayDeprecationWarning: `ray.train.report` should be switched to `ray.tune.report` when running in a function passed to Ray Tune. This will be an error in the future. See this issue for more context: https://github.com/ray-project/ray/issues/49454\n",
      "\u001b[36m(train_lstm pid=56076)\u001b[0m C:\\Users\\justi\\anaconda3\\Lib\\site-packages\\ray\\tune\\trainable\\trainable_fn_utils.py:41: RayDeprecationWarning: The `Checkpoint` class should be imported from `ray.tune` when passing it to `ray.tune.report` in a Tune function. Please update your imports. See this issue for more context and migration options: https://github.com/ray-project/ray/issues/49454. Disable these warnings by setting the environment variable: RAY_TRAIN_ENABLE_V2_MIGRATION_WARNINGS=0\n"
     ]
    },
    {
     "name": "stdout",
     "output_type": "stream",
     "text": [
      "\u001b[36m(train_lstm pid=54196)\u001b[0m Epoch 0: loss = 47549192.000000\u001b[32m [repeated 3x across cluster]\u001b[0m\n"
     ]
    },
    {
     "name": "stderr",
     "output_type": "stream",
     "text": [
      "\u001b[36m(train_lstm pid=46568)\u001b[0m Checkpoint successfully created at: Checkpoint(filesystem=local, path=E:/datasets/ray_results/lstm_experiment/train_lstm_a7ef5_00041_41_epochs=400,hidden_layer_size=32,learning_rate=0.0243_2025-05-14_21-55-20/checkpoint_000003)\u001b[32m [repeated 13x across cluster]\u001b[0m\n",
      "\u001b[36m(train_lstm pid=49884)\u001b[0m   _log_deprecation_warning(\u001b[32m [repeated 16x across cluster]\u001b[0m\n",
      "\u001b[36m(train_lstm pid=49884)\u001b[0m C:\\Users\\justi\\anaconda3\\Lib\\site-packages\\ray\\train\\_internal\\session.py:772: RayDeprecationWarning: `ray.train.report` should be switched to `ray.tune.report` when running in a function passed to Ray Tune. This will be an error in the future. See this issue for more context: https://github.com/ray-project/ray/issues/49454\u001b[32m [repeated 7x across cluster]\u001b[0m\n",
      "\u001b[36m(train_lstm pid=49884)\u001b[0m C:\\Users\\justi\\anaconda3\\Lib\\site-packages\\ray\\tune\\trainable\\trainable_fn_utils.py:41: RayDeprecationWarning: The `Checkpoint` class should be imported from `ray.tune` when passing it to `ray.tune.report` in a Tune function. Please update your imports. See this issue for more context and migration options: https://github.com/ray-project/ray/issues/49454. Disable these warnings by setting the environment variable: RAY_TRAIN_ENABLE_V2_MIGRATION_WARNINGS=0\u001b[32m [repeated 7x across cluster]\u001b[0m\n"
     ]
    },
    {
     "name": "stdout",
     "output_type": "stream",
     "text": [
      "\u001b[36m(train_lstm pid=49884)\u001b[0m Epoch 0: loss = 48118024.000000\u001b[32m [repeated 14x across cluster]\u001b[0m\n",
      "Best hyperparameters: {'hidden_layer_size': 64, 'learning_rate': 0.02848026275422519, 'epochs': 800, 'seed': 42}\n"
     ]
    },
    {
     "data": {
      "image/png": "[encoded data removed]",
      "text/plain": [
       "<Figure size 800x600 with 1 Axes>"
      ]
     },
     "metadata": {},
     "output_type": "display_data"
    },
    {
     "name": "stdout",
     "output_type": "stream",
     "text": [
      "RMSE: 7672.31\n",
      "MAE: 6513.61\n",
      "MAPE: 59.56%\n"
     ]
    }
   ],
   "source": [
    "# 1) Standard library + ML imports\n",
    "import os\n",
    "import tempfile\n",
    "import pathlib\n",
    "import random\n",
    "import numpy as np\n",
    "import torch\n",
    "import torch.nn as nn\n",
    "import torch.optim as optim\n",
    "from torch.utils.data import TensorDataset, DataLoader\n",
    "import matplotlib.pyplot as plt\n",
    "\n",
    "# 2) Ray imports\n",
    "import ray\n",
    "from ray import tune                                    \n",
    "from ray.air import session, RunConfig\n",
    "from ray.train import Checkpoint\n",
    "from ray.tune.tune_config import TuneConfig\n",
    "from ray.tune.schedulers import ASHAScheduler\n",
    "\n",
    "# 3) Global seed & backend setup\n",
    "SEED = 42  # ← change this to rerun with a different seed\n",
    "random.seed(SEED)\n",
    "np.random.seed(SEED)\n",
    "torch.manual_seed(SEED)\n",
    "torch.cuda.manual_seed_all(SEED)\n",
    "# CUDNN determinism only needs to be set once globally:\n",
    "torch.backends.cudnn.deterministic = True\n",
    "torch.backends.cudnn.benchmark = False\n",
    "\n",
    "# 4) (Re)start Ray\n",
    "ray.shutdown()\n",
    "ray.init(ignore_reinit_error=True, logging_level=\"ERROR\")\n",
    "\n",
    "# 5) Updated LSTM model\n",
    "class LSTMModel(nn.Module):\n",
    "    def __init__(self, input_size, hidden_size, output_size=1):\n",
    "        super().__init__()\n",
    "        self.lstm = nn.LSTM(input_size, hidden_size, batch_first=True, num_layers=2)\n",
    "        self.dropout = nn.Dropout(0.3)\n",
    "        self.fc = nn.Linear(hidden_size, output_size)\n",
    "\n",
    "    def forward(self, x):\n",
    "        out, _ = self.lstm(x)\n",
    "        out = self.dropout(out[:, -1, :])\n",
    "        return self.fc(out)\n",
    "\n",
    "# 6) Create sequences (assumes lstm_train & lstm_test exist)\n",
    "X_train_df = lstm_train.drop(columns=['Sales'])\n",
    "y_train_df = lstm_train[['Sales']]\n",
    "X_test_df = lstm_test.drop(columns=['Sales'])\n",
    "y_test_df = lstm_test[['Sales']]\n",
    "\n",
    "SEQ_LENGTH = 4\n",
    "def create_sequences(features_df, target_df, seq_length):\n",
    "    X, y = [], []\n",
    "    features = features_df.values\n",
    "    target = target_df.values\n",
    "    for i in range(len(features) - seq_length):\n",
    "        X.append(features[i:i+seq_length])\n",
    "        y.append(target[i+seq_length])\n",
    "    return np.array(X), np.array(y)\n",
    "\n",
    "X_train, y_train = create_sequences(X_train_df, y_train_df, SEQ_LENGTH)\n",
    "X_test, y_test   = create_sequences(X_test_df, y_test_df, SEQ_LENGTH)\n",
    "\n",
    "# Convert once globally\n",
    "X_train_tensor = torch.Tensor(X_train)\n",
    "y_train_tensor = torch.Tensor(y_train).view(-1, 1)\n",
    "X_test_tensor  = torch.Tensor(X_test)\n",
    "y_test_tensor  = torch.Tensor(y_test).view(-1, 1)\n",
    "\n",
    "# 7) Training function for Ray Tune\n",
    "def train_lstm(config):\n",
    "    # Per-trial seed (no torch.backends here)\n",
    "    trial_seed = config.get(\"seed\", SEED)\n",
    "    random.seed(trial_seed)\n",
    "    np.random.seed(trial_seed)\n",
    "    torch.manual_seed(trial_seed)\n",
    "    torch.cuda.manual_seed_all(trial_seed)\n",
    "\n",
    "    model = LSTMModel(\n",
    "        input_size  = X_train_tensor.shape[2],\n",
    "        hidden_size = config[\"hidden_layer_size\"],\n",
    "    )\n",
    "    loss_fn = nn.MSELoss()\n",
    "    optimizer = optim.Adam(model.parameters(), lr=config[\"learning_rate\"])\n",
    "    epochs = config.get(\"epochs\", 100)\n",
    "\n",
    "    train_dataset = TensorDataset(X_train_tensor, y_train_tensor)\n",
    "    train_loader = DataLoader(train_dataset, batch_size=64, shuffle=True)\n",
    "\n",
    "    for epoch in range(epochs):\n",
    "        model.train()\n",
    "        total_loss = 0.0\n",
    "        for xb, yb in train_loader:\n",
    "            optimizer.zero_grad()\n",
    "            preds = model(xb)\n",
    "            loss = loss_fn(preds, yb)\n",
    "            loss.backward()\n",
    "            optimizer.step()\n",
    "            total_loss += loss.item()\n",
    "        avg_loss = total_loss / len(train_loader)\n",
    "\n",
    "        if epoch % 10 == 0:\n",
    "            print(f\"Epoch {epoch}: loss = {avg_loss:.6f}\")\n",
    "            with tempfile.TemporaryDirectory() as tmpdir:\n",
    "                torch.save(model.state_dict(), os.path.join(tmpdir, \"model.pt\"))\n",
    "                session.report(\n",
    "                    {\"loss\": avg_loss},\n",
    "                    checkpoint=Checkpoint.from_directory(tmpdir)\n",
    "                )\n",
    "\n",
    "# 8) Search space and scheduler (seed fixed)\n",
    "search_space = {\n",
    "    \"hidden_layer_size\": tune.choice([32, 64, 128, 256]),\n",
    "    \"learning_rate\": tune.loguniform(0.001, 0.1),\n",
    "    \"epochs\": tune.choice([300, 400, 500, 600, 700, 800]),\n",
    "    \"seed\": SEED\n",
    "}\n",
    "scheduler = ASHAScheduler()\n",
    "\n",
    "# 9) RunConfig and TuneConfig\n",
    "trainable = tune.with_resources(train_lstm, {\"cpu\": 1})\n",
    "run_cfg = RunConfig(\n",
    "    name=\"lstm_experiment\",\n",
    "    stop={\"training_iteration\": 100},\n",
    "    storage_path=str(pathlib.Path(\"E:/datasets/ray_results\").resolve()),\n",
    "    sync_config=None,\n",
    "    log_to_file=False\n",
    ")\n",
    "tune_cfg = TuneConfig(\n",
    "    metric=\"loss\",\n",
    "    mode=\"min\",\n",
    "    num_samples=50,\n",
    "    scheduler=scheduler\n",
    ")\n",
    "\n",
    "# 10) Run the tuner\n",
    "tuner = tune.Tuner(\n",
    "    trainable,\n",
    "    run_config=run_cfg,\n",
    "    tune_config=tune_cfg,\n",
    "    param_space=search_space\n",
    ")\n",
    "results = tuner.fit()\n",
    "\n",
    "# 11) Load best model and evaluate\n",
    "best = results.get_best_result(metric=\"loss\", mode=\"min\")\n",
    "print(\"Best hyperparameters:\", best.config)\n",
    "ckpt_dir = best.checkpoint.to_directory()\n",
    "\n",
    "best_model = LSTMModel(\n",
    "    input_size = X_train_tensor.shape[2],\n",
    "    hidden_size = best.config[\"hidden_layer_size\"]\n",
    ")\n",
    "best_model.load_state_dict(torch.load(os.path.join(ckpt_dir, \"model.pt\")))\n",
    "\n",
    "# 12) Predictions and evaluation\n",
    "best_model.eval()\n",
    "with torch.no_grad():\n",
    "    y_pred = best_model(X_test_tensor).numpy().flatten()\n",
    "    y_true = y_test_tensor.numpy().flatten()\n",
    "\n",
    "# Plot\n",
    "plt.figure(figsize=(8, 6))\n",
    "plt.plot(range(len(y_true)), y_true, label=\"Actual\", color=\"tab:blue\")\n",
    "plt.plot(range(len(y_pred)), y_pred, label=\"Predicted\", color=\"tab:orange\")\n",
    "plt.legend()\n",
    "plt.title(\"Actual vs Predicted Sales\")\n",
    "plt.xlabel(\"Time Step\")\n",
    "plt.ylabel(\"Sales\")\n",
    "plt.tight_layout()\n",
    "plt.show()\n",
    "\n",
    "# 13) Metrics\n",
    "from sklearn.metrics import mean_squared_error, mean_absolute_error\n",
    "\n",
    "def root_mean_squared_error(y_t, y_p):\n",
    "    return np.sqrt(mean_squared_error(y_t, y_p))\n",
    "\n",
    "rmse = root_mean_squared_error(y_true, y_pred)\n",
    "mae = mean_absolute_error(y_true, y_pred)\n",
    "mape = np.mean(np.abs((y_true - y_pred) / np.maximum(np.abs(y_true), 1e-8))) * 100\n",
    "\n",
    "print(f\"RMSE: {rmse:.2f}\")\n",
    "print(f\"MAE: {mae:.2f}\")\n",
    "print(f\"MAPE: {mape:.2f}%\")"
   ]
  },
  {
   "cell_type": "code",
   "execution_count": 7,
   "id": "115a3355-dda3-46b9-9e4a-69650dae0b48",
   "metadata": {
    "scrolled": true
   },
   "outputs": [
    {
     "data": {
      "text/html": [
       "<div class=\"tuneStatus\">\n",
       "  <div style=\"display: flex;flex-direction: row\">\n",
       "    <div style=\"display: flex;flex-direction: column;\">\n",
       "      <h3>Tune Status</h3>\n",
       "      <table>\n",
       "<tbody>\n",
       "<tr><td>Current time:</td><td>2025-05-14 23:45:20</td></tr>\n",
       "<tr><td>Running for: </td><td>00:22:21.56        </td></tr>\n",
       "<tr><td>Memory:      </td><td>11.3/31.9 GiB      </td></tr>\n",
       "</tbody>\n",
       "</table>\n",
       "    </div>\n",
       "    <div class=\"vDivider\"></div>\n",
       "    <div class=\"systemInfo\">\n",
       "      <h3>System Info</h3>\n",
       "      Using AsyncHyperBand: num_stopped=0<br>Bracket: Iter 64.000: -0.00040764683702339727 | Iter 16.000: -0.0020571438362821937 | Iter 4.000: -0.02360685480137666 | Iter 1.000: -0.1376832239329815<br>Logical resource usage: 1.0/8 CPUs, 0/1 GPUs (0.0/1.0 accelerator_type:G)\n",
       "    </div>\n",
       "    \n",
       "  </div>\n",
       "  <div class=\"hDivider\"></div>\n",
       "  <div class=\"trialStatus\">\n",
       "    <h3>Trial Status</h3>\n",
       "    <table>\n",
       "<thead>\n",
       "<tr><th>Trial name            </th><th>status    </th><th>loc            </th><th style=\"text-align: right;\">  iter</th><th style=\"text-align: right;\">  total time (s)</th><th style=\"text-align: right;\">       loss</th></tr>\n",
       "</thead>\n",
       "<tbody>\n",
       "<tr><td>train_lstm_e68fe_00000</td><td>TERMINATED</td><td>127.0.0.1:59760</td><td style=\"text-align: right;\">    80</td><td style=\"text-align: right;\">         74.075 </td><td style=\"text-align: right;\">0.000432743</td></tr>\n",
       "<tr><td>train_lstm_e68fe_00001</td><td>TERMINATED</td><td>127.0.0.1:15376</td><td style=\"text-align: right;\">    80</td><td style=\"text-align: right;\">         86.406 </td><td style=\"text-align: right;\">0.000432743</td></tr>\n",
       "<tr><td>train_lstm_e68fe_00002</td><td>TERMINATED</td><td>127.0.0.1:52072</td><td style=\"text-align: right;\">    80</td><td style=\"text-align: right;\">         84.8183</td><td style=\"text-align: right;\">0.000432743</td></tr>\n",
       "<tr><td>train_lstm_e68fe_00003</td><td>TERMINATED</td><td>127.0.0.1:58772</td><td style=\"text-align: right;\">    80</td><td style=\"text-align: right;\">         84.5968</td><td style=\"text-align: right;\">0.000432743</td></tr>\n",
       "<tr><td>train_lstm_e68fe_00004</td><td>TERMINATED</td><td>127.0.0.1:51232</td><td style=\"text-align: right;\">    80</td><td style=\"text-align: right;\">         86.3533</td><td style=\"text-align: right;\">0.000432743</td></tr>\n",
       "<tr><td>train_lstm_e68fe_00005</td><td>TERMINATED</td><td>127.0.0.1:57756</td><td style=\"text-align: right;\">    80</td><td style=\"text-align: right;\">         85.6993</td><td style=\"text-align: right;\">0.000432743</td></tr>\n",
       "<tr><td>train_lstm_e68fe_00006</td><td>TERMINATED</td><td>127.0.0.1:46896</td><td style=\"text-align: right;\">    80</td><td style=\"text-align: right;\">         85.8237</td><td style=\"text-align: right;\">0.000432743</td></tr>\n",
       "<tr><td>train_lstm_e68fe_00007</td><td>TERMINATED</td><td>127.0.0.1:59884</td><td style=\"text-align: right;\">    80</td><td style=\"text-align: right;\">         86.7765</td><td style=\"text-align: right;\">0.000432743</td></tr>\n",
       "<tr><td>train_lstm_e68fe_00008</td><td>TERMINATED</td><td>127.0.0.1:58096</td><td style=\"text-align: right;\">    80</td><td style=\"text-align: right;\">         74.8186</td><td style=\"text-align: right;\">0.000432743</td></tr>\n",
       "<tr><td>train_lstm_e68fe_00009</td><td>TERMINATED</td><td>127.0.0.1:59492</td><td style=\"text-align: right;\">    80</td><td style=\"text-align: right;\">         74.7978</td><td style=\"text-align: right;\">0.000432743</td></tr>\n",
       "<tr><td>train_lstm_e68fe_00010</td><td>TERMINATED</td><td>127.0.0.1:57984</td><td style=\"text-align: right;\">    80</td><td style=\"text-align: right;\">         74.9328</td><td style=\"text-align: right;\">0.000432743</td></tr>\n",
       "<tr><td>train_lstm_e68fe_00011</td><td>TERMINATED</td><td>127.0.0.1:60152</td><td style=\"text-align: right;\">    80</td><td style=\"text-align: right;\">         78.3021</td><td style=\"text-align: right;\">0.000432743</td></tr>\n",
       "<tr><td>train_lstm_e68fe_00012</td><td>TERMINATED</td><td>127.0.0.1:41456</td><td style=\"text-align: right;\">    80</td><td style=\"text-align: right;\">         78.0613</td><td style=\"text-align: right;\">0.000432743</td></tr>\n",
       "<tr><td>train_lstm_e68fe_00013</td><td>TERMINATED</td><td>127.0.0.1:32456</td><td style=\"text-align: right;\">    80</td><td style=\"text-align: right;\">         77.8333</td><td style=\"text-align: right;\">0.000432743</td></tr>\n",
       "<tr><td>train_lstm_e68fe_00014</td><td>TERMINATED</td><td>127.0.0.1:59428</td><td style=\"text-align: right;\">    80</td><td style=\"text-align: right;\">         78.9943</td><td style=\"text-align: right;\">0.000432743</td></tr>\n",
       "<tr><td>train_lstm_e68fe_00015</td><td>TERMINATED</td><td>127.0.0.1:38112</td><td style=\"text-align: right;\">    80</td><td style=\"text-align: right;\">         77.1797</td><td style=\"text-align: right;\">0.000432743</td></tr>\n",
       "<tr><td>train_lstm_e68fe_00016</td><td>TERMINATED</td><td>127.0.0.1:58024</td><td style=\"text-align: right;\">    80</td><td style=\"text-align: right;\">         75.2005</td><td style=\"text-align: right;\">0.000432743</td></tr>\n",
       "<tr><td>train_lstm_e68fe_00017</td><td>TERMINATED</td><td>127.0.0.1:58876</td><td style=\"text-align: right;\">    80</td><td style=\"text-align: right;\">         75.093 </td><td style=\"text-align: right;\">0.000432743</td></tr>\n",
       "<tr><td>train_lstm_e68fe_00018</td><td>TERMINATED</td><td>127.0.0.1:52460</td><td style=\"text-align: right;\">    80</td><td style=\"text-align: right;\">         74.3777</td><td style=\"text-align: right;\">0.000432743</td></tr>\n",
       "<tr><td>train_lstm_e68fe_00019</td><td>TERMINATED</td><td>127.0.0.1:58164</td><td style=\"text-align: right;\">    80</td><td style=\"text-align: right;\">         78.3084</td><td style=\"text-align: right;\">0.000432743</td></tr>\n",
       "<tr><td>train_lstm_e68fe_00020</td><td>TERMINATED</td><td>127.0.0.1:58620</td><td style=\"text-align: right;\">    80</td><td style=\"text-align: right;\">         78.2348</td><td style=\"text-align: right;\">0.000432743</td></tr>\n",
       "<tr><td>train_lstm_e68fe_00021</td><td>TERMINATED</td><td>127.0.0.1:45964</td><td style=\"text-align: right;\">    80</td><td style=\"text-align: right;\">         78.5764</td><td style=\"text-align: right;\">0.000432743</td></tr>\n",
       "<tr><td>train_lstm_e68fe_00022</td><td>TERMINATED</td><td>127.0.0.1:44468</td><td style=\"text-align: right;\">    80</td><td style=\"text-align: right;\">         75.9946</td><td style=\"text-align: right;\">0.000432743</td></tr>\n",
       "<tr><td>train_lstm_e68fe_00023</td><td>TERMINATED</td><td>127.0.0.1:58380</td><td style=\"text-align: right;\">    80</td><td style=\"text-align: right;\">         81.2454</td><td style=\"text-align: right;\">0.000432743</td></tr>\n",
       "<tr><td>train_lstm_e68fe_00024</td><td>TERMINATED</td><td>127.0.0.1:4044 </td><td style=\"text-align: right;\">    80</td><td style=\"text-align: right;\">         75.7049</td><td style=\"text-align: right;\">0.000432743</td></tr>\n",
       "<tr><td>train_lstm_e68fe_00025</td><td>TERMINATED</td><td>127.0.0.1:59544</td><td style=\"text-align: right;\">    80</td><td style=\"text-align: right;\">         75.643 </td><td style=\"text-align: right;\">0.000432743</td></tr>\n",
       "<tr><td>train_lstm_e68fe_00026</td><td>TERMINATED</td><td>127.0.0.1:59040</td><td style=\"text-align: right;\">    80</td><td style=\"text-align: right;\">         75.2593</td><td style=\"text-align: right;\">0.000432743</td></tr>\n",
       "<tr><td>train_lstm_e68fe_00027</td><td>TERMINATED</td><td>127.0.0.1:50492</td><td style=\"text-align: right;\">    80</td><td style=\"text-align: right;\">         76.0324</td><td style=\"text-align: right;\">0.000432743</td></tr>\n",
       "<tr><td>train_lstm_e68fe_00028</td><td>TERMINATED</td><td>127.0.0.1:59168</td><td style=\"text-align: right;\">    80</td><td style=\"text-align: right;\">         76.0956</td><td style=\"text-align: right;\">0.000432743</td></tr>\n",
       "<tr><td>train_lstm_e68fe_00029</td><td>TERMINATED</td><td>127.0.0.1:58060</td><td style=\"text-align: right;\">    80</td><td style=\"text-align: right;\">         75.9734</td><td style=\"text-align: right;\">0.000432743</td></tr>\n",
       "<tr><td>train_lstm_e68fe_00030</td><td>TERMINATED</td><td>127.0.0.1:60328</td><td style=\"text-align: right;\">    80</td><td style=\"text-align: right;\">         76.3309</td><td style=\"text-align: right;\">0.000432743</td></tr>\n",
       "<tr><td>train_lstm_e68fe_00031</td><td>TERMINATED</td><td>127.0.0.1:59744</td><td style=\"text-align: right;\">    80</td><td style=\"text-align: right;\">         83.3357</td><td style=\"text-align: right;\">0.000432743</td></tr>\n",
       "<tr><td>train_lstm_e68fe_00032</td><td>TERMINATED</td><td>127.0.0.1:59692</td><td style=\"text-align: right;\">    80</td><td style=\"text-align: right;\">         76.5997</td><td style=\"text-align: right;\">0.000432743</td></tr>\n",
       "<tr><td>train_lstm_e68fe_00033</td><td>TERMINATED</td><td>127.0.0.1:56744</td><td style=\"text-align: right;\">    80</td><td style=\"text-align: right;\">         76.0142</td><td style=\"text-align: right;\">0.000432743</td></tr>\n",
       "<tr><td>train_lstm_e68fe_00034</td><td>TERMINATED</td><td>127.0.0.1:59640</td><td style=\"text-align: right;\">    80</td><td style=\"text-align: right;\">         75.5752</td><td style=\"text-align: right;\">0.000432743</td></tr>\n",
       "<tr><td>train_lstm_e68fe_00035</td><td>TERMINATED</td><td>127.0.0.1:59752</td><td style=\"text-align: right;\">    80</td><td style=\"text-align: right;\">         76.2608</td><td style=\"text-align: right;\">0.000432743</td></tr>\n",
       "<tr><td>train_lstm_e68fe_00036</td><td>TERMINATED</td><td>127.0.0.1:56296</td><td style=\"text-align: right;\">    80</td><td style=\"text-align: right;\">         76.5866</td><td style=\"text-align: right;\">0.000432743</td></tr>\n",
       "<tr><td>train_lstm_e68fe_00037</td><td>TERMINATED</td><td>127.0.0.1:58044</td><td style=\"text-align: right;\">    80</td><td style=\"text-align: right;\">         76.3637</td><td style=\"text-align: right;\">0.000432743</td></tr>\n",
       "<tr><td>train_lstm_e68fe_00038</td><td>TERMINATED</td><td>127.0.0.1:58032</td><td style=\"text-align: right;\">    80</td><td style=\"text-align: right;\">         77.1871</td><td style=\"text-align: right;\">0.000432743</td></tr>\n",
       "<tr><td>train_lstm_e68fe_00039</td><td>TERMINATED</td><td>127.0.0.1:8788 </td><td style=\"text-align: right;\">    80</td><td style=\"text-align: right;\">         85.0281</td><td style=\"text-align: right;\">0.000432743</td></tr>\n",
       "<tr><td>train_lstm_e68fe_00040</td><td>TERMINATED</td><td>127.0.0.1:51364</td><td style=\"text-align: right;\">    80</td><td style=\"text-align: right;\">         76.169 </td><td style=\"text-align: right;\">0.000432743</td></tr>\n",
       "<tr><td>train_lstm_e68fe_00041</td><td>TERMINATED</td><td>127.0.0.1:58412</td><td style=\"text-align: right;\">    80</td><td style=\"text-align: right;\">         75.6633</td><td style=\"text-align: right;\">0.000432743</td></tr>\n",
       "<tr><td>train_lstm_e68fe_00042</td><td>TERMINATED</td><td>127.0.0.1:36080</td><td style=\"text-align: right;\">    80</td><td style=\"text-align: right;\">         75.8332</td><td style=\"text-align: right;\">0.000432743</td></tr>\n",
       "<tr><td>train_lstm_e68fe_00043</td><td>TERMINATED</td><td>127.0.0.1:61264</td><td style=\"text-align: right;\">    80</td><td style=\"text-align: right;\">         77.8869</td><td style=\"text-align: right;\">0.000432743</td></tr>\n",
       "<tr><td>train_lstm_e68fe_00044</td><td>TERMINATED</td><td>127.0.0.1:60628</td><td style=\"text-align: right;\">    80</td><td style=\"text-align: right;\">         75.5779</td><td style=\"text-align: right;\">0.000432743</td></tr>\n",
       "<tr><td>train_lstm_e68fe_00045</td><td>TERMINATED</td><td>127.0.0.1:57972</td><td style=\"text-align: right;\">    80</td><td style=\"text-align: right;\">         77.3395</td><td style=\"text-align: right;\">0.000432743</td></tr>\n",
       "<tr><td>train_lstm_e68fe_00046</td><td>TERMINATED</td><td>127.0.0.1:60480</td><td style=\"text-align: right;\">    80</td><td style=\"text-align: right;\">         78.1814</td><td style=\"text-align: right;\">0.000432743</td></tr>\n",
       "<tr><td>train_lstm_e68fe_00047</td><td>TERMINATED</td><td>127.0.0.1:54548</td><td style=\"text-align: right;\">    80</td><td style=\"text-align: right;\">         84.4143</td><td style=\"text-align: right;\">0.000432743</td></tr>\n",
       "<tr><td>train_lstm_e68fe_00048</td><td>TERMINATED</td><td>127.0.0.1:53032</td><td style=\"text-align: right;\">    80</td><td style=\"text-align: right;\">         75.5112</td><td style=\"text-align: right;\">0.000432743</td></tr>\n",
       "<tr><td>train_lstm_e68fe_00049</td><td>TERMINATED</td><td>127.0.0.1:56996</td><td style=\"text-align: right;\">    80</td><td style=\"text-align: right;\">         74.4237</td><td style=\"text-align: right;\">0.000432743</td></tr>\n",
       "<tr><td>train_lstm_e68fe_00050</td><td>TERMINATED</td><td>127.0.0.1:58268</td><td style=\"text-align: right;\">    80</td><td style=\"text-align: right;\">         74.6303</td><td style=\"text-align: right;\">0.000432743</td></tr>\n",
       "<tr><td>train_lstm_e68fe_00051</td><td>TERMINATED</td><td>127.0.0.1:61156</td><td style=\"text-align: right;\">    80</td><td style=\"text-align: right;\">         75.2296</td><td style=\"text-align: right;\">0.000432743</td></tr>\n",
       "<tr><td>train_lstm_e68fe_00052</td><td>TERMINATED</td><td>127.0.0.1:25024</td><td style=\"text-align: right;\">    80</td><td style=\"text-align: right;\">         74.7225</td><td style=\"text-align: right;\">0.000432743</td></tr>\n",
       "<tr><td>train_lstm_e68fe_00053</td><td>TERMINATED</td><td>127.0.0.1:61140</td><td style=\"text-align: right;\">    80</td><td style=\"text-align: right;\">         73.4804</td><td style=\"text-align: right;\">0.000432743</td></tr>\n",
       "<tr><td>train_lstm_e68fe_00054</td><td>TERMINATED</td><td>127.0.0.1:42588</td><td style=\"text-align: right;\">    80</td><td style=\"text-align: right;\">         74.5511</td><td style=\"text-align: right;\">0.000432743</td></tr>\n",
       "<tr><td>train_lstm_e68fe_00055</td><td>TERMINATED</td><td>127.0.0.1:50096</td><td style=\"text-align: right;\">    80</td><td style=\"text-align: right;\">         73.8465</td><td style=\"text-align: right;\">0.000432743</td></tr>\n",
       "<tr><td>train_lstm_e68fe_00056</td><td>TERMINATED</td><td>127.0.0.1:38452</td><td style=\"text-align: right;\">    80</td><td style=\"text-align: right;\">         64.5194</td><td style=\"text-align: right;\">0.000432743</td></tr>\n",
       "<tr><td>train_lstm_e68fe_00057</td><td>TERMINATED</td><td>127.0.0.1:46176</td><td style=\"text-align: right;\">    80</td><td style=\"text-align: right;\">         64.5177</td><td style=\"text-align: right;\">0.000432743</td></tr>\n",
       "<tr><td>train_lstm_e68fe_00058</td><td>TERMINATED</td><td>127.0.0.1:60592</td><td style=\"text-align: right;\">    80</td><td style=\"text-align: right;\">         65.6163</td><td style=\"text-align: right;\">0.000432743</td></tr>\n",
       "<tr><td>train_lstm_e68fe_00059</td><td>TERMINATED</td><td>127.0.0.1:46604</td><td style=\"text-align: right;\">    80</td><td style=\"text-align: right;\">         64.7311</td><td style=\"text-align: right;\">0.000432743</td></tr>\n",
       "<tr><td>train_lstm_e68fe_00060</td><td>TERMINATED</td><td>127.0.0.1:57824</td><td style=\"text-align: right;\">    80</td><td style=\"text-align: right;\">         65.0814</td><td style=\"text-align: right;\">0.000432743</td></tr>\n",
       "<tr><td>train_lstm_e68fe_00061</td><td>TERMINATED</td><td>127.0.0.1:53172</td><td style=\"text-align: right;\">    80</td><td style=\"text-align: right;\">         65.3143</td><td style=\"text-align: right;\">0.000432743</td></tr>\n",
       "<tr><td>train_lstm_e68fe_00062</td><td>TERMINATED</td><td>127.0.0.1:57460</td><td style=\"text-align: right;\">    80</td><td style=\"text-align: right;\">         65.3506</td><td style=\"text-align: right;\">0.000432743</td></tr>\n",
       "<tr><td>train_lstm_e68fe_00063</td><td>TERMINATED</td><td>127.0.0.1:61948</td><td style=\"text-align: right;\">    80</td><td style=\"text-align: right;\">         74.2168</td><td style=\"text-align: right;\">0.000432743</td></tr>\n",
       "<tr><td>train_lstm_e68fe_00064</td><td>TERMINATED</td><td>127.0.0.1:49400</td><td style=\"text-align: right;\">    80</td><td style=\"text-align: right;\">         58.0872</td><td style=\"text-align: right;\">0.000432743</td></tr>\n",
       "<tr><td>train_lstm_e68fe_00065</td><td>TERMINATED</td><td>127.0.0.1:59100</td><td style=\"text-align: right;\">    80</td><td style=\"text-align: right;\">         59.5323</td><td style=\"text-align: right;\">0.000432743</td></tr>\n",
       "<tr><td>train_lstm_e68fe_00066</td><td>TERMINATED</td><td>127.0.0.1:60676</td><td style=\"text-align: right;\">    80</td><td style=\"text-align: right;\">         57.4118</td><td style=\"text-align: right;\">0.000432743</td></tr>\n",
       "<tr><td>train_lstm_e68fe_00067</td><td>TERMINATED</td><td>127.0.0.1:60432</td><td style=\"text-align: right;\">    80</td><td style=\"text-align: right;\">         59.2184</td><td style=\"text-align: right;\">0.000432743</td></tr>\n",
       "<tr><td>train_lstm_e68fe_00068</td><td>TERMINATED</td><td>127.0.0.1:61532</td><td style=\"text-align: right;\">    80</td><td style=\"text-align: right;\">         59.8569</td><td style=\"text-align: right;\">0.000432743</td></tr>\n",
       "<tr><td>train_lstm_e68fe_00069</td><td>TERMINATED</td><td>127.0.0.1:62220</td><td style=\"text-align: right;\">    80</td><td style=\"text-align: right;\">         59.4863</td><td style=\"text-align: right;\">0.000432743</td></tr>\n",
       "<tr><td>train_lstm_e68fe_00070</td><td>TERMINATED</td><td>127.0.0.1:59076</td><td style=\"text-align: right;\">    80</td><td style=\"text-align: right;\">         58.4194</td><td style=\"text-align: right;\">0.000432743</td></tr>\n",
       "<tr><td>train_lstm_e68fe_00071</td><td>TERMINATED</td><td>127.0.0.1:61640</td><td style=\"text-align: right;\">    80</td><td style=\"text-align: right;\">         55.6447</td><td style=\"text-align: right;\">0.000432743</td></tr>\n",
       "<tr><td>train_lstm_e68fe_00072</td><td>TERMINATED</td><td>127.0.0.1:62236</td><td style=\"text-align: right;\">    80</td><td style=\"text-align: right;\">         55.5205</td><td style=\"text-align: right;\">0.000432743</td></tr>\n",
       "<tr><td>train_lstm_e68fe_00073</td><td>TERMINATED</td><td>127.0.0.1:9720 </td><td style=\"text-align: right;\">    80</td><td style=\"text-align: right;\">         60.96  </td><td style=\"text-align: right;\">0.000432743</td></tr>\n",
       "<tr><td>train_lstm_e68fe_00074</td><td>TERMINATED</td><td>127.0.0.1:4476 </td><td style=\"text-align: right;\">    80</td><td style=\"text-align: right;\">         60.0618</td><td style=\"text-align: right;\">0.000432743</td></tr>\n",
       "<tr><td>train_lstm_e68fe_00075</td><td>TERMINATED</td><td>127.0.0.1:57676</td><td style=\"text-align: right;\">    80</td><td style=\"text-align: right;\">         60.4103</td><td style=\"text-align: right;\">0.000432743</td></tr>\n",
       "<tr><td>train_lstm_e68fe_00076</td><td>TERMINATED</td><td>127.0.0.1:45612</td><td style=\"text-align: right;\">    80</td><td style=\"text-align: right;\">         61.2979</td><td style=\"text-align: right;\">0.000432743</td></tr>\n",
       "<tr><td>train_lstm_e68fe_00077</td><td>TERMINATED</td><td>127.0.0.1:60980</td><td style=\"text-align: right;\">    80</td><td style=\"text-align: right;\">         61.1968</td><td style=\"text-align: right;\">0.000432743</td></tr>\n",
       "<tr><td>train_lstm_e68fe_00078</td><td>TERMINATED</td><td>127.0.0.1:59192</td><td style=\"text-align: right;\">    80</td><td style=\"text-align: right;\">         60.9974</td><td style=\"text-align: right;\">0.000432743</td></tr>\n",
       "<tr><td>train_lstm_e68fe_00079</td><td>TERMINATED</td><td>127.0.0.1:57832</td><td style=\"text-align: right;\">    80</td><td style=\"text-align: right;\">         61.8968</td><td style=\"text-align: right;\">0.000432743</td></tr>\n",
       "<tr><td>train_lstm_e68fe_00080</td><td>TERMINATED</td><td>127.0.0.1:57400</td><td style=\"text-align: right;\">    80</td><td style=\"text-align: right;\">         67.6377</td><td style=\"text-align: right;\">0.000432743</td></tr>\n",
       "<tr><td>train_lstm_e68fe_00081</td><td>TERMINATED</td><td>127.0.0.1:45256</td><td style=\"text-align: right;\">    80</td><td style=\"text-align: right;\">         67.9276</td><td style=\"text-align: right;\">0.000432743</td></tr>\n",
       "<tr><td>train_lstm_e68fe_00082</td><td>TERMINATED</td><td>127.0.0.1:60496</td><td style=\"text-align: right;\">    80</td><td style=\"text-align: right;\">         66.7376</td><td style=\"text-align: right;\">0.000432743</td></tr>\n",
       "<tr><td>train_lstm_e68fe_00083</td><td>TERMINATED</td><td>127.0.0.1:59964</td><td style=\"text-align: right;\">    80</td><td style=\"text-align: right;\">         67.5986</td><td style=\"text-align: right;\">0.000432743</td></tr>\n",
       "<tr><td>train_lstm_e68fe_00084</td><td>TERMINATED</td><td>127.0.0.1:49892</td><td style=\"text-align: right;\">    80</td><td style=\"text-align: right;\">         68.6626</td><td style=\"text-align: right;\">0.000432743</td></tr>\n",
       "<tr><td>train_lstm_e68fe_00085</td><td>TERMINATED</td><td>127.0.0.1:61860</td><td style=\"text-align: right;\">    80</td><td style=\"text-align: right;\">         68.3818</td><td style=\"text-align: right;\">0.000432743</td></tr>\n",
       "<tr><td>train_lstm_e68fe_00086</td><td>TERMINATED</td><td>127.0.0.1:61940</td><td style=\"text-align: right;\">    80</td><td style=\"text-align: right;\">         60.9674</td><td style=\"text-align: right;\">0.000432743</td></tr>\n",
       "<tr><td>train_lstm_e68fe_00087</td><td>TERMINATED</td><td>127.0.0.1:42740</td><td style=\"text-align: right;\">    80</td><td style=\"text-align: right;\">         65.2185</td><td style=\"text-align: right;\">0.000432743</td></tr>\n",
       "<tr><td>train_lstm_e68fe_00088</td><td>TERMINATED</td><td>127.0.0.1:62316</td><td style=\"text-align: right;\">    80</td><td style=\"text-align: right;\">         61.0846</td><td style=\"text-align: right;\">0.000432743</td></tr>\n",
       "<tr><td>train_lstm_e68fe_00089</td><td>TERMINATED</td><td>127.0.0.1:31064</td><td style=\"text-align: right;\">    80</td><td style=\"text-align: right;\">         61.9523</td><td style=\"text-align: right;\">0.000432743</td></tr>\n",
       "<tr><td>train_lstm_e68fe_00090</td><td>TERMINATED</td><td>127.0.0.1:61952</td><td style=\"text-align: right;\">    80</td><td style=\"text-align: right;\">         62.1848</td><td style=\"text-align: right;\">0.000432743</td></tr>\n",
       "<tr><td>train_lstm_e68fe_00091</td><td>TERMINATED</td><td>127.0.0.1:29152</td><td style=\"text-align: right;\">    80</td><td style=\"text-align: right;\">         61.3841</td><td style=\"text-align: right;\">0.000432743</td></tr>\n",
       "<tr><td>train_lstm_e68fe_00092</td><td>TERMINATED</td><td>127.0.0.1:59344</td><td style=\"text-align: right;\">    80</td><td style=\"text-align: right;\">         63.0628</td><td style=\"text-align: right;\">0.000432743</td></tr>\n",
       "<tr><td>train_lstm_e68fe_00093</td><td>TERMINATED</td><td>127.0.0.1:50300</td><td style=\"text-align: right;\">    80</td><td style=\"text-align: right;\">         62.8574</td><td style=\"text-align: right;\">0.000432743</td></tr>\n",
       "<tr><td>train_lstm_e68fe_00094</td><td>TERMINATED</td><td>127.0.0.1:59276</td><td style=\"text-align: right;\">    80</td><td style=\"text-align: right;\">         61.2112</td><td style=\"text-align: right;\">0.000432743</td></tr>\n",
       "<tr><td>train_lstm_e68fe_00095</td><td>TERMINATED</td><td>127.0.0.1:41428</td><td style=\"text-align: right;\">    80</td><td style=\"text-align: right;\">         45.7505</td><td style=\"text-align: right;\">0.000432743</td></tr>\n",
       "<tr><td>train_lstm_e68fe_00096</td><td>TERMINATED</td><td>127.0.0.1:57160</td><td style=\"text-align: right;\">    80</td><td style=\"text-align: right;\">         42.1307</td><td style=\"text-align: right;\">0.000432743</td></tr>\n",
       "<tr><td>train_lstm_e68fe_00097</td><td>TERMINATED</td><td>127.0.0.1:59688</td><td style=\"text-align: right;\">    80</td><td style=\"text-align: right;\">         41.7617</td><td style=\"text-align: right;\">0.000432743</td></tr>\n",
       "<tr><td>train_lstm_e68fe_00098</td><td>TERMINATED</td><td>127.0.0.1:7432 </td><td style=\"text-align: right;\">    80</td><td style=\"text-align: right;\">         42.0497</td><td style=\"text-align: right;\">0.000432743</td></tr>\n",
       "<tr><td>train_lstm_e68fe_00099</td><td>TERMINATED</td><td>127.0.0.1:57520</td><td style=\"text-align: right;\">    80</td><td style=\"text-align: right;\">         41.8237</td><td style=\"text-align: right;\">0.000432743</td></tr>\n",
       "</tbody>\n",
       "</table>\n",
       "  </div>\n",
       "</div>\n",
       "<style>\n",
       ".tuneStatus {\n",
       "  color: var(--jp-ui-font-color1);\n",
       "}\n",
       ".tuneStatus .systemInfo {\n",
       "  display: flex;\n",
       "  flex-direction: column;\n",
       "}\n",
       ".tuneStatus td {\n",
       "  white-space: nowrap;\n",
       "}\n",
       ".tuneStatus .trialStatus {\n",
       "  display: flex;\n",
       "  flex-direction: column;\n",
       "}\n",
       ".tuneStatus h3 {\n",
       "  font-weight: bold;\n",
       "}\n",
       ".tuneStatus .hDivider {\n",
       "  border-bottom-width: var(--jp-border-width);\n",
       "  border-bottom-color: var(--jp-border-color0);\n",
       "  border-bottom-style: solid;\n",
       "}\n",
       ".tuneStatus .vDivider {\n",
       "  border-left-width: var(--jp-border-width);\n",
       "  border-left-color: var(--jp-border-color0);\n",
       "  border-left-style: solid;\n",
       "  margin: 0.5em 1em 0.5em 1em;\n",
       "}\n",
       "</style>\n"
      ],
      "text/plain": [
       "<IPython.core.display.HTML object>"
      ]
     },
     "metadata": {},
     "output_type": "display_data"
    },
    {
     "name": "stdout",
     "output_type": "stream",
     "text": [
      "\u001b[36m(train_lstm pid=59760)\u001b[0m Epoch 0: loss = 0.137683\n"
     ]
    },
    {
     "name": "stderr",
     "output_type": "stream",
     "text": [
      "\u001b[36m(train_lstm pid=59760)\u001b[0m C:\\Users\\justi\\anaconda3\\Lib\\site-packages\\ray\\train\\_internal\\session.py:772: RayDeprecationWarning: `ray.train.report` should be switched to `ray.tune.report` when running in a function passed to Ray Tune. This will be an error in the future. See this issue for more context: https://github.com/ray-project/ray/issues/49454\n",
      "\u001b[36m(train_lstm pid=59760)\u001b[0m   _log_deprecation_warning(\n",
      "\u001b[36m(train_lstm pid=59760)\u001b[0m C:\\Users\\justi\\anaconda3\\Lib\\site-packages\\ray\\tune\\trainable\\trainable_fn_utils.py:41: RayDeprecationWarning: The `Checkpoint` class should be imported from `ray.tune` when passing it to `ray.tune.report` in a Tune function. Please update your imports. See this issue for more context and migration options: https://github.com/ray-project/ray/issues/49454. Disable these warnings by setting the environment variable: RAY_TRAIN_ENABLE_V2_MIGRATION_WARNINGS=0\n",
      "\u001b[36m(train_lstm pid=59760)\u001b[0m   _log_deprecation_warning(\n",
      "\u001b[36m(train_lstm pid=59760)\u001b[0m Checkpoint successfully created at: Checkpoint(filesystem=local, path=E:/datasets/ray_results/lstm_experiment/train_lstm_e68fe_00000_0_2025-05-14_23-22-59/checkpoint_000000)\n",
      "\u001b[36m(train_lstm pid=59760)\u001b[0m Checkpoint successfully created at: Checkpoint(filesystem=local, path=E:/datasets/ray_results/lstm_experiment/train_lstm_e68fe_00000_0_2025-05-14_23-22-59/checkpoint_000001)\n"
     ]
    },
    {
     "name": "stdout",
     "output_type": "stream",
     "text": [
      "\u001b[36m(train_lstm pid=59760)\u001b[0m Epoch 10: loss = 0.035809\n"
     ]
    },
    {
     "name": "stderr",
     "output_type": "stream",
     "text": [
      "\u001b[36m(train_lstm pid=59884)\u001b[0m C:\\Users\\justi\\anaconda3\\Lib\\site-packages\\ray\\train\\_internal\\session.py:772: RayDeprecationWarning: `ray.train.report` should be switched to `ray.tune.report` when running in a function passed to Ray Tune. This will be an error in the future. See this issue for more context: https://github.com/ray-project/ray/issues/49454\u001b[32m [repeated 7x across cluster]\u001b[0m\n",
      "\u001b[36m(train_lstm pid=59884)\u001b[0m   _log_deprecation_warning(\u001b[32m [repeated 14x across cluster]\u001b[0m\n",
      "\u001b[36m(train_lstm pid=59884)\u001b[0m C:\\Users\\justi\\anaconda3\\Lib\\site-packages\\ray\\tune\\trainable\\trainable_fn_utils.py:41: RayDeprecationWarning: The `Checkpoint` class should be imported from `ray.tune` when passing it to `ray.tune.report` in a Tune function. Please update your imports. See this issue for more context and migration options: https://github.com/ray-project/ray/issues/49454. Disable these warnings by setting the environment variable: RAY_TRAIN_ENABLE_V2_MIGRATION_WARNINGS=0\u001b[32m [repeated 7x across cluster]\u001b[0m\n",
      "\u001b[36m(train_lstm pid=46896)\u001b[0m Checkpoint successfully created at: Checkpoint(filesystem=local, path=E:/datasets/ray_results/lstm_experiment/train_lstm_e68fe_00006_6_2025-05-14_23-22-59/checkpoint_000002)\u001b[32m [repeated 23x across cluster]\u001b[0m\n"
     ]
    },
    {
     "name": "stdout",
     "output_type": "stream",
     "text": [
      "\u001b[36m(train_lstm pid=46896)\u001b[0m Epoch 20: loss = 0.024915\u001b[32m [repeated 23x across cluster]\u001b[0m\n"
     ]
    },
    {
     "name": "stderr",
     "output_type": "stream",
     "text": [
      "\u001b[36m(train_lstm pid=59884)\u001b[0m Checkpoint successfully created at: Checkpoint(filesystem=local, path=E:/datasets/ray_results/lstm_experiment/train_lstm_e68fe_00007_7_2025-05-14_23-22-59/checkpoint_000005)\u001b[32m [repeated 39x across cluster]\u001b[0m\n"
     ]
    },
    {
     "name": "stdout",
     "output_type": "stream",
     "text": [
      "\u001b[36m(train_lstm pid=59884)\u001b[0m Epoch 50: loss = 0.020813\u001b[32m [repeated 39x across cluster]\u001b[0m\n"
     ]
    },
    {
     "name": "stderr",
     "output_type": "stream",
     "text": [
      "\u001b[36m(train_lstm pid=59760)\u001b[0m Checkpoint successfully created at: Checkpoint(filesystem=local, path=E:/datasets/ray_results/lstm_experiment/train_lstm_e68fe_00000_0_2025-05-14_23-22-59/checkpoint_000016)\u001b[32m [repeated 33x across cluster]\u001b[0m\n"
     ]
    },
    {
     "name": "stdout",
     "output_type": "stream",
     "text": [
      "\u001b[36m(train_lstm pid=59760)\u001b[0m Epoch 160: loss = 0.002216\u001b[32m [repeated 33x across cluster]\u001b[0m\n",
      "\u001b[36m(train_lstm pid=59884)\u001b[0m Epoch 130: loss = 0.002984\u001b[32m [repeated 32x across cluster]\u001b[0m\n"
     ]
    },
    {
     "name": "stderr",
     "output_type": "stream",
     "text": [
      "\u001b[36m(train_lstm pid=46896)\u001b[0m Checkpoint successfully created at: Checkpoint(filesystem=local, path=E:/datasets/ray_results/lstm_experiment/train_lstm_e68fe_00006_6_2025-05-14_23-22-59/checkpoint_000015)\u001b[32m [repeated 33x across cluster]\u001b[0m\n"
     ]
    },
    {
     "name": "stdout",
     "output_type": "stream",
     "text": [
      "\u001b[36m(train_lstm pid=15376)\u001b[0m Epoch 190: loss = 0.001694\u001b[32m [repeated 40x across cluster]\u001b[0m\n"
     ]
    },
    {
     "name": "stderr",
     "output_type": "stream",
     "text": [
      "\u001b[36m(train_lstm pid=52072)\u001b[0m Checkpoint successfully created at: Checkpoint(filesystem=local, path=E:/datasets/ray_results/lstm_experiment/train_lstm_e68fe_00002_2_2025-05-14_23-22-59/checkpoint_000021)\u001b[32m [repeated 39x across cluster]\u001b[0m\n",
      "\u001b[36m(train_lstm pid=59760)\u001b[0m Checkpoint successfully created at: Checkpoint(filesystem=local, path=E:/datasets/ray_results/lstm_experiment/train_lstm_e68fe_00000_0_2025-05-14_23-22-59/checkpoint_000032)\u001b[32m [repeated 41x across cluster]\u001b[0m\n"
     ]
    },
    {
     "name": "stdout",
     "output_type": "stream",
     "text": [
      "\u001b[36m(train_lstm pid=59760)\u001b[0m Epoch 320: loss = 0.000502\u001b[32m [repeated 41x across cluster]\u001b[0m\n",
      "\u001b[36m(train_lstm pid=57756)\u001b[0m Epoch 300: loss = 0.000877\u001b[32m [repeated 37x across cluster]\u001b[0m\n"
     ]
    },
    {
     "name": "stderr",
     "output_type": "stream",
     "text": [
      "\u001b[36m(train_lstm pid=52072)\u001b[0m Checkpoint successfully created at: Checkpoint(filesystem=local, path=E:/datasets/ray_results/lstm_experiment/train_lstm_e68fe_00002_2_2025-05-14_23-22-59/checkpoint_000031)\u001b[32m [repeated 38x across cluster]\u001b[0m\n"
     ]
    },
    {
     "name": "stdout",
     "output_type": "stream",
     "text": [
      "\u001b[36m(train_lstm pid=52072)\u001b[0m Epoch 350: loss = 0.000596\u001b[32m [repeated 33x across cluster]\u001b[0m\n"
     ]
    },
    {
     "name": "stderr",
     "output_type": "stream",
     "text": [
      "\u001b[36m(train_lstm pid=59760)\u001b[0m Checkpoint successfully created at: Checkpoint(filesystem=local, path=E:/datasets/ray_results/lstm_experiment/train_lstm_e68fe_00000_0_2025-05-14_23-22-59/checkpoint_000043)\u001b[32m [repeated 35x across cluster]\u001b[0m\n"
     ]
    },
    {
     "name": "stdout",
     "output_type": "stream",
     "text": [
      "\u001b[36m(train_lstm pid=58772)\u001b[0m Epoch 390: loss = 0.000557\u001b[32m [repeated 38x across cluster]\u001b[0m\n"
     ]
    },
    {
     "name": "stderr",
     "output_type": "stream",
     "text": [
      "\u001b[36m(train_lstm pid=59884)\u001b[0m Checkpoint successfully created at: Checkpoint(filesystem=local, path=E:/datasets/ray_results/lstm_experiment/train_lstm_e68fe_00007_7_2025-05-14_23-22-59/checkpoint_000037)\u001b[32m [repeated 37x across cluster]\u001b[0m\n"
     ]
    },
    {
     "name": "stdout",
     "output_type": "stream",
     "text": [
      "\u001b[36m(train_lstm pid=46896)\u001b[0m \n",
      "\u001b[36m(train_lstm pid=52072)\u001b[0m Epoch 440: loss = 0.000641\u001b[32m [repeated 34x across cluster]\u001b[0m\n"
     ]
    },
    {
     "name": "stderr",
     "output_type": "stream",
     "text": [
      "\u001b[36m(train_lstm pid=59760)\u001b[0m Checkpoint successfully created at: Checkpoint(filesystem=local, path=E:/datasets/ray_results/lstm_experiment/train_lstm_e68fe_00000_0_2025-05-14_23-22-59/checkpoint_000053)\u001b[32m [repeated 35x across cluster]\u001b[0m\n",
      "\u001b[36m(train_lstm pid=59884)\u001b[0m Checkpoint successfully created at: Checkpoint(filesystem=local, path=E:/datasets/ray_results/lstm_experiment/train_lstm_e68fe_00007_7_2025-05-14_23-22-59/checkpoint_000045)\u001b[32m [repeated 32x across cluster]\u001b[0m\n"
     ]
    },
    {
     "name": "stdout",
     "output_type": "stream",
     "text": [
      "\u001b[36m(train_lstm pid=59884)\u001b[0m Epoch 450: loss = 0.000486\u001b[32m [repeated 35x across cluster]\u001b[0m\n"
     ]
    },
    {
     "name": "stderr",
     "output_type": "stream",
     "text": [
      "\u001b[36m(train_lstm pid=59884)\u001b[0m Checkpoint successfully created at: Checkpoint(filesystem=local, path=E:/datasets/ray_results/lstm_experiment/train_lstm_e68fe_00007_7_2025-05-14_23-22-59/checkpoint_000050)\u001b[32m [repeated 41x across cluster]\u001b[0m\n"
     ]
    },
    {
     "name": "stdout",
     "output_type": "stream",
     "text": [
      "\u001b[36m(train_lstm pid=59884)\u001b[0m Epoch 500: loss = 0.000383\u001b[32m [repeated 41x across cluster]\u001b[0m\n"
     ]
    },
    {
     "name": "stderr",
     "output_type": "stream",
     "text": [
      "\u001b[36m(train_lstm pid=52072)\u001b[0m Checkpoint successfully created at: Checkpoint(filesystem=local, path=E:/datasets/ray_results/lstm_experiment/train_lstm_e68fe_00002_2_2025-05-14_23-22-59/checkpoint_000059)\u001b[32m [repeated 42x across cluster]\u001b[0m\n"
     ]
    },
    {
     "name": "stdout",
     "output_type": "stream",
     "text": [
      "\u001b[36m(train_lstm pid=52072)\u001b[0m Epoch 590: loss = 0.000523\u001b[32m [repeated 42x across cluster]\u001b[0m\n"
     ]
    },
    {
     "name": "stderr",
     "output_type": "stream",
     "text": [
      "\u001b[36m(train_lstm pid=52072)\u001b[0m Checkpoint successfully created at: Checkpoint(filesystem=local, path=E:/datasets/ray_results/lstm_experiment/train_lstm_e68fe_00002_2_2025-05-14_23-22-59/checkpoint_000065)\u001b[32m [repeated 46x across cluster]\u001b[0m\n"
     ]
    },
    {
     "name": "stdout",
     "output_type": "stream",
     "text": [
      "\u001b[36m(train_lstm pid=52072)\u001b[0m Epoch 650: loss = 0.000321\u001b[32m [repeated 46x across cluster]\u001b[0m\n"
     ]
    },
    {
     "name": "stderr",
     "output_type": "stream",
     "text": [
      "\u001b[36m(train_lstm pid=58772)\u001b[0m Checkpoint successfully created at: Checkpoint(filesystem=local, path=E:/datasets/ray_results/lstm_experiment/train_lstm_e68fe_00003_3_2025-05-14_23-22-59/checkpoint_000069)\u001b[32m [repeated 45x across cluster]\u001b[0m\n"
     ]
    },
    {
     "name": "stdout",
     "output_type": "stream",
     "text": [
      "\u001b[36m(train_lstm pid=58772)\u001b[0m Epoch 690: loss = 0.000597\u001b[32m [repeated 45x across cluster]\u001b[0m\n"
     ]
    },
    {
     "name": "stderr",
     "output_type": "stream",
     "text": [
      "\u001b[36m(train_lstm pid=58772)\u001b[0m Checkpoint successfully created at: Checkpoint(filesystem=local, path=E:/datasets/ray_results/lstm_experiment/train_lstm_e68fe_00003_3_2025-05-14_23-22-59/checkpoint_000075)\u001b[32m [repeated 42x across cluster]\u001b[0m\n"
     ]
    },
    {
     "name": "stdout",
     "output_type": "stream",
     "text": [
      "\u001b[36m(train_lstm pid=58772)\u001b[0m Epoch 750: loss = 0.000344\u001b[32m [repeated 42x across cluster]\u001b[0m\n"
     ]
    },
    {
     "name": "stderr",
     "output_type": "stream",
     "text": [
      "\u001b[36m(train_lstm pid=59884)\u001b[0m Checkpoint successfully created at: Checkpoint(filesystem=local, path=E:/datasets/ray_results/lstm_experiment/train_lstm_e68fe_00007_7_2025-05-14_23-22-59/checkpoint_000079)\u001b[32m [repeated 37x across cluster]\u001b[0m\n"
     ]
    },
    {
     "name": "stdout",
     "output_type": "stream",
     "text": [
      "\u001b[36m(train_lstm pid=59884)\u001b[0m Epoch 790: loss = 0.000433\u001b[32m [repeated 37x across cluster]\u001b[0m\n"
     ]
    },
    {
     "name": "stderr",
     "output_type": "stream",
     "text": [
      "\u001b[36m(train_lstm pid=58096)\u001b[0m C:\\Users\\justi\\anaconda3\\Lib\\site-packages\\ray\\train\\_internal\\session.py:772: RayDeprecationWarning: `ray.train.report` should be switched to `ray.tune.report` when running in a function passed to Ray Tune. This will be an error in the future. See this issue for more context: https://github.com/ray-project/ray/issues/49454\n",
      "\u001b[36m(train_lstm pid=58096)\u001b[0m   _log_deprecation_warning(\n",
      "\u001b[36m(train_lstm pid=58096)\u001b[0m C:\\Users\\justi\\anaconda3\\Lib\\site-packages\\ray\\tune\\trainable\\trainable_fn_utils.py:41: RayDeprecationWarning: The `Checkpoint` class should be imported from `ray.tune` when passing it to `ray.tune.report` in a Tune function. Please update your imports. See this issue for more context and migration options: https://github.com/ray-project/ray/issues/49454. Disable these warnings by setting the environment variable: RAY_TRAIN_ENABLE_V2_MIGRATION_WARNINGS=0\n",
      "\u001b[36m(train_lstm pid=58096)\u001b[0m   _log_deprecation_warning(\n",
      "\u001b[36m(train_lstm pid=58096)\u001b[0m Checkpoint successfully created at: Checkpoint(filesystem=local, path=E:/datasets/ray_results/lstm_experiment/train_lstm_e68fe_00008_8_2025-05-14_23-22-59/checkpoint_000000)\n"
     ]
    },
    {
     "name": "stdout",
     "output_type": "stream",
     "text": [
      "\u001b[36m(train_lstm pid=58096)\u001b[0m Epoch 0: loss = 0.137683\n",
      "\u001b[36m(train_lstm pid=59492)\u001b[0m Epoch 0: loss = 0.137683\n"
     ]
    },
    {
     "name": "stderr",
     "output_type": "stream",
     "text": [
      "\u001b[36m(train_lstm pid=57984)\u001b[0m C:\\Users\\justi\\anaconda3\\Lib\\site-packages\\ray\\train\\_internal\\session.py:772: RayDeprecationWarning: `ray.train.report` should be switched to `ray.tune.report` when running in a function passed to Ray Tune. This will be an error in the future. See this issue for more context: https://github.com/ray-project/ray/issues/49454\u001b[32m [repeated 2x across cluster]\u001b[0m\n",
      "\u001b[36m(train_lstm pid=57984)\u001b[0m   _log_deprecation_warning(\u001b[32m [repeated 4x across cluster]\u001b[0m\n",
      "\u001b[36m(train_lstm pid=57984)\u001b[0m C:\\Users\\justi\\anaconda3\\Lib\\site-packages\\ray\\tune\\trainable\\trainable_fn_utils.py:41: RayDeprecationWarning: The `Checkpoint` class should be imported from `ray.tune` when passing it to `ray.tune.report` in a Tune function. Please update your imports. See this issue for more context and migration options: https://github.com/ray-project/ray/issues/49454. Disable these warnings by setting the environment variable: RAY_TRAIN_ENABLE_V2_MIGRATION_WARNINGS=0\u001b[32m [repeated 2x across cluster]\u001b[0m\n",
      "\u001b[36m(train_lstm pid=59492)\u001b[0m Checkpoint successfully created at: Checkpoint(filesystem=local, path=E:/datasets/ray_results/lstm_experiment/train_lstm_e68fe_00009_9_2025-05-14_23-22-59/checkpoint_000006)\u001b[32m [repeated 19x across cluster]\u001b[0m\n"
     ]
    },
    {
     "name": "stdout",
     "output_type": "stream",
     "text": [
      "\u001b[36m(train_lstm pid=58096)\u001b[0m Epoch 70: loss = 0.013584\u001b[32m [repeated 19x across cluster]\u001b[0m\n"
     ]
    },
    {
     "name": "stderr",
     "output_type": "stream",
     "text": [
      "\u001b[36m(train_lstm pid=59428)\u001b[0m C:\\Users\\justi\\anaconda3\\Lib\\site-packages\\ray\\train\\_internal\\session.py:772: RayDeprecationWarning: `ray.train.report` should be switched to `ray.tune.report` when running in a function passed to Ray Tune. This will be an error in the future. See this issue for more context: https://github.com/ray-project/ray/issues/49454\u001b[32m [repeated 5x across cluster]\u001b[0m\n",
      "\u001b[36m(train_lstm pid=59428)\u001b[0m   _log_deprecation_warning(\u001b[32m [repeated 10x across cluster]\u001b[0m\n",
      "\u001b[36m(train_lstm pid=59428)\u001b[0m C:\\Users\\justi\\anaconda3\\Lib\\site-packages\\ray\\tune\\trainable\\trainable_fn_utils.py:41: RayDeprecationWarning: The `Checkpoint` class should be imported from `ray.tune` when passing it to `ray.tune.report` in a Tune function. Please update your imports. See this issue for more context and migration options: https://github.com/ray-project/ray/issues/49454. Disable these warnings by setting the environment variable: RAY_TRAIN_ENABLE_V2_MIGRATION_WARNINGS=0\u001b[32m [repeated 5x across cluster]\u001b[0m\n",
      "\u001b[36m(train_lstm pid=41456)\u001b[0m Checkpoint successfully created at: Checkpoint(filesystem=local, path=E:/datasets/ray_results/lstm_experiment/train_lstm_e68fe_00012_12_2025-05-14_23-22-59/checkpoint_000002)\u001b[32m [repeated 31x across cluster]\u001b[0m\n"
     ]
    },
    {
     "name": "stdout",
     "output_type": "stream",
     "text": [
      "\u001b[36m(train_lstm pid=41456)\u001b[0m Epoch 20: loss = 0.024915\u001b[32m [repeated 30x across cluster]\u001b[0m\n",
      "\u001b[36m(train_lstm pid=38112)\u001b[0m Epoch 80: loss = 0.011089\u001b[32m [repeated 44x across cluster]\u001b[0m\n"
     ]
    },
    {
     "name": "stderr",
     "output_type": "stream",
     "text": [
      "\u001b[36m(train_lstm pid=38112)\u001b[0m Checkpoint successfully created at: Checkpoint(filesystem=local, path=E:/datasets/ray_results/lstm_experiment/train_lstm_e68fe_00015_15_2025-05-14_23-22-59/checkpoint_000008)\u001b[32m [repeated 44x across cluster]\u001b[0m\n"
     ]
    },
    {
     "name": "stdout",
     "output_type": "stream",
     "text": [
      "\u001b[36m(train_lstm pid=59492)\u001b[0m Epoch 230: loss = 0.000961\u001b[32m [repeated 42x across cluster]\u001b[0m\n"
     ]
    },
    {
     "name": "stderr",
     "output_type": "stream",
     "text": [
      "\u001b[36m(train_lstm pid=59492)\u001b[0m Checkpoint successfully created at: Checkpoint(filesystem=local, path=E:/datasets/ray_results/lstm_experiment/train_lstm_e68fe_00009_9_2025-05-14_23-22-59/checkpoint_000023)\u001b[32m [repeated 42x across cluster]\u001b[0m\n",
      "\u001b[36m(train_lstm pid=57984)\u001b[0m Checkpoint successfully created at: Checkpoint(filesystem=local, path=E:/datasets/ray_results/lstm_experiment/train_lstm_e68fe_00010_10_2025-05-14_23-22-59/checkpoint_000028)\u001b[32m [repeated 46x across cluster]\u001b[0m\n"
     ]
    },
    {
     "name": "stdout",
     "output_type": "stream",
     "text": [
      "\u001b[36m(train_lstm pid=57984)\u001b[0m Epoch 280: loss = 0.000555\u001b[32m [repeated 46x across cluster]\u001b[0m\n"
     ]
    },
    {
     "name": "stderr",
     "output_type": "stream",
     "text": [
      "\u001b[36m(train_lstm pid=59428)\u001b[0m Checkpoint successfully created at: Checkpoint(filesystem=local, path=E:/datasets/ray_results/lstm_experiment/train_lstm_e68fe_00014_14_2025-05-14_23-22-59/checkpoint_000023)\u001b[32m [repeated 43x across cluster]\u001b[0m\n"
     ]
    },
    {
     "name": "stdout",
     "output_type": "stream",
     "text": [
      "\u001b[36m(train_lstm pid=59428)\u001b[0m Epoch 230: loss = 0.000961\u001b[32m [repeated 43x across cluster]\u001b[0m\n"
     ]
    },
    {
     "name": "stderr",
     "output_type": "stream",
     "text": [
      "\u001b[36m(train_lstm pid=59492)\u001b[0m Checkpoint successfully created at: Checkpoint(filesystem=local, path=E:/datasets/ray_results/lstm_experiment/train_lstm_e68fe_00009_9_2025-05-14_23-22-59/checkpoint_000039)\u001b[32m [repeated 41x across cluster]\u001b[0m\n"
     ]
    },
    {
     "name": "stdout",
     "output_type": "stream",
     "text": [
      "\u001b[36m(train_lstm pid=59492)\u001b[0m Epoch 390: loss = 0.000557\u001b[32m [repeated 41x across cluster]\u001b[0m\n",
      "\u001b[36m(train_lstm pid=32456)\u001b[0m Epoch 350: loss = 0.000596\u001b[32m [repeated 45x across cluster]\u001b[0m\n"
     ]
    },
    {
     "name": "stderr",
     "output_type": "stream",
     "text": [
      "\u001b[36m(train_lstm pid=32456)\u001b[0m Checkpoint successfully created at: Checkpoint(filesystem=local, path=E:/datasets/ray_results/lstm_experiment/train_lstm_e68fe_00013_13_2025-05-14_23-22-59/checkpoint_000035)\u001b[32m [repeated 45x across cluster]\u001b[0m\n",
      "\u001b[36m(train_lstm pid=59428)\u001b[0m Checkpoint successfully created at: Checkpoint(filesystem=local, path=E:/datasets/ray_results/lstm_experiment/train_lstm_e68fe_00014_14_2025-05-14_23-22-59/checkpoint_000039)\u001b[32m [repeated 43x across cluster]\u001b[0m\n"
     ]
    },
    {
     "name": "stdout",
     "output_type": "stream",
     "text": [
      "\u001b[36m(train_lstm pid=59428)\u001b[0m Epoch 390: loss = 0.000557\u001b[32m [repeated 43x across cluster]\u001b[0m\n"
     ]
    },
    {
     "name": "stderr",
     "output_type": "stream",
     "text": [
      "\u001b[36m(train_lstm pid=60152)\u001b[0m Checkpoint successfully created at: Checkpoint(filesystem=local, path=E:/datasets/ray_results/lstm_experiment/train_lstm_e68fe_00011_11_2025-05-14_23-22-59/checkpoint_000046)\u001b[32m [repeated 42x across cluster]\u001b[0m\n"
     ]
    },
    {
     "name": "stdout",
     "output_type": "stream",
     "text": [
      "\u001b[36m(train_lstm pid=60152)\u001b[0m Epoch 460: loss = 0.000471\u001b[32m [repeated 42x across cluster]\u001b[0m\n",
      "\u001b[36m(train_lstm pid=58096)\u001b[0m Epoch 610: loss = 0.000331\u001b[32m [repeated 44x across cluster]\u001b[0m\n"
     ]
    },
    {
     "name": "stderr",
     "output_type": "stream",
     "text": [
      "\u001b[36m(train_lstm pid=58096)\u001b[0m Checkpoint successfully created at: Checkpoint(filesystem=local, path=E:/datasets/ray_results/lstm_experiment/train_lstm_e68fe_00008_8_2025-05-14_23-22-59/checkpoint_000061)\u001b[32m [repeated 44x across cluster]\u001b[0m\n"
     ]
    },
    {
     "name": "stdout",
     "output_type": "stream",
     "text": [
      "\u001b[36m(train_lstm pid=38112)\u001b[0m Epoch 560: loss = 0.000653\u001b[32m [repeated 41x across cluster]\u001b[0m\n"
     ]
    },
    {
     "name": "stderr",
     "output_type": "stream",
     "text": [
      "\u001b[36m(train_lstm pid=38112)\u001b[0m Checkpoint successfully created at: Checkpoint(filesystem=local, path=E:/datasets/ray_results/lstm_experiment/train_lstm_e68fe_00015_15_2025-05-14_23-22-59/checkpoint_000056)\u001b[32m [repeated 41x across cluster]\u001b[0m\n"
     ]
    },
    {
     "name": "stdout",
     "output_type": "stream",
     "text": [
      "\u001b[36m(train_lstm pid=59428)\u001b[0m Epoch 600: loss = 0.000395\u001b[32m [repeated 44x across cluster]\u001b[0m\n"
     ]
    },
    {
     "name": "stderr",
     "output_type": "stream",
     "text": [
      "\u001b[36m(train_lstm pid=59428)\u001b[0m Checkpoint successfully created at: Checkpoint(filesystem=local, path=E:/datasets/ray_results/lstm_experiment/train_lstm_e68fe_00014_14_2025-05-14_23-22-59/checkpoint_000060)\u001b[32m [repeated 44x across cluster]\u001b[0m\n",
      "\u001b[36m(train_lstm pid=57984)\u001b[0m Checkpoint successfully created at: Checkpoint(filesystem=local, path=E:/datasets/ray_results/lstm_experiment/train_lstm_e68fe_00010_10_2025-05-14_23-22-59/checkpoint_000077)\u001b[32m [repeated 45x across cluster]\u001b[0m\n"
     ]
    },
    {
     "name": "stdout",
     "output_type": "stream",
     "text": [
      "\u001b[36m(train_lstm pid=57984)\u001b[0m Epoch 770: loss = 0.000422\u001b[32m [repeated 45x across cluster]\u001b[0m\n"
     ]
    },
    {
     "name": "stderr",
     "output_type": "stream",
     "text": [
      "\u001b[36m(train_lstm pid=59428)\u001b[0m Checkpoint successfully created at: Checkpoint(filesystem=local, path=E:/datasets/ray_results/lstm_experiment/train_lstm_e68fe_00014_14_2025-05-14_23-22-59/checkpoint_000071)\u001b[32m [repeated 34x across cluster]\u001b[0m\n"
     ]
    },
    {
     "name": "stdout",
     "output_type": "stream",
     "text": [
      "\u001b[36m(train_lstm pid=59428)\u001b[0m Epoch 710: loss = 0.000455\u001b[32m [repeated 34x across cluster]\u001b[0m\n"
     ]
    },
    {
     "name": "stderr",
     "output_type": "stream",
     "text": [
      "\u001b[36m(train_lstm pid=59428)\u001b[0m Checkpoint successfully created at: Checkpoint(filesystem=local, path=E:/datasets/ray_results/lstm_experiment/train_lstm_e68fe_00014_14_2025-05-14_23-22-59/checkpoint_000077)\u001b[32m [repeated 29x across cluster]\u001b[0m\n"
     ]
    },
    {
     "name": "stdout",
     "output_type": "stream",
     "text": [
      "\u001b[36m(train_lstm pid=59428)\u001b[0m Epoch 770: loss = 0.000422\u001b[32m [repeated 29x across cluster]\u001b[0m\n"
     ]
    },
    {
     "name": "stderr",
     "output_type": "stream",
     "text": [
      "\u001b[36m(train_lstm pid=58024)\u001b[0m C:\\Users\\justi\\anaconda3\\Lib\\site-packages\\ray\\train\\_internal\\session.py:772: RayDeprecationWarning: `ray.train.report` should be switched to `ray.tune.report` when running in a function passed to Ray Tune. This will be an error in the future. See this issue for more context: https://github.com/ray-project/ray/issues/49454\n",
      "\u001b[36m(train_lstm pid=58024)\u001b[0m   _log_deprecation_warning(\n",
      "\u001b[36m(train_lstm pid=58024)\u001b[0m C:\\Users\\justi\\anaconda3\\Lib\\site-packages\\ray\\tune\\trainable\\trainable_fn_utils.py:41: RayDeprecationWarning: The `Checkpoint` class should be imported from `ray.tune` when passing it to `ray.tune.report` in a Tune function. Please update your imports. See this issue for more context and migration options: https://github.com/ray-project/ray/issues/49454. Disable these warnings by setting the environment variable: RAY_TRAIN_ENABLE_V2_MIGRATION_WARNINGS=0\n",
      "\u001b[36m(train_lstm pid=58024)\u001b[0m   _log_deprecation_warning(\n",
      "\u001b[36m(train_lstm pid=59428)\u001b[0m Checkpoint successfully created at: Checkpoint(filesystem=local, path=E:/datasets/ray_results/lstm_experiment/train_lstm_e68fe_00014_14_2025-05-14_23-22-59/checkpoint_000079)\u001b[32m [repeated 6x across cluster]\u001b[0m\n"
     ]
    },
    {
     "name": "stdout",
     "output_type": "stream",
     "text": [
      "\u001b[36m(train_lstm pid=58024)\u001b[0m Epoch 0: loss = 0.137683\u001b[32m [repeated 7x across cluster]\u001b[0m\n"
     ]
    },
    {
     "name": "stderr",
     "output_type": "stream",
     "text": [
      "\u001b[36m(train_lstm pid=58876)\u001b[0m C:\\Users\\justi\\anaconda3\\Lib\\site-packages\\ray\\train\\_internal\\session.py:772: RayDeprecationWarning: `ray.train.report` should be switched to `ray.tune.report` when running in a function passed to Ray Tune. This will be an error in the future. See this issue for more context: https://github.com/ray-project/ray/issues/49454\u001b[32m [repeated 2x across cluster]\u001b[0m\n",
      "\u001b[36m(train_lstm pid=58876)\u001b[0m   _log_deprecation_warning(\u001b[32m [repeated 4x across cluster]\u001b[0m\n",
      "\u001b[36m(train_lstm pid=58876)\u001b[0m C:\\Users\\justi\\anaconda3\\Lib\\site-packages\\ray\\tune\\trainable\\trainable_fn_utils.py:41: RayDeprecationWarning: The `Checkpoint` class should be imported from `ray.tune` when passing it to `ray.tune.report` in a Tune function. Please update your imports. See this issue for more context and migration options: https://github.com/ray-project/ray/issues/49454. Disable these warnings by setting the environment variable: RAY_TRAIN_ENABLE_V2_MIGRATION_WARNINGS=0\u001b[32m [repeated 2x across cluster]\u001b[0m\n",
      "\u001b[36m(train_lstm pid=58876)\u001b[0m Checkpoint successfully created at: Checkpoint(filesystem=local, path=E:/datasets/ray_results/lstm_experiment/train_lstm_e68fe_00017_17_2025-05-14_23-22-59/checkpoint_000005)\u001b[32m [repeated 19x across cluster]\u001b[0m\n"
     ]
    },
    {
     "name": "stdout",
     "output_type": "stream",
     "text": [
      "\u001b[36m(train_lstm pid=58876)\u001b[0m Epoch 50: loss = 0.020813\u001b[32m [repeated 18x across cluster]\u001b[0m\n",
      "\u001b[36m(train_lstm pid=58164)\u001b[0m Epoch 30: loss = 0.023607\u001b[32m [repeated 30x across cluster]\u001b[0m\n"
     ]
    },
    {
     "name": "stderr",
     "output_type": "stream",
     "text": [
      "\u001b[36m(train_lstm pid=45964)\u001b[0m C:\\Users\\justi\\anaconda3\\Lib\\site-packages\\ray\\train\\_internal\\session.py:772: RayDeprecationWarning: `ray.train.report` should be switched to `ray.tune.report` when running in a function passed to Ray Tune. This will be an error in the future. See this issue for more context: https://github.com/ray-project/ray/issues/49454\u001b[32m [repeated 4x across cluster]\u001b[0m\n",
      "\u001b[36m(train_lstm pid=45964)\u001b[0m   _log_deprecation_warning(\u001b[32m [repeated 8x across cluster]\u001b[0m\n",
      "\u001b[36m(train_lstm pid=45964)\u001b[0m C:\\Users\\justi\\anaconda3\\Lib\\site-packages\\ray\\tune\\trainable\\trainable_fn_utils.py:41: RayDeprecationWarning: The `Checkpoint` class should be imported from `ray.tune` when passing it to `ray.tune.report` in a Tune function. Please update your imports. See this issue for more context and migration options: https://github.com/ray-project/ray/issues/49454. Disable these warnings by setting the environment variable: RAY_TRAIN_ENABLE_V2_MIGRATION_WARNINGS=0\u001b[32m [repeated 4x across cluster]\u001b[0m\n",
      "\u001b[36m(train_lstm pid=52460)\u001b[0m Checkpoint successfully created at: Checkpoint(filesystem=local, path=E:/datasets/ray_results/lstm_experiment/train_lstm_e68fe_00018_18_2025-05-14_23-22-59/checkpoint_000012)\u001b[32m [repeated 31x across cluster]\u001b[0m\n"
     ]
    },
    {
     "name": "stdout",
     "output_type": "stream",
     "text": [
      "\u001b[36m(train_lstm pid=58620)\u001b[0m Epoch 80: loss = 0.011089\u001b[32m [repeated 39x across cluster]\u001b[0m\n"
     ]
    },
    {
     "name": "stderr",
     "output_type": "stream",
     "text": [
      "\u001b[36m(train_lstm pid=58876)\u001b[0m Checkpoint successfully created at: Checkpoint(filesystem=local, path=E:/datasets/ray_results/lstm_experiment/train_lstm_e68fe_00017_17_2025-05-14_23-22-59/checkpoint_000017)\u001b[32m [repeated 39x across cluster]\u001b[0m\n",
      "\u001b[36m(train_lstm pid=58380)\u001b[0m C:\\Users\\justi\\anaconda3\\Lib\\site-packages\\ray\\train\\_internal\\session.py:772: RayDeprecationWarning: `ray.train.report` should be switched to `ray.tune.report` when running in a function passed to Ray Tune. This will be an error in the future. See this issue for more context: https://github.com/ray-project/ray/issues/49454\n",
      "\u001b[36m(train_lstm pid=58380)\u001b[0m   _log_deprecation_warning(\n",
      "\u001b[36m(train_lstm pid=58380)\u001b[0m C:\\Users\\justi\\anaconda3\\Lib\\site-packages\\ray\\tune\\trainable\\trainable_fn_utils.py:41: RayDeprecationWarning: The `Checkpoint` class should be imported from `ray.tune` when passing it to `ray.tune.report` in a Tune function. Please update your imports. See this issue for more context and migration options: https://github.com/ray-project/ray/issues/49454. Disable these warnings by setting the environment variable: RAY_TRAIN_ENABLE_V2_MIGRATION_WARNINGS=0\n",
      "\u001b[36m(train_lstm pid=58380)\u001b[0m   _log_deprecation_warning(\n",
      "\u001b[33m(raylet)\u001b[0m [2025-05-14 23:27:51,400 E 39848 59404] (raylet.exe) worker_pool.cc:581: Some workers of the worker process(59612) have not registered within the timeout. The process is still alive, probably it's hanging during start.\n"
     ]
    },
    {
     "name": "stdout",
     "output_type": "stream",
     "text": [
      "\u001b[36m(train_lstm pid=52460)\u001b[0m Epoch 230: loss = 0.000961\u001b[32m [repeated 41x across cluster]\u001b[0m\n"
     ]
    },
    {
     "name": "stderr",
     "output_type": "stream",
     "text": [
      "\u001b[36m(train_lstm pid=58164)\u001b[0m Checkpoint successfully created at: Checkpoint(filesystem=local, path=E:/datasets/ray_results/lstm_experiment/train_lstm_e68fe_00019_19_2025-05-14_23-22-59/checkpoint_000014)\u001b[32m [repeated 41x across cluster]\u001b[0m\n"
     ]
    },
    {
     "name": "stdout",
     "output_type": "stream",
     "text": [
      "\u001b[36m(train_lstm pid=45964)\u001b[0m Epoch 180: loss = 0.001096\u001b[32m [repeated 43x across cluster]\u001b[0m\n"
     ]
    },
    {
     "name": "stderr",
     "output_type": "stream",
     "text": [
      "\u001b[36m(train_lstm pid=44468)\u001b[0m Checkpoint successfully created at: Checkpoint(filesystem=local, path=E:/datasets/ray_results/lstm_experiment/train_lstm_e68fe_00022_22_2025-05-14_23-22-59/checkpoint_000019)\u001b[32m [repeated 43x across cluster]\u001b[0m\n"
     ]
    },
    {
     "name": "stdout",
     "output_type": "stream",
     "text": [
      "\u001b[36m(train_lstm pid=58876)\u001b[0m Epoch 330: loss = 0.000507\u001b[32m [repeated 42x across cluster]\u001b[0m\n"
     ]
    },
    {
     "name": "stderr",
     "output_type": "stream",
     "text": [
      "\u001b[36m(train_lstm pid=58876)\u001b[0m Checkpoint successfully created at: Checkpoint(filesystem=local, path=E:/datasets/ray_results/lstm_experiment/train_lstm_e68fe_00017_17_2025-05-14_23-22-59/checkpoint_000033)\u001b[32m [repeated 41x across cluster]\u001b[0m\n",
      "\u001b[36m(train_lstm pid=58164)\u001b[0m Checkpoint successfully created at: Checkpoint(filesystem=local, path=E:/datasets/ray_results/lstm_experiment/train_lstm_e68fe_00019_19_2025-05-14_23-22-59/checkpoint_000030)\u001b[32m [repeated 44x across cluster]\u001b[0m\n"
     ]
    },
    {
     "name": "stdout",
     "output_type": "stream",
     "text": [
      "\u001b[36m(train_lstm pid=58164)\u001b[0m Epoch 300: loss = 0.000877\u001b[32m [repeated 44x across cluster]\u001b[0m\n"
     ]
    },
    {
     "name": "stderr",
     "output_type": "stream",
     "text": [
      "\u001b[36m(train_lstm pid=52460)\u001b[0m Checkpoint successfully created at: Checkpoint(filesystem=local, path=E:/datasets/ray_results/lstm_experiment/train_lstm_e68fe_00018_18_2025-05-14_23-22-59/checkpoint_000045)\u001b[32m [repeated 44x across cluster]\u001b[0m\n"
     ]
    },
    {
     "name": "stdout",
     "output_type": "stream",
     "text": [
      "\u001b[36m(train_lstm pid=52460)\u001b[0m Epoch 450: loss = 0.000486\u001b[32m [repeated 44x across cluster]\u001b[0m\n"
     ]
    },
    {
     "name": "stderr",
     "output_type": "stream",
     "text": [
      "\u001b[36m(train_lstm pid=58164)\u001b[0m Checkpoint successfully created at: Checkpoint(filesystem=local, path=E:/datasets/ray_results/lstm_experiment/train_lstm_e68fe_00019_19_2025-05-14_23-22-59/checkpoint_000040)\u001b[32m [repeated 39x across cluster]\u001b[0m\n"
     ]
    },
    {
     "name": "stdout",
     "output_type": "stream",
     "text": [
      "\u001b[36m(train_lstm pid=58164)\u001b[0m Epoch 400: loss = 0.000523\u001b[32m [repeated 39x across cluster]\u001b[0m\n",
      "\u001b[36m(train_lstm pid=45964)\u001b[0m Epoch 440: loss = 0.000641\u001b[32m [repeated 42x across cluster]\u001b[0m\n"
     ]
    },
    {
     "name": "stderr",
     "output_type": "stream",
     "text": [
      "\u001b[36m(train_lstm pid=45964)\u001b[0m Checkpoint successfully created at: Checkpoint(filesystem=local, path=E:/datasets/ray_results/lstm_experiment/train_lstm_e68fe_00021_21_2025-05-14_23-22-59/checkpoint_000044)\u001b[32m [repeated 42x across cluster]\u001b[0m\n",
      "\u001b[36m(train_lstm pid=58164)\u001b[0m Checkpoint successfully created at: Checkpoint(filesystem=local, path=E:/datasets/ray_results/lstm_experiment/train_lstm_e68fe_00019_19_2025-05-14_23-22-59/checkpoint_000050)\u001b[32m [repeated 42x across cluster]\u001b[0m\n"
     ]
    },
    {
     "name": "stdout",
     "output_type": "stream",
     "text": [
      "\u001b[36m(train_lstm pid=58164)\u001b[0m Epoch 500: loss = 0.000383\u001b[32m [repeated 42x across cluster]\u001b[0m\n"
     ]
    },
    {
     "name": "stderr",
     "output_type": "stream",
     "text": [
      "\u001b[36m(train_lstm pid=58876)\u001b[0m Checkpoint successfully created at: Checkpoint(filesystem=local, path=E:/datasets/ray_results/lstm_experiment/train_lstm_e68fe_00017_17_2025-05-14_23-22-59/checkpoint_000065)\u001b[32m [repeated 43x across cluster]\u001b[0m\n"
     ]
    },
    {
     "name": "stdout",
     "output_type": "stream",
     "text": [
      "\u001b[36m(train_lstm pid=58876)\u001b[0m Epoch 650: loss = 0.000321\u001b[32m [repeated 43x across cluster]\u001b[0m\n"
     ]
    },
    {
     "name": "stderr",
     "output_type": "stream",
     "text": [
      "\u001b[36m(train_lstm pid=58164)\u001b[0m Checkpoint successfully created at: Checkpoint(filesystem=local, path=E:/datasets/ray_results/lstm_experiment/train_lstm_e68fe_00019_19_2025-05-14_23-22-59/checkpoint_000061)\u001b[32m [repeated 45x across cluster]\u001b[0m\n"
     ]
    },
    {
     "name": "stdout",
     "output_type": "stream",
     "text": [
      "\u001b[36m(train_lstm pid=58164)\u001b[0m Epoch 610: loss = 0.000331\u001b[32m [repeated 45x across cluster]\u001b[0m\n"
     ]
    },
    {
     "name": "stderr",
     "output_type": "stream",
     "text": [
      "\u001b[36m(train_lstm pid=44468)\u001b[0m Checkpoint successfully created at: Checkpoint(filesystem=local, path=E:/datasets/ray_results/lstm_experiment/train_lstm_e68fe_00022_22_2025-05-14_23-22-59/checkpoint_000068)\u001b[32m [repeated 45x across cluster]\u001b[0m\n"
     ]
    },
    {
     "name": "stdout",
     "output_type": "stream",
     "text": [
      "\u001b[36m(train_lstm pid=58024)\u001b[0m Epoch 780: loss = 0.000374\u001b[32m [repeated 46x across cluster]\u001b[0m\n"
     ]
    },
    {
     "name": "stderr",
     "output_type": "stream",
     "text": [
      "\u001b[36m(train_lstm pid=58164)\u001b[0m Checkpoint successfully created at: Checkpoint(filesystem=local, path=E:/datasets/ray_results/lstm_experiment/train_lstm_e68fe_00019_19_2025-05-14_23-22-59/checkpoint_000072)\u001b[32m [repeated 35x across cluster]\u001b[0m\n"
     ]
    },
    {
     "name": "stdout",
     "output_type": "stream",
     "text": [
      "\u001b[36m(train_lstm pid=44468)\u001b[0m Epoch 740: loss = 0.000545\u001b[32m [repeated 37x across cluster]\u001b[0m\n"
     ]
    },
    {
     "name": "stderr",
     "output_type": "stream",
     "text": [
      "\u001b[36m(train_lstm pid=58380)\u001b[0m Checkpoint successfully created at: Checkpoint(filesystem=local, path=E:/datasets/ray_results/lstm_experiment/train_lstm_e68fe_00023_23_2025-05-14_23-22-59/checkpoint_000068)\u001b[32m [repeated 32x across cluster]\u001b[0m\n"
     ]
    },
    {
     "name": "stdout",
     "output_type": "stream",
     "text": [
      "\u001b[36m(train_lstm pid=58620)\u001b[0m Epoch 790: loss = 0.000433\u001b[32m [repeated 30x across cluster]\u001b[0m\n"
     ]
    },
    {
     "name": "stderr",
     "output_type": "stream",
     "text": [
      "\u001b[36m(train_lstm pid=58380)\u001b[0m Checkpoint successfully created at: Checkpoint(filesystem=local, path=E:/datasets/ray_results/lstm_experiment/train_lstm_e68fe_00023_23_2025-05-14_23-22-59/checkpoint_000075)\u001b[32m [repeated 11x across cluster]\u001b[0m\n"
     ]
    },
    {
     "name": "stdout",
     "output_type": "stream",
     "text": [
      "\u001b[36m(train_lstm pid=58380)\u001b[0m Epoch 750: loss = 0.000344\u001b[32m [repeated 10x across cluster]\u001b[0m\n"
     ]
    },
    {
     "name": "stderr",
     "output_type": "stream",
     "text": [
      "\u001b[36m(train_lstm pid=59544)\u001b[0m C:\\Users\\justi\\anaconda3\\Lib\\site-packages\\ray\\train\\_internal\\session.py:772: RayDeprecationWarning: `ray.train.report` should be switched to `ray.tune.report` when running in a function passed to Ray Tune. This will be an error in the future. See this issue for more context: https://github.com/ray-project/ray/issues/49454\n",
      "\u001b[36m(train_lstm pid=59544)\u001b[0m   _log_deprecation_warning(\n",
      "\u001b[36m(train_lstm pid=59544)\u001b[0m C:\\Users\\justi\\anaconda3\\Lib\\site-packages\\ray\\tune\\trainable\\trainable_fn_utils.py:41: RayDeprecationWarning: The `Checkpoint` class should be imported from `ray.tune` when passing it to `ray.tune.report` in a Tune function. Please update your imports. See this issue for more context and migration options: https://github.com/ray-project/ray/issues/49454. Disable these warnings by setting the environment variable: RAY_TRAIN_ENABLE_V2_MIGRATION_WARNINGS=0\n",
      "\u001b[36m(train_lstm pid=59544)\u001b[0m   _log_deprecation_warning(\n",
      "\u001b[36m(train_lstm pid=59544)\u001b[0m Checkpoint successfully created at: Checkpoint(filesystem=local, path=E:/datasets/ray_results/lstm_experiment/train_lstm_e68fe_00025_25_2025-05-14_23-22-59/checkpoint_000000)\u001b[32m [repeated 5x across cluster]\u001b[0m\n"
     ]
    },
    {
     "name": "stdout",
     "output_type": "stream",
     "text": [
      "\u001b[36m(train_lstm pid=59544)\u001b[0m Epoch 0: loss = 0.137683\u001b[32m [repeated 5x across cluster]\u001b[0m\n"
     ]
    },
    {
     "name": "stderr",
     "output_type": "stream",
     "text": [
      "\u001b[36m(train_lstm pid=60328)\u001b[0m C:\\Users\\justi\\anaconda3\\Lib\\site-packages\\ray\\train\\_internal\\session.py:772: RayDeprecationWarning: `ray.train.report` should be switched to `ray.tune.report` when running in a function passed to Ray Tune. This will be an error in the future. See this issue for more context: https://github.com/ray-project/ray/issues/49454\u001b[32m [repeated 6x across cluster]\u001b[0m\n",
      "\u001b[36m(train_lstm pid=60328)\u001b[0m   _log_deprecation_warning(\u001b[32m [repeated 12x across cluster]\u001b[0m\n",
      "\u001b[36m(train_lstm pid=60328)\u001b[0m C:\\Users\\justi\\anaconda3\\Lib\\site-packages\\ray\\tune\\trainable\\trainable_fn_utils.py:41: RayDeprecationWarning: The `Checkpoint` class should be imported from `ray.tune` when passing it to `ray.tune.report` in a Tune function. Please update your imports. See this issue for more context and migration options: https://github.com/ray-project/ray/issues/49454. Disable these warnings by setting the environment variable: RAY_TRAIN_ENABLE_V2_MIGRATION_WARNINGS=0\u001b[32m [repeated 6x across cluster]\u001b[0m\n",
      "\u001b[36m(train_lstm pid=59544)\u001b[0m Checkpoint successfully created at: Checkpoint(filesystem=local, path=E:/datasets/ray_results/lstm_experiment/train_lstm_e68fe_00025_25_2025-05-14_23-22-59/checkpoint_000006)\u001b[32m [repeated 34x across cluster]\u001b[0m\n"
     ]
    },
    {
     "name": "stdout",
     "output_type": "stream",
     "text": [
      "\u001b[36m(train_lstm pid=59544)\u001b[0m Epoch 60: loss = 0.019696\u001b[32m [repeated 34x across cluster]\u001b[0m\n"
     ]
    },
    {
     "name": "stderr",
     "output_type": "stream",
     "text": [
      "\u001b[36m(train_lstm pid=59168)\u001b[0m Checkpoint successfully created at: Checkpoint(filesystem=local, path=E:/datasets/ray_results/lstm_experiment/train_lstm_e68fe_00028_28_2025-05-14_23-22-59/checkpoint_000009)\u001b[32m [repeated 38x across cluster]\u001b[0m\n"
     ]
    },
    {
     "name": "stdout",
     "output_type": "stream",
     "text": [
      "\u001b[36m(train_lstm pid=59168)\u001b[0m Epoch 90: loss = 0.006982\u001b[32m [repeated 38x across cluster]\u001b[0m\n"
     ]
    },
    {
     "name": "stderr",
     "output_type": "stream",
     "text": [
      "\u001b[36m(train_lstm pid=58060)\u001b[0m Checkpoint successfully created at: Checkpoint(filesystem=local, path=E:/datasets/ray_results/lstm_experiment/train_lstm_e68fe_00029_29_2025-05-14_23-22-59/checkpoint_000015)\u001b[32m [repeated 38x across cluster]\u001b[0m\n"
     ]
    },
    {
     "name": "stdout",
     "output_type": "stream",
     "text": [
      "\u001b[36m(train_lstm pid=59544)\u001b[0m Epoch 170: loss = 0.001462\u001b[32m [repeated 39x across cluster]\u001b[0m\n"
     ]
    },
    {
     "name": "stderr",
     "output_type": "stream",
     "text": [
      "\u001b[36m(train_lstm pid=59744)\u001b[0m C:\\Users\\justi\\anaconda3\\Lib\\site-packages\\ray\\train\\_internal\\session.py:772: RayDeprecationWarning: `ray.train.report` should be switched to `ray.tune.report` when running in a function passed to Ray Tune. This will be an error in the future. See this issue for more context: https://github.com/ray-project/ray/issues/49454\n",
      "\u001b[36m(train_lstm pid=59744)\u001b[0m   _log_deprecation_warning(\n",
      "\u001b[36m(train_lstm pid=59744)\u001b[0m C:\\Users\\justi\\anaconda3\\Lib\\site-packages\\ray\\tune\\trainable\\trainable_fn_utils.py:41: RayDeprecationWarning: The `Checkpoint` class should be imported from `ray.tune` when passing it to `ray.tune.report` in a Tune function. Please update your imports. See this issue for more context and migration options: https://github.com/ray-project/ray/issues/49454. Disable these warnings by setting the environment variable: RAY_TRAIN_ENABLE_V2_MIGRATION_WARNINGS=0\n",
      "\u001b[36m(train_lstm pid=59744)\u001b[0m   _log_deprecation_warning(\n",
      "\u001b[36m(train_lstm pid=59744)\u001b[0m Checkpoint successfully created at: Checkpoint(filesystem=local, path=E:/datasets/ray_results/lstm_experiment/train_lstm_e68fe_00031_31_2025-05-14_23-22-59/checkpoint_000004)\u001b[32m [repeated 43x across cluster]\u001b[0m\n"
     ]
    },
    {
     "name": "stdout",
     "output_type": "stream",
     "text": [
      "\u001b[36m(train_lstm pid=50492)\u001b[0m Epoch 210: loss = 0.000853\u001b[32m [repeated 45x across cluster]\u001b[0m\n"
     ]
    },
    {
     "name": "stderr",
     "output_type": "stream",
     "text": [
      "\u001b[36m(train_lstm pid=59040)\u001b[0m Checkpoint successfully created at: Checkpoint(filesystem=local, path=E:/datasets/ray_results/lstm_experiment/train_lstm_e68fe_00026_26_2025-05-14_23-22-59/checkpoint_000028)\u001b[32m [repeated 43x across cluster]\u001b[0m\n"
     ]
    },
    {
     "name": "stdout",
     "output_type": "stream",
     "text": [
      "\u001b[36m(train_lstm pid=59744)\u001b[0m Epoch 100: loss = 0.006836\u001b[32m [repeated 45x across cluster]\u001b[0m\n"
     ]
    },
    {
     "name": "stderr",
     "output_type": "stream",
     "text": [
      "\u001b[36m(train_lstm pid=60328)\u001b[0m Checkpoint successfully created at: Checkpoint(filesystem=local, path=E:/datasets/ray_results/lstm_experiment/train_lstm_e68fe_00030_30_2025-05-14_23-22-59/checkpoint_000029)\u001b[32m [repeated 44x across cluster]\u001b[0m\n"
     ]
    },
    {
     "name": "stdout",
     "output_type": "stream",
     "text": [
      "\u001b[36m(train_lstm pid=59040)\u001b[0m Epoch 340: loss = 0.000509\u001b[32m [repeated 43x across cluster]\u001b[0m\n"
     ]
    },
    {
     "name": "stderr",
     "output_type": "stream",
     "text": [
      "\u001b[36m(train_lstm pid=4044)\u001b[0m Checkpoint successfully created at: Checkpoint(filesystem=local, path=E:/datasets/ray_results/lstm_experiment/train_lstm_e68fe_00024_24_2025-05-14_23-22-59/checkpoint_000038)\u001b[32m [repeated 41x across cluster]\u001b[0m\n"
     ]
    },
    {
     "name": "stdout",
     "output_type": "stream",
     "text": [
      "\u001b[36m(train_lstm pid=50492)\u001b[0m Epoch 370: loss = 0.000476\u001b[32m [repeated 43x across cluster]\u001b[0m\n"
     ]
    },
    {
     "name": "stderr",
     "output_type": "stream",
     "text": [
      "\u001b[36m(train_lstm pid=4044)\u001b[0m Checkpoint successfully created at: Checkpoint(filesystem=local, path=E:/datasets/ray_results/lstm_experiment/train_lstm_e68fe_00024_24_2025-05-14_23-22-59/checkpoint_000043)\u001b[32m [repeated 45x across cluster]\u001b[0m\n"
     ]
    },
    {
     "name": "stdout",
     "output_type": "stream",
     "text": [
      "\u001b[36m(train_lstm pid=59544)\u001b[0m Epoch 440: loss = 0.000641\u001b[32m [repeated 41x across cluster]\u001b[0m\n"
     ]
    },
    {
     "name": "stderr",
     "output_type": "stream",
     "text": [
      "\u001b[36m(train_lstm pid=59544)\u001b[0m Checkpoint successfully created at: Checkpoint(filesystem=local, path=E:/datasets/ray_results/lstm_experiment/train_lstm_e68fe_00025_25_2025-05-14_23-22-59/checkpoint_000049)\u001b[32m [repeated 42x across cluster]\u001b[0m\n"
     ]
    },
    {
     "name": "stdout",
     "output_type": "stream",
     "text": [
      "\u001b[36m(train_lstm pid=4044)\u001b[0m Epoch 490: loss = 0.000524\u001b[32m [repeated 45x across cluster]\u001b[0m\n"
     ]
    },
    {
     "name": "stderr",
     "output_type": "stream",
     "text": [
      "\u001b[36m(train_lstm pid=60328)\u001b[0m Checkpoint successfully created at: Checkpoint(filesystem=local, path=E:/datasets/ray_results/lstm_experiment/train_lstm_e68fe_00030_30_2025-05-14_23-22-59/checkpoint_000051)\u001b[32m [repeated 44x across cluster]\u001b[0m\n"
     ]
    },
    {
     "name": "stdout",
     "output_type": "stream",
     "text": [
      "\u001b[36m(train_lstm pid=59544)\u001b[0m Epoch 550: loss = 0.000429\u001b[32m [repeated 43x across cluster]\u001b[0m\n"
     ]
    },
    {
     "name": "stderr",
     "output_type": "stream",
     "text": [
      "\u001b[36m(train_lstm pid=59544)\u001b[0m Checkpoint successfully created at: Checkpoint(filesystem=local, path=E:/datasets/ray_results/lstm_experiment/train_lstm_e68fe_00025_25_2025-05-14_23-22-59/checkpoint_000060)\u001b[32m [repeated 44x across cluster]\u001b[0m\n"
     ]
    },
    {
     "name": "stdout",
     "output_type": "stream",
     "text": [
      "\u001b[36m(train_lstm pid=4044)\u001b[0m Epoch 600: loss = 0.000395\u001b[32m [repeated 46x across cluster]\u001b[0m\n"
     ]
    },
    {
     "name": "stderr",
     "output_type": "stream",
     "text": [
      "\u001b[36m(train_lstm pid=4044)\u001b[0m Checkpoint successfully created at: Checkpoint(filesystem=local, path=E:/datasets/ray_results/lstm_experiment/train_lstm_e68fe_00024_24_2025-05-14_23-22-59/checkpoint_000065)\u001b[32m [repeated 46x across cluster]\u001b[0m\n"
     ]
    },
    {
     "name": "stdout",
     "output_type": "stream",
     "text": [
      "\u001b[36m(train_lstm pid=59544)\u001b[0m Epoch 660: loss = 0.000340\u001b[32m [repeated 43x across cluster]\u001b[0m\n"
     ]
    },
    {
     "name": "stderr",
     "output_type": "stream",
     "text": [
      "\u001b[36m(train_lstm pid=58060)\u001b[0m Checkpoint successfully created at: Checkpoint(filesystem=local, path=E:/datasets/ray_results/lstm_experiment/train_lstm_e68fe_00029_29_2025-05-14_23-22-59/checkpoint_000070)\u001b[32m [repeated 47x across cluster]\u001b[0m\n"
     ]
    },
    {
     "name": "stdout",
     "output_type": "stream",
     "text": [
      "\u001b[36m(train_lstm pid=59040)\u001b[0m Epoch 720: loss = 0.000397\u001b[32m [repeated 47x across cluster]\u001b[0m\n"
     ]
    },
    {
     "name": "stderr",
     "output_type": "stream",
     "text": [
      "\u001b[36m(train_lstm pid=59040)\u001b[0m Checkpoint successfully created at: Checkpoint(filesystem=local, path=E:/datasets/ray_results/lstm_experiment/train_lstm_e68fe_00026_26_2025-05-14_23-22-59/checkpoint_000077)\u001b[32m [repeated 43x across cluster]\u001b[0m\n"
     ]
    },
    {
     "name": "stdout",
     "output_type": "stream",
     "text": [
      "\u001b[36m(train_lstm pid=58060)\u001b[0m Epoch 760: loss = 0.000368\u001b[32m [repeated 44x across cluster]\u001b[0m\n"
     ]
    },
    {
     "name": "stderr",
     "output_type": "stream",
     "text": [
      "\u001b[36m(train_lstm pid=59744)\u001b[0m Checkpoint successfully created at: Checkpoint(filesystem=local, path=E:/datasets/ray_results/lstm_experiment/train_lstm_e68fe_00031_31_2025-05-14_23-22-59/checkpoint_000064)\u001b[32m [repeated 32x across cluster]\u001b[0m\n"
     ]
    },
    {
     "name": "stdout",
     "output_type": "stream",
     "text": [
      "\u001b[36m(train_lstm pid=59744)\u001b[0m Epoch 640: loss = 0.000374\u001b[32m [repeated 28x across cluster]\u001b[0m\n"
     ]
    },
    {
     "name": "stderr",
     "output_type": "stream",
     "text": [
      "\u001b[36m(train_lstm pid=59744)\u001b[0m Checkpoint successfully created at: Checkpoint(filesystem=local, path=E:/datasets/ray_results/lstm_experiment/train_lstm_e68fe_00031_31_2025-05-14_23-22-59/checkpoint_000071)\u001b[32m [repeated 7x across cluster]\u001b[0m\n"
     ]
    },
    {
     "name": "stdout",
     "output_type": "stream",
     "text": [
      "\u001b[36m(train_lstm pid=59744)\u001b[0m Epoch 710: loss = 0.000455\u001b[32m [repeated 7x across cluster]\u001b[0m\n"
     ]
    },
    {
     "name": "stderr",
     "output_type": "stream",
     "text": [
      "\u001b[36m(train_lstm pid=59744)\u001b[0m Checkpoint successfully created at: Checkpoint(filesystem=local, path=E:/datasets/ray_results/lstm_experiment/train_lstm_e68fe_00031_31_2025-05-14_23-22-59/checkpoint_000077)\u001b[32m [repeated 6x across cluster]\u001b[0m\n"
     ]
    },
    {
     "name": "stdout",
     "output_type": "stream",
     "text": [
      "\u001b[36m(train_lstm pid=59744)\u001b[0m Epoch 780: loss = 0.000374\u001b[32m [repeated 7x across cluster]\u001b[0m\n"
     ]
    },
    {
     "name": "stderr",
     "output_type": "stream",
     "text": [
      "\u001b[36m(train_lstm pid=59640)\u001b[0m C:\\Users\\justi\\anaconda3\\Lib\\site-packages\\ray\\train\\_internal\\session.py:772: RayDeprecationWarning: `ray.train.report` should be switched to `ray.tune.report` when running in a function passed to Ray Tune. This will be an error in the future. See this issue for more context: https://github.com/ray-project/ray/issues/49454\n",
      "\u001b[36m(train_lstm pid=59640)\u001b[0m   _log_deprecation_warning(\n",
      "\u001b[36m(train_lstm pid=59640)\u001b[0m C:\\Users\\justi\\anaconda3\\Lib\\site-packages\\ray\\tune\\trainable\\trainable_fn_utils.py:41: RayDeprecationWarning: The `Checkpoint` class should be imported from `ray.tune` when passing it to `ray.tune.report` in a Tune function. Please update your imports. See this issue for more context and migration options: https://github.com/ray-project/ray/issues/49454. Disable these warnings by setting the environment variable: RAY_TRAIN_ENABLE_V2_MIGRATION_WARNINGS=0\n",
      "\u001b[36m(train_lstm pid=59640)\u001b[0m   _log_deprecation_warning(\n",
      "\u001b[36m(train_lstm pid=59640)\u001b[0m Checkpoint successfully created at: Checkpoint(filesystem=local, path=E:/datasets/ray_results/lstm_experiment/train_lstm_e68fe_00034_34_2025-05-14_23-22-59/checkpoint_000000)\u001b[32m [repeated 3x across cluster]\u001b[0m\n"
     ]
    },
    {
     "name": "stdout",
     "output_type": "stream",
     "text": [
      "\u001b[36m(train_lstm pid=59640)\u001b[0m Epoch 0: loss = 0.137683\u001b[32m [repeated 2x across cluster]\u001b[0m\n"
     ]
    },
    {
     "name": "stderr",
     "output_type": "stream",
     "text": [
      "\u001b[36m(train_lstm pid=58032)\u001b[0m C:\\Users\\justi\\anaconda3\\Lib\\site-packages\\ray\\train\\_internal\\session.py:772: RayDeprecationWarning: `ray.train.report` should be switched to `ray.tune.report` when running in a function passed to Ray Tune. This will be an error in the future. See this issue for more context: https://github.com/ray-project/ray/issues/49454\u001b[32m [repeated 6x across cluster]\u001b[0m\n",
      "\u001b[36m(train_lstm pid=58032)\u001b[0m   _log_deprecation_warning(\u001b[32m [repeated 12x across cluster]\u001b[0m\n",
      "\u001b[36m(train_lstm pid=58032)\u001b[0m C:\\Users\\justi\\anaconda3\\Lib\\site-packages\\ray\\tune\\trainable\\trainable_fn_utils.py:41: RayDeprecationWarning: The `Checkpoint` class should be imported from `ray.tune` when passing it to `ray.tune.report` in a Tune function. Please update your imports. See this issue for more context and migration options: https://github.com/ray-project/ray/issues/49454. Disable these warnings by setting the environment variable: RAY_TRAIN_ENABLE_V2_MIGRATION_WARNINGS=0\u001b[32m [repeated 6x across cluster]\u001b[0m\n",
      "\u001b[36m(train_lstm pid=59640)\u001b[0m Checkpoint successfully created at: Checkpoint(filesystem=local, path=E:/datasets/ray_results/lstm_experiment/train_lstm_e68fe_00034_34_2025-05-14_23-22-59/checkpoint_000006)\u001b[32m [repeated 32x across cluster]\u001b[0m\n"
     ]
    },
    {
     "name": "stdout",
     "output_type": "stream",
     "text": [
      "\u001b[36m(train_lstm pid=59640)\u001b[0m Epoch 60: loss = 0.019696\u001b[32m [repeated 32x across cluster]\u001b[0m\n"
     ]
    },
    {
     "name": "stderr",
     "output_type": "stream",
     "text": [
      "\u001b[36m(train_lstm pid=56296)\u001b[0m Checkpoint successfully created at: Checkpoint(filesystem=local, path=E:/datasets/ray_results/lstm_experiment/train_lstm_e68fe_00036_36_2025-05-14_23-22-59/checkpoint_000009)\u001b[32m [repeated 40x across cluster]\u001b[0m\n"
     ]
    },
    {
     "name": "stdout",
     "output_type": "stream",
     "text": [
      "\u001b[36m(train_lstm pid=56296)\u001b[0m Epoch 90: loss = 0.006982\u001b[32m [repeated 40x across cluster]\u001b[0m\n"
     ]
    },
    {
     "name": "stderr",
     "output_type": "stream",
     "text": [
      "\u001b[36m(train_lstm pid=59692)\u001b[0m Checkpoint successfully created at: Checkpoint(filesystem=local, path=E:/datasets/ray_results/lstm_experiment/train_lstm_e68fe_00032_32_2025-05-14_23-22-59/checkpoint_000016)\u001b[32m [repeated 39x across cluster]\u001b[0m\n"
     ]
    },
    {
     "name": "stdout",
     "output_type": "stream",
     "text": [
      "\u001b[36m(train_lstm pid=56744)\u001b[0m Epoch 170: loss = 0.001462\u001b[32m [repeated 40x across cluster]\u001b[0m\n"
     ]
    },
    {
     "name": "stderr",
     "output_type": "stream",
     "text": [
      "\u001b[36m(train_lstm pid=8788)\u001b[0m C:\\Users\\justi\\anaconda3\\Lib\\site-packages\\ray\\train\\_internal\\session.py:772: RayDeprecationWarning: `ray.train.report` should be switched to `ray.tune.report` when running in a function passed to Ray Tune. This will be an error in the future. See this issue for more context: https://github.com/ray-project/ray/issues/49454\n",
      "\u001b[36m(train_lstm pid=8788)\u001b[0m   _log_deprecation_warning(\n",
      "\u001b[36m(train_lstm pid=8788)\u001b[0m C:\\Users\\justi\\anaconda3\\Lib\\site-packages\\ray\\tune\\trainable\\trainable_fn_utils.py:41: RayDeprecationWarning: The `Checkpoint` class should be imported from `ray.tune` when passing it to `ray.tune.report` in a Tune function. Please update your imports. See this issue for more context and migration options: https://github.com/ray-project/ray/issues/49454. Disable these warnings by setting the environment variable: RAY_TRAIN_ENABLE_V2_MIGRATION_WARNINGS=0\n",
      "\u001b[36m(train_lstm pid=8788)\u001b[0m   _log_deprecation_warning(\n",
      "\u001b[36m(train_lstm pid=59640)\u001b[0m Checkpoint successfully created at: Checkpoint(filesystem=local, path=E:/datasets/ray_results/lstm_experiment/train_lstm_e68fe_00034_34_2025-05-14_23-22-59/checkpoint_000023)\u001b[32m [repeated 39x across cluster]\u001b[0m\n"
     ]
    },
    {
     "name": "stdout",
     "output_type": "stream",
     "text": [
      "\u001b[36m(train_lstm pid=59640)\u001b[0m Epoch 230: loss = 0.000961\u001b[32m [repeated 38x across cluster]\u001b[0m\n"
     ]
    },
    {
     "name": "stderr",
     "output_type": "stream",
     "text": [
      "\u001b[36m(train_lstm pid=59752)\u001b[0m Checkpoint successfully created at: Checkpoint(filesystem=local, path=E:/datasets/ray_results/lstm_experiment/train_lstm_e68fe_00035_35_2025-05-14_23-22-59/checkpoint_000027)\u001b[32m [repeated 43x across cluster]\u001b[0m\n"
     ]
    },
    {
     "name": "stdout",
     "output_type": "stream",
     "text": [
      "\u001b[36m(train_lstm pid=59752)\u001b[0m Epoch 270: loss = 0.000744\u001b[32m [repeated 43x across cluster]\u001b[0m\n"
     ]
    },
    {
     "name": "stderr",
     "output_type": "stream",
     "text": [
      "\u001b[36m(train_lstm pid=56744)\u001b[0m Checkpoint successfully created at: Checkpoint(filesystem=local, path=E:/datasets/ray_results/lstm_experiment/train_lstm_e68fe_00033_33_2025-05-14_23-22-59/checkpoint_000033)\u001b[32m [repeated 43x across cluster]\u001b[0m\n"
     ]
    },
    {
     "name": "stdout",
     "output_type": "stream",
     "text": [
      "\u001b[36m(train_lstm pid=58044)\u001b[0m Epoch 310: loss = 0.000959\u001b[32m [repeated 44x across cluster]\u001b[0m\n"
     ]
    },
    {
     "name": "stderr",
     "output_type": "stream",
     "text": [
      "\u001b[36m(train_lstm pid=58032)\u001b[0m Checkpoint successfully created at: Checkpoint(filesystem=local, path=E:/datasets/ray_results/lstm_experiment/train_lstm_e68fe_00038_38_2025-05-14_23-22-59/checkpoint_000034)\u001b[32m [repeated 42x across cluster]\u001b[0m\n"
     ]
    },
    {
     "name": "stdout",
     "output_type": "stream",
     "text": [
      "\u001b[36m(train_lstm pid=58032)\u001b[0m Epoch 340: loss = 0.000509\u001b[32m [repeated 41x across cluster]\u001b[0m\n"
     ]
    },
    {
     "name": "stderr",
     "output_type": "stream",
     "text": [
      "\u001b[36m(train_lstm pid=8788)\u001b[0m Checkpoint successfully created at: Checkpoint(filesystem=local, path=E:/datasets/ray_results/lstm_experiment/train_lstm_e68fe_00039_39_2025-05-14_23-22-59/checkpoint_000022)\u001b[32m [repeated 43x across cluster]\u001b[0m\n"
     ]
    },
    {
     "name": "stdout",
     "output_type": "stream",
     "text": [
      "\u001b[36m(train_lstm pid=8788)\u001b[0m Epoch 220: loss = 0.000649\u001b[32m [repeated 43x across cluster]\u001b[0m\n"
     ]
    },
    {
     "name": "stderr",
     "output_type": "stream",
     "text": [
      "\u001b[36m(train_lstm pid=59692)\u001b[0m Checkpoint successfully created at: Checkpoint(filesystem=local, path=E:/datasets/ray_results/lstm_experiment/train_lstm_e68fe_00032_32_2025-05-14_23-22-59/checkpoint_000048)\u001b[32m [repeated 42x across cluster]\u001b[0m\n"
     ]
    },
    {
     "name": "stdout",
     "output_type": "stream",
     "text": [
      "\u001b[36m(train_lstm pid=59692)\u001b[0m Epoch 480: loss = 0.000585\u001b[32m [repeated 42x across cluster]\u001b[0m\n"
     ]
    },
    {
     "name": "stderr",
     "output_type": "stream",
     "text": [
      "\u001b[36m(train_lstm pid=59752)\u001b[0m Checkpoint successfully created at: Checkpoint(filesystem=local, path=E:/datasets/ray_results/lstm_experiment/train_lstm_e68fe_00035_35_2025-05-14_23-22-59/checkpoint_000053)\u001b[32m [repeated 43x across cluster]\u001b[0m\n"
     ]
    },
    {
     "name": "stdout",
     "output_type": "stream",
     "text": [
      "\u001b[36m(train_lstm pid=59752)\u001b[0m Epoch 530: loss = 0.000318\u001b[32m [repeated 43x across cluster]\u001b[0m\n"
     ]
    },
    {
     "name": "stderr",
     "output_type": "stream",
     "text": [
      "\u001b[36m(train_lstm pid=56744)\u001b[0m Checkpoint successfully created at: Checkpoint(filesystem=local, path=E:/datasets/ray_results/lstm_experiment/train_lstm_e68fe_00033_33_2025-05-14_23-22-59/checkpoint_000060)\u001b[32m [repeated 43x across cluster]\u001b[0m\n"
     ]
    },
    {
     "name": "stdout",
     "output_type": "stream",
     "text": [
      "\u001b[36m(train_lstm pid=56744)\u001b[0m Epoch 600: loss = 0.000395\u001b[32m [repeated 43x across cluster]\u001b[0m\n",
      "\u001b[36m(train_lstm pid=58044)\u001b[0m Epoch 630: loss = 0.000408\u001b[32m [repeated 43x across cluster]\u001b[0m\n"
     ]
    },
    {
     "name": "stderr",
     "output_type": "stream",
     "text": [
      "\u001b[36m(train_lstm pid=58032)\u001b[0m Checkpoint successfully created at: Checkpoint(filesystem=local, path=E:/datasets/ray_results/lstm_experiment/train_lstm_e68fe_00038_38_2025-05-14_23-22-59/checkpoint_000061)\u001b[32m [repeated 44x across cluster]\u001b[0m\n",
      "\u001b[36m(train_lstm pid=59640)\u001b[0m Checkpoint successfully created at: Checkpoint(filesystem=local, path=E:/datasets/ray_results/lstm_experiment/train_lstm_e68fe_00034_34_2025-05-14_23-22-59/checkpoint_000071)\u001b[32m [repeated 41x across cluster]\u001b[0m\n"
     ]
    },
    {
     "name": "stdout",
     "output_type": "stream",
     "text": [
      "\u001b[36m(train_lstm pid=59692)\u001b[0m Epoch 700: loss = 0.000551\u001b[32m [repeated 43x across cluster]\u001b[0m\n"
     ]
    },
    {
     "name": "stderr",
     "output_type": "stream",
     "text": [
      "\u001b[36m(train_lstm pid=8788)\u001b[0m Checkpoint successfully created at: Checkpoint(filesystem=local, path=E:/datasets/ray_results/lstm_experiment/train_lstm_e68fe_00039_39_2025-05-14_23-22-59/checkpoint_000054)\u001b[32m [repeated 43x across cluster]\u001b[0m\n"
     ]
    },
    {
     "name": "stdout",
     "output_type": "stream",
     "text": [
      "\u001b[36m(train_lstm pid=56744)\u001b[0m Epoch 760: loss = 0.000368\u001b[32m [repeated 43x across cluster]\u001b[0m\n"
     ]
    },
    {
     "name": "stderr",
     "output_type": "stream",
     "text": [
      "\u001b[33m(raylet)\u001b[0m Traceback (most recent call last):\n",
      "\u001b[33m(raylet)\u001b[0m   File \"C:\\Users\\justi\\anaconda3\\Lib\\site-packages\\ray\\_private\\workers\\default_worker.py\", line 8, in <module>\n",
      "\u001b[33m(raylet)\u001b[0m     import ray\n",
      "\u001b[33m(raylet)\u001b[0m     _configure_system()\n",
      "\u001b[33m(raylet)\u001b[0m   File \"C:\\Users\\justi\\anaconda3\\Lib\\site-packages\\ray\\__init__.py\", line 70, in _configure_system\n",
      "\u001b[33m(raylet)\u001b[0m     import ctypes\n",
      "\u001b[33m(raylet)\u001b[0m     from _ctypes import Union, Structure, Array\n",
      "\u001b[33m(raylet)\u001b[0m ImportError: DLL load failed while importing _ctypes: The handle is invalid.\n",
      "\u001b[36m(train_lstm pid=56296)\u001b[0m Checkpoint successfully created at: Checkpoint(filesystem=local, path=E:/datasets/ray_results/lstm_experiment/train_lstm_e68fe_00036_36_2025-05-14_23-22-59/checkpoint_000078)\u001b[32m [repeated 37x across cluster]\u001b[0m\n"
     ]
    },
    {
     "name": "stdout",
     "output_type": "stream",
     "text": [
      "\u001b[36m(train_lstm pid=58044)\u001b[0m Epoch 790: loss = 0.000433\u001b[32m [repeated 38x across cluster]\u001b[0m\n"
     ]
    },
    {
     "name": "stderr",
     "output_type": "stream",
     "text": [
      "\u001b[33m(raylet)\u001b[0m   File \"C:\\Users\\justi\\anaconda3\\Lib\\ctypes\\__init__.py\", line 8, in <module>\u001b[32m [repeated 2x across cluster]\u001b[0m\n",
      "\u001b[36m(train_lstm pid=8788)\u001b[0m Checkpoint successfully created at: Checkpoint(filesystem=local, path=E:/datasets/ray_results/lstm_experiment/train_lstm_e68fe_00039_39_2025-05-14_23-22-59/checkpoint_000066)\u001b[32m [repeated 12x across cluster]\u001b[0m\n"
     ]
    },
    {
     "name": "stdout",
     "output_type": "stream",
     "text": [
      "\u001b[36m(train_lstm pid=8788)\u001b[0m Epoch 660: loss = 0.000340\u001b[32m [repeated 10x across cluster]\u001b[0m\n",
      "\u001b[36m(train_lstm pid=8788)\u001b[0m Epoch 730: loss = 0.000350\u001b[32m [repeated 7x across cluster]\u001b[0m\n"
     ]
    },
    {
     "name": "stderr",
     "output_type": "stream",
     "text": [
      "\u001b[36m(train_lstm pid=8788)\u001b[0m Checkpoint successfully created at: Checkpoint(filesystem=local, path=E:/datasets/ray_results/lstm_experiment/train_lstm_e68fe_00039_39_2025-05-14_23-22-59/checkpoint_000073)\u001b[32m [repeated 7x across cluster]\u001b[0m\n",
      "\u001b[36m(train_lstm pid=51364)\u001b[0m C:\\Users\\justi\\anaconda3\\Lib\\site-packages\\ray\\train\\_internal\\session.py:772: RayDeprecationWarning: `ray.train.report` should be switched to `ray.tune.report` when running in a function passed to Ray Tune. This will be an error in the future. See this issue for more context: https://github.com/ray-project/ray/issues/49454\n",
      "\u001b[36m(train_lstm pid=51364)\u001b[0m   _log_deprecation_warning(\n",
      "\u001b[36m(train_lstm pid=51364)\u001b[0m C:\\Users\\justi\\anaconda3\\Lib\\site-packages\\ray\\tune\\trainable\\trainable_fn_utils.py:41: RayDeprecationWarning: The `Checkpoint` class should be imported from `ray.tune` when passing it to `ray.tune.report` in a Tune function. Please update your imports. See this issue for more context and migration options: https://github.com/ray-project/ray/issues/49454. Disable these warnings by setting the environment variable: RAY_TRAIN_ENABLE_V2_MIGRATION_WARNINGS=0\n",
      "\u001b[36m(train_lstm pid=51364)\u001b[0m   _log_deprecation_warning(\n",
      "\u001b[36m(train_lstm pid=51364)\u001b[0m Checkpoint successfully created at: Checkpoint(filesystem=local, path=E:/datasets/ray_results/lstm_experiment/train_lstm_e68fe_00040_40_2025-05-14_23-22-59/checkpoint_000000)\u001b[32m [repeated 7x across cluster]\u001b[0m\n"
     ]
    },
    {
     "name": "stdout",
     "output_type": "stream",
     "text": [
      "\u001b[36m(train_lstm pid=51364)\u001b[0m Epoch 0: loss = 0.137683\u001b[32m [repeated 7x across cluster]\u001b[0m\n"
     ]
    },
    {
     "name": "stderr",
     "output_type": "stream",
     "text": [
      "\u001b[36m(train_lstm pid=60480)\u001b[0m C:\\Users\\justi\\anaconda3\\Lib\\site-packages\\ray\\train\\_internal\\session.py:772: RayDeprecationWarning: `ray.train.report` should be switched to `ray.tune.report` when running in a function passed to Ray Tune. This will be an error in the future. See this issue for more context: https://github.com/ray-project/ray/issues/49454\u001b[32m [repeated 6x across cluster]\u001b[0m\n",
      "\u001b[36m(train_lstm pid=60480)\u001b[0m   _log_deprecation_warning(\u001b[32m [repeated 12x across cluster]\u001b[0m\n",
      "\u001b[36m(train_lstm pid=60480)\u001b[0m C:\\Users\\justi\\anaconda3\\Lib\\site-packages\\ray\\tune\\trainable\\trainable_fn_utils.py:41: RayDeprecationWarning: The `Checkpoint` class should be imported from `ray.tune` when passing it to `ray.tune.report` in a Tune function. Please update your imports. See this issue for more context and migration options: https://github.com/ray-project/ray/issues/49454. Disable these warnings by setting the environment variable: RAY_TRAIN_ENABLE_V2_MIGRATION_WARNINGS=0\u001b[32m [repeated 6x across cluster]\u001b[0m\n",
      "\u001b[36m(train_lstm pid=57972)\u001b[0m Checkpoint successfully created at: Checkpoint(filesystem=local, path=E:/datasets/ray_results/lstm_experiment/train_lstm_e68fe_00045_45_2025-05-14_23-22-59/checkpoint_000004)\u001b[32m [repeated 27x across cluster]\u001b[0m\n"
     ]
    },
    {
     "name": "stdout",
     "output_type": "stream",
     "text": [
      "\u001b[36m(train_lstm pid=57972)\u001b[0m Epoch 40: loss = 0.023920\u001b[32m [repeated 27x across cluster]\u001b[0m\n"
     ]
    },
    {
     "name": "stderr",
     "output_type": "stream",
     "text": [
      "\u001b[36m(train_lstm pid=58412)\u001b[0m Checkpoint successfully created at: Checkpoint(filesystem=local, path=E:/datasets/ray_results/lstm_experiment/train_lstm_e68fe_00041_41_2025-05-14_23-22-59/checkpoint_000010)\u001b[32m [repeated 39x across cluster]\u001b[0m\n"
     ]
    },
    {
     "name": "stdout",
     "output_type": "stream",
     "text": [
      "\u001b[36m(train_lstm pid=58412)\u001b[0m Epoch 100: loss = 0.006836\u001b[32m [repeated 39x across cluster]\u001b[0m\n"
     ]
    },
    {
     "name": "stderr",
     "output_type": "stream",
     "text": [
      "\u001b[36m(train_lstm pid=51364)\u001b[0m Checkpoint successfully created at: Checkpoint(filesystem=local, path=E:/datasets/ray_results/lstm_experiment/train_lstm_e68fe_00040_40_2025-05-14_23-22-59/checkpoint_000017)\u001b[32m [repeated 41x across cluster]\u001b[0m\n"
     ]
    },
    {
     "name": "stdout",
     "output_type": "stream",
     "text": [
      "\u001b[36m(train_lstm pid=51364)\u001b[0m Epoch 170: loss = 0.001462\u001b[32m [repeated 41x across cluster]\u001b[0m\n"
     ]
    },
    {
     "name": "stderr",
     "output_type": "stream",
     "text": [
      "\u001b[33m(raylet)\u001b[0m [2025-05-14 23:33:42,924 E 39848 59404] (raylet.exe) worker_pool.cc:581: Some workers of the worker process(59480) have not registered within the timeout. The process is dead, probably it crashed during start.\n",
      "\u001b[36m(train_lstm pid=58412)\u001b[0m Checkpoint successfully created at: Checkpoint(filesystem=local, path=E:/datasets/ray_results/lstm_experiment/train_lstm_e68fe_00041_41_2025-05-14_23-22-59/checkpoint_000021)\u001b[32m [repeated 36x across cluster]\u001b[0m\n"
     ]
    },
    {
     "name": "stdout",
     "output_type": "stream",
     "text": [
      "\u001b[36m(train_lstm pid=58412)\u001b[0m Epoch 210: loss = 0.000853\u001b[32m [repeated 36x across cluster]\u001b[0m\n"
     ]
    },
    {
     "name": "stderr",
     "output_type": "stream",
     "text": [
      "\u001b[36m(train_lstm pid=54548)\u001b[0m C:\\Users\\justi\\anaconda3\\Lib\\site-packages\\ray\\train\\_internal\\session.py:772: RayDeprecationWarning: `ray.train.report` should be switched to `ray.tune.report` when running in a function passed to Ray Tune. This will be an error in the future. See this issue for more context: https://github.com/ray-project/ray/issues/49454\n",
      "\u001b[36m(train_lstm pid=54548)\u001b[0m   _log_deprecation_warning(\n",
      "\u001b[36m(train_lstm pid=54548)\u001b[0m C:\\Users\\justi\\anaconda3\\Lib\\site-packages\\ray\\tune\\trainable\\trainable_fn_utils.py:41: RayDeprecationWarning: The `Checkpoint` class should be imported from `ray.tune` when passing it to `ray.tune.report` in a Tune function. Please update your imports. See this issue for more context and migration options: https://github.com/ray-project/ray/issues/49454. Disable these warnings by setting the environment variable: RAY_TRAIN_ENABLE_V2_MIGRATION_WARNINGS=0\n",
      "\u001b[36m(train_lstm pid=54548)\u001b[0m   _log_deprecation_warning(\n",
      "\u001b[36m(train_lstm pid=51364)\u001b[0m Checkpoint successfully created at: Checkpoint(filesystem=local, path=E:/datasets/ray_results/lstm_experiment/train_lstm_e68fe_00040_40_2025-05-14_23-22-59/checkpoint_000028)\u001b[32m [repeated 42x across cluster]\u001b[0m\n"
     ]
    },
    {
     "name": "stdout",
     "output_type": "stream",
     "text": [
      "\u001b[36m(train_lstm pid=51364)\u001b[0m Epoch 280: loss = 0.000555\u001b[32m [repeated 42x across cluster]\u001b[0m\n"
     ]
    },
    {
     "name": "stderr",
     "output_type": "stream",
     "text": [
      "\u001b[36m(train_lstm pid=36080)\u001b[0m Checkpoint successfully created at: Checkpoint(filesystem=local, path=E:/datasets/ray_results/lstm_experiment/train_lstm_e68fe_00042_42_2025-05-14_23-22-59/checkpoint_000032)\u001b[32m [repeated 43x across cluster]\u001b[0m\n"
     ]
    },
    {
     "name": "stdout",
     "output_type": "stream",
     "text": [
      "\u001b[36m(train_lstm pid=60480)\u001b[0m Epoch 280: loss = 0.000555\u001b[32m [repeated 44x across cluster]\u001b[0m\n"
     ]
    },
    {
     "name": "stderr",
     "output_type": "stream",
     "text": [
      "\u001b[36m(train_lstm pid=61264)\u001b[0m Checkpoint successfully created at: Checkpoint(filesystem=local, path=E:/datasets/ray_results/lstm_experiment/train_lstm_e68fe_00043_43_2025-05-14_23-22-59/checkpoint_000034)\u001b[32m [repeated 42x across cluster]\u001b[0m\n"
     ]
    },
    {
     "name": "stdout",
     "output_type": "stream",
     "text": [
      "\u001b[36m(train_lstm pid=61264)\u001b[0m Epoch 340: loss = 0.000509\u001b[32m [repeated 41x across cluster]\u001b[0m\n"
     ]
    },
    {
     "name": "stderr",
     "output_type": "stream",
     "text": [
      "\u001b[36m(train_lstm pid=58412)\u001b[0m Checkpoint successfully created at: Checkpoint(filesystem=local, path=E:/datasets/ray_results/lstm_experiment/train_lstm_e68fe_00041_41_2025-05-14_23-22-59/checkpoint_000043)\u001b[32m [repeated 43x across cluster]\u001b[0m\n"
     ]
    },
    {
     "name": "stdout",
     "output_type": "stream",
     "text": [
      "\u001b[36m(train_lstm pid=58412)\u001b[0m Epoch 430: loss = 0.000807\u001b[32m [repeated 43x across cluster]\u001b[0m\n"
     ]
    },
    {
     "name": "stderr",
     "output_type": "stream",
     "text": [
      "\u001b[36m(train_lstm pid=54548)\u001b[0m Checkpoint successfully created at: Checkpoint(filesystem=local, path=E:/datasets/ray_results/lstm_experiment/train_lstm_e68fe_00047_47_2025-05-14_23-22-59/checkpoint_000022)\u001b[32m [repeated 43x across cluster]\u001b[0m\n"
     ]
    },
    {
     "name": "stdout",
     "output_type": "stream",
     "text": [
      "\u001b[36m(train_lstm pid=51364)\u001b[0m Epoch 500: loss = 0.000383\u001b[32m [repeated 45x across cluster]\u001b[0m\n"
     ]
    },
    {
     "name": "stderr",
     "output_type": "stream",
     "text": [
      "\u001b[36m(train_lstm pid=36080)\u001b[0m Checkpoint successfully created at: Checkpoint(filesystem=local, path=E:/datasets/ray_results/lstm_experiment/train_lstm_e68fe_00042_42_2025-05-14_23-22-59/checkpoint_000054)\u001b[32m [repeated 45x across cluster]\u001b[0m\n"
     ]
    },
    {
     "name": "stdout",
     "output_type": "stream",
     "text": [
      "\u001b[36m(train_lstm pid=36080)\u001b[0m Epoch 540: loss = 0.000524\u001b[32m [repeated 43x across cluster]\u001b[0m\n"
     ]
    },
    {
     "name": "stderr",
     "output_type": "stream",
     "text": [
      "\u001b[36m(train_lstm pid=54548)\u001b[0m Checkpoint successfully created at: Checkpoint(filesystem=local, path=E:/datasets/ray_results/lstm_experiment/train_lstm_e68fe_00047_47_2025-05-14_23-22-59/checkpoint_000033)\u001b[32m [repeated 43x across cluster]\u001b[0m\n"
     ]
    },
    {
     "name": "stdout",
     "output_type": "stream",
     "text": [
      "\u001b[36m(train_lstm pid=54548)\u001b[0m Epoch 330: loss = 0.000507\u001b[32m [repeated 43x across cluster]\u001b[0m\n"
     ]
    },
    {
     "name": "stderr",
     "output_type": "stream",
     "text": [
      "\u001b[36m(train_lstm pid=60480)\u001b[0m Checkpoint successfully created at: Checkpoint(filesystem=local, path=E:/datasets/ray_results/lstm_experiment/train_lstm_e68fe_00046_46_2025-05-14_23-22-59/checkpoint_000060)\u001b[32m [repeated 44x across cluster]\u001b[0m\n"
     ]
    },
    {
     "name": "stdout",
     "output_type": "stream",
     "text": [
      "\u001b[36m(train_lstm pid=60480)\u001b[0m Epoch 600: loss = 0.000395\u001b[32m [repeated 44x across cluster]\u001b[0m\n"
     ]
    },
    {
     "name": "stderr",
     "output_type": "stream",
     "text": [
      "\u001b[36m(train_lstm pid=61264)\u001b[0m Checkpoint successfully created at: Checkpoint(filesystem=local, path=E:/datasets/ray_results/lstm_experiment/train_lstm_e68fe_00043_43_2025-05-14_23-22-59/checkpoint_000066)\u001b[32m [repeated 42x across cluster]\u001b[0m\n"
     ]
    },
    {
     "name": "stdout",
     "output_type": "stream",
     "text": [
      "\u001b[36m(train_lstm pid=61264)\u001b[0m Epoch 660: loss = 0.000340\u001b[32m [repeated 42x across cluster]\u001b[0m\n"
     ]
    },
    {
     "name": "stderr",
     "output_type": "stream",
     "text": [
      "\u001b[36m(train_lstm pid=51364)\u001b[0m Checkpoint successfully created at: Checkpoint(filesystem=local, path=E:/datasets/ray_results/lstm_experiment/train_lstm_e68fe_00040_40_2025-05-14_23-22-59/checkpoint_000077)\u001b[32m [repeated 43x across cluster]\u001b[0m\n"
     ]
    },
    {
     "name": "stdout",
     "output_type": "stream",
     "text": [
      "\u001b[36m(train_lstm pid=51364)\u001b[0m Epoch 770: loss = 0.000422\u001b[32m [repeated 43x across cluster]\u001b[0m\n",
      "\u001b[36m(train_lstm pid=60480)\u001b[0m Epoch 770: loss = 0.000422\u001b[32m [repeated 37x across cluster]\u001b[0m\n"
     ]
    },
    {
     "name": "stderr",
     "output_type": "stream",
     "text": [
      "\u001b[36m(train_lstm pid=61264)\u001b[0m Checkpoint successfully created at: Checkpoint(filesystem=local, path=E:/datasets/ray_results/lstm_experiment/train_lstm_e68fe_00043_43_2025-05-14_23-22-59/checkpoint_000078)\u001b[32m [repeated 37x across cluster]\u001b[0m\n"
     ]
    },
    {
     "name": "stdout",
     "output_type": "stream",
     "text": [
      "\u001b[36m(train_lstm pid=54548)\u001b[0m Epoch 610: loss = 0.000331\u001b[32m [repeated 11x across cluster]\u001b[0m\n"
     ]
    },
    {
     "name": "stderr",
     "output_type": "stream",
     "text": [
      "\u001b[36m(train_lstm pid=54548)\u001b[0m Checkpoint successfully created at: Checkpoint(filesystem=local, path=E:/datasets/ray_results/lstm_experiment/train_lstm_e68fe_00047_47_2025-05-14_23-22-59/checkpoint_000062)\u001b[32m [repeated 12x across cluster]\u001b[0m\n"
     ]
    },
    {
     "name": "stdout",
     "output_type": "stream",
     "text": [
      "\u001b[36m(train_lstm pid=54548)\u001b[0m Epoch 660: loss = 0.000340\u001b[32m [repeated 5x across cluster]\u001b[0m\n"
     ]
    },
    {
     "name": "stderr",
     "output_type": "stream",
     "text": [
      "\u001b[36m(train_lstm pid=54548)\u001b[0m Checkpoint successfully created at: Checkpoint(filesystem=local, path=E:/datasets/ray_results/lstm_experiment/train_lstm_e68fe_00047_47_2025-05-14_23-22-59/checkpoint_000067)\u001b[32m [repeated 5x across cluster]\u001b[0m\n"
     ]
    },
    {
     "name": "stdout",
     "output_type": "stream",
     "text": [
      "\u001b[36m(train_lstm pid=54548)\u001b[0m Epoch 720: loss = 0.000397\u001b[32m [repeated 6x across cluster]\u001b[0m\n"
     ]
    },
    {
     "name": "stderr",
     "output_type": "stream",
     "text": [
      "\u001b[36m(train_lstm pid=54548)\u001b[0m Checkpoint successfully created at: Checkpoint(filesystem=local, path=E:/datasets/ray_results/lstm_experiment/train_lstm_e68fe_00047_47_2025-05-14_23-22-59/checkpoint_000074)\u001b[32m [repeated 7x across cluster]\u001b[0m\n"
     ]
    },
    {
     "name": "stdout",
     "output_type": "stream",
     "text": [
      "\u001b[36m(train_lstm pid=54548)\u001b[0m Epoch 790: loss = 0.000433\u001b[32m [repeated 7x across cluster]\u001b[0m\n"
     ]
    },
    {
     "name": "stderr",
     "output_type": "stream",
     "text": [
      "\u001b[36m(train_lstm pid=56996)\u001b[0m C:\\Users\\justi\\anaconda3\\Lib\\site-packages\\ray\\train\\_internal\\session.py:772: RayDeprecationWarning: `ray.train.report` should be switched to `ray.tune.report` when running in a function passed to Ray Tune. This will be an error in the future. See this issue for more context: https://github.com/ray-project/ray/issues/49454\n",
      "\u001b[36m(train_lstm pid=56996)\u001b[0m   _log_deprecation_warning(\n",
      "\u001b[36m(train_lstm pid=56996)\u001b[0m C:\\Users\\justi\\anaconda3\\Lib\\site-packages\\ray\\tune\\trainable\\trainable_fn_utils.py:41: RayDeprecationWarning: The `Checkpoint` class should be imported from `ray.tune` when passing it to `ray.tune.report` in a Tune function. Please update your imports. See this issue for more context and migration options: https://github.com/ray-project/ray/issues/49454. Disable these warnings by setting the environment variable: RAY_TRAIN_ENABLE_V2_MIGRATION_WARNINGS=0\n",
      "\u001b[36m(train_lstm pid=56996)\u001b[0m   _log_deprecation_warning(\n",
      "\u001b[36m(train_lstm pid=56996)\u001b[0m Checkpoint successfully created at: Checkpoint(filesystem=local, path=E:/datasets/ray_results/lstm_experiment/train_lstm_e68fe_00049_49_2025-05-14_23-22-59/checkpoint_000000)\u001b[32m [repeated 6x across cluster]\u001b[0m\n"
     ]
    },
    {
     "name": "stdout",
     "output_type": "stream",
     "text": [
      "\u001b[36m(train_lstm pid=56996)\u001b[0m Epoch 0: loss = 0.137683\n",
      "\u001b[36m(train_lstm pid=53032)\u001b[0m Epoch 0: loss = 0.137683\n"
     ]
    },
    {
     "name": "stderr",
     "output_type": "stream",
     "text": [
      "\u001b[36m(train_lstm pid=42588)\u001b[0m C:\\Users\\justi\\anaconda3\\Lib\\site-packages\\ray\\train\\_internal\\session.py:772: RayDeprecationWarning: `ray.train.report` should be switched to `ray.tune.report` when running in a function passed to Ray Tune. This will be an error in the future. See this issue for more context: https://github.com/ray-project/ray/issues/49454\u001b[32m [repeated 6x across cluster]\u001b[0m\n",
      "\u001b[36m(train_lstm pid=42588)\u001b[0m   _log_deprecation_warning(\u001b[32m [repeated 12x across cluster]\u001b[0m\n",
      "\u001b[36m(train_lstm pid=42588)\u001b[0m C:\\Users\\justi\\anaconda3\\Lib\\site-packages\\ray\\tune\\trainable\\trainable_fn_utils.py:41: RayDeprecationWarning: The `Checkpoint` class should be imported from `ray.tune` when passing it to `ray.tune.report` in a Tune function. Please update your imports. See this issue for more context and migration options: https://github.com/ray-project/ray/issues/49454. Disable these warnings by setting the environment variable: RAY_TRAIN_ENABLE_V2_MIGRATION_WARNINGS=0\u001b[32m [repeated 6x across cluster]\u001b[0m\n",
      "\u001b[36m(train_lstm pid=58268)\u001b[0m Checkpoint successfully created at: Checkpoint(filesystem=local, path=E:/datasets/ray_results/lstm_experiment/train_lstm_e68fe_00050_50_2025-05-14_23-22-59/checkpoint_000005)\u001b[32m [repeated 30x across cluster]\u001b[0m\n"
     ]
    },
    {
     "name": "stdout",
     "output_type": "stream",
     "text": [
      "\u001b[36m(train_lstm pid=58268)\u001b[0m Epoch 50: loss = 0.020813\u001b[32m [repeated 29x across cluster]\u001b[0m\n"
     ]
    },
    {
     "name": "stderr",
     "output_type": "stream",
     "text": [
      "\u001b[36m(train_lstm pid=53032)\u001b[0m Checkpoint successfully created at: Checkpoint(filesystem=local, path=E:/datasets/ray_results/lstm_experiment/train_lstm_e68fe_00048_48_2025-05-14_23-22-59/checkpoint_000011)\u001b[32m [repeated 39x across cluster]\u001b[0m\n"
     ]
    },
    {
     "name": "stdout",
     "output_type": "stream",
     "text": [
      "\u001b[36m(train_lstm pid=53032)\u001b[0m Epoch 110: loss = 0.004723\u001b[32m [repeated 39x across cluster]\u001b[0m\n",
      "\u001b[36m(train_lstm pid=53032)\u001b[0m Epoch 170: loss = 0.001462\u001b[32m [repeated 42x across cluster]\u001b[0m\n"
     ]
    },
    {
     "name": "stderr",
     "output_type": "stream",
     "text": [
      "\u001b[36m(train_lstm pid=53032)\u001b[0m Checkpoint successfully created at: Checkpoint(filesystem=local, path=E:/datasets/ray_results/lstm_experiment/train_lstm_e68fe_00048_48_2025-05-14_23-22-59/checkpoint_000017)\u001b[32m [repeated 42x across cluster]\u001b[0m\n",
      "\u001b[36m(train_lstm pid=56996)\u001b[0m Checkpoint successfully created at: Checkpoint(filesystem=local, path=E:/datasets/ray_results/lstm_experiment/train_lstm_e68fe_00049_49_2025-05-14_23-22-59/checkpoint_000023)\u001b[32m [repeated 35x across cluster]\u001b[0m\n"
     ]
    },
    {
     "name": "stdout",
     "output_type": "stream",
     "text": [
      "\u001b[36m(train_lstm pid=56996)\u001b[0m Epoch 230: loss = 0.000961\u001b[32m [repeated 35x across cluster]\u001b[0m\n"
     ]
    },
    {
     "name": "stderr",
     "output_type": "stream",
     "text": [
      "\u001b[36m(train_lstm pid=50096)\u001b[0m C:\\Users\\justi\\anaconda3\\Lib\\site-packages\\ray\\train\\_internal\\session.py:772: RayDeprecationWarning: `ray.train.report` should be switched to `ray.tune.report` when running in a function passed to Ray Tune. This will be an error in the future. See this issue for more context: https://github.com/ray-project/ray/issues/49454\n",
      "\u001b[36m(train_lstm pid=50096)\u001b[0m   _log_deprecation_warning(\n",
      "\u001b[36m(train_lstm pid=50096)\u001b[0m C:\\Users\\justi\\anaconda3\\Lib\\site-packages\\ray\\tune\\trainable\\trainable_fn_utils.py:41: RayDeprecationWarning: The `Checkpoint` class should be imported from `ray.tune` when passing it to `ray.tune.report` in a Tune function. Please update your imports. See this issue for more context and migration options: https://github.com/ray-project/ray/issues/49454. Disable these warnings by setting the environment variable: RAY_TRAIN_ENABLE_V2_MIGRATION_WARNINGS=0\n",
      "\u001b[36m(train_lstm pid=50096)\u001b[0m   _log_deprecation_warning(\n",
      "\u001b[36m(train_lstm pid=56996)\u001b[0m Checkpoint successfully created at: Checkpoint(filesystem=local, path=E:/datasets/ray_results/lstm_experiment/train_lstm_e68fe_00049_49_2025-05-14_23-22-59/checkpoint_000029)\u001b[32m [repeated 44x across cluster]\u001b[0m\n"
     ]
    },
    {
     "name": "stdout",
     "output_type": "stream",
     "text": [
      "\u001b[36m(train_lstm pid=56996)\u001b[0m Epoch 290: loss = 0.000597\u001b[32m [repeated 44x across cluster]\u001b[0m\n"
     ]
    },
    {
     "name": "stderr",
     "output_type": "stream",
     "text": [
      "\u001b[36m(train_lstm pid=61156)\u001b[0m Checkpoint successfully created at: Checkpoint(filesystem=local, path=E:/datasets/ray_results/lstm_experiment/train_lstm_e68fe_00051_51_2025-05-14_23-22-59/checkpoint_000031)\u001b[32m [repeated 47x across cluster]\u001b[0m\n"
     ]
    },
    {
     "name": "stdout",
     "output_type": "stream",
     "text": [
      "\u001b[36m(train_lstm pid=61156)\u001b[0m Epoch 310: loss = 0.000959\u001b[32m [repeated 47x across cluster]\u001b[0m\n"
     ]
    },
    {
     "name": "stderr",
     "output_type": "stream",
     "text": [
      "\u001b[36m(train_lstm pid=56996)\u001b[0m Checkpoint successfully created at: Checkpoint(filesystem=local, path=E:/datasets/ray_results/lstm_experiment/train_lstm_e68fe_00049_49_2025-05-14_23-22-59/checkpoint_000040)\u001b[32m [repeated 42x across cluster]\u001b[0m\n"
     ]
    },
    {
     "name": "stdout",
     "output_type": "stream",
     "text": [
      "\u001b[36m(train_lstm pid=56996)\u001b[0m Epoch 400: loss = 0.000523\u001b[32m [repeated 42x across cluster]\u001b[0m\n"
     ]
    },
    {
     "name": "stderr",
     "output_type": "stream",
     "text": [
      "\u001b[36m(train_lstm pid=50096)\u001b[0m Checkpoint successfully created at: Checkpoint(filesystem=local, path=E:/datasets/ray_results/lstm_experiment/train_lstm_e68fe_00055_55_2025-05-14_23-22-59/checkpoint_000018)\u001b[32m [repeated 44x across cluster]\u001b[0m\n"
     ]
    },
    {
     "name": "stdout",
     "output_type": "stream",
     "text": [
      "\u001b[36m(train_lstm pid=50096)\u001b[0m Epoch 180: loss = 0.001096\u001b[32m [repeated 44x across cluster]\u001b[0m\n"
     ]
    },
    {
     "name": "stderr",
     "output_type": "stream",
     "text": [
      "\u001b[36m(train_lstm pid=61156)\u001b[0m Checkpoint successfully created at: Checkpoint(filesystem=local, path=E:/datasets/ray_results/lstm_experiment/train_lstm_e68fe_00051_51_2025-05-14_23-22-59/checkpoint_000047)\u001b[32m [repeated 42x across cluster]\u001b[0m\n"
     ]
    },
    {
     "name": "stdout",
     "output_type": "stream",
     "text": [
      "\u001b[36m(train_lstm pid=61156)\u001b[0m Epoch 470: loss = 0.000483\u001b[32m [repeated 42x across cluster]\u001b[0m\n"
     ]
    },
    {
     "name": "stderr",
     "output_type": "stream",
     "text": [
      "\u001b[36m(train_lstm pid=53032)\u001b[0m Checkpoint successfully created at: Checkpoint(filesystem=local, path=E:/datasets/ray_results/lstm_experiment/train_lstm_e68fe_00048_48_2025-05-14_23-22-59/checkpoint_000055)\u001b[32m [repeated 44x across cluster]\u001b[0m\n"
     ]
    },
    {
     "name": "stdout",
     "output_type": "stream",
     "text": [
      "\u001b[36m(train_lstm pid=53032)\u001b[0m Epoch 550: loss = 0.000429\u001b[32m [repeated 44x across cluster]\u001b[0m\n"
     ]
    },
    {
     "name": "stderr",
     "output_type": "stream",
     "text": [
      "\u001b[36m(train_lstm pid=56996)\u001b[0m Checkpoint successfully created at: Checkpoint(filesystem=local, path=E:/datasets/ray_results/lstm_experiment/train_lstm_e68fe_00049_49_2025-05-14_23-22-59/checkpoint_000062)\u001b[32m [repeated 48x across cluster]\u001b[0m\n"
     ]
    },
    {
     "name": "stdout",
     "output_type": "stream",
     "text": [
      "\u001b[36m(train_lstm pid=56996)\u001b[0m Epoch 620: loss = 0.000489\u001b[32m [repeated 48x across cluster]\u001b[0m\n"
     ]
    },
    {
     "name": "stderr",
     "output_type": "stream",
     "text": [
      "\u001b[36m(train_lstm pid=58268)\u001b[0m Checkpoint successfully created at: Checkpoint(filesystem=local, path=E:/datasets/ray_results/lstm_experiment/train_lstm_e68fe_00050_50_2025-05-14_23-22-59/checkpoint_000067)\u001b[32m [repeated 44x across cluster]\u001b[0m\n"
     ]
    },
    {
     "name": "stdout",
     "output_type": "stream",
     "text": [
      "\u001b[36m(train_lstm pid=58268)\u001b[0m Epoch 670: loss = 0.000331\u001b[32m [repeated 44x across cluster]\u001b[0m\n",
      "\u001b[36m(train_lstm pid=56996)\u001b[0m Epoch 740: loss = 0.000545\u001b[32m [repeated 48x across cluster]\u001b[0m\n"
     ]
    },
    {
     "name": "stderr",
     "output_type": "stream",
     "text": [
      "\u001b[36m(train_lstm pid=42588)\u001b[0m Checkpoint successfully created at: Checkpoint(filesystem=local, path=E:/datasets/ray_results/lstm_experiment/train_lstm_e68fe_00054_54_2025-05-14_23-22-59/checkpoint_000068)\u001b[32m [repeated 49x across cluster]\u001b[0m\n",
      "\u001b[36m(train_lstm pid=61156)\u001b[0m Checkpoint successfully created at: Checkpoint(filesystem=local, path=E:/datasets/ray_results/lstm_experiment/train_lstm_e68fe_00051_51_2025-05-14_23-22-59/checkpoint_000076)\u001b[32m [repeated 46x across cluster]\u001b[0m\n"
     ]
    },
    {
     "name": "stdout",
     "output_type": "stream",
     "text": [
      "\u001b[36m(train_lstm pid=61140)\u001b[0m Epoch 770: loss = 0.000422\u001b[32m [repeated 48x across cluster]\u001b[0m\n"
     ]
    },
    {
     "name": "stderr",
     "output_type": "stream",
     "text": [
      "\u001b[36m(train_lstm pid=50096)\u001b[0m Checkpoint successfully created at: Checkpoint(filesystem=local, path=E:/datasets/ray_results/lstm_experiment/train_lstm_e68fe_00055_55_2025-05-14_23-22-59/checkpoint_000062)\u001b[32m [repeated 26x across cluster]\u001b[0m\n"
     ]
    },
    {
     "name": "stdout",
     "output_type": "stream",
     "text": [
      "\u001b[36m(train_lstm pid=50096)\u001b[0m Epoch 620: loss = 0.000489\u001b[32m [repeated 25x across cluster]\u001b[0m\n"
     ]
    },
    {
     "name": "stderr",
     "output_type": "stream",
     "text": [
      "\u001b[36m(train_lstm pid=50096)\u001b[0m Checkpoint successfully created at: Checkpoint(filesystem=local, path=E:/datasets/ray_results/lstm_experiment/train_lstm_e68fe_00055_55_2025-05-14_23-22-59/checkpoint_000070)\u001b[32m [repeated 8x across cluster]\u001b[0m\n"
     ]
    },
    {
     "name": "stdout",
     "output_type": "stream",
     "text": [
      "\u001b[36m(train_lstm pid=50096)\u001b[0m Epoch 700: loss = 0.000551\u001b[32m [repeated 8x across cluster]\u001b[0m\n",
      "\u001b[36m(train_lstm pid=50096)\u001b[0m Epoch 790: loss = 0.000433\u001b[32m [repeated 9x across cluster]\u001b[0m\n"
     ]
    },
    {
     "name": "stderr",
     "output_type": "stream",
     "text": [
      "\u001b[36m(train_lstm pid=50096)\u001b[0m Checkpoint successfully created at: Checkpoint(filesystem=local, path=E:/datasets/ray_results/lstm_experiment/train_lstm_e68fe_00055_55_2025-05-14_23-22-59/checkpoint_000079)\u001b[32m [repeated 9x across cluster]\u001b[0m\n",
      "\u001b[36m(train_lstm pid=38452)\u001b[0m C:\\Users\\justi\\anaconda3\\Lib\\site-packages\\ray\\train\\_internal\\session.py:772: RayDeprecationWarning: `ray.train.report` should be switched to `ray.tune.report` when running in a function passed to Ray Tune. This will be an error in the future. See this issue for more context: https://github.com/ray-project/ray/issues/49454\n",
      "\u001b[36m(train_lstm pid=38452)\u001b[0m   _log_deprecation_warning(\n",
      "\u001b[36m(train_lstm pid=38452)\u001b[0m C:\\Users\\justi\\anaconda3\\Lib\\site-packages\\ray\\tune\\trainable\\trainable_fn_utils.py:41: RayDeprecationWarning: The `Checkpoint` class should be imported from `ray.tune` when passing it to `ray.tune.report` in a Tune function. Please update your imports. See this issue for more context and migration options: https://github.com/ray-project/ray/issues/49454. Disable these warnings by setting the environment variable: RAY_TRAIN_ENABLE_V2_MIGRATION_WARNINGS=0\n",
      "\u001b[36m(train_lstm pid=38452)\u001b[0m   _log_deprecation_warning(\n",
      "\u001b[36m(train_lstm pid=38452)\u001b[0m Checkpoint successfully created at: Checkpoint(filesystem=local, path=E:/datasets/ray_results/lstm_experiment/train_lstm_e68fe_00056_56_2025-05-14_23-22-59/checkpoint_000000)\n",
      "\u001b[36m(train_lstm pid=46176)\u001b[0m Checkpoint successfully created at: Checkpoint(filesystem=local, path=E:/datasets/ray_results/lstm_experiment/train_lstm_e68fe_00057_57_2025-05-14_23-22-59/checkpoint_000000)\n"
     ]
    },
    {
     "name": "stdout",
     "output_type": "stream",
     "text": [
      "\u001b[36m(train_lstm pid=38452)\u001b[0m Epoch 0: loss = 0.137683\n",
      "\u001b[36m(train_lstm pid=46176)\u001b[0m Epoch 0: loss = 0.137683\n",
      "\u001b[36m(train_lstm pid=46176)\u001b[0m Epoch 70: loss = 0.013584\u001b[32m [repeated 35x across cluster]\u001b[0m\n"
     ]
    },
    {
     "name": "stderr",
     "output_type": "stream",
     "text": [
      "\u001b[36m(train_lstm pid=57460)\u001b[0m C:\\Users\\justi\\anaconda3\\Lib\\site-packages\\ray\\train\\_internal\\session.py:772: RayDeprecationWarning: `ray.train.report` should be switched to `ray.tune.report` when running in a function passed to Ray Tune. This will be an error in the future. See this issue for more context: https://github.com/ray-project/ray/issues/49454\u001b[32m [repeated 6x across cluster]\u001b[0m\n",
      "\u001b[36m(train_lstm pid=57460)\u001b[0m   _log_deprecation_warning(\u001b[32m [repeated 12x across cluster]\u001b[0m\n",
      "\u001b[36m(train_lstm pid=57460)\u001b[0m C:\\Users\\justi\\anaconda3\\Lib\\site-packages\\ray\\tune\\trainable\\trainable_fn_utils.py:41: RayDeprecationWarning: The `Checkpoint` class should be imported from `ray.tune` when passing it to `ray.tune.report` in a Tune function. Please update your imports. See this issue for more context and migration options: https://github.com/ray-project/ray/issues/49454. Disable these warnings by setting the environment variable: RAY_TRAIN_ENABLE_V2_MIGRATION_WARNINGS=0\u001b[32m [repeated 6x across cluster]\u001b[0m\n",
      "\u001b[36m(train_lstm pid=57824)\u001b[0m Checkpoint successfully created at: Checkpoint(filesystem=local, path=E:/datasets/ray_results/lstm_experiment/train_lstm_e68fe_00060_60_2025-05-14_23-23-00/checkpoint_000004)\u001b[32m [repeated 35x across cluster]\u001b[0m\n",
      "\u001b[36m(train_lstm pid=38452)\u001b[0m Checkpoint successfully created at: Checkpoint(filesystem=local, path=E:/datasets/ray_results/lstm_experiment/train_lstm_e68fe_00056_56_2025-05-14_23-22-59/checkpoint_000013)\u001b[32m [repeated 44x across cluster]\u001b[0m\n"
     ]
    },
    {
     "name": "stdout",
     "output_type": "stream",
     "text": [
      "\u001b[36m(train_lstm pid=46604)\u001b[0m Epoch 100: loss = 0.006836\u001b[32m [repeated 45x across cluster]\u001b[0m\n"
     ]
    },
    {
     "name": "stderr",
     "output_type": "stream",
     "text": [
      "\u001b[36m(train_lstm pid=46176)\u001b[0m Checkpoint successfully created at: Checkpoint(filesystem=local, path=E:/datasets/ray_results/lstm_experiment/train_lstm_e68fe_00057_57_2025-05-14_23-22-59/checkpoint_000021)\u001b[32m [repeated 50x across cluster]\u001b[0m\n"
     ]
    },
    {
     "name": "stdout",
     "output_type": "stream",
     "text": [
      "\u001b[36m(train_lstm pid=46176)\u001b[0m Epoch 210: loss = 0.000853\u001b[32m [repeated 49x across cluster]\u001b[0m\n"
     ]
    },
    {
     "name": "stderr",
     "output_type": "stream",
     "text": [
      "\u001b[36m(train_lstm pid=38452)\u001b[0m Checkpoint successfully created at: Checkpoint(filesystem=local, path=E:/datasets/ray_results/lstm_experiment/train_lstm_e68fe_00056_56_2025-05-14_23-22-59/checkpoint_000027)\u001b[32m [repeated 48x across cluster]\u001b[0m\n"
     ]
    },
    {
     "name": "stdout",
     "output_type": "stream",
     "text": [
      "\u001b[36m(train_lstm pid=38452)\u001b[0m Epoch 270: loss = 0.000744\u001b[32m [repeated 48x across cluster]\u001b[0m\n",
      "\u001b[36m(train_lstm pid=46604)\u001b[0m Epoch 290: loss = 0.000597\u001b[32m [repeated 36x across cluster]\u001b[0m\n"
     ]
    },
    {
     "name": "stderr",
     "output_type": "stream",
     "text": [
      "\u001b[36m(train_lstm pid=46604)\u001b[0m Checkpoint successfully created at: Checkpoint(filesystem=local, path=E:/datasets/ray_results/lstm_experiment/train_lstm_e68fe_00059_59_2025-05-14_23-23-00/checkpoint_000029)\u001b[32m [repeated 36x across cluster]\u001b[0m\n",
      "\u001b[36m(train_lstm pid=61948)\u001b[0m C:\\Users\\justi\\anaconda3\\Lib\\site-packages\\ray\\train\\_internal\\session.py:772: RayDeprecationWarning: `ray.train.report` should be switched to `ray.tune.report` when running in a function passed to Ray Tune. This will be an error in the future. See this issue for more context: https://github.com/ray-project/ray/issues/49454\n",
      "\u001b[36m(train_lstm pid=61948)\u001b[0m   _log_deprecation_warning(\n",
      "\u001b[36m(train_lstm pid=61948)\u001b[0m C:\\Users\\justi\\anaconda3\\Lib\\site-packages\\ray\\tune\\trainable\\trainable_fn_utils.py:41: RayDeprecationWarning: The `Checkpoint` class should be imported from `ray.tune` when passing it to `ray.tune.report` in a Tune function. Please update your imports. See this issue for more context and migration options: https://github.com/ray-project/ray/issues/49454. Disable these warnings by setting the environment variable: RAY_TRAIN_ENABLE_V2_MIGRATION_WARNINGS=0\n",
      "\u001b[36m(train_lstm pid=61948)\u001b[0m   _log_deprecation_warning(\n"
     ]
    },
    {
     "name": "stdout",
     "output_type": "stream",
     "text": [
      "\u001b[36m(train_lstm pid=57824)\u001b[0m Epoch 360: loss = 0.000403\u001b[32m [repeated 50x across cluster]\u001b[0m\n"
     ]
    },
    {
     "name": "stderr",
     "output_type": "stream",
     "text": [
      "\u001b[36m(train_lstm pid=46604)\u001b[0m Checkpoint successfully created at: Checkpoint(filesystem=local, path=E:/datasets/ray_results/lstm_experiment/train_lstm_e68fe_00059_59_2025-05-14_23-23-00/checkpoint_000036)\u001b[32m [repeated 51x across cluster]\u001b[0m\n",
      "\u001b[33m(raylet)\u001b[0m [2025-05-14 23:37:44,440 E 39848 59404] (raylet.exe) worker_pool.cc:581: Some workers of the worker process(60276) have not registered within the timeout. The process is still alive, probably it's hanging during start.\n"
     ]
    },
    {
     "name": "stdout",
     "output_type": "stream",
     "text": [
      "\u001b[36m(train_lstm pid=57824)\u001b[0m Epoch 420: loss = 0.000511\u001b[32m [repeated 47x across cluster]\u001b[0m\n"
     ]
    },
    {
     "name": "stderr",
     "output_type": "stream",
     "text": [
      "\u001b[36m(train_lstm pid=57824)\u001b[0m Checkpoint successfully created at: Checkpoint(filesystem=local, path=E:/datasets/ray_results/lstm_experiment/train_lstm_e68fe_00060_60_2025-05-14_23-23-00/checkpoint_000042)\u001b[32m [repeated 46x across cluster]\u001b[0m\n"
     ]
    },
    {
     "name": "stdout",
     "output_type": "stream",
     "text": [
      "\u001b[36m(train_lstm pid=57824)\u001b[0m Epoch 480: loss = 0.000585\u001b[32m [repeated 48x across cluster]\u001b[0m\n"
     ]
    },
    {
     "name": "stderr",
     "output_type": "stream",
     "text": [
      "\u001b[36m(train_lstm pid=57824)\u001b[0m Checkpoint successfully created at: Checkpoint(filesystem=local, path=E:/datasets/ray_results/lstm_experiment/train_lstm_e68fe_00060_60_2025-05-14_23-23-00/checkpoint_000048)\u001b[32m [repeated 48x across cluster]\u001b[0m\n",
      "\u001b[36m(train_lstm pid=38452)\u001b[0m Checkpoint successfully created at: Checkpoint(filesystem=local, path=E:/datasets/ray_results/lstm_experiment/train_lstm_e68fe_00056_56_2025-05-14_23-22-59/checkpoint_000057)\u001b[32m [repeated 50x across cluster]\u001b[0m\n"
     ]
    },
    {
     "name": "stdout",
     "output_type": "stream",
     "text": [
      "\u001b[36m(train_lstm pid=38452)\u001b[0m Epoch 570: loss = 0.000241\u001b[32m [repeated 50x across cluster]\u001b[0m\n"
     ]
    },
    {
     "name": "stderr",
     "output_type": "stream",
     "text": [
      "\u001b[36m(train_lstm pid=46604)\u001b[0m Checkpoint successfully created at: Checkpoint(filesystem=local, path=E:/datasets/ray_results/lstm_experiment/train_lstm_e68fe_00059_59_2025-05-14_23-23-00/checkpoint_000060)\u001b[32m [repeated 49x across cluster]\u001b[0m\n"
     ]
    },
    {
     "name": "stdout",
     "output_type": "stream",
     "text": [
      "\u001b[36m(train_lstm pid=46604)\u001b[0m Epoch 600: loss = 0.000395\u001b[32m [repeated 49x across cluster]\u001b[0m\n"
     ]
    },
    {
     "name": "stderr",
     "output_type": "stream",
     "text": [
      "\u001b[36m(train_lstm pid=46176)\u001b[0m Checkpoint successfully created at: Checkpoint(filesystem=local, path=E:/datasets/ray_results/lstm_experiment/train_lstm_e68fe_00057_57_2025-05-14_23-22-59/checkpoint_000069)\u001b[32m [repeated 43x across cluster]\u001b[0m\n"
     ]
    },
    {
     "name": "stdout",
     "output_type": "stream",
     "text": [
      "\u001b[36m(train_lstm pid=46176)\u001b[0m Epoch 690: loss = 0.000597\u001b[32m [repeated 43x across cluster]\u001b[0m\n"
     ]
    },
    {
     "name": "stderr",
     "output_type": "stream",
     "text": [
      "\u001b[36m(train_lstm pid=60592)\u001b[0m Checkpoint successfully created at: Checkpoint(filesystem=local, path=E:/datasets/ray_results/lstm_experiment/train_lstm_e68fe_00058_58_2025-05-14_23-22-59/checkpoint_000073)\u001b[32m [repeated 51x across cluster]\u001b[0m\n"
     ]
    },
    {
     "name": "stdout",
     "output_type": "stream",
     "text": [
      "\u001b[36m(train_lstm pid=60592)\u001b[0m Epoch 730: loss = 0.000350\u001b[32m [repeated 51x across cluster]\u001b[0m\n",
      "\u001b[36m(train_lstm pid=57824)\u001b[0m Epoch 780: loss = 0.000374\u001b[32m [repeated 46x across cluster]\u001b[0m\n"
     ]
    },
    {
     "name": "stderr",
     "output_type": "stream",
     "text": [
      "\u001b[36m(train_lstm pid=46604)\u001b[0m Checkpoint successfully created at: Checkpoint(filesystem=local, path=E:/datasets/ray_results/lstm_experiment/train_lstm_e68fe_00059_59_2025-05-14_23-23-00/checkpoint_000078)\u001b[32m [repeated 46x across cluster]\u001b[0m\n"
     ]
    },
    {
     "name": "stdout",
     "output_type": "stream",
     "text": [
      "\u001b[36m(train_lstm pid=61948)\u001b[0m Epoch 550: loss = 0.000429\u001b[32m [repeated 17x across cluster]\u001b[0m\n"
     ]
    },
    {
     "name": "stderr",
     "output_type": "stream",
     "text": [
      "\u001b[36m(train_lstm pid=61948)\u001b[0m Checkpoint successfully created at: Checkpoint(filesystem=local, path=E:/datasets/ray_results/lstm_experiment/train_lstm_e68fe_00063_63_2025-05-14_23-23-00/checkpoint_000055)\u001b[32m [repeated 17x across cluster]\u001b[0m\n",
      "\u001b[36m(train_lstm pid=61948)\u001b[0m Checkpoint successfully created at: Checkpoint(filesystem=local, path=E:/datasets/ray_results/lstm_experiment/train_lstm_e68fe_00063_63_2025-05-14_23-23-00/checkpoint_000064)\u001b[32m [repeated 9x across cluster]\u001b[0m\n"
     ]
    },
    {
     "name": "stdout",
     "output_type": "stream",
     "text": [
      "\u001b[36m(train_lstm pid=61948)\u001b[0m Epoch 640: loss = 0.000374\u001b[32m [repeated 9x across cluster]\u001b[0m\n"
     ]
    },
    {
     "name": "stderr",
     "output_type": "stream",
     "text": [
      "\u001b[36m(train_lstm pid=61948)\u001b[0m Checkpoint successfully created at: Checkpoint(filesystem=local, path=E:/datasets/ray_results/lstm_experiment/train_lstm_e68fe_00063_63_2025-05-14_23-23-00/checkpoint_000074)\u001b[32m [repeated 10x across cluster]\u001b[0m\n"
     ]
    },
    {
     "name": "stdout",
     "output_type": "stream",
     "text": [
      "\u001b[36m(train_lstm pid=61948)\u001b[0m Epoch 740: loss = 0.000545\u001b[32m [repeated 10x across cluster]\u001b[0m\n",
      "\u001b[36m(train_lstm pid=60676)\u001b[0m Epoch 0: loss = 0.137683\u001b[32m [repeated 6x across cluster]\u001b[0m\n"
     ]
    },
    {
     "name": "stderr",
     "output_type": "stream",
     "text": [
      "\u001b[36m(train_lstm pid=60676)\u001b[0m C:\\Users\\justi\\anaconda3\\Lib\\site-packages\\ray\\train\\_internal\\session.py:772: RayDeprecationWarning: `ray.train.report` should be switched to `ray.tune.report` when running in a function passed to Ray Tune. This will be an error in the future. See this issue for more context: https://github.com/ray-project/ray/issues/49454\n",
      "\u001b[36m(train_lstm pid=60676)\u001b[0m   _log_deprecation_warning(\n",
      "\u001b[36m(train_lstm pid=60676)\u001b[0m C:\\Users\\justi\\anaconda3\\Lib\\site-packages\\ray\\tune\\trainable\\trainable_fn_utils.py:41: RayDeprecationWarning: The `Checkpoint` class should be imported from `ray.tune` when passing it to `ray.tune.report` in a Tune function. Please update your imports. See this issue for more context and migration options: https://github.com/ray-project/ray/issues/49454. Disable these warnings by setting the environment variable: RAY_TRAIN_ENABLE_V2_MIGRATION_WARNINGS=0\n",
      "\u001b[36m(train_lstm pid=60676)\u001b[0m   _log_deprecation_warning(\n",
      "\u001b[36m(train_lstm pid=61948)\u001b[0m Checkpoint successfully created at: Checkpoint(filesystem=local, path=E:/datasets/ray_results/lstm_experiment/train_lstm_e68fe_00063_63_2025-05-14_23-23-00/checkpoint_000079)\u001b[32m [repeated 5x across cluster]\u001b[0m\n",
      "\u001b[36m(train_lstm pid=61532)\u001b[0m C:\\Users\\justi\\anaconda3\\Lib\\site-packages\\ray\\train\\_internal\\session.py:772: RayDeprecationWarning: `ray.train.report` should be switched to `ray.tune.report` when running in a function passed to Ray Tune. This will be an error in the future. See this issue for more context: https://github.com/ray-project/ray/issues/49454\u001b[32m [repeated 5x across cluster]\u001b[0m\n",
      "\u001b[36m(train_lstm pid=61532)\u001b[0m   _log_deprecation_warning(\u001b[32m [repeated 10x across cluster]\u001b[0m\n",
      "\u001b[36m(train_lstm pid=61532)\u001b[0m C:\\Users\\justi\\anaconda3\\Lib\\site-packages\\ray\\tune\\trainable\\trainable_fn_utils.py:41: RayDeprecationWarning: The `Checkpoint` class should be imported from `ray.tune` when passing it to `ray.tune.report` in a Tune function. Please update your imports. See this issue for more context and migration options: https://github.com/ray-project/ray/issues/49454. Disable these warnings by setting the environment variable: RAY_TRAIN_ENABLE_V2_MIGRATION_WARNINGS=0\u001b[32m [repeated 5x across cluster]\u001b[0m\n",
      "\u001b[36m(train_lstm pid=62220)\u001b[0m Checkpoint successfully created at: Checkpoint(filesystem=local, path=E:/datasets/ray_results/lstm_experiment/train_lstm_e68fe_00069_69_2025-05-14_23-23-00/checkpoint_000002)\u001b[32m [repeated 32x across cluster]\u001b[0m\n"
     ]
    },
    {
     "name": "stdout",
     "output_type": "stream",
     "text": [
      "\u001b[36m(train_lstm pid=62220)\u001b[0m Epoch 20: loss = 0.024915\u001b[32m [repeated 31x across cluster]\u001b[0m\n"
     ]
    },
    {
     "name": "stderr",
     "output_type": "stream",
     "text": [
      "\u001b[36m(train_lstm pid=59076)\u001b[0m C:\\Users\\justi\\anaconda3\\Lib\\site-packages\\ray\\train\\_internal\\session.py:772: RayDeprecationWarning: `ray.train.report` should be switched to `ray.tune.report` when running in a function passed to Ray Tune. This will be an error in the future. See this issue for more context: https://github.com/ray-project/ray/issues/49454\n",
      "\u001b[36m(train_lstm pid=59076)\u001b[0m   _log_deprecation_warning(\u001b[32m [repeated 2x across cluster]\u001b[0m\n",
      "\u001b[36m(train_lstm pid=59076)\u001b[0m C:\\Users\\justi\\anaconda3\\Lib\\site-packages\\ray\\tune\\trainable\\trainable_fn_utils.py:41: RayDeprecationWarning: The `Checkpoint` class should be imported from `ray.tune` when passing it to `ray.tune.report` in a Tune function. Please update your imports. See this issue for more context and migration options: https://github.com/ray-project/ray/issues/49454. Disable these warnings by setting the environment variable: RAY_TRAIN_ENABLE_V2_MIGRATION_WARNINGS=0\n",
      "\u001b[36m(train_lstm pid=59100)\u001b[0m Checkpoint successfully created at: Checkpoint(filesystem=local, path=E:/datasets/ray_results/lstm_experiment/train_lstm_e68fe_00065_65_2025-05-14_23-23-00/checkpoint_000014)\u001b[32m [repeated 49x across cluster]\u001b[0m\n"
     ]
    },
    {
     "name": "stdout",
     "output_type": "stream",
     "text": [
      "\u001b[36m(train_lstm pid=59100)\u001b[0m Epoch 140: loss = 0.002262\u001b[32m [repeated 49x across cluster]\u001b[0m\n"
     ]
    },
    {
     "name": "stderr",
     "output_type": "stream",
     "text": [
      "\u001b[36m(train_lstm pid=60432)\u001b[0m Checkpoint successfully created at: Checkpoint(filesystem=local, path=E:/datasets/ray_results/lstm_experiment/train_lstm_e68fe_00067_67_2025-05-14_23-23-00/checkpoint_000019)\u001b[32m [repeated 49x across cluster]\u001b[0m\n"
     ]
    },
    {
     "name": "stdout",
     "output_type": "stream",
     "text": [
      "\u001b[36m(train_lstm pid=60432)\u001b[0m Epoch 190: loss = 0.001694\u001b[32m [repeated 49x across cluster]\u001b[0m\n"
     ]
    },
    {
     "name": "stderr",
     "output_type": "stream",
     "text": [
      "\u001b[36m(train_lstm pid=49400)\u001b[0m Checkpoint successfully created at: Checkpoint(filesystem=local, path=E:/datasets/ray_results/lstm_experiment/train_lstm_e68fe_00064_64_2025-05-14_23-23-00/checkpoint_000028)\u001b[32m [repeated 52x across cluster]\u001b[0m\n"
     ]
    },
    {
     "name": "stdout",
     "output_type": "stream",
     "text": [
      "\u001b[36m(train_lstm pid=59100)\u001b[0m Epoch 280: loss = 0.000555\u001b[32m [repeated 53x across cluster]\u001b[0m\n"
     ]
    },
    {
     "name": "stderr",
     "output_type": "stream",
     "text": [
      "\u001b[36m(train_lstm pid=62220)\u001b[0m Checkpoint successfully created at: Checkpoint(filesystem=local, path=E:/datasets/ray_results/lstm_experiment/train_lstm_e68fe_00069_69_2025-05-14_23-23-00/checkpoint_000030)\u001b[32m [repeated 52x across cluster]\u001b[0m\n"
     ]
    },
    {
     "name": "stdout",
     "output_type": "stream",
     "text": [
      "\u001b[36m(train_lstm pid=59076)\u001b[0m Epoch 290: loss = 0.000597\u001b[32m [repeated 52x across cluster]\u001b[0m\n"
     ]
    },
    {
     "name": "stderr",
     "output_type": "stream",
     "text": [
      "\u001b[36m(train_lstm pid=61640)\u001b[0m C:\\Users\\justi\\anaconda3\\Lib\\site-packages\\ray\\train\\_internal\\session.py:772: RayDeprecationWarning: `ray.train.report` should be switched to `ray.tune.report` when running in a function passed to Ray Tune. This will be an error in the future. See this issue for more context: https://github.com/ray-project/ray/issues/49454\n",
      "\u001b[36m(train_lstm pid=61640)\u001b[0m   _log_deprecation_warning(\n",
      "\u001b[36m(train_lstm pid=61640)\u001b[0m C:\\Users\\justi\\anaconda3\\Lib\\site-packages\\ray\\tune\\trainable\\trainable_fn_utils.py:41: RayDeprecationWarning: The `Checkpoint` class should be imported from `ray.tune` when passing it to `ray.tune.report` in a Tune function. Please update your imports. See this issue for more context and migration options: https://github.com/ray-project/ray/issues/49454. Disable these warnings by setting the environment variable: RAY_TRAIN_ENABLE_V2_MIGRATION_WARNINGS=0\n",
      "\u001b[36m(train_lstm pid=61640)\u001b[0m   _log_deprecation_warning(\n",
      "\u001b[36m(train_lstm pid=59100)\u001b[0m Checkpoint successfully created at: Checkpoint(filesystem=local, path=E:/datasets/ray_results/lstm_experiment/train_lstm_e68fe_00065_65_2025-05-14_23-23-00/checkpoint_000043)\u001b[32m [repeated 56x across cluster]\u001b[0m\n"
     ]
    },
    {
     "name": "stdout",
     "output_type": "stream",
     "text": [
      "\u001b[36m(train_lstm pid=59100)\u001b[0m Epoch 430: loss = 0.000807\u001b[32m [repeated 55x across cluster]\u001b[0m\n"
     ]
    },
    {
     "name": "stderr",
     "output_type": "stream",
     "text": [
      "\u001b[36m(train_lstm pid=61532)\u001b[0m Checkpoint successfully created at: Checkpoint(filesystem=local, path=E:/datasets/ray_results/lstm_experiment/train_lstm_e68fe_00068_68_2025-05-14_23-23-00/checkpoint_000044)\u001b[32m [repeated 52x across cluster]\u001b[0m\n"
     ]
    },
    {
     "name": "stdout",
     "output_type": "stream",
     "text": [
      "\u001b[36m(train_lstm pid=61532)\u001b[0m Epoch 440: loss = 0.000641\u001b[32m [repeated 52x across cluster]\u001b[0m\n",
      "\u001b[36m(train_lstm pid=61640)\u001b[0m Epoch 170: loss = 0.001462\u001b[32m [repeated 57x across cluster]\u001b[0m\n"
     ]
    },
    {
     "name": "stderr",
     "output_type": "stream",
     "text": [
      "\u001b[36m(train_lstm pid=61640)\u001b[0m Checkpoint successfully created at: Checkpoint(filesystem=local, path=E:/datasets/ray_results/lstm_experiment/train_lstm_e68fe_00071_71_2025-05-14_23-23-00/checkpoint_000017)\u001b[32m [repeated 57x across cluster]\u001b[0m\n"
     ]
    },
    {
     "name": "stdout",
     "output_type": "stream",
     "text": [
      "\u001b[36m(train_lstm pid=60676)\u001b[0m Epoch 660: loss = 0.000340\u001b[32m [repeated 57x across cluster]\u001b[0m\n"
     ]
    },
    {
     "name": "stderr",
     "output_type": "stream",
     "text": [
      "\u001b[36m(train_lstm pid=60432)\u001b[0m Checkpoint successfully created at: Checkpoint(filesystem=local, path=E:/datasets/ray_results/lstm_experiment/train_lstm_e68fe_00067_67_2025-05-14_23-23-00/checkpoint_000061)\u001b[32m [repeated 58x across cluster]\u001b[0m\n",
      "\u001b[36m(train_lstm pid=59100)\u001b[0m Checkpoint successfully created at: Checkpoint(filesystem=local, path=E:/datasets/ray_results/lstm_experiment/train_lstm_e68fe_00065_65_2025-05-14_23-23-00/checkpoint_000070)\u001b[32m [repeated 60x across cluster]\u001b[0m\n"
     ]
    },
    {
     "name": "stdout",
     "output_type": "stream",
     "text": [
      "\u001b[36m(train_lstm pid=59100)\u001b[0m Epoch 700: loss = 0.000551\u001b[32m [repeated 61x across cluster]\u001b[0m\n"
     ]
    },
    {
     "name": "stderr",
     "output_type": "stream",
     "text": [
      "\u001b[36m(train_lstm pid=59100)\u001b[0m Checkpoint successfully created at: Checkpoint(filesystem=local, path=E:/datasets/ray_results/lstm_experiment/train_lstm_e68fe_00065_65_2025-05-14_23-23-00/checkpoint_000077)\u001b[32m [repeated 57x across cluster]\u001b[0m\n"
     ]
    },
    {
     "name": "stdout",
     "output_type": "stream",
     "text": [
      "\u001b[36m(train_lstm pid=59100)\u001b[0m Epoch 770: loss = 0.000422\u001b[32m [repeated 57x across cluster]\u001b[0m\n"
     ]
    },
    {
     "name": "stderr",
     "output_type": "stream",
     "text": [
      "\u001b[36m(train_lstm pid=61640)\u001b[0m Checkpoint successfully created at: Checkpoint(filesystem=local, path=E:/datasets/ray_results/lstm_experiment/train_lstm_e68fe_00071_71_2025-05-14_23-23-00/checkpoint_000048)\u001b[32m [repeated 35x across cluster]\u001b[0m\n"
     ]
    },
    {
     "name": "stdout",
     "output_type": "stream",
     "text": [
      "\u001b[36m(train_lstm pid=61640)\u001b[0m Epoch 480: loss = 0.000585\u001b[32m [repeated 35x across cluster]\u001b[0m\n"
     ]
    },
    {
     "name": "stderr",
     "output_type": "stream",
     "text": [
      "\u001b[36m(train_lstm pid=61640)\u001b[0m Checkpoint successfully created at: Checkpoint(filesystem=local, path=E:/datasets/ray_results/lstm_experiment/train_lstm_e68fe_00071_71_2025-05-14_23-23-00/checkpoint_000057)\u001b[32m [repeated 9x across cluster]\u001b[0m\n"
     ]
    },
    {
     "name": "stdout",
     "output_type": "stream",
     "text": [
      "\u001b[36m(train_lstm pid=61640)\u001b[0m Epoch 570: loss = 0.000241\u001b[32m [repeated 9x across cluster]\u001b[0m\n"
     ]
    },
    {
     "name": "stderr",
     "output_type": "stream",
     "text": [
      "\u001b[36m(train_lstm pid=61640)\u001b[0m Checkpoint successfully created at: Checkpoint(filesystem=local, path=E:/datasets/ray_results/lstm_experiment/train_lstm_e68fe_00071_71_2025-05-14_23-23-00/checkpoint_000066)\u001b[32m [repeated 9x across cluster]\u001b[0m\n"
     ]
    },
    {
     "name": "stdout",
     "output_type": "stream",
     "text": [
      "\u001b[36m(train_lstm pid=61640)\u001b[0m Epoch 660: loss = 0.000340\u001b[32m [repeated 9x across cluster]\u001b[0m\n",
      "\u001b[36m(train_lstm pid=61640)\u001b[0m Epoch 760: loss = 0.000368\u001b[32m [repeated 10x across cluster]\u001b[0m\n"
     ]
    },
    {
     "name": "stderr",
     "output_type": "stream",
     "text": [
      "\u001b[36m(train_lstm pid=61640)\u001b[0m Checkpoint successfully created at: Checkpoint(filesystem=local, path=E:/datasets/ray_results/lstm_experiment/train_lstm_e68fe_00071_71_2025-05-14_23-23-00/checkpoint_000076)\u001b[32m [repeated 10x across cluster]\u001b[0m\n",
      "\u001b[36m(train_lstm pid=62236)\u001b[0m C:\\Users\\justi\\anaconda3\\Lib\\site-packages\\ray\\train\\_internal\\session.py:772: RayDeprecationWarning: `ray.train.report` should be switched to `ray.tune.report` when running in a function passed to Ray Tune. This will be an error in the future. See this issue for more context: https://github.com/ray-project/ray/issues/49454\n",
      "\u001b[36m(train_lstm pid=62236)\u001b[0m   _log_deprecation_warning(\n",
      "\u001b[36m(train_lstm pid=62236)\u001b[0m C:\\Users\\justi\\anaconda3\\Lib\\site-packages\\ray\\tune\\trainable\\trainable_fn_utils.py:41: RayDeprecationWarning: The `Checkpoint` class should be imported from `ray.tune` when passing it to `ray.tune.report` in a Tune function. Please update your imports. See this issue for more context and migration options: https://github.com/ray-project/ray/issues/49454. Disable these warnings by setting the environment variable: RAY_TRAIN_ENABLE_V2_MIGRATION_WARNINGS=0\n",
      "\u001b[36m(train_lstm pid=62236)\u001b[0m   _log_deprecation_warning(\n",
      "\u001b[36m(train_lstm pid=62236)\u001b[0m Checkpoint successfully created at: Checkpoint(filesystem=local, path=E:/datasets/ray_results/lstm_experiment/train_lstm_e68fe_00072_72_2025-05-14_23-23-00/checkpoint_000000)\u001b[32m [repeated 4x across cluster]\u001b[0m\n"
     ]
    },
    {
     "name": "stdout",
     "output_type": "stream",
     "text": [
      "\u001b[36m(train_lstm pid=62236)\u001b[0m Epoch 0: loss = 0.137683\u001b[32m [repeated 4x across cluster]\u001b[0m\n",
      "\u001b[36m(train_lstm pid=60980)\u001b[0m Epoch 40: loss = 0.023920\u001b[32m [repeated 47x across cluster]\u001b[0m\n"
     ]
    },
    {
     "name": "stderr",
     "output_type": "stream",
     "text": [
      "\u001b[36m(train_lstm pid=59192)\u001b[0m C:\\Users\\justi\\anaconda3\\Lib\\site-packages\\ray\\train\\_internal\\session.py:772: RayDeprecationWarning: `ray.train.report` should be switched to `ray.tune.report` when running in a function passed to Ray Tune. This will be an error in the future. See this issue for more context: https://github.com/ray-project/ray/issues/49454\u001b[32m [repeated 6x across cluster]\u001b[0m\n",
      "\u001b[36m(train_lstm pid=59192)\u001b[0m   _log_deprecation_warning(\u001b[32m [repeated 12x across cluster]\u001b[0m\n",
      "\u001b[36m(train_lstm pid=59192)\u001b[0m C:\\Users\\justi\\anaconda3\\Lib\\site-packages\\ray\\tune\\trainable\\trainable_fn_utils.py:41: RayDeprecationWarning: The `Checkpoint` class should be imported from `ray.tune` when passing it to `ray.tune.report` in a Tune function. Please update your imports. See this issue for more context and migration options: https://github.com/ray-project/ray/issues/49454. Disable these warnings by setting the environment variable: RAY_TRAIN_ENABLE_V2_MIGRATION_WARNINGS=0\u001b[32m [repeated 6x across cluster]\u001b[0m\n",
      "\u001b[36m(train_lstm pid=60980)\u001b[0m Checkpoint successfully created at: Checkpoint(filesystem=local, path=E:/datasets/ray_results/lstm_experiment/train_lstm_e68fe_00077_77_2025-05-14_23-23-00/checkpoint_000004)\u001b[32m [repeated 47x across cluster]\u001b[0m\n",
      "\u001b[36m(train_lstm pid=45612)\u001b[0m Checkpoint successfully created at: Checkpoint(filesystem=local, path=E:/datasets/ray_results/lstm_experiment/train_lstm_e68fe_00076_76_2025-05-14_23-23-00/checkpoint_000014)\u001b[32m [repeated 55x across cluster]\u001b[0m\n"
     ]
    },
    {
     "name": "stdout",
     "output_type": "stream",
     "text": [
      "\u001b[36m(train_lstm pid=62236)\u001b[0m Epoch 170: loss = 0.001462\u001b[32m [repeated 56x across cluster]\u001b[0m\n"
     ]
    },
    {
     "name": "stderr",
     "output_type": "stream",
     "text": [
      "\u001b[36m(train_lstm pid=57676)\u001b[0m Checkpoint successfully created at: Checkpoint(filesystem=local, path=E:/datasets/ray_results/lstm_experiment/train_lstm_e68fe_00075_75_2025-05-14_23-23-00/checkpoint_000023)\u001b[32m [repeated 51x across cluster]\u001b[0m\n"
     ]
    },
    {
     "name": "stdout",
     "output_type": "stream",
     "text": [
      "\u001b[36m(train_lstm pid=62236)\u001b[0m Epoch 250: loss = 0.000718\u001b[32m [repeated 56x across cluster]\u001b[0m\n"
     ]
    },
    {
     "name": "stderr",
     "output_type": "stream",
     "text": [
      "\u001b[36m(train_lstm pid=4476)\u001b[0m Checkpoint successfully created at: Checkpoint(filesystem=local, path=E:/datasets/ray_results/lstm_experiment/train_lstm_e68fe_00074_74_2025-05-14_23-23-00/checkpoint_000031)\u001b[32m [repeated 56x across cluster]\u001b[0m\n"
     ]
    },
    {
     "name": "stdout",
     "output_type": "stream",
     "text": [
      "\u001b[36m(train_lstm pid=9720)\u001b[0m Epoch 310: loss = 0.000959\u001b[32m [repeated 53x across cluster]\u001b[0m\n"
     ]
    },
    {
     "name": "stderr",
     "output_type": "stream",
     "text": [
      "\u001b[36m(train_lstm pid=57676)\u001b[0m Checkpoint successfully created at: Checkpoint(filesystem=local, path=E:/datasets/ray_results/lstm_experiment/train_lstm_e68fe_00075_75_2025-05-14_23-23-00/checkpoint_000038)\u001b[32m [repeated 49x across cluster]\u001b[0m\n"
     ]
    },
    {
     "name": "stdout",
     "output_type": "stream",
     "text": [
      "\u001b[36m(train_lstm pid=60980)\u001b[0m Epoch 340: loss = 0.000509\u001b[32m [repeated 51x across cluster]\u001b[0m\n"
     ]
    },
    {
     "name": "stderr",
     "output_type": "stream",
     "text": [
      "\u001b[36m(train_lstm pid=62236)\u001b[0m Checkpoint successfully created at: Checkpoint(filesystem=local, path=E:/datasets/ray_results/lstm_experiment/train_lstm_e68fe_00072_72_2025-05-14_23-23-00/checkpoint_000047)\u001b[32m [repeated 49x across cluster]\u001b[0m\n"
     ]
    },
    {
     "name": "stdout",
     "output_type": "stream",
     "text": [
      "\u001b[36m(train_lstm pid=62236)\u001b[0m Epoch 480: loss = 0.000585\u001b[32m [repeated 51x across cluster]\u001b[0m\n"
     ]
    },
    {
     "name": "stderr",
     "output_type": "stream",
     "text": [
      "\u001b[36m(train_lstm pid=57832)\u001b[0m C:\\Users\\justi\\anaconda3\\Lib\\site-packages\\ray\\train\\_internal\\session.py:772: RayDeprecationWarning: `ray.train.report` should be switched to `ray.tune.report` when running in a function passed to Ray Tune. This will be an error in the future. See this issue for more context: https://github.com/ray-project/ray/issues/49454\n",
      "\u001b[36m(train_lstm pid=57832)\u001b[0m   _log_deprecation_warning(\n",
      "\u001b[36m(train_lstm pid=57832)\u001b[0m C:\\Users\\justi\\anaconda3\\Lib\\site-packages\\ray\\tune\\trainable\\trainable_fn_utils.py:41: RayDeprecationWarning: The `Checkpoint` class should be imported from `ray.tune` when passing it to `ray.tune.report` in a Tune function. Please update your imports. See this issue for more context and migration options: https://github.com/ray-project/ray/issues/49454. Disable these warnings by setting the environment variable: RAY_TRAIN_ENABLE_V2_MIGRATION_WARNINGS=0\n",
      "\u001b[36m(train_lstm pid=57832)\u001b[0m   _log_deprecation_warning(\n",
      "\u001b[36m(train_lstm pid=45612)\u001b[0m Checkpoint successfully created at: Checkpoint(filesystem=local, path=E:/datasets/ray_results/lstm_experiment/train_lstm_e68fe_00076_76_2025-05-14_23-23-00/checkpoint_000050)\u001b[32m [repeated 50x across cluster]\u001b[0m\n"
     ]
    },
    {
     "name": "stdout",
     "output_type": "stream",
     "text": [
      "\u001b[36m(train_lstm pid=4476)\u001b[0m Epoch 520: loss = 0.000735\u001b[32m [repeated 50x across cluster]\u001b[0m\n"
     ]
    },
    {
     "name": "stderr",
     "output_type": "stream",
     "text": [
      "\u001b[36m(train_lstm pid=45612)\u001b[0m Checkpoint successfully created at: Checkpoint(filesystem=local, path=E:/datasets/ray_results/lstm_experiment/train_lstm_e68fe_00076_76_2025-05-14_23-23-00/checkpoint_000056)\u001b[32m [repeated 49x across cluster]\u001b[0m\n"
     ]
    },
    {
     "name": "stdout",
     "output_type": "stream",
     "text": [
      "\u001b[36m(train_lstm pid=45612)\u001b[0m Epoch 570: loss = 0.000241\u001b[32m [repeated 50x across cluster]\u001b[0m\n"
     ]
    },
    {
     "name": "stderr",
     "output_type": "stream",
     "text": [
      "\u001b[36m(train_lstm pid=60980)\u001b[0m Checkpoint successfully created at: Checkpoint(filesystem=local, path=E:/datasets/ray_results/lstm_experiment/train_lstm_e68fe_00077_77_2025-05-14_23-23-00/checkpoint_000059)\u001b[32m [repeated 49x across cluster]\u001b[0m\n"
     ]
    },
    {
     "name": "stdout",
     "output_type": "stream",
     "text": [
      "\u001b[36m(train_lstm pid=62236)\u001b[0m Epoch 680: loss = 0.000409\u001b[32m [repeated 47x across cluster]\u001b[0m\n"
     ]
    },
    {
     "name": "stderr",
     "output_type": "stream",
     "text": [
      "\u001b[36m(train_lstm pid=62236)\u001b[0m Checkpoint successfully created at: Checkpoint(filesystem=local, path=E:/datasets/ray_results/lstm_experiment/train_lstm_e68fe_00072_72_2025-05-14_23-23-00/checkpoint_000074)\u001b[32m [repeated 50x across cluster]\u001b[0m\n"
     ]
    },
    {
     "name": "stdout",
     "output_type": "stream",
     "text": [
      "\u001b[36m(train_lstm pid=45612)\u001b[0m Epoch 690: loss = 0.000597\u001b[32m [repeated 53x across cluster]\u001b[0m\n"
     ]
    },
    {
     "name": "stderr",
     "output_type": "stream",
     "text": [
      "\u001b[36m(train_lstm pid=45612)\u001b[0m Checkpoint successfully created at: Checkpoint(filesystem=local, path=E:/datasets/ray_results/lstm_experiment/train_lstm_e68fe_00076_76_2025-05-14_23-23-00/checkpoint_000073)\u001b[32m [repeated 41x across cluster]\u001b[0m\n"
     ]
    },
    {
     "name": "stdout",
     "output_type": "stream",
     "text": [
      "\u001b[36m(train_lstm pid=4476)\u001b[0m Epoch 760: loss = 0.000368\u001b[32m [repeated 42x across cluster]\u001b[0m\n"
     ]
    },
    {
     "name": "stderr",
     "output_type": "stream",
     "text": [
      "\u001b[36m(train_lstm pid=60980)\u001b[0m Checkpoint successfully created at: Checkpoint(filesystem=local, path=E:/datasets/ray_results/lstm_experiment/train_lstm_e68fe_00077_77_2025-05-14_23-23-00/checkpoint_000078)\u001b[32m [repeated 46x across cluster]\u001b[0m\n"
     ]
    },
    {
     "name": "stdout",
     "output_type": "stream",
     "text": [
      "\u001b[36m(train_lstm pid=60980)\u001b[0m Epoch 790: loss = 0.000433\u001b[32m [repeated 39x across cluster]\u001b[0m\n"
     ]
    },
    {
     "name": "stderr",
     "output_type": "stream",
     "text": [
      "\u001b[36m(train_lstm pid=57832)\u001b[0m Checkpoint successfully created at: Checkpoint(filesystem=local, path=E:/datasets/ray_results/lstm_experiment/train_lstm_e68fe_00079_79_2025-05-14_23-23-00/checkpoint_000043)\u001b[32m [repeated 11x across cluster]\u001b[0m\n"
     ]
    },
    {
     "name": "stdout",
     "output_type": "stream",
     "text": [
      "\u001b[36m(train_lstm pid=57832)\u001b[0m Epoch 450: loss = 0.000486\u001b[32m [repeated 10x across cluster]\u001b[0m\n"
     ]
    },
    {
     "name": "stderr",
     "output_type": "stream",
     "text": [
      "\u001b[36m(train_lstm pid=57832)\u001b[0m Checkpoint successfully created at: Checkpoint(filesystem=local, path=E:/datasets/ray_results/lstm_experiment/train_lstm_e68fe_00079_79_2025-05-14_23-23-00/checkpoint_000052)\u001b[32m [repeated 9x across cluster]\u001b[0m\n"
     ]
    },
    {
     "name": "stdout",
     "output_type": "stream",
     "text": [
      "\u001b[36m(train_lstm pid=57832)\u001b[0m Epoch 540: loss = 0.000524\u001b[32m [repeated 9x across cluster]\u001b[0m\n"
     ]
    },
    {
     "name": "stderr",
     "output_type": "stream",
     "text": [
      "\u001b[36m(train_lstm pid=57832)\u001b[0m Checkpoint successfully created at: Checkpoint(filesystem=local, path=E:/datasets/ray_results/lstm_experiment/train_lstm_e68fe_00079_79_2025-05-14_23-23-00/checkpoint_000061)\u001b[32m [repeated 9x across cluster]\u001b[0m\n"
     ]
    },
    {
     "name": "stdout",
     "output_type": "stream",
     "text": [
      "\u001b[36m(train_lstm pid=57832)\u001b[0m Epoch 630: loss = 0.000408\u001b[32m [repeated 9x across cluster]\u001b[0m\n"
     ]
    },
    {
     "name": "stderr",
     "output_type": "stream",
     "text": [
      "\u001b[36m(train_lstm pid=57832)\u001b[0m Checkpoint successfully created at: Checkpoint(filesystem=local, path=E:/datasets/ray_results/lstm_experiment/train_lstm_e68fe_00079_79_2025-05-14_23-23-00/checkpoint_000069)\u001b[32m [repeated 8x across cluster]\u001b[0m\n"
     ]
    },
    {
     "name": "stdout",
     "output_type": "stream",
     "text": [
      "\u001b[36m(train_lstm pid=57832)\u001b[0m Epoch 710: loss = 0.000455\u001b[32m [repeated 8x across cluster]\u001b[0m\n"
     ]
    },
    {
     "name": "stderr",
     "output_type": "stream",
     "text": [
      "\u001b[36m(train_lstm pid=57400)\u001b[0m C:\\Users\\justi\\anaconda3\\Lib\\site-packages\\ray\\train\\_internal\\session.py:772: RayDeprecationWarning: `ray.train.report` should be switched to `ray.tune.report` when running in a function passed to Ray Tune. This will be an error in the future. See this issue for more context: https://github.com/ray-project/ray/issues/49454\n",
      "\u001b[36m(train_lstm pid=57400)\u001b[0m   _log_deprecation_warning(\n",
      "\u001b[36m(train_lstm pid=57832)\u001b[0m Checkpoint successfully created at: Checkpoint(filesystem=local, path=E:/datasets/ray_results/lstm_experiment/train_lstm_e68fe_00079_79_2025-05-14_23-23-00/checkpoint_000077)\u001b[32m [repeated 8x across cluster]\u001b[0m\n",
      "\u001b[36m(train_lstm pid=45256)\u001b[0m C:\\Users\\justi\\anaconda3\\Lib\\site-packages\\ray\\tune\\trainable\\trainable_fn_utils.py:41: RayDeprecationWarning: The `Checkpoint` class should be imported from `ray.tune` when passing it to `ray.tune.report` in a Tune function. Please update your imports. See this issue for more context and migration options: https://github.com/ray-project/ray/issues/49454. Disable these warnings by setting the environment variable: RAY_TRAIN_ENABLE_V2_MIGRATION_WARNINGS=0\n"
     ]
    },
    {
     "name": "stdout",
     "output_type": "stream",
     "text": [
      "\u001b[36m(train_lstm pid=60496)\u001b[0m Epoch 10: loss = 0.035809\u001b[32m [repeated 16x across cluster]\u001b[0m\n"
     ]
    },
    {
     "name": "stderr",
     "output_type": "stream",
     "text": [
      "\u001b[36m(train_lstm pid=61940)\u001b[0m C:\\Users\\justi\\anaconda3\\Lib\\site-packages\\ray\\train\\_internal\\session.py:772: RayDeprecationWarning: `ray.train.report` should be switched to `ray.tune.report` when running in a function passed to Ray Tune. This will be an error in the future. See this issue for more context: https://github.com/ray-project/ray/issues/49454\u001b[32m [repeated 6x across cluster]\u001b[0m\n",
      "\u001b[36m(train_lstm pid=61940)\u001b[0m   _log_deprecation_warning(\u001b[32m [repeated 13x across cluster]\u001b[0m\n",
      "\u001b[36m(train_lstm pid=57400)\u001b[0m Checkpoint successfully created at: Checkpoint(filesystem=local, path=E:/datasets/ray_results/lstm_experiment/train_lstm_e68fe_00080_80_2025-05-14_23-23-00/checkpoint_000008)\u001b[32m [repeated 45x across cluster]\u001b[0m\n",
      "\u001b[36m(train_lstm pid=61940)\u001b[0m C:\\Users\\justi\\anaconda3\\Lib\\site-packages\\ray\\tune\\trainable\\trainable_fn_utils.py:41: RayDeprecationWarning: The `Checkpoint` class should be imported from `ray.tune` when passing it to `ray.tune.report` in a Tune function. Please update your imports. See this issue for more context and migration options: https://github.com/ray-project/ray/issues/49454. Disable these warnings by setting the environment variable: RAY_TRAIN_ENABLE_V2_MIGRATION_WARNINGS=0\u001b[32m [repeated 6x across cluster]\u001b[0m\n"
     ]
    },
    {
     "name": "stdout",
     "output_type": "stream",
     "text": [
      "\u001b[36m(train_lstm pid=61860)\u001b[0m Epoch 50: loss = 0.020813\u001b[32m [repeated 48x across cluster]\u001b[0m\n"
     ]
    },
    {
     "name": "stderr",
     "output_type": "stream",
     "text": [
      "\u001b[36m(train_lstm pid=57400)\u001b[0m Checkpoint successfully created at: Checkpoint(filesystem=local, path=E:/datasets/ray_results/lstm_experiment/train_lstm_e68fe_00080_80_2025-05-14_23-23-00/checkpoint_000015)\u001b[32m [repeated 49x across cluster]\u001b[0m\n"
     ]
    },
    {
     "name": "stdout",
     "output_type": "stream",
     "text": [
      "\u001b[36m(train_lstm pid=49892)\u001b[0m Epoch 120: loss = 0.003269\u001b[32m [repeated 48x across cluster]\u001b[0m\n"
     ]
    },
    {
     "name": "stderr",
     "output_type": "stream",
     "text": [
      "\u001b[36m(train_lstm pid=57400)\u001b[0m Checkpoint successfully created at: Checkpoint(filesystem=local, path=E:/datasets/ray_results/lstm_experiment/train_lstm_e68fe_00080_80_2025-05-14_23-23-00/checkpoint_000022)\u001b[32m [repeated 48x across cluster]\u001b[0m\n"
     ]
    },
    {
     "name": "stdout",
     "output_type": "stream",
     "text": [
      "\u001b[36m(train_lstm pid=49892)\u001b[0m Epoch 190: loss = 0.001694\u001b[32m [repeated 49x across cluster]\u001b[0m\n"
     ]
    },
    {
     "name": "stderr",
     "output_type": "stream",
     "text": [
      "\u001b[36m(train_lstm pid=60496)\u001b[0m Checkpoint successfully created at: Checkpoint(filesystem=local, path=E:/datasets/ray_results/lstm_experiment/train_lstm_e68fe_00082_82_2025-05-14_23-23-00/checkpoint_000028)\u001b[32m [repeated 49x across cluster]\u001b[0m\n"
     ]
    },
    {
     "name": "stdout",
     "output_type": "stream",
     "text": [
      "\u001b[36m(train_lstm pid=57400)\u001b[0m Epoch 300: loss = 0.000877\u001b[32m [repeated 47x across cluster]\u001b[0m\n"
     ]
    },
    {
     "name": "stderr",
     "output_type": "stream",
     "text": [
      "\u001b[36m(train_lstm pid=61860)\u001b[0m Checkpoint successfully created at: Checkpoint(filesystem=local, path=E:/datasets/ray_results/lstm_experiment/train_lstm_e68fe_00085_85_2025-05-14_23-23-00/checkpoint_000030)\u001b[32m [repeated 42x across cluster]\u001b[0m\n"
     ]
    },
    {
     "name": "stdout",
     "output_type": "stream",
     "text": [
      "\u001b[36m(train_lstm pid=60496)\u001b[0m Epoch 350: loss = 0.000596\u001b[32m [repeated 40x across cluster]\u001b[0m\n"
     ]
    },
    {
     "name": "stderr",
     "output_type": "stream",
     "text": [
      "\u001b[36m(train_lstm pid=49892)\u001b[0m Checkpoint successfully created at: Checkpoint(filesystem=local, path=E:/datasets/ray_results/lstm_experiment/train_lstm_e68fe_00084_84_2025-05-14_23-23-00/checkpoint_000035)\u001b[32m [repeated 36x across cluster]\u001b[0m\n"
     ]
    },
    {
     "name": "stdout",
     "output_type": "stream",
     "text": [
      "\u001b[36m(train_lstm pid=60496)\u001b[0m Epoch 400: loss = 0.000523\u001b[32m [repeated 35x across cluster]\u001b[0m\n"
     ]
    },
    {
     "name": "stderr",
     "output_type": "stream",
     "text": [
      "\u001b[36m(train_lstm pid=61940)\u001b[0m Checkpoint successfully created at: Checkpoint(filesystem=local, path=E:/datasets/ray_results/lstm_experiment/train_lstm_e68fe_00086_86_2025-05-14_23-23-00/checkpoint_000044)\u001b[32m [repeated 35x across cluster]\u001b[0m\n"
     ]
    },
    {
     "name": "stdout",
     "output_type": "stream",
     "text": [
      "\u001b[36m(train_lstm pid=59964)\u001b[0m Epoch 450: loss = 0.000486\u001b[32m [repeated 35x across cluster]\u001b[0m\n"
     ]
    },
    {
     "name": "stderr",
     "output_type": "stream",
     "text": [
      "\u001b[36m(train_lstm pid=61860)\u001b[0m Checkpoint successfully created at: Checkpoint(filesystem=local, path=E:/datasets/ray_results/lstm_experiment/train_lstm_e68fe_00085_85_2025-05-14_23-23-00/checkpoint_000045)\u001b[32m [repeated 37x across cluster]\u001b[0m\n"
     ]
    },
    {
     "name": "stdout",
     "output_type": "stream",
     "text": [
      "\u001b[36m(train_lstm pid=49892)\u001b[0m Epoch 460: loss = 0.000471\u001b[32m [repeated 37x across cluster]\u001b[0m\n"
     ]
    },
    {
     "name": "stderr",
     "output_type": "stream",
     "text": [
      "\u001b[36m(train_lstm pid=57400)\u001b[0m Checkpoint successfully created at: Checkpoint(filesystem=local, path=E:/datasets/ray_results/lstm_experiment/train_lstm_e68fe_00080_80_2025-05-14_23-23-00/checkpoint_000055)\u001b[32m [repeated 42x across cluster]\u001b[0m\n"
     ]
    },
    {
     "name": "stdout",
     "output_type": "stream",
     "text": [
      "\u001b[36m(train_lstm pid=45256)\u001b[0m Epoch 560: loss = 0.000653\u001b[32m [repeated 45x across cluster]\u001b[0m\n"
     ]
    },
    {
     "name": "stderr",
     "output_type": "stream",
     "text": [
      "\u001b[36m(train_lstm pid=59964)\u001b[0m Checkpoint successfully created at: Checkpoint(filesystem=local, path=E:/datasets/ray_results/lstm_experiment/train_lstm_e68fe_00083_83_2025-05-14_23-23-00/checkpoint_000060)\u001b[32m [repeated 36x across cluster]\u001b[0m\n"
     ]
    },
    {
     "name": "stdout",
     "output_type": "stream",
     "text": [
      "\u001b[36m(train_lstm pid=45256)\u001b[0m Epoch 610: loss = 0.000331\u001b[32m [repeated 35x across cluster]\u001b[0m\n"
     ]
    },
    {
     "name": "stderr",
     "output_type": "stream",
     "text": [
      "\u001b[36m(train_lstm pid=57400)\u001b[0m Checkpoint successfully created at: Checkpoint(filesystem=local, path=E:/datasets/ray_results/lstm_experiment/train_lstm_e68fe_00080_80_2025-05-14_23-23-00/checkpoint_000067)\u001b[32m [repeated 45x across cluster]\u001b[0m\n"
     ]
    },
    {
     "name": "stdout",
     "output_type": "stream",
     "text": [
      "\u001b[36m(train_lstm pid=57400)\u001b[0m Epoch 680: loss = 0.000409\u001b[32m [repeated 45x across cluster]\u001b[0m\n"
     ]
    },
    {
     "name": "stderr",
     "output_type": "stream",
     "text": [
      "\u001b[36m(train_lstm pid=45256)\u001b[0m Checkpoint successfully created at: Checkpoint(filesystem=local, path=E:/datasets/ray_results/lstm_experiment/train_lstm_e68fe_00081_81_2025-05-14_23-23-00/checkpoint_000073)\u001b[32m [repeated 48x across cluster]\u001b[0m\n"
     ]
    },
    {
     "name": "stdout",
     "output_type": "stream",
     "text": [
      "\u001b[36m(train_lstm pid=60496)\u001b[0m Epoch 750: loss = 0.000344\u001b[32m [repeated 43x across cluster]\u001b[0m\n"
     ]
    },
    {
     "name": "stderr",
     "output_type": "stream",
     "text": [
      "\u001b[36m(train_lstm pid=42740)\u001b[0m C:\\Users\\justi\\anaconda3\\Lib\\site-packages\\ray\\train\\_internal\\session.py:772: RayDeprecationWarning: `ray.train.report` should be switched to `ray.tune.report` when running in a function passed to Ray Tune. This will be an error in the future. See this issue for more context: https://github.com/ray-project/ray/issues/49454\n",
      "\u001b[36m(train_lstm pid=42740)\u001b[0m   _log_deprecation_warning(\n",
      "\u001b[36m(train_lstm pid=42740)\u001b[0m C:\\Users\\justi\\anaconda3\\Lib\\site-packages\\ray\\tune\\trainable\\trainable_fn_utils.py:41: RayDeprecationWarning: The `Checkpoint` class should be imported from `ray.tune` when passing it to `ray.tune.report` in a Tune function. Please update your imports. See this issue for more context and migration options: https://github.com/ray-project/ray/issues/49454. Disable these warnings by setting the environment variable: RAY_TRAIN_ENABLE_V2_MIGRATION_WARNINGS=0\n",
      "\u001b[36m(train_lstm pid=42740)\u001b[0m   _log_deprecation_warning(\n",
      "\u001b[36m(train_lstm pid=59964)\u001b[0m Checkpoint successfully created at: Checkpoint(filesystem=local, path=E:/datasets/ray_results/lstm_experiment/train_lstm_e68fe_00083_83_2025-05-14_23-23-00/checkpoint_000078)\u001b[32m [repeated 41x across cluster]\u001b[0m\n"
     ]
    },
    {
     "name": "stdout",
     "output_type": "stream",
     "text": [
      "\u001b[36m(train_lstm pid=45256)\u001b[0m Epoch 790: loss = 0.000433\u001b[32m [repeated 40x across cluster]\u001b[0m\n"
     ]
    },
    {
     "name": "stderr",
     "output_type": "stream",
     "text": [
      "\u001b[36m(train_lstm pid=42740)\u001b[0m Checkpoint successfully created at: Checkpoint(filesystem=local, path=E:/datasets/ray_results/lstm_experiment/train_lstm_e68fe_00087_87_2025-05-14_23-23-00/checkpoint_000011)\u001b[32m [repeated 21x across cluster]\u001b[0m\n"
     ]
    },
    {
     "name": "stdout",
     "output_type": "stream",
     "text": [
      "\u001b[36m(train_lstm pid=42740)\u001b[0m Epoch 120: loss = 0.003269\u001b[32m [repeated 18x across cluster]\u001b[0m\n"
     ]
    },
    {
     "name": "stderr",
     "output_type": "stream",
     "text": [
      "\u001b[36m(train_lstm pid=42740)\u001b[0m Checkpoint successfully created at: Checkpoint(filesystem=local, path=E:/datasets/ray_results/lstm_experiment/train_lstm_e68fe_00087_87_2025-05-14_23-23-00/checkpoint_000020)\u001b[32m [repeated 9x across cluster]\u001b[0m\n"
     ]
    },
    {
     "name": "stdout",
     "output_type": "stream",
     "text": [
      "\u001b[36m(train_lstm pid=42740)\u001b[0m Epoch 210: loss = 0.000853\u001b[32m [repeated 9x across cluster]\u001b[0m\n"
     ]
    },
    {
     "name": "stderr",
     "output_type": "stream",
     "text": [
      "\u001b[36m(train_lstm pid=42740)\u001b[0m Checkpoint successfully created at: Checkpoint(filesystem=local, path=E:/datasets/ray_results/lstm_experiment/train_lstm_e68fe_00087_87_2025-05-14_23-23-00/checkpoint_000027)\u001b[32m [repeated 7x across cluster]\u001b[0m\n"
     ]
    },
    {
     "name": "stdout",
     "output_type": "stream",
     "text": [
      "\u001b[36m(train_lstm pid=42740)\u001b[0m Epoch 280: loss = 0.000555\u001b[32m [repeated 7x across cluster]\u001b[0m\n"
     ]
    },
    {
     "name": "stderr",
     "output_type": "stream",
     "text": [
      "\u001b[36m(train_lstm pid=42740)\u001b[0m Checkpoint successfully created at: Checkpoint(filesystem=local, path=E:/datasets/ray_results/lstm_experiment/train_lstm_e68fe_00087_87_2025-05-14_23-23-00/checkpoint_000035)\u001b[32m [repeated 8x across cluster]\u001b[0m\n"
     ]
    },
    {
     "name": "stdout",
     "output_type": "stream",
     "text": [
      "\u001b[36m(train_lstm pid=42740)\u001b[0m Epoch 360: loss = 0.000403\u001b[32m [repeated 8x across cluster]\u001b[0m\n"
     ]
    },
    {
     "name": "stderr",
     "output_type": "stream",
     "text": [
      "\u001b[36m(train_lstm pid=42740)\u001b[0m Checkpoint successfully created at: Checkpoint(filesystem=local, path=E:/datasets/ray_results/lstm_experiment/train_lstm_e68fe_00087_87_2025-05-14_23-23-00/checkpoint_000044)\u001b[32m [repeated 9x across cluster]\u001b[0m\n"
     ]
    },
    {
     "name": "stdout",
     "output_type": "stream",
     "text": [
      "\u001b[36m(train_lstm pid=42740)\u001b[0m Epoch 450: loss = 0.000486\u001b[32m [repeated 9x across cluster]\u001b[0m\n"
     ]
    },
    {
     "name": "stderr",
     "output_type": "stream",
     "text": [
      "\u001b[36m(train_lstm pid=42740)\u001b[0m Checkpoint successfully created at: Checkpoint(filesystem=local, path=E:/datasets/ray_results/lstm_experiment/train_lstm_e68fe_00087_87_2025-05-14_23-23-00/checkpoint_000051)\u001b[32m [repeated 7x across cluster]\u001b[0m\n"
     ]
    },
    {
     "name": "stdout",
     "output_type": "stream",
     "text": [
      "\u001b[36m(train_lstm pid=42740)\u001b[0m Epoch 520: loss = 0.000735\u001b[32m [repeated 7x across cluster]\u001b[0m\n"
     ]
    },
    {
     "name": "stderr",
     "output_type": "stream",
     "text": [
      "\u001b[36m(train_lstm pid=62316)\u001b[0m C:\\Users\\justi\\anaconda3\\Lib\\site-packages\\ray\\train\\_internal\\session.py:772: RayDeprecationWarning: `ray.train.report` should be switched to `ray.tune.report` when running in a function passed to Ray Tune. This will be an error in the future. See this issue for more context: https://github.com/ray-project/ray/issues/49454\n",
      "\u001b[36m(train_lstm pid=62316)\u001b[0m   _log_deprecation_warning(\n",
      "\u001b[36m(train_lstm pid=62316)\u001b[0m C:\\Users\\justi\\anaconda3\\Lib\\site-packages\\ray\\tune\\trainable\\trainable_fn_utils.py:41: RayDeprecationWarning: The `Checkpoint` class should be imported from `ray.tune` when passing it to `ray.tune.report` in a Tune function. Please update your imports. See this issue for more context and migration options: https://github.com/ray-project/ray/issues/49454. Disable these warnings by setting the environment variable: RAY_TRAIN_ENABLE_V2_MIGRATION_WARNINGS=0\n",
      "\u001b[36m(train_lstm pid=62316)\u001b[0m   _log_deprecation_warning(\n",
      "\u001b[36m(train_lstm pid=61952)\u001b[0m Checkpoint successfully created at: Checkpoint(filesystem=local, path=E:/datasets/ray_results/lstm_experiment/train_lstm_e68fe_00090_90_2025-05-14_23-23-00/checkpoint_000005)\u001b[32m [repeated 39x across cluster]\u001b[0m\n",
      "\u001b[36m(train_lstm pid=50300)\u001b[0m C:\\Users\\justi\\anaconda3\\Lib\\site-packages\\ray\\train\\_internal\\session.py:772: RayDeprecationWarning: `ray.train.report` should be switched to `ray.tune.report` when running in a function passed to Ray Tune. This will be an error in the future. See this issue for more context: https://github.com/ray-project/ray/issues/49454\u001b[32m [repeated 6x across cluster]\u001b[0m\n",
      "\u001b[36m(train_lstm pid=50300)\u001b[0m   _log_deprecation_warning(\u001b[32m [repeated 12x across cluster]\u001b[0m\n",
      "\u001b[36m(train_lstm pid=50300)\u001b[0m C:\\Users\\justi\\anaconda3\\Lib\\site-packages\\ray\\tune\\trainable\\trainable_fn_utils.py:41: RayDeprecationWarning: The `Checkpoint` class should be imported from `ray.tune` when passing it to `ray.tune.report` in a Tune function. Please update your imports. See this issue for more context and migration options: https://github.com/ray-project/ray/issues/49454. Disable these warnings by setting the environment variable: RAY_TRAIN_ENABLE_V2_MIGRATION_WARNINGS=0\u001b[32m [repeated 6x across cluster]\u001b[0m\n"
     ]
    },
    {
     "name": "stdout",
     "output_type": "stream",
     "text": [
      "\u001b[36m(train_lstm pid=59344)\u001b[0m Epoch 40: loss = 0.023920\u001b[32m [repeated 46x across cluster]\u001b[0m\n"
     ]
    },
    {
     "name": "stderr",
     "output_type": "stream",
     "text": [
      "\u001b[36m(train_lstm pid=31064)\u001b[0m Checkpoint successfully created at: Checkpoint(filesystem=local, path=E:/datasets/ray_results/lstm_experiment/train_lstm_e68fe_00089_89_2025-05-14_23-23-00/checkpoint_000011)\u001b[32m [repeated 40x across cluster]\u001b[0m\n"
     ]
    },
    {
     "name": "stdout",
     "output_type": "stream",
     "text": [
      "\u001b[36m(train_lstm pid=61952)\u001b[0m Epoch 110: loss = 0.004723\u001b[32m [repeated 40x across cluster]\u001b[0m\n"
     ]
    },
    {
     "name": "stderr",
     "output_type": "stream",
     "text": [
      "\u001b[36m(train_lstm pid=59344)\u001b[0m Checkpoint successfully created at: Checkpoint(filesystem=local, path=E:/datasets/ray_results/lstm_experiment/train_lstm_e68fe_00092_92_2025-05-14_23-23-00/checkpoint_000013)\u001b[32m [repeated 45x across cluster]\u001b[0m\n"
     ]
    },
    {
     "name": "stdout",
     "output_type": "stream",
     "text": [
      "\u001b[36m(train_lstm pid=62316)\u001b[0m Epoch 180: loss = 0.001096\u001b[32m [repeated 48x across cluster]\u001b[0m\n"
     ]
    },
    {
     "name": "stderr",
     "output_type": "stream",
     "text": [
      "\u001b[36m(train_lstm pid=31064)\u001b[0m Checkpoint successfully created at: Checkpoint(filesystem=local, path=E:/datasets/ray_results/lstm_experiment/train_lstm_e68fe_00089_89_2025-05-14_23-23-00/checkpoint_000023)\u001b[32m [repeated 56x across cluster]\u001b[0m\n"
     ]
    },
    {
     "name": "stdout",
     "output_type": "stream",
     "text": [
      "\u001b[36m(train_lstm pid=62316)\u001b[0m Epoch 250: loss = 0.000718\u001b[32m [repeated 59x across cluster]\u001b[0m\n"
     ]
    },
    {
     "name": "stderr",
     "output_type": "stream",
     "text": [
      "\u001b[36m(train_lstm pid=62316)\u001b[0m Checkpoint successfully created at: Checkpoint(filesystem=local, path=E:/datasets/ray_results/lstm_experiment/train_lstm_e68fe_00088_88_2025-05-14_23-23-00/checkpoint_000031)\u001b[32m [repeated 55x across cluster]\u001b[0m\n"
     ]
    },
    {
     "name": "stdout",
     "output_type": "stream",
     "text": [
      "\u001b[36m(train_lstm pid=50300)\u001b[0m Epoch 290: loss = 0.000597\u001b[32m [repeated 51x across cluster]\u001b[0m\n"
     ]
    },
    {
     "name": "stderr",
     "output_type": "stream",
     "text": [
      "\u001b[36m(train_lstm pid=31064)\u001b[0m Checkpoint successfully created at: Checkpoint(filesystem=local, path=E:/datasets/ray_results/lstm_experiment/train_lstm_e68fe_00089_89_2025-05-14_23-23-00/checkpoint_000038)\u001b[32m [repeated 53x across cluster]\u001b[0m\n"
     ]
    },
    {
     "name": "stdout",
     "output_type": "stream",
     "text": [
      "\u001b[36m(train_lstm pid=29152)\u001b[0m Epoch 380: loss = 0.000335\u001b[32m [repeated 51x across cluster]\u001b[0m\n"
     ]
    },
    {
     "name": "stderr",
     "output_type": "stream",
     "text": [
      "\u001b[36m(train_lstm pid=59276)\u001b[0m Checkpoint successfully created at: Checkpoint(filesystem=local, path=E:/datasets/ray_results/lstm_experiment/train_lstm_e68fe_00094_94_2025-05-14_23-23-00/checkpoint_000043)\u001b[32m [repeated 49x across cluster]\u001b[0m\n"
     ]
    },
    {
     "name": "stdout",
     "output_type": "stream",
     "text": [
      "\u001b[36m(train_lstm pid=61952)\u001b[0m Epoch 450: loss = 0.000486\u001b[32m [repeated 47x across cluster]\u001b[0m\n"
     ]
    },
    {
     "name": "stderr",
     "output_type": "stream",
     "text": [
      "\u001b[36m(train_lstm pid=31064)\u001b[0m Checkpoint successfully created at: Checkpoint(filesystem=local, path=E:/datasets/ray_results/lstm_experiment/train_lstm_e68fe_00089_89_2025-05-14_23-23-00/checkpoint_000050)\u001b[32m [repeated 37x across cluster]\u001b[0m\n"
     ]
    },
    {
     "name": "stdout",
     "output_type": "stream",
     "text": [
      "\u001b[36m(train_lstm pid=61952)\u001b[0m Epoch 510: loss = 0.000409\u001b[32m [repeated 41x across cluster]\u001b[0m\n"
     ]
    },
    {
     "name": "stderr",
     "output_type": "stream",
     "text": [
      "\u001b[36m(train_lstm pid=59344)\u001b[0m Checkpoint successfully created at: Checkpoint(filesystem=local, path=E:/datasets/ray_results/lstm_experiment/train_lstm_e68fe_00092_92_2025-05-14_23-23-00/checkpoint_000054)\u001b[32m [repeated 52x across cluster]\u001b[0m\n"
     ]
    },
    {
     "name": "stdout",
     "output_type": "stream",
     "text": [
      "\u001b[36m(train_lstm pid=31064)\u001b[0m Epoch 590: loss = 0.000523\u001b[32m [repeated 54x across cluster]\u001b[0m\n"
     ]
    },
    {
     "name": "stderr",
     "output_type": "stream",
     "text": [
      "\u001b[36m(train_lstm pid=31064)\u001b[0m Checkpoint successfully created at: Checkpoint(filesystem=local, path=E:/datasets/ray_results/lstm_experiment/train_lstm_e68fe_00089_89_2025-05-14_23-23-00/checkpoint_000065)\u001b[32m [repeated 53x across cluster]\u001b[0m\n"
     ]
    },
    {
     "name": "stdout",
     "output_type": "stream",
     "text": [
      "\u001b[36m(train_lstm pid=29152)\u001b[0m Epoch 660: loss = 0.000340\u001b[32m [repeated 50x across cluster]\u001b[0m\n"
     ]
    },
    {
     "name": "stderr",
     "output_type": "stream",
     "text": [
      "\u001b[36m(train_lstm pid=29152)\u001b[0m Checkpoint successfully created at: Checkpoint(filesystem=local, path=E:/datasets/ray_results/lstm_experiment/train_lstm_e68fe_00091_91_2025-05-14_23-23-00/checkpoint_000072)\u001b[32m [repeated 51x across cluster]\u001b[0m\n"
     ]
    },
    {
     "name": "stdout",
     "output_type": "stream",
     "text": [
      "\u001b[36m(train_lstm pid=62316)\u001b[0m Epoch 750: loss = 0.000344\u001b[32m [repeated 52x across cluster]\u001b[0m\n"
     ]
    },
    {
     "name": "stderr",
     "output_type": "stream",
     "text": [
      "\u001b[36m(train_lstm pid=59344)\u001b[0m Checkpoint successfully created at: Checkpoint(filesystem=local, path=E:/datasets/ray_results/lstm_experiment/train_lstm_e68fe_00092_92_2025-05-14_23-23-00/checkpoint_000076)\u001b[32m [repeated 50x across cluster]\u001b[0m\n"
     ]
    },
    {
     "name": "stdout",
     "output_type": "stream",
     "text": [
      "\u001b[36m(train_lstm pid=59344)\u001b[0m Epoch 780: loss = 0.000374\u001b[32m [repeated 46x across cluster]\u001b[0m\n"
     ]
    },
    {
     "name": "stderr",
     "output_type": "stream",
     "text": [
      "\u001b[36m(train_lstm pid=41428)\u001b[0m C:\\Users\\justi\\anaconda3\\Lib\\site-packages\\ray\\train\\_internal\\session.py:772: RayDeprecationWarning: `ray.train.report` should be switched to `ray.tune.report` when running in a function passed to Ray Tune. This will be an error in the future. See this issue for more context: https://github.com/ray-project/ray/issues/49454\n",
      "\u001b[36m(train_lstm pid=41428)\u001b[0m   _log_deprecation_warning(\n",
      "\u001b[36m(train_lstm pid=41428)\u001b[0m C:\\Users\\justi\\anaconda3\\Lib\\site-packages\\ray\\tune\\trainable\\trainable_fn_utils.py:41: RayDeprecationWarning: The `Checkpoint` class should be imported from `ray.tune` when passing it to `ray.tune.report` in a Tune function. Please update your imports. See this issue for more context and migration options: https://github.com/ray-project/ray/issues/49454. Disable these warnings by setting the environment variable: RAY_TRAIN_ENABLE_V2_MIGRATION_WARNINGS=0\n",
      "\u001b[36m(train_lstm pid=41428)\u001b[0m   _log_deprecation_warning(\n",
      "\u001b[36m(train_lstm pid=41428)\u001b[0m Checkpoint successfully created at: Checkpoint(filesystem=local, path=E:/datasets/ray_results/lstm_experiment/train_lstm_e68fe_00095_95_2025-05-14_23-23-00/checkpoint_000000)\u001b[32m [repeated 9x across cluster]\u001b[0m\n"
     ]
    },
    {
     "name": "stdout",
     "output_type": "stream",
     "text": [
      "\u001b[36m(train_lstm pid=41428)\u001b[0m Epoch 20: loss = 0.024915\u001b[32m [repeated 5x across cluster]\u001b[0m\n"
     ]
    },
    {
     "name": "stderr",
     "output_type": "stream",
     "text": [
      "\u001b[36m(train_lstm pid=41428)\u001b[0m Checkpoint successfully created at: Checkpoint(filesystem=local, path=E:/datasets/ray_results/lstm_experiment/train_lstm_e68fe_00095_95_2025-05-14_23-23-00/checkpoint_000009)\u001b[32m [repeated 9x across cluster]\u001b[0m\n"
     ]
    },
    {
     "name": "stdout",
     "output_type": "stream",
     "text": [
      "\u001b[36m(train_lstm pid=41428)\u001b[0m Epoch 120: loss = 0.003269\u001b[32m [repeated 10x across cluster]\u001b[0m\n"
     ]
    },
    {
     "name": "stderr",
     "output_type": "stream",
     "text": [
      "\u001b[36m(train_lstm pid=41428)\u001b[0m Checkpoint successfully created at: Checkpoint(filesystem=local, path=E:/datasets/ray_results/lstm_experiment/train_lstm_e68fe_00095_95_2025-05-14_23-23-00/checkpoint_000020)\u001b[32m [repeated 11x across cluster]\u001b[0m\n"
     ]
    },
    {
     "name": "stdout",
     "output_type": "stream",
     "text": [
      "\u001b[36m(train_lstm pid=41428)\u001b[0m Epoch 240: loss = 0.000574\u001b[32m [repeated 12x across cluster]\u001b[0m\n"
     ]
    },
    {
     "name": "stderr",
     "output_type": "stream",
     "text": [
      "\u001b[36m(train_lstm pid=41428)\u001b[0m Checkpoint successfully created at: Checkpoint(filesystem=local, path=E:/datasets/ray_results/lstm_experiment/train_lstm_e68fe_00095_95_2025-05-14_23-23-00/checkpoint_000031)\u001b[32m [repeated 11x across cluster]\u001b[0m\n",
      "\u001b[36m(train_lstm pid=57160)\u001b[0m C:\\Users\\justi\\anaconda3\\Lib\\site-packages\\ray\\train\\_internal\\session.py:772: RayDeprecationWarning: `ray.train.report` should be switched to `ray.tune.report` when running in a function passed to Ray Tune. This will be an error in the future. See this issue for more context: https://github.com/ray-project/ray/issues/49454\n",
      "\u001b[36m(train_lstm pid=57160)\u001b[0m   _log_deprecation_warning(\n",
      "\u001b[36m(train_lstm pid=57160)\u001b[0m C:\\Users\\justi\\anaconda3\\Lib\\site-packages\\ray\\tune\\trainable\\trainable_fn_utils.py:41: RayDeprecationWarning: The `Checkpoint` class should be imported from `ray.tune` when passing it to `ray.tune.report` in a Tune function. Please update your imports. See this issue for more context and migration options: https://github.com/ray-project/ray/issues/49454. Disable these warnings by setting the environment variable: RAY_TRAIN_ENABLE_V2_MIGRATION_WARNINGS=0\n",
      "\u001b[36m(train_lstm pid=57160)\u001b[0m   _log_deprecation_warning(\n"
     ]
    },
    {
     "name": "stdout",
     "output_type": "stream",
     "text": [
      "\u001b[36m(train_lstm pid=57520)\u001b[0m Epoch 30: loss = 0.023607\u001b[32m [repeated 25x across cluster]\u001b[0m\n"
     ]
    },
    {
     "name": "stderr",
     "output_type": "stream",
     "text": [
      "\u001b[36m(train_lstm pid=41428)\u001b[0m Checkpoint successfully created at: Checkpoint(filesystem=local, path=E:/datasets/ray_results/lstm_experiment/train_lstm_e68fe_00095_95_2025-05-14_23-23-00/checkpoint_000041)\u001b[32m [repeated 50x across cluster]\u001b[0m\n",
      "\u001b[36m(train_lstm pid=59688)\u001b[0m C:\\Users\\justi\\anaconda3\\Lib\\site-packages\\ray\\train\\_internal\\session.py:772: RayDeprecationWarning: `ray.train.report` should be switched to `ray.tune.report` when running in a function passed to Ray Tune. This will be an error in the future. See this issue for more context: https://github.com/ray-project/ray/issues/49454\u001b[32m [repeated 3x across cluster]\u001b[0m\n",
      "\u001b[36m(train_lstm pid=59688)\u001b[0m   _log_deprecation_warning(\u001b[32m [repeated 6x across cluster]\u001b[0m\n",
      "\u001b[36m(train_lstm pid=59688)\u001b[0m C:\\Users\\justi\\anaconda3\\Lib\\site-packages\\ray\\tune\\trainable\\trainable_fn_utils.py:41: RayDeprecationWarning: The `Checkpoint` class should be imported from `ray.tune` when passing it to `ray.tune.report` in a Tune function. Please update your imports. See this issue for more context and migration options: https://github.com/ray-project/ray/issues/49454. Disable these warnings by setting the environment variable: RAY_TRAIN_ENABLE_V2_MIGRATION_WARNINGS=0\u001b[32m [repeated 3x across cluster]\u001b[0m\n"
     ]
    },
    {
     "name": "stdout",
     "output_type": "stream",
     "text": [
      "\u001b[36m(train_lstm pid=57520)\u001b[0m Epoch 130: loss = 0.002984\u001b[32m [repeated 50x across cluster]\u001b[0m\n"
     ]
    },
    {
     "name": "stderr",
     "output_type": "stream",
     "text": [
      "\u001b[36m(train_lstm pid=41428)\u001b[0m Checkpoint successfully created at: Checkpoint(filesystem=local, path=E:/datasets/ray_results/lstm_experiment/train_lstm_e68fe_00095_95_2025-05-14_23-23-00/checkpoint_000051)\u001b[32m [repeated 50x across cluster]\u001b[0m\n"
     ]
    },
    {
     "name": "stdout",
     "output_type": "stream",
     "text": [
      "\u001b[36m(train_lstm pid=41428)\u001b[0m Epoch 550: loss = 0.000429\u001b[32m [repeated 48x across cluster]\u001b[0m\n"
     ]
    },
    {
     "name": "stderr",
     "output_type": "stream",
     "text": [
      "\u001b[36m(train_lstm pid=41428)\u001b[0m Checkpoint successfully created at: Checkpoint(filesystem=local, path=E:/datasets/ray_results/lstm_experiment/train_lstm_e68fe_00095_95_2025-05-14_23-23-00/checkpoint_000061)\u001b[32m [repeated 46x across cluster]\u001b[0m\n"
     ]
    },
    {
     "name": "stdout",
     "output_type": "stream",
     "text": [
      "\u001b[36m(train_lstm pid=57160)\u001b[0m Epoch 330: loss = 0.000507\u001b[32m [repeated 50x across cluster]\u001b[0m\n"
     ]
    },
    {
     "name": "stderr",
     "output_type": "stream",
     "text": [
      "\u001b[36m(train_lstm pid=41428)\u001b[0m Checkpoint successfully created at: Checkpoint(filesystem=local, path=E:/datasets/ray_results/lstm_experiment/train_lstm_e68fe_00095_95_2025-05-14_23-23-00/checkpoint_000069)\u001b[32m [repeated 42x across cluster]\u001b[0m\n"
     ]
    },
    {
     "name": "stdout",
     "output_type": "stream",
     "text": [
      "\u001b[36m(train_lstm pid=59688)\u001b[0m Epoch 420: loss = 0.000511\u001b[32m [repeated 45x across cluster]\u001b[0m\n"
     ]
    },
    {
     "name": "stderr",
     "output_type": "stream",
     "text": [
      "\u001b[36m(train_lstm pid=7432)\u001b[0m Checkpoint successfully created at: Checkpoint(filesystem=local, path=E:/datasets/ray_results/lstm_experiment/train_lstm_e68fe_00098_98_2025-05-14_23-23-00/checkpoint_000047)\u001b[32m [repeated 52x across cluster]\u001b[0m\n"
     ]
    },
    {
     "name": "stdout",
     "output_type": "stream",
     "text": [
      "\u001b[36m(train_lstm pid=57160)\u001b[0m Epoch 520: loss = 0.000735\u001b[32m [repeated 48x across cluster]\u001b[0m\n"
     ]
    },
    {
     "name": "stderr",
     "output_type": "stream",
     "text": [
      "\u001b[36m(train_lstm pid=57160)\u001b[0m Checkpoint successfully created at: Checkpoint(filesystem=local, path=E:/datasets/ray_results/lstm_experiment/train_lstm_e68fe_00096_96_2025-05-14_23-23-00/checkpoint_000058)\u001b[32m [repeated 43x across cluster]\u001b[0m\n"
     ]
    },
    {
     "name": "stdout",
     "output_type": "stream",
     "text": [
      "\u001b[36m(train_lstm pid=57520)\u001b[0m Epoch 640: loss = 0.000374\u001b[32m [repeated 45x across cluster]\u001b[0m\n"
     ]
    },
    {
     "name": "stderr",
     "output_type": "stream",
     "text": [
      "\u001b[36m(train_lstm pid=59688)\u001b[0m Checkpoint successfully created at: Checkpoint(filesystem=local, path=E:/datasets/ray_results/lstm_experiment/train_lstm_e68fe_00097_97_2025-05-14_23-23-00/checkpoint_000070)\u001b[32m [repeated 45x across cluster]\u001b[0m\n"
     ]
    },
    {
     "name": "stdout",
     "output_type": "stream",
     "text": [
      "\u001b[36m(train_lstm pid=57520)\u001b[0m Epoch 760: loss = 0.000368\u001b[32m [repeated 48x across cluster]\u001b[0m\n",
      "Best hyperparameters: {'hidden_layer_size': 128, 'learning_rate': 0.00625042, 'epochs': 800, 'seed': 42}\n"
     ]
    },
    {
     "data": {
      "image/png": "[encoded data removed]",
      "text/plain": [
       "<Figure size 800x600 with 1 Axes>"
      ]
     },
     "metadata": {},
     "output_type": "display_data"
    },
    {
     "name": "stdout",
     "output_type": "stream",
     "text": [
      "RMSE: 4540.29\n",
      "MAE: 3747.70\n",
      "MAPE: 36.48%\n"
     ]
    }
   ],
   "source": [
    "# 1) Standard library + ML imports\n",
    "import os\n",
    "import tempfile\n",
    "import pathlib\n",
    "import random\n",
    "import numpy as np\n",
    "import torch\n",
    "import torch.nn as nn\n",
    "import torch.optim as optim\n",
    "from torch.utils.data import TensorDataset, DataLoader\n",
    "import matplotlib.pyplot as plt\n",
    "from sklearn.metrics import mean_squared_error, mean_absolute_error\n",
    "from sklearn.preprocessing import MinMaxScaler\n",
    "\n",
    "# 2) Ray imports\n",
    "import ray\n",
    "from ray import tune                                    \n",
    "from ray.air import session, RunConfig\n",
    "from ray.train import Checkpoint\n",
    "from ray.tune.tune_config import TuneConfig\n",
    "from ray.tune.schedulers import ASHAScheduler\n",
    "\n",
    "# 3) Global seed & backend setup\n",
    "SEED = 42\n",
    "random.seed(SEED)\n",
    "np.random.seed(SEED)\n",
    "torch.manual_seed(SEED)\n",
    "torch.cuda.manual_seed_all(SEED)\n",
    "torch.backends.cudnn.deterministic = True\n",
    "torch.backends.cudnn.benchmark = False\n",
    "\n",
    "# 4) (Re)start Ray\n",
    "ray.shutdown()\n",
    "ray.init(ignore_reinit_error=True, logging_level=\"ERROR\")\n",
    "\n",
    "# 5) Updated LSTM model\n",
    "class LSTMModel(nn.Module):\n",
    "    def __init__(self, input_size, hidden_size, output_size=1):\n",
    "        super().__init__()\n",
    "        self.lstm = nn.LSTM(input_size, hidden_size, batch_first=True, num_layers=2)\n",
    "        self.dropout = nn.Dropout(0.3)\n",
    "        self.fc = nn.Linear(hidden_size, output_size)\n",
    "\n",
    "    def forward(self, x):\n",
    "        out, _ = self.lstm(x)\n",
    "        out = self.dropout(out[:, -1, :])\n",
    "        return self.fc(out)\n",
    "\n",
    "# 6) Scale target 'Sales' separately\n",
    "target_scaler = MinMaxScaler()\n",
    "y_train_scaled = target_scaler.fit_transform(lstm_train[['Sales']].values)\n",
    "y_test_scaled  = target_scaler.transform(lstm_test[['Sales']].values)\n",
    "\n",
    "# 7) Prepare feature & scaled target DataFrames\n",
    "X_train_df = lstm_train.drop(columns=['Sales'])\n",
    "X_test_df  = lstm_test.drop(columns=['Sales'])\n",
    "y_train_df = y_train_scaled\n",
    "y_test_df  = y_test_scaled\n",
    "\n",
    "# 8) Create sequences\n",
    "SEQ_LENGTH = 4\n",
    "def create_sequences(features_df, target_array, seq_length):\n",
    "    X, y = [], []\n",
    "    features = features_df.values\n",
    "    for i in range(len(features) - seq_length):\n",
    "        X.append(features[i:i+seq_length])\n",
    "        y.append(target_array[i+seq_length])\n",
    "    return np.array(X), np.array(y)\n",
    "\n",
    "X_train, y_train = create_sequences(X_train_df, y_train_df, SEQ_LENGTH)\n",
    "X_test, y_test   = create_sequences(X_test_df, y_test_df, SEQ_LENGTH)\n",
    "\n",
    "# 9) Convert to PyTorch tensors\n",
    "X_train_tensor = torch.Tensor(X_train)\n",
    "y_train_tensor = torch.Tensor(y_train).view(-1, 1)\n",
    "X_test_tensor  = torch.Tensor(X_test)\n",
    "y_test_tensor  = torch.Tensor(y_test).view(-1, 1)\n",
    "\n",
    "# 10) Training function for Ray Tune\n",
    "def train_lstm(config):\n",
    "    trial_seed = config.get(\"seed\", SEED)\n",
    "    random.seed(trial_seed)\n",
    "    np.random.seed(trial_seed)\n",
    "    torch.manual_seed(trial_seed)\n",
    "    torch.cuda.manual_seed_all(trial_seed)\n",
    "\n",
    "    model = LSTMModel(\n",
    "        input_size=X_train_tensor.shape[2],\n",
    "        hidden_size=config[\"hidden_layer_size\"]\n",
    "    )\n",
    "    loss_fn = nn.MSELoss()\n",
    "    optimizer = optim.Adam(model.parameters(), lr=config[\"learning_rate\"])\n",
    "    epochs = config.get(\"epochs\", 100)\n",
    "\n",
    "    train_dataset = TensorDataset(X_train_tensor, y_train_tensor)\n",
    "    train_loader = DataLoader(train_dataset, batch_size=64, shuffle=True)\n",
    "\n",
    "    for epoch in range(epochs):\n",
    "        model.train()\n",
    "        total_loss = 0.0\n",
    "        for xb, yb in train_loader:\n",
    "            optimizer.zero_grad()\n",
    "            preds = model(xb)\n",
    "            loss = loss_fn(preds, yb)\n",
    "            loss.backward()\n",
    "            optimizer.step()\n",
    "            total_loss += loss.item()\n",
    "        avg_loss = total_loss / len(train_loader)\n",
    "\n",
    "        if epoch % 10 == 0:\n",
    "            print(f\"Epoch {epoch}: loss = {avg_loss:.6f}\")\n",
    "            with tempfile.TemporaryDirectory() as tmpdir:\n",
    "                torch.save(model.state_dict(), os.path.join(tmpdir, \"model.pt\"))\n",
    "                session.report(\n",
    "                    {\"loss\": avg_loss},\n",
    "                    checkpoint=Checkpoint.from_directory(tmpdir)\n",
    "                )\n",
    "\n",
    "# 11) Search space and scheduler\n",
    "search_space = {\n",
    "    \"hidden_layer_size\": 128,\n",
    "    \"learning_rate\": 0.00625042,\n",
    "    \"epochs\": 800,\n",
    "    \"seed\": SEED\n",
    "}\n",
    "scheduler = ASHAScheduler()\n",
    "\n",
    "# 12) RunConfig and TuneConfig\n",
    "trainable = tune.with_resources(train_lstm, {\"cpu\": 1})\n",
    "run_cfg = RunConfig(\n",
    "    name=\"lstm_experiment\",\n",
    "    stop={\"training_iteration\": 100},\n",
    "    storage_path=str(pathlib.Path(\"E:/datasets/ray_results\").resolve()),\n",
    "    sync_config=None,\n",
    "    log_to_file=False\n",
    ")\n",
    "tune_cfg = TuneConfig(\n",
    "    metric=\"loss\",\n",
    "    mode=\"min\",\n",
    "    num_samples=100,\n",
    "    scheduler=scheduler\n",
    ")\n",
    "\n",
    "# 13) Run the tuner\n",
    "tuner = tune.Tuner(\n",
    "    trainable,\n",
    "    run_config=run_cfg,\n",
    "    tune_config=tune_cfg,\n",
    "    param_space=search_space\n",
    ")\n",
    "results = tuner.fit()\n",
    "\n",
    "# 14) Load best model and evaluate\n",
    "best = results.get_best_result(metric=\"loss\", mode=\"min\")\n",
    "print(\"Best hyperparameters:\", best.config)\n",
    "ckpt_dir = best.checkpoint.to_directory()\n",
    "\n",
    "best_model = LSTMModel(\n",
    "    input_size=X_train_tensor.shape[2],\n",
    "    hidden_size=best.config[\"hidden_layer_size\"]\n",
    ")\n",
    "best_model.load_state_dict(torch.load(os.path.join(ckpt_dir, \"model.pt\")))\n",
    "best_model.eval()\n",
    "\n",
    "# 15) Predictions and inverse transform\n",
    "with torch.no_grad():\n",
    "    y_pred_scaled = best_model(X_test_tensor).numpy()\n",
    "    y_pred = target_scaler.inverse_transform(y_pred_scaled)\n",
    "    y_true = target_scaler.inverse_transform(y_test_tensor.numpy())\n",
    "\n",
    "# 16) Plot\n",
    "plt.figure(figsize=(8, 6))\n",
    "plt.plot(range(len(y_true)), y_true, label=\"Actual\", color=\"tab:blue\")\n",
    "plt.plot(range(len(y_pred)), y_pred, label=\"Predicted\", color=\"tab:orange\")\n",
    "plt.legend()\n",
    "plt.title(\"Actual vs Predicted Sales\")\n",
    "plt.xlabel(\"Time Step\")\n",
    "plt.ylabel(\"Sales\")\n",
    "plt.tight_layout()\n",
    "plt.show()\n",
    "\n",
    "# 17) Metrics\n",
    "def root_mean_squared_error(y_t, y_p):\n",
    "    return np.sqrt(mean_squared_error(y_t, y_p))\n",
    "\n",
    "rmse = root_mean_squared_error(y_true, y_pred)\n",
    "mae = mean_absolute_error(y_true, y_pred)\n",
    "mape = np.mean(np.abs((y_true - y_pred) / np.maximum(np.abs(y_true), 1e-8))) * 100\n",
    "\n",
    "print(f\"RMSE: {rmse:.2f}\")\n",
    "print(f\"MAE: {mae:.2f}\")\n",
    "print(f\"MAPE: {mape:.2f}%\")\n"
   ]
  }
 ],
 "metadata": {
  "kernelspec": {
   "display_name": "Python 3 (ipykernel)",
   "language": "python",
   "name": "python3"
  },
  "language_info": {
   "codemirror_mode": {
    "name": "ipython",
    "version": 3
   },
   "file_extension": ".py",
   "mimetype": "text/x-python",
   "name": "python",
   "nbconvert_exporter": "python",
   "pygments_lexer": "ipython3",
   "version": "3.12.4"
  }
 },
 "nbformat": 4,
 "nbformat_minor": 5
}
