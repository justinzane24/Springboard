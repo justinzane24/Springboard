{
 "cells": [
  {
   "cell_type": "markdown",
   "id": "5ea884ea-f235-4f09-aec8-e6e576092a5e",
   "metadata": {},
   "source": [
    "### Imports"
   ]
  },
  {
   "cell_type": "code",
   "execution_count": 125,
   "id": "c7ecdcd1-06c7-4b92-a603-b5024969cffc",
   "metadata": {
    "scrolled": true
   },
   "outputs": [],
   "source": [
    "import pandas as pd\n",
    "import numpy as np\n",
    "import pmdarima as pm\n",
    "import matplotlib.pyplot as plt\n",
    "from sklearn.metrics import root_mean_squared_error, mean_absolute_error\n",
    "import torch\n",
    "import torch.nn as nn\n",
    "import ray\n",
    "from ray.train import ScalingConfig, RunConfig, FailureConfig\n",
    "from ray.train.torch import TorchTrainer\n",
    "from ray import tune\n",
    "import os\n",
    "import pickle\n",
    "with open('pre-processed_data.pkl', 'rb') as f:\n",
    "    data = pickle.load(f)\n",
    "globals().update(data)"
   ]
  },
  {
   "cell_type": "markdown",
   "id": "d71990cb-397e-4a18-b1a0-225ca98ef9c3",
   "metadata": {},
   "source": [
    "### SARIMA Model"
   ]
  },
  {
   "cell_type": "code",
   "execution_count": 33,
   "id": "7488e7f3-9505-40a7-b929-22aff96aa798",
   "metadata": {},
   "outputs": [
    {
     "name": "stdout",
     "output_type": "stream",
     "text": [
      "Performing stepwise search to minimize aic\n",
      " ARIMA(2,1,2)(1,1,1)[12]             : AIC=inf, Time=0.33 sec\n",
      " ARIMA(0,1,0)(0,1,0)[12]             : AIC=508.699, Time=0.02 sec\n",
      " ARIMA(1,1,0)(1,1,0)[12]             : AIC=506.093, Time=0.04 sec\n",
      " ARIMA(0,1,1)(0,1,1)[12]             : AIC=507.224, Time=0.05 sec\n",
      " ARIMA(1,1,0)(0,1,0)[12]             : AIC=505.236, Time=0.02 sec\n",
      " ARIMA(1,1,0)(0,1,1)[12]             : AIC=506.197, Time=0.03 sec\n",
      " ARIMA(1,1,0)(1,1,1)[12]             : AIC=507.895, Time=0.08 sec\n",
      " ARIMA(2,1,0)(0,1,0)[12]             : AIC=510.601, Time=0.03 sec\n",
      " ARIMA(1,1,1)(0,1,0)[12]             : AIC=508.786, Time=0.10 sec\n",
      " ARIMA(0,1,1)(0,1,0)[12]             : AIC=507.078, Time=0.03 sec\n",
      " ARIMA(2,1,1)(0,1,0)[12]             : AIC=inf, Time=0.13 sec\n",
      " ARIMA(1,1,0)(0,1,0)[12] intercept   : AIC=507.270, Time=0.02 sec\n",
      "\n",
      "Best model:  ARIMA(1,1,0)(0,1,0)[12]          \n",
      "Total fit time: 0.903 seconds\n"
     ]
    }
   ],
   "source": [
    "model_sarima = pm.auto_arima(\n",
    "    sarima_train,\n",
    "    seasonal=True,\n",
    "    m=12,\n",
    "    stepwise=True,\n",
    "    suppress_warnings=True,\n",
    "    trace=True\n",
    ")    "
   ]
  },
  {
   "cell_type": "code",
   "execution_count": 35,
   "id": "adf89ee3-1680-4967-a8a6-e89f7bd29f84",
   "metadata": {},
   "outputs": [
    {
     "data": {
      "text/html": [
       "<table class=\"simpletable\">\n",
       "<caption>SARIMAX Results</caption>\n",
       "<tr>\n",
       "  <th>Dep. Variable:</th>                  <td>y</td>               <th>  No. Observations:  </th>    <td>38</td>   \n",
       "</tr>\n",
       "<tr>\n",
       "  <th>Model:</th>           <td>SARIMAX(1, 1, 0)x(0, 1, 0, 12)</td> <th>  Log Likelihood     </th> <td>-250.618</td>\n",
       "</tr>\n",
       "<tr>\n",
       "  <th>Date:</th>                   <td>Fri, 02 May 2025</td>        <th>  AIC                </th>  <td>505.236</td>\n",
       "</tr>\n",
       "<tr>\n",
       "  <th>Time:</th>                       <td>13:43:40</td>            <th>  BIC                </th>  <td>507.674</td>\n",
       "</tr>\n",
       "<tr>\n",
       "  <th>Sample:</th>                    <td>01-31-2015</td>           <th>  HQIC               </th>  <td>505.913</td>\n",
       "</tr>\n",
       "<tr>\n",
       "  <th></th>                          <td>- 02-28-2018</td>          <th>                     </th>     <td> </td>   \n",
       "</tr>\n",
       "<tr>\n",
       "  <th>Covariance Type:</th>               <td>opg</td>              <th>                     </th>     <td> </td>   \n",
       "</tr>\n",
       "</table>\n",
       "<table class=\"simpletable\">\n",
       "<tr>\n",
       "     <td></td>       <th>coef</th>     <th>std err</th>      <th>z</th>      <th>P>|z|</th>  <th>[0.025</th>    <th>0.975]</th>  \n",
       "</tr>\n",
       "<tr>\n",
       "  <th>ar.L1</th>  <td>   -0.2673</td> <td>    0.115</td> <td>   -2.330</td> <td> 0.020</td> <td>   -0.492</td> <td>   -0.042</td>\n",
       "</tr>\n",
       "<tr>\n",
       "  <th>sigma2</th> <td> 2.853e+07</td> <td> 2.91e-10</td> <td> 9.79e+16</td> <td> 0.000</td> <td> 2.85e+07</td> <td> 2.85e+07</td>\n",
       "</tr>\n",
       "</table>\n",
       "<table class=\"simpletable\">\n",
       "<tr>\n",
       "  <th>Ljung-Box (L1) (Q):</th>     <td>1.88</td> <th>  Jarque-Bera (JB):  </th> <td>0.89</td> \n",
       "</tr>\n",
       "<tr>\n",
       "  <th>Prob(Q):</th>                <td>0.17</td> <th>  Prob(JB):          </th> <td>0.64</td> \n",
       "</tr>\n",
       "<tr>\n",
       "  <th>Heteroskedasticity (H):</th> <td>1.43</td> <th>  Skew:              </th> <td>-0.01</td>\n",
       "</tr>\n",
       "<tr>\n",
       "  <th>Prob(H) (two-sided):</th>    <td>0.62</td> <th>  Kurtosis:          </th> <td>2.07</td> \n",
       "</tr>\n",
       "</table><br/><br/>Warnings:<br/>[1] Covariance matrix calculated using the outer product of gradients (complex-step).<br/>[2] Covariance matrix is singular or near-singular, with condition number 8.52e+32. Standard errors may be unstable."
      ],
      "text/latex": [
       "\\begin{center}\n",
       "\\begin{tabular}{lclc}\n",
       "\\toprule\n",
       "\\textbf{Dep. Variable:}          &               y                & \\textbf{  No. Observations:  } &     38      \\\\\n",
       "\\textbf{Model:}                  & SARIMAX(1, 1, 0)x(0, 1, 0, 12) & \\textbf{  Log Likelihood     } &  -250.618   \\\\\n",
       "\\textbf{Date:}                   &        Fri, 02 May 2025        & \\textbf{  AIC                } &  505.236    \\\\\n",
       "\\textbf{Time:}                   &            13:43:40            & \\textbf{  BIC                } &  507.674    \\\\\n",
       "\\textbf{Sample:}                 &           01-31-2015           & \\textbf{  HQIC               } &  505.913    \\\\\n",
       "\\textbf{}                        &          - 02-28-2018          & \\textbf{                     } &             \\\\\n",
       "\\textbf{Covariance Type:}        &              opg               & \\textbf{                     } &             \\\\\n",
       "\\bottomrule\n",
       "\\end{tabular}\n",
       "\\begin{tabular}{lcccccc}\n",
       "                & \\textbf{coef} & \\textbf{std err} & \\textbf{z} & \\textbf{P$> |$z$|$} & \\textbf{[0.025} & \\textbf{0.975]}  \\\\\n",
       "\\midrule\n",
       "\\textbf{ar.L1}  &      -0.2673  &        0.115     &    -2.330  &         0.020        &       -0.492    &       -0.042     \\\\\n",
       "\\textbf{sigma2} &    2.853e+07  &     2.91e-10     &  9.79e+16  &         0.000        &     2.85e+07    &     2.85e+07     \\\\\n",
       "\\bottomrule\n",
       "\\end{tabular}\n",
       "\\begin{tabular}{lclc}\n",
       "\\textbf{Ljung-Box (L1) (Q):}     & 1.88 & \\textbf{  Jarque-Bera (JB):  } &  0.89  \\\\\n",
       "\\textbf{Prob(Q):}                & 0.17 & \\textbf{  Prob(JB):          } &  0.64  \\\\\n",
       "\\textbf{Heteroskedasticity (H):} & 1.43 & \\textbf{  Skew:              } & -0.01  \\\\\n",
       "\\textbf{Prob(H) (two-sided):}    & 0.62 & \\textbf{  Kurtosis:          } &  2.07  \\\\\n",
       "\\bottomrule\n",
       "\\end{tabular}\n",
       "%\\caption{SARIMAX Results}\n",
       "\\end{center}\n",
       "\n",
       "Warnings: \\newline\n",
       " [1] Covariance matrix calculated using the outer product of gradients (complex-step). \\newline\n",
       " [2] Covariance matrix is singular or near-singular, with condition number 8.52e+32. Standard errors may be unstable."
      ],
      "text/plain": [
       "<class 'statsmodels.iolib.summary.Summary'>\n",
       "\"\"\"\n",
       "                                     SARIMAX Results                                      \n",
       "==========================================================================================\n",
       "Dep. Variable:                                  y   No. Observations:                   38\n",
       "Model:             SARIMAX(1, 1, 0)x(0, 1, 0, 12)   Log Likelihood                -250.618\n",
       "Date:                            Fri, 02 May 2025   AIC                            505.236\n",
       "Time:                                    13:43:40   BIC                            507.674\n",
       "Sample:                                01-31-2015   HQIC                           505.913\n",
       "                                     - 02-28-2018                                         \n",
       "Covariance Type:                              opg                                         \n",
       "==============================================================================\n",
       "                 coef    std err          z      P>|z|      [0.025      0.975]\n",
       "------------------------------------------------------------------------------\n",
       "ar.L1         -0.2673      0.115     -2.330      0.020      -0.492      -0.042\n",
       "sigma2      2.853e+07   2.91e-10   9.79e+16      0.000    2.85e+07    2.85e+07\n",
       "===================================================================================\n",
       "Ljung-Box (L1) (Q):                   1.88   Jarque-Bera (JB):                 0.89\n",
       "Prob(Q):                              0.17   Prob(JB):                         0.64\n",
       "Heteroskedasticity (H):               1.43   Skew:                            -0.01\n",
       "Prob(H) (two-sided):                  0.62   Kurtosis:                         2.07\n",
       "===================================================================================\n",
       "\n",
       "Warnings:\n",
       "[1] Covariance matrix calculated using the outer product of gradients (complex-step).\n",
       "[2] Covariance matrix is singular or near-singular, with condition number 8.52e+32. Standard errors may be unstable.\n",
       "\"\"\""
      ]
     },
     "execution_count": 35,
     "metadata": {},
     "output_type": "execute_result"
    }
   ],
   "source": [
    "model_sarima.summary()"
   ]
  },
  {
   "cell_type": "code",
   "execution_count": 37,
   "id": "85857b19-1d75-4642-b2a4-6d3115335c58",
   "metadata": {},
   "outputs": [],
   "source": [
    "sarima_pred = model_sarima.predict(n_periods=len(sarima_test))"
   ]
  },
  {
   "cell_type": "code",
   "execution_count": 39,
   "id": "4f1073d6-77a3-4b19-bc59-5ffeac613391",
   "metadata": {},
   "outputs": [
    {
     "data": {
      "image/png": "[encoded data removed]",
      "text/plain": [
       "<Figure size 640x480 with 1 Axes>"
      ]
     },
     "metadata": {},
     "output_type": "display_data"
    }
   ],
   "source": [
    "plt.plot(sarima_test.index, sarima_test, label='Actual Sales')\n",
    "plt.plot(sarima_test.index, sarima_pred, label='Predicted Sales')\n",
    "plt.ylabel('Sales ($)')\n",
    "plt.title('SARIMA Forecast vs Actual')\n",
    "plt.legend()\n",
    "plt.show()"
   ]
  },
  {
   "cell_type": "code",
   "execution_count": 57,
   "id": "0b387f44-7d8b-449b-a176-bd43c909374c",
   "metadata": {},
   "outputs": [
    {
     "data": {
      "text/plain": [
       "(Order Date\n",
       " 2018-03-31    33470.2723\n",
       " 2018-04-30    22668.2636\n",
       " 2018-05-31    31967.5794\n",
       " 2018-06-30    34408.2347\n",
       " 2018-07-31    31800.9025\n",
       " 2018-08-31    33361.6780\n",
       " 2018-09-30    57381.9420\n",
       " 2018-10-31    39056.8857\n",
       " 2018-11-30    66318.1870\n",
       " 2018-12-31    59504.4808\n",
       " Freq: ME, Name: Sales, dtype: float64,\n",
       " 2018-03-31    30546.617846\n",
       " 2018-04-30    25221.757294\n",
       " 2018-05-31    32163.202860\n",
       " 2018-06-30    30332.877265\n",
       " 2018-07-31    30423.163400\n",
       " 2018-08-31    25335.514452\n",
       " 2018-09-30    50425.946396\n",
       " 2018-10-31    28870.949289\n",
       " 2018-11-30    53889.427642\n",
       " 2018-12-31    59748.352024\n",
       " Freq: ME, dtype: float64)"
      ]
     },
     "execution_count": 57,
     "metadata": {},
     "output_type": "execute_result"
    }
   ],
   "source": [
    "sarima_test, sarima_pred"
   ]
  },
  {
   "cell_type": "code",
   "execution_count": 41,
   "id": "566cfdb4-cd2b-48ef-b976-7cf6a77a3321",
   "metadata": {},
   "outputs": [
    {
     "name": "stdout",
     "output_type": "stream",
     "text": [
      "RMSE: 6361.64\n",
      "MAE: 4896.66\n",
      "MAPE: 11.82%\n"
     ]
    }
   ],
   "source": [
    "rmse = root_mean_squared_error(sarima_test, sarima_pred)\n",
    "mae = mean_absolute_error(sarima_test, sarima_pred)\n",
    "mape = (abs((sarima_test - sarima_pred) / sarima_test)).mean() * 100\n",
    "\n",
    "print(f\"RMSE: {rmse:.2f}\")\n",
    "print(f\"MAE: {mae:.2f}\")\n",
    "print(f\"MAPE: {mape:.2f}%\")"
   ]
  },
  {
   "cell_type": "markdown",
   "id": "e3217b70-87b6-43bc-9b6c-9281e4c11841",
   "metadata": {},
   "source": [
    "### SARIMAX Model"
   ]
  },
  {
   "cell_type": "code",
   "execution_count": 43,
   "id": "388efec3-ded5-444f-bfad-b06c3292e765",
   "metadata": {},
   "outputs": [],
   "source": [
    "X_train = sarimax_train.drop(columns='Sales')\n",
    "y_train = sarimax_train['Sales']\n",
    "\n",
    "X_test = sarimax_test.drop(columns='Sales')\n",
    "y_test = sarimax_test['Sales']"
   ]
  },
  {
   "cell_type": "code",
   "execution_count": 83,
   "id": "8c9a79e5-d8d5-4f7f-8be0-8eb29b83e628",
   "metadata": {},
   "outputs": [
    {
     "name": "stdout",
     "output_type": "stream",
     "text": [
      "Performing stepwise search to minimize aic\n",
      " ARIMA(2,1,2)(1,1,1)[12]             : AIC=inf, Time=0.37 sec\n",
      " ARIMA(0,1,0)(0,1,0)[12]             : AIC=308.710, Time=0.02 sec\n",
      " ARIMA(1,1,0)(1,1,0)[12]             : AIC=311.479, Time=0.04 sec\n",
      " ARIMA(0,1,1)(0,1,1)[12]             : AIC=312.504, Time=0.06 sec\n",
      " ARIMA(0,1,0)(1,1,0)[12]             : AIC=310.267, Time=0.09 sec\n",
      " ARIMA(0,1,0)(0,1,1)[12]             : AIC=310.279, Time=0.02 sec\n",
      " ARIMA(0,1,0)(1,1,1)[12]             : AIC=312.279, Time=0.03 sec\n",
      " ARIMA(1,1,0)(0,1,0)[12]             : AIC=309.723, Time=0.02 sec\n",
      " ARIMA(0,1,1)(0,1,0)[12]             : AIC=310.775, Time=0.03 sec\n",
      " ARIMA(1,1,1)(0,1,0)[12]             : AIC=312.435, Time=0.06 sec\n",
      " ARIMA(0,1,0)(0,1,0)[12] intercept   : AIC=310.623, Time=0.02 sec\n",
      "\n",
      "Best model:  ARIMA(0,1,0)(0,1,0)[12]          \n",
      "Total fit time: 0.739 seconds\n"
     ]
    }
   ],
   "source": [
    "model_sarimax = pm.auto_arima(\n",
    "    y_train,\n",
    "    exogenous=X_train,\n",
    "    seasonal=True,\n",
    "    m=12,\n",
    "    d=1,\n",
    "    D=1,\n",
    "    stepwise=True,\n",
    "    suppress_warnings=True,\n",
    "    trace=True\n",
    ") "
   ]
  },
  {
   "cell_type": "code",
   "execution_count": 65,
   "id": "cf32d6bd-34ca-46c0-ada1-fbc80f93bbf4",
   "metadata": {},
   "outputs": [
    {
     "data": {
      "text/html": [
       "<table class=\"simpletable\">\n",
       "<caption>SARIMAX Results</caption>\n",
       "<tr>\n",
       "  <th>Dep. Variable:</th>                  <td>y</td>               <th>  No. Observations:  </th>    <td>28</td>   \n",
       "</tr>\n",
       "<tr>\n",
       "  <th>Model:</th>           <td>SARIMAX(0, 1, 0)x(0, 1, 0, 12)</td> <th>  Log Likelihood     </th> <td>-153.355</td>\n",
       "</tr>\n",
       "<tr>\n",
       "  <th>Date:</th>                   <td>Fri, 02 May 2025</td>        <th>  AIC                </th>  <td>308.710</td>\n",
       "</tr>\n",
       "<tr>\n",
       "  <th>Time:</th>                       <td>13:52:58</td>            <th>  BIC                </th>  <td>309.418</td>\n",
       "</tr>\n",
       "<tr>\n",
       "  <th>Sample:</th>                    <td>01-31-2016</td>           <th>  HQIC               </th>  <td>308.703</td>\n",
       "</tr>\n",
       "<tr>\n",
       "  <th></th>                          <td>- 04-30-2018</td>          <th>                     </th>     <td> </td>   \n",
       "</tr>\n",
       "<tr>\n",
       "  <th>Covariance Type:</th>               <td>opg</td>              <th>                     </th>     <td> </td>   \n",
       "</tr>\n",
       "</table>\n",
       "<table class=\"simpletable\">\n",
       "<tr>\n",
       "     <td></td>       <th>coef</th>     <th>std err</th>      <th>z</th>      <th>P>|z|</th>  <th>[0.025</th>    <th>0.975]</th>  \n",
       "</tr>\n",
       "<tr>\n",
       "  <th>sigma2</th> <td> 4.012e+07</td> <td> 1.95e+07</td> <td>    2.056</td> <td> 0.040</td> <td> 1.88e+06</td> <td> 7.84e+07</td>\n",
       "</tr>\n",
       "</table>\n",
       "<table class=\"simpletable\">\n",
       "<tr>\n",
       "  <th>Ljung-Box (L1) (Q):</th>     <td>3.98</td> <th>  Jarque-Bera (JB):  </th> <td>0.99</td>\n",
       "</tr>\n",
       "<tr>\n",
       "  <th>Prob(Q):</th>                <td>0.05</td> <th>  Prob(JB):          </th> <td>0.61</td>\n",
       "</tr>\n",
       "<tr>\n",
       "  <th>Heteroskedasticity (H):</th> <td>0.75</td> <th>  Skew:              </th> <td>0.36</td>\n",
       "</tr>\n",
       "<tr>\n",
       "  <th>Prob(H) (two-sided):</th>    <td>0.76</td> <th>  Kurtosis:          </th> <td>1.96</td>\n",
       "</tr>\n",
       "</table><br/><br/>Warnings:<br/>[1] Covariance matrix calculated using the outer product of gradients (complex-step)."
      ],
      "text/latex": [
       "\\begin{center}\n",
       "\\begin{tabular}{lclc}\n",
       "\\toprule\n",
       "\\textbf{Dep. Variable:}          &               y                & \\textbf{  No. Observations:  } &     28      \\\\\n",
       "\\textbf{Model:}                  & SARIMAX(0, 1, 0)x(0, 1, 0, 12) & \\textbf{  Log Likelihood     } &  -153.355   \\\\\n",
       "\\textbf{Date:}                   &        Fri, 02 May 2025        & \\textbf{  AIC                } &  308.710    \\\\\n",
       "\\textbf{Time:}                   &            13:52:58            & \\textbf{  BIC                } &  309.418    \\\\\n",
       "\\textbf{Sample:}                 &           01-31-2016           & \\textbf{  HQIC               } &  308.703    \\\\\n",
       "\\textbf{}                        &          - 04-30-2018          & \\textbf{                     } &             \\\\\n",
       "\\textbf{Covariance Type:}        &              opg               & \\textbf{                     } &             \\\\\n",
       "\\bottomrule\n",
       "\\end{tabular}\n",
       "\\begin{tabular}{lcccccc}\n",
       "                & \\textbf{coef} & \\textbf{std err} & \\textbf{z} & \\textbf{P$> |$z$|$} & \\textbf{[0.025} & \\textbf{0.975]}  \\\\\n",
       "\\midrule\n",
       "\\textbf{sigma2} &    4.012e+07  &     1.95e+07     &     2.056  &         0.040        &     1.88e+06    &     7.84e+07     \\\\\n",
       "\\bottomrule\n",
       "\\end{tabular}\n",
       "\\begin{tabular}{lclc}\n",
       "\\textbf{Ljung-Box (L1) (Q):}     & 3.98 & \\textbf{  Jarque-Bera (JB):  } & 0.99  \\\\\n",
       "\\textbf{Prob(Q):}                & 0.05 & \\textbf{  Prob(JB):          } & 0.61  \\\\\n",
       "\\textbf{Heteroskedasticity (H):} & 0.75 & \\textbf{  Skew:              } & 0.36  \\\\\n",
       "\\textbf{Prob(H) (two-sided):}    & 0.76 & \\textbf{  Kurtosis:          } & 1.96  \\\\\n",
       "\\bottomrule\n",
       "\\end{tabular}\n",
       "%\\caption{SARIMAX Results}\n",
       "\\end{center}\n",
       "\n",
       "Warnings: \\newline\n",
       " [1] Covariance matrix calculated using the outer product of gradients (complex-step)."
      ],
      "text/plain": [
       "<class 'statsmodels.iolib.summary.Summary'>\n",
       "\"\"\"\n",
       "                                     SARIMAX Results                                      \n",
       "==========================================================================================\n",
       "Dep. Variable:                                  y   No. Observations:                   28\n",
       "Model:             SARIMAX(0, 1, 0)x(0, 1, 0, 12)   Log Likelihood                -153.355\n",
       "Date:                            Fri, 02 May 2025   AIC                            308.710\n",
       "Time:                                    13:52:58   BIC                            309.418\n",
       "Sample:                                01-31-2016   HQIC                           308.703\n",
       "                                     - 04-30-2018                                         \n",
       "Covariance Type:                              opg                                         \n",
       "==============================================================================\n",
       "                 coef    std err          z      P>|z|      [0.025      0.975]\n",
       "------------------------------------------------------------------------------\n",
       "sigma2      4.012e+07   1.95e+07      2.056      0.040    1.88e+06    7.84e+07\n",
       "===================================================================================\n",
       "Ljung-Box (L1) (Q):                   3.98   Jarque-Bera (JB):                 0.99\n",
       "Prob(Q):                              0.05   Prob(JB):                         0.61\n",
       "Heteroskedasticity (H):               0.75   Skew:                             0.36\n",
       "Prob(H) (two-sided):                  0.76   Kurtosis:                         1.96\n",
       "===================================================================================\n",
       "\n",
       "Warnings:\n",
       "[1] Covariance matrix calculated using the outer product of gradients (complex-step).\n",
       "\"\"\""
      ]
     },
     "execution_count": 65,
     "metadata": {},
     "output_type": "execute_result"
    }
   ],
   "source": [
    "model_sarimax.summary()"
   ]
  },
  {
   "cell_type": "code",
   "execution_count": 85,
   "id": "3a0d55ad-0e1e-46e0-9d29-efd378062dda",
   "metadata": {},
   "outputs": [],
   "source": [
    "sarimax_pred = model_sarimax.predict(n_periods=len(sarimax_test))"
   ]
  },
  {
   "cell_type": "code",
   "execution_count": 87,
   "id": "4d104706-60d8-428a-8bc0-728b8b48926a",
   "metadata": {
    "scrolled": true
   },
   "outputs": [
    {
     "data": {
      "image/png": "[encoded data removed]",
      "text/plain": [
       "<Figure size 640x480 with 1 Axes>"
      ]
     },
     "metadata": {},
     "output_type": "display_data"
    }
   ],
   "source": [
    "plt.plot(sarimax_test.index, sarimax_test['Sales'], label='Actual Sales')\n",
    "plt.plot(sarimax_test.index, sarimax_pred, label='Predicted Sales')\n",
    "plt.ylabel('Sales ($)')\n",
    "plt.title('SARIMAX Forecast vs Actual')\n",
    "plt.legend()\n",
    "plt.show()"
   ]
  },
  {
   "cell_type": "code",
   "execution_count": 89,
   "id": "486213b2-46db-4a3e-8109-67c4fcdbe09d",
   "metadata": {},
   "outputs": [
    {
     "data": {
      "text/plain": [
       "(Order Date\n",
       " 2018-05-31    31967.5794\n",
       " 2018-06-30    34408.2347\n",
       " 2018-07-31    31800.9025\n",
       " 2018-08-31    33361.6780\n",
       " 2018-09-30    57381.9420\n",
       " 2018-10-31    39056.8857\n",
       " 2018-11-30    66318.1870\n",
       " 2018-12-31    59504.4808\n",
       " Freq: ME, Name: Sales, dtype: float64,\n",
       " 2018-05-31    29505.9571\n",
       " 2018-06-30    27703.3656\n",
       " 2018-07-31    27786.2381\n",
       " 2018-08-31    22700.5709\n",
       " 2018-09-30    47790.4731\n",
       " 2018-10-31    26235.6176\n",
       " 2018-11-30    51254.0581\n",
       " 2018-12-31    57112.9926\n",
       " Freq: ME, dtype: float64)"
      ]
     },
     "execution_count": 89,
     "metadata": {},
     "output_type": "execute_result"
    }
   ],
   "source": [
    "sarimax_test['Sales'], sarimax_pred"
   ]
  },
  {
   "cell_type": "code",
   "execution_count": 95,
   "id": "53d60e27-7062-4284-b6fe-68e8192cbd91",
   "metadata": {},
   "outputs": [
    {
     "name": "stdout",
     "output_type": "stream",
     "text": [
      "RMSE: 9150.27\n",
      "MAE: 7963.83\n",
      "MAPE: 18.51%\n"
     ]
    }
   ],
   "source": [
    "actual_sales = sarimax_test['Sales']\n",
    "predicted_sales = sarimax_pred\n",
    "\n",
    "rmse = root_mean_squared_error(actual_sales, predicted_sales)\n",
    "mae = mean_absolute_error(actual_sales, predicted_sales)\n",
    "mape = (abs((actual_sales - predicted_sales) / actual_sales)).mean() * 100\n",
    "\n",
    "print(f\"RMSE: {rmse:.2f}\")\n",
    "print(f\"MAE: {mae:.2f}\")\n",
    "print(f\"MAPE: {mape:.2f}%\")"
   ]
  },
  {
   "cell_type": "markdown",
   "id": "cb0866e8-4126-4341-8422-7ce1e1c6546a",
   "metadata": {},
   "source": [
    "### LSTM Model"
   ]
  },
  {
   "cell_type": "code",
   "execution_count": null,
   "id": "65d567df-9a96-405e-8c29-1bb96f496dae",
   "metadata": {},
   "outputs": [],
   "source": [
    "SEQ_LENGTH = 12  # Number of months (sequence length)\n",
    "\n",
    "# Function to create sequences from data\n",
    "def create_sequences(df, seq_length):\n",
    "    data = df.values\n",
    "    sequences = []\n",
    "    labels = []\n",
    "    for i in range(len(data) - seq_length):\n",
    "        seq = data[i:i+seq_length]  # Sequence of 12 months\n",
    "        label = data[i+seq_length, df.columns.get_loc('Sales')]  # target column index\n",
    "        sequences.append(seq)\n",
    "        labels.append(label)\n",
    "    return np.array(sequences), np.array(labels)\n",
    "\n",
    "# Create sequences using your training and test DataFrames\n",
    "X_train, y_train = create_sequences(lstm_train, SEQ_LENGTH)\n",
    "X_test, y_test = create_sequences(lstm_test, SEQ_LENGTH)\n",
    "\n",
    "# Convert to PyTorch tensors\n",
    "X_train_tensor = torch.Tensor(X_train)\n",
    "y_train_tensor = torch.Tensor(y_train)\n",
    "X_test_tensor = torch.Tensor(X_test)\n",
    "y_test_tensor = torch.Tensor(y_test)\n",
    "\n",
    "# For validation\n",
    "print(\"X_train_tensor shape:\", X_train_tensor.shape)\n",
    "print(\"y_train_tensor shape:\", y_train_tensor.shape)\n",
    "print(\"X_test_tensor shape:\", X_test_tensor.shape)\n",
    "print(\"y_test_tensor shape:\", y_test_tensor.shape)"
   ]
  },
  {
   "cell_type": "code",
   "execution_count": null,
   "id": "10f31187-87d7-4b12-8e3d-e7ff76d80ba0",
   "metadata": {},
   "outputs": [],
   "source": [
    "class LSTMModel(nn.Module):\n",
    "    def __init__(self, input_size=17, hidden_layer_size=64, output_size=1):\n",
    "        super(LSTMModel, self).__init__()\n",
    "        self.hidden_layer_size = hidden_layer_size\n",
    "\n",
    "        # LSTM layer\n",
    "        self.lstm = nn.LSTM(input_size, hidden_layer_size, batch_first=True)\n",
    "\n",
    "        # Fully connected layer\n",
    "        self.linear = nn.Linear(hidden_layer_size, output_size)\n",
    "\n",
    "    def forward(self, x):\n",
    "        # LSTM layer outputs (output, (hn, cn))\n",
    "        lstm_out, _ = self.lstm(x)\n",
    "\n",
    "        # Use the output of the last time step for prediction\n",
    "        predictions = self.linear(lstm_out[:, -1])\n",
    "\n",
    "        return predictions"
   ]
  },
  {
   "cell_type": "code",
   "execution_count": null,
   "id": "f17d8704-6853-4a34-9fcd-1efc1487f3a5",
   "metadata": {},
   "outputs": [],
   "source": [
    "# Define training function for Ray Tune\n",
    "# Define the training function for LSTM model\n",
    "def train_lstm(config):\n",
    "    hidden_layer_size = config[\"hidden_layer_size\"]\n",
    "    learning_rate = config[\"learning_rate\"]\n",
    "    epochs = config[\"epochs\"]\n",
    "\n",
    "    # Define the model\n",
    "    model = LSTMModel(input_size=X_train.shape[2], hidden_layer_size=hidden_layer_size, output_size=1)\n",
    "    loss_fn = torch.nn.MSELoss()\n",
    "    optimizer = torch.optim.Adam(model.parameters(), lr=learning_rate)\n",
    "\n",
    "    # Training loop\n",
    "    for epoch in range(epochs):\n",
    "        model.train()\n",
    "        optimizer.zero_grad()\n",
    "\n",
    "        # Forward pass\n",
    "        y_pred = model(X_train_tensor)\n",
    "        loss = loss_fn(y_pred, y_train_tensor.view(-1, 1))\n",
    "\n",
    "        # Backward pass\n",
    "        loss.backward()\n",
    "        optimizer.step()\n",
    "\n",
    "        if (epoch + 1) % 10 == 0:\n",
    "            tune.report(loss=loss.item())\n",
    "\n",
    "# Define the search space for hyperparameters\n",
    "search_space = {\n",
    "    \"hidden_layer_size\": tune.choice([32, 64, 128, 256]),\n",
    "    \"learning_rate\": tune.loguniform(1e-4, 1e-2),\n",
    "    \"epochs\": 100\n",
    "}"
   ]
  },
  {
   "cell_type": "code",
   "execution_count": null,
   "id": "d63dfb55-3811-4c58-afaa-6ac4d2868e2b",
   "metadata": {},
   "outputs": [],
   "source": [
    "# Ray setup\n",
    "ray.shutdown()  # Shutdown any previous Ray sessions\n",
    "ray.init(ignore_reinit_error=True)\n",
    "\n",
    "trainer = TorchTrainer(\n",
    "    train_lstm,\n",
    "    scaling_config=ray.train.ScalingConfig(num_workers=1),  # Adjust workers based on your system\n",
    "    run_config=RunConfig(\n",
    "        storage_path=\"~/ray_results\",\n",
    "        name=\"lstm_experiment\",\n",
    "        log_to_file=True,\n",
    "        failure_config=FailureConfig(fail_fast=False),\n",
    "    ),\n",
    "    train_loop_config={},\n",
    "    tune_config=tune.TuneConfig(\n",
    "        search_space=search_space,\n",
    "    ),\n",
    ")\n",
    "\n",
    "# Now, run the hyperparameter tuning with Ray Tune\n",
    "result = trainer.fit()\n",
    "\n",
    "# Access the best model\n",
    "last_checkpoint = result.checkpoint"
   ]
  },
  {
   "cell_type": "code",
   "execution_count": null,
   "id": "8b26cf25-4782-4d94-9c83-c7a8b187443b",
   "metadata": {},
   "outputs": [],
   "source": [
    "# Evaluation on the test set\n",
    "model.eval()  # Set the model to evaluation mode\n",
    "with torch.no_grad():\n",
    "    y_pred = model(X_test_tensor)\n",
    "\n",
    "# Convert predictions and actual values to numpy arrays\n",
    "y_pred_np = y_pred.numpy().flatten()\n",
    "y_test_np = y_test_tensor.numpy().flatten()\n",
    "\n",
    "# Plot predictions vs actual values\n",
    "import matplotlib.pyplot as plt\n",
    "\n",
    "plt.figure(figsize=(10,6))\n",
    "plt.plot(y_test_np, label='Actual Sales')\n",
    "plt.plot(y_pred_np, label='Predicted Sales')\n",
    "plt.legend()\n",
    "plt.title(\"LSTM Model Predictions vs Actual Sales\")\n",
    "plt.show()"
   ]
  },
  {
   "cell_type": "code",
   "execution_count": null,
   "id": "a3f01c95-c81f-4893-960f-2e7191e7f825",
   "metadata": {
    "scrolled": true
   },
   "outputs": [],
   "source": [
    "# 1) Standard library + ML imports\n",
    "import os\n",
    "import tempfile\n",
    "import pathlib\n",
    "import numpy as np\n",
    "import torch\n",
    "import torch.nn as nn\n",
    "import torch.optim as optim\n",
    "\n",
    "# 2) Ray imports\n",
    "import ray\n",
    "from ray import tune                                    \n",
    "from ray.air import session, RunConfig\n",
    "from ray.train import Checkpoint\n",
    "from ray.tune.schedulers import ASHAScheduler\n",
    "\n",
    "# 3) (Re)start Ray\n",
    "ray.shutdown()\n",
    "ray.init(ignore_reinit_error=True, logging_level=\"ERROR\")\n",
    "\n",
    "# 4) Your LSTM model\n",
    "class LSTMModel(nn.Module):\n",
    "    def __init__(self, input_size, hidden_size, output_size=1):\n",
    "        super().__init__()\n",
    "        self.lstm = nn.LSTM(input_size, hidden_size, batch_first=True)\n",
    "        self.fc = nn.Sequential(\n",
    "            nn.Linear(hidden_size, output_size),\n",
    "            nn.ReLU()  # Ensure non-negative predictions\n",
    "        )\n",
    "\n",
    "    def forward(self, x):\n",
    "        out, _ = self.lstm(x)\n",
    "        return self.fc(out[:, -1, :])\n",
    "\n",
    "# 5) Data → PyTorch tensors (use your real DataFrames here)\n",
    "SEQ_LENGTH = 12\n",
    "def create_sequences(df, seq_length):\n",
    "    data = df.values\n",
    "    X, y = [], []\n",
    "    for i in range(len(data) - seq_length):\n",
    "        X.append(data[i : i+seq_length])\n",
    "        y.append(data[i+seq_length, df.columns.get_loc('Log_Sales')])\n",
    "    return np.array(X), np.array(y)\n",
    "\n",
    "X_train, y_train = create_sequences(lstm_train, SEQ_LENGTH)\n",
    "X_test,  y_test  = create_sequences(lstm_test,  SEQ_LENGTH)\n",
    "\n",
    "X_train_tensor = torch.Tensor(X_train)\n",
    "y_train_tensor = torch.Tensor(y_train).view(-1, 1)\n",
    "X_test_tensor  = torch.Tensor(X_test)\n",
    "y_test_tensor  = torch.Tensor(y_test).view(-1, 1)\n",
    "\n",
    "# 6) Ray-compatible training fn\n",
    "def train_lstm(config):\n",
    "    model = LSTMModel(\n",
    "        input_size  = X_train_tensor.shape[2],\n",
    "        hidden_size = config[\"hidden_layer_size\"],\n",
    "    )\n",
    "    loss_fn   = nn.MSELoss()\n",
    "    optimizer = optim.Adam(model.parameters(), lr=config[\"learning_rate\"])\n",
    "    epochs    = config.get(\"epochs\", 100)\n",
    "\n",
    "    for epoch in range(epochs):\n",
    "        optimizer.zero_grad()\n",
    "        preds = model(X_train_tensor)\n",
    "        loss  = loss_fn(preds, y_train_tensor)\n",
    "        loss.backward()\n",
    "        optimizer.step()\n",
    "\n",
    "        # every 10 steps: report & checkpoint\n",
    "        if epoch % 10 == 0:\n",
    "            print(f\"Epoch {epoch}: loss = {loss.item():.6f}\")\n",
    "            with tempfile.TemporaryDirectory() as tmpdir:\n",
    "                torch.save(model.state_dict(), os.path.join(tmpdir, \"model.pt\"))\n",
    "                session.report(\n",
    "                    {\"loss\": loss.item()},\n",
    "                    checkpoint=Checkpoint.from_directory(tmpdir)\n",
    "                )\n",
    "\n",
    "# 7) Define your hyperparameter space\n",
    "search_space = {\n",
    "    \"hidden_layer_size\": tune.choice([32, 64, 128, 256]),   # :contentReference[oaicite:0]{index=0}\n",
    "    \"learning_rate\":     tune.loguniform(1e-4, 1e-2),       # :contentReference[oaicite:1]{index=1}\n",
    "    \"epochs\":            100,\n",
    "}\n",
    "\n",
    "# 8) Scheduler (early-stop poorly performing trials)\n",
    "scheduler = ASHAScheduler()\n",
    "\n",
    "# 9) Launch the hyperparameter search\n",
    "local_dir_path = pathlib.Path(\"./ray_results\").resolve().as_uri()\n",
    "tuner = tune.Tuner(\n",
    "    train_lstm,\n",
    "    tune_config = tune.TuneConfig(\n",
    "        metric      = \"loss\",\n",
    "        mode        = \"min\",\n",
    "        num_samples = 10,\n",
    "        scheduler   = scheduler,\n",
    "        max_concurrent_trials=2,\n",
    "    ),\n",
    "    run_config = RunConfig(\n",
    "    name        = \"lstm_experiment\",\n",
    "    sync_config = None,\n",
    "    log_to_file = False,      \n",
    "    stop={\"training_iteration\": 100},\n",
    "    storage_path   = local_dir_path,  \n",
    "),\n",
    "    param_space = search_space,\n",
    ")\n",
    "\n",
    "results = tuner.fit()\n",
    "\n",
    "# 10) Grab best config & reload best model\n",
    "best = results.get_best_result(metric=\"loss\", mode=\"min\")\n",
    "print(\"Best hyperparameters:\", best.config)\n",
    "\n",
    "ckpt_dir = best.checkpoint.to_directory()\n",
    "best_model = LSTMModel(\n",
    "    input_size  = X_train_tensor.shape[2],\n",
    "    hidden_size = best.config[\"hidden_layer_size\"],\n",
    ")\n",
    "best_model.load_state_dict(torch.load(os.path.join(ckpt_dir, \"model.pt\")))\n",
    "\n",
    "# 11) Evaluate on test set\n",
    "best_model.eval()\n",
    "with torch.no_grad():\n",
    "    y_pred = best_model(X_test_tensor).numpy().flatten()\n",
    "    y_true = y_test_tensor.numpy().flatten()\n",
    "\n",
    "import matplotlib.pyplot as plt\n",
    "plt.plot(np.exp(y_true), label=\"Actual\")\n",
    "plt.plot(np.exp(y_pred), label=\"Predicted\")\n",
    "plt.legend()\n",
    "plt.show()\n"
   ]
  },
  {
   "cell_type": "code",
   "execution_count": 99,
   "id": "b95beb4a-ffd5-42f3-9a4a-20317fb73e46",
   "metadata": {},
   "outputs": [
    {
     "data": {
      "text/html": [
       "<div>\n",
       "<style scoped>\n",
       "    .dataframe tbody tr th:only-of-type {\n",
       "        vertical-align: middle;\n",
       "    }\n",
       "\n",
       "    .dataframe tbody tr th {\n",
       "        vertical-align: top;\n",
       "    }\n",
       "\n",
       "    .dataframe thead th {\n",
       "        text-align: right;\n",
       "    }\n",
       "</style>\n",
       "<table border=\"1\" class=\"dataframe\">\n",
       "  <thead>\n",
       "    <tr style=\"text-align: right;\">\n",
       "      <th></th>\n",
       "      <th>Year</th>\n",
       "      <th>Is Weekend</th>\n",
       "      <th>Sales</th>\n",
       "      <th>Category_Furniture</th>\n",
       "      <th>Category_Office Supplies</th>\n",
       "      <th>Category_Technology</th>\n",
       "      <th>Month_sin</th>\n",
       "      <th>Month_cos</th>\n",
       "      <th>Weekday_sin</th>\n",
       "      <th>Weekday_cos</th>\n",
       "    </tr>\n",
       "    <tr>\n",
       "      <th>Order Date</th>\n",
       "      <th></th>\n",
       "      <th></th>\n",
       "      <th></th>\n",
       "      <th></th>\n",
       "      <th></th>\n",
       "      <th></th>\n",
       "      <th></th>\n",
       "      <th></th>\n",
       "      <th></th>\n",
       "      <th></th>\n",
       "    </tr>\n",
       "  </thead>\n",
       "  <tbody>\n",
       "    <tr>\n",
       "      <th>2018-07-20</th>\n",
       "      <td>1.0</td>\n",
       "      <td>0.0</td>\n",
       "      <td>43.0000</td>\n",
       "      <td>0.0</td>\n",
       "      <td>1.0</td>\n",
       "      <td>0.0</td>\n",
       "      <td>0.25</td>\n",
       "      <td>0.066987</td>\n",
       "      <td>0.277479</td>\n",
       "      <td>0.000000</td>\n",
       "    </tr>\n",
       "    <tr>\n",
       "      <th>2018-07-20</th>\n",
       "      <td>1.0</td>\n",
       "      <td>0.0</td>\n",
       "      <td>500.6405</td>\n",
       "      <td>0.0</td>\n",
       "      <td>1.0</td>\n",
       "      <td>0.0</td>\n",
       "      <td>0.25</td>\n",
       "      <td>0.066987</td>\n",
       "      <td>0.277479</td>\n",
       "      <td>0.000000</td>\n",
       "    </tr>\n",
       "    <tr>\n",
       "      <th>2018-07-21</th>\n",
       "      <td>1.0</td>\n",
       "      <td>1.0</td>\n",
       "      <td>101.9400</td>\n",
       "      <td>0.0</td>\n",
       "      <td>1.0</td>\n",
       "      <td>0.0</td>\n",
       "      <td>0.25</td>\n",
       "      <td>0.066987</td>\n",
       "      <td>0.000000</td>\n",
       "      <td>0.356896</td>\n",
       "    </tr>\n",
       "    <tr>\n",
       "      <th>2018-07-21</th>\n",
       "      <td>1.0</td>\n",
       "      <td>1.0</td>\n",
       "      <td>14.9400</td>\n",
       "      <td>0.0</td>\n",
       "      <td>1.0</td>\n",
       "      <td>0.0</td>\n",
       "      <td>0.25</td>\n",
       "      <td>0.066987</td>\n",
       "      <td>0.000000</td>\n",
       "      <td>0.356896</td>\n",
       "    </tr>\n",
       "    <tr>\n",
       "      <th>2018-07-21</th>\n",
       "      <td>1.0</td>\n",
       "      <td>1.0</td>\n",
       "      <td>2.8640</td>\n",
       "      <td>0.0</td>\n",
       "      <td>1.0</td>\n",
       "      <td>0.0</td>\n",
       "      <td>0.25</td>\n",
       "      <td>0.066987</td>\n",
       "      <td>0.000000</td>\n",
       "      <td>0.356896</td>\n",
       "    </tr>\n",
       "    <tr>\n",
       "      <th>...</th>\n",
       "      <td>...</td>\n",
       "      <td>...</td>\n",
       "      <td>...</td>\n",
       "      <td>...</td>\n",
       "      <td>...</td>\n",
       "      <td>...</td>\n",
       "      <td>...</td>\n",
       "      <td>...</td>\n",
       "      <td>...</td>\n",
       "      <td>...</td>\n",
       "    </tr>\n",
       "    <tr>\n",
       "      <th>2018-12-30</th>\n",
       "      <td>1.0</td>\n",
       "      <td>1.0</td>\n",
       "      <td>20.7200</td>\n",
       "      <td>0.0</td>\n",
       "      <td>1.0</td>\n",
       "      <td>0.0</td>\n",
       "      <td>0.50</td>\n",
       "      <td>1.000000</td>\n",
       "      <td>0.099031</td>\n",
       "      <td>0.801938</td>\n",
       "    </tr>\n",
       "    <tr>\n",
       "      <th>2018-12-30</th>\n",
       "      <td>1.0</td>\n",
       "      <td>1.0</td>\n",
       "      <td>323.1360</td>\n",
       "      <td>1.0</td>\n",
       "      <td>0.0</td>\n",
       "      <td>0.0</td>\n",
       "      <td>0.50</td>\n",
       "      <td>1.000000</td>\n",
       "      <td>0.099031</td>\n",
       "      <td>0.801938</td>\n",
       "    </tr>\n",
       "    <tr>\n",
       "      <th>2018-12-30</th>\n",
       "      <td>1.0</td>\n",
       "      <td>1.0</td>\n",
       "      <td>209.3000</td>\n",
       "      <td>0.0</td>\n",
       "      <td>1.0</td>\n",
       "      <td>0.0</td>\n",
       "      <td>0.50</td>\n",
       "      <td>1.000000</td>\n",
       "      <td>0.099031</td>\n",
       "      <td>0.801938</td>\n",
       "    </tr>\n",
       "    <tr>\n",
       "      <th>2018-12-30</th>\n",
       "      <td>1.0</td>\n",
       "      <td>1.0</td>\n",
       "      <td>52.7760</td>\n",
       "      <td>0.0</td>\n",
       "      <td>1.0</td>\n",
       "      <td>0.0</td>\n",
       "      <td>0.50</td>\n",
       "      <td>1.000000</td>\n",
       "      <td>0.099031</td>\n",
       "      <td>0.801938</td>\n",
       "    </tr>\n",
       "    <tr>\n",
       "      <th>2018-12-30</th>\n",
       "      <td>1.0</td>\n",
       "      <td>1.0</td>\n",
       "      <td>3.0240</td>\n",
       "      <td>0.0</td>\n",
       "      <td>1.0</td>\n",
       "      <td>0.0</td>\n",
       "      <td>0.50</td>\n",
       "      <td>1.000000</td>\n",
       "      <td>0.099031</td>\n",
       "      <td>0.801938</td>\n",
       "    </tr>\n",
       "  </tbody>\n",
       "</table>\n",
       "<p>1960 rows × 10 columns</p>\n",
       "</div>"
      ],
      "text/plain": [
       "            Year  Is Weekend     Sales  Category_Furniture  \\\n",
       "Order Date                                                   \n",
       "2018-07-20   1.0         0.0   43.0000                 0.0   \n",
       "2018-07-20   1.0         0.0  500.6405                 0.0   \n",
       "2018-07-21   1.0         1.0  101.9400                 0.0   \n",
       "2018-07-21   1.0         1.0   14.9400                 0.0   \n",
       "2018-07-21   1.0         1.0    2.8640                 0.0   \n",
       "...          ...         ...       ...                 ...   \n",
       "2018-12-30   1.0         1.0   20.7200                 0.0   \n",
       "2018-12-30   1.0         1.0  323.1360                 1.0   \n",
       "2018-12-30   1.0         1.0  209.3000                 0.0   \n",
       "2018-12-30   1.0         1.0   52.7760                 0.0   \n",
       "2018-12-30   1.0         1.0    3.0240                 0.0   \n",
       "\n",
       "            Category_Office Supplies  Category_Technology  Month_sin  \\\n",
       "Order Date                                                             \n",
       "2018-07-20                       1.0                  0.0       0.25   \n",
       "2018-07-20                       1.0                  0.0       0.25   \n",
       "2018-07-21                       1.0                  0.0       0.25   \n",
       "2018-07-21                       1.0                  0.0       0.25   \n",
       "2018-07-21                       1.0                  0.0       0.25   \n",
       "...                              ...                  ...        ...   \n",
       "2018-12-30                       1.0                  0.0       0.50   \n",
       "2018-12-30                       0.0                  0.0       0.50   \n",
       "2018-12-30                       1.0                  0.0       0.50   \n",
       "2018-12-30                       1.0                  0.0       0.50   \n",
       "2018-12-30                       1.0                  0.0       0.50   \n",
       "\n",
       "            Month_cos  Weekday_sin  Weekday_cos  \n",
       "Order Date                                       \n",
       "2018-07-20   0.066987     0.277479     0.000000  \n",
       "2018-07-20   0.066987     0.277479     0.000000  \n",
       "2018-07-21   0.066987     0.000000     0.356896  \n",
       "2018-07-21   0.066987     0.000000     0.356896  \n",
       "2018-07-21   0.066987     0.000000     0.356896  \n",
       "...               ...          ...          ...  \n",
       "2018-12-30   1.000000     0.099031     0.801938  \n",
       "2018-12-30   1.000000     0.099031     0.801938  \n",
       "2018-12-30   1.000000     0.099031     0.801938  \n",
       "2018-12-30   1.000000     0.099031     0.801938  \n",
       "2018-12-30   1.000000     0.099031     0.801938  \n",
       "\n",
       "[1960 rows x 10 columns]"
      ]
     },
     "execution_count": 99,
     "metadata": {},
     "output_type": "execute_result"
    }
   ],
   "source": [
    "lstm_test"
   ]
  },
  {
   "cell_type": "code",
   "execution_count": 101,
   "id": "917ddb1f-1cd3-45b5-9d29-ea790b23108e",
   "metadata": {},
   "outputs": [
    {
     "data": {
      "text/plain": [
       "Index(['Year', 'Is Weekend', 'Sales', 'Category_Furniture',\n",
       "       'Category_Office Supplies', 'Category_Technology', 'Month_sin',\n",
       "       'Month_cos', 'Weekday_sin', 'Weekday_cos'],\n",
       "      dtype='object')"
      ]
     },
     "execution_count": 101,
     "metadata": {},
     "output_type": "execute_result"
    }
   ],
   "source": [
    "lstm_train.columns"
   ]
  },
  {
   "cell_type": "code",
   "execution_count": 199,
   "id": "e1d07a50-daa8-465b-8259-1a21257c0fb0",
   "metadata": {},
   "outputs": [
    {
     "data": {
      "text/html": [
       "<div class=\"tuneStatus\">\n",
       "  <div style=\"display: flex;flex-direction: row\">\n",
       "    <div style=\"display: flex;flex-direction: column;\">\n",
       "      <h3>Tune Status</h3>\n",
       "      <table>\n",
       "<tbody>\n",
       "<tr><td>Current time:</td><td>2025-05-02 15:39:31</td></tr>\n",
       "<tr><td>Running for: </td><td>00:02:19.60        </td></tr>\n",
       "<tr><td>Memory:      </td><td>13.7/31.9 GiB      </td></tr>\n",
       "</tbody>\n",
       "</table>\n",
       "    </div>\n",
       "    <div class=\"vDivider\"></div>\n",
       "    <div class=\"systemInfo\">\n",
       "      <h3>System Info</h3>\n",
       "      Using AsyncHyperBand: num_stopped=6<br>Bracket: Iter 64.000: None | Iter 16.000: None | Iter 4.000: -0.1141019889827424 | Iter 1.000: -0.11844114585196584<br>Logical resource usage: 1.0/8 CPUs, 0/1 GPUs (0.0/1.0 accelerator_type:G)\n",
       "    </div>\n",
       "    \n",
       "  </div>\n",
       "  <div class=\"hDivider\"></div>\n",
       "  <div class=\"trialStatus\">\n",
       "    <h3>Trial Status</h3>\n",
       "    <table>\n",
       "<thead>\n",
       "<tr><th>Trial name            </th><th>status    </th><th>loc            </th><th style=\"text-align: right;\">  hidden_layer_size</th><th style=\"text-align: right;\">  learning_rate</th><th style=\"text-align: right;\">  iter</th><th style=\"text-align: right;\">  total time (s)</th><th style=\"text-align: right;\">     loss</th></tr>\n",
       "</thead>\n",
       "<tbody>\n",
       "<tr><td>train_lstm_d7d34_00000</td><td>TERMINATED</td><td>127.0.0.1:24188</td><td style=\"text-align: right;\">                 64</td><td style=\"text-align: right;\">    0.000599648</td><td style=\"text-align: right;\">     4</td><td style=\"text-align: right;\">        50.413  </td><td style=\"text-align: right;\">0.11551  </td></tr>\n",
       "<tr><td>train_lstm_d7d34_00001</td><td>TERMINATED</td><td>127.0.0.1:6780 </td><td style=\"text-align: right;\">                 64</td><td style=\"text-align: right;\">    0.00286479 </td><td style=\"text-align: right;\">    10</td><td style=\"text-align: right;\">       113.909  </td><td style=\"text-align: right;\">0.0088392</td></tr>\n",
       "<tr><td>train_lstm_d7d34_00002</td><td>TERMINATED</td><td>127.0.0.1:23084</td><td style=\"text-align: right;\">                 64</td><td style=\"text-align: right;\">    0.00374489 </td><td style=\"text-align: right;\">     1</td><td style=\"text-align: right;\">         7.06433</td><td style=\"text-align: right;\">0.119382 </td></tr>\n",
       "<tr><td>train_lstm_d7d34_00003</td><td>TERMINATED</td><td>127.0.0.1:24424</td><td style=\"text-align: right;\">                 32</td><td style=\"text-align: right;\">    0.00437298 </td><td style=\"text-align: right;\">    10</td><td style=\"text-align: right;\">        87.3898 </td><td style=\"text-align: right;\">0.0275924</td></tr>\n",
       "<tr><td>train_lstm_d7d34_00004</td><td>TERMINATED</td><td>127.0.0.1:12984</td><td style=\"text-align: right;\">                 32</td><td style=\"text-align: right;\">    0.000384431</td><td style=\"text-align: right;\">     1</td><td style=\"text-align: right;\">         6.59733</td><td style=\"text-align: right;\">0.130558 </td></tr>\n",
       "<tr><td>train_lstm_d7d34_00005</td><td>TERMINATED</td><td>127.0.0.1:19252</td><td style=\"text-align: right;\">                 32</td><td style=\"text-align: right;\">    0.0001797  </td><td style=\"text-align: right;\">    10</td><td style=\"text-align: right;\">        86.5404 </td><td style=\"text-align: right;\">0.116299 </td></tr>\n",
       "<tr><td>train_lstm_d7d34_00006</td><td>TERMINATED</td><td>127.0.0.1:20316</td><td style=\"text-align: right;\">                 64</td><td style=\"text-align: right;\">    0.000382018</td><td style=\"text-align: right;\">     1</td><td style=\"text-align: right;\">         7.50442</td><td style=\"text-align: right;\">0.131904 </td></tr>\n",
       "<tr><td>train_lstm_d7d34_00007</td><td>TERMINATED</td><td>127.0.0.1:20040</td><td style=\"text-align: right;\">                 32</td><td style=\"text-align: right;\">    0.00105512 </td><td style=\"text-align: right;\">    10</td><td style=\"text-align: right;\">        85.7623 </td><td style=\"text-align: right;\">0.103238 </td></tr>\n",
       "<tr><td>train_lstm_d7d34_00008</td><td>TERMINATED</td><td>127.0.0.1:19260</td><td style=\"text-align: right;\">                 64</td><td style=\"text-align: right;\">    0.00243702 </td><td style=\"text-align: right;\">     1</td><td style=\"text-align: right;\">         7.17592</td><td style=\"text-align: right;\">0.119323 </td></tr>\n",
       "<tr><td>train_lstm_d7d34_00009</td><td>TERMINATED</td><td>127.0.0.1:23972</td><td style=\"text-align: right;\">                 32</td><td style=\"text-align: right;\">    0.000448841</td><td style=\"text-align: right;\">     4</td><td style=\"text-align: right;\">        33.6323 </td><td style=\"text-align: right;\">0.116057 </td></tr>\n",
       "</tbody>\n",
       "</table>\n",
       "  </div>\n",
       "</div>\n",
       "<style>\n",
       ".tuneStatus {\n",
       "  color: var(--jp-ui-font-color1);\n",
       "}\n",
       ".tuneStatus .systemInfo {\n",
       "  display: flex;\n",
       "  flex-direction: column;\n",
       "}\n",
       ".tuneStatus td {\n",
       "  white-space: nowrap;\n",
       "}\n",
       ".tuneStatus .trialStatus {\n",
       "  display: flex;\n",
       "  flex-direction: column;\n",
       "}\n",
       ".tuneStatus h3 {\n",
       "  font-weight: bold;\n",
       "}\n",
       ".tuneStatus .hDivider {\n",
       "  border-bottom-width: var(--jp-border-width);\n",
       "  border-bottom-color: var(--jp-border-color0);\n",
       "  border-bottom-style: solid;\n",
       "}\n",
       ".tuneStatus .vDivider {\n",
       "  border-left-width: var(--jp-border-width);\n",
       "  border-left-color: var(--jp-border-color0);\n",
       "  border-left-style: solid;\n",
       "  margin: 0.5em 1em 0.5em 1em;\n",
       "}\n",
       "</style>\n"
      ],
      "text/plain": [
       "<IPython.core.display.HTML object>"
      ]
     },
     "metadata": {},
     "output_type": "display_data"
    },
    {
     "name": "stderr",
     "output_type": "stream",
     "text": [
      "\u001b[36m(train_lstm pid=20040)\u001b[0m C:\\Users\\justi\\anaconda3\\Lib\\site-packages\\ray\\train\\_internal\\session.py:772: RayDeprecationWarning: `ray.train.report` should be switched to `ray.tune.report` when running in a function passed to Ray Tune. This will be an error in the future. See this issue for more context: https://github.com/ray-project/ray/issues/49454\n",
      "\u001b[36m(train_lstm pid=20040)\u001b[0m   _log_deprecation_warning(\n",
      "\u001b[36m(train_lstm pid=20040)\u001b[0m C:\\Users\\justi\\anaconda3\\Lib\\site-packages\\ray\\tune\\trainable\\trainable_fn_utils.py:41: RayDeprecationWarning: The `Checkpoint` class should be imported from `ray.tune` when passing it to `ray.tune.report` in a Tune function. Please update your imports. See this issue for more context and migration options: https://github.com/ray-project/ray/issues/49454. Disable these warnings by setting the environment variable: RAY_TRAIN_ENABLE_V2_MIGRATION_WARNINGS=0\n",
      "\u001b[36m(train_lstm pid=20040)\u001b[0m   _log_deprecation_warning(\n",
      "\u001b[36m(train_lstm pid=20040)\u001b[0m Checkpoint successfully created at: Checkpoint(filesystem=local, path=C:/Users/justi/Documents/Springboard/Capstones/Capstone 2/ray_results/lstm_experiment/train_lstm_d7d34_00007_7_hidden_layer_size=32,learning_rate=0.0011_2025-05-02_15-37-12/checkpoint_000000)\n"
     ]
    },
    {
     "name": "stdout",
     "output_type": "stream",
     "text": [
      "\u001b[36m(train_lstm pid=20040)\u001b[0m Epoch 0: loss = 0.134604\n"
     ]
    },
    {
     "name": "stderr",
     "output_type": "stream",
     "text": [
      "\u001b[36m(train_lstm pid=20316)\u001b[0m C:\\Users\\justi\\anaconda3\\Lib\\site-packages\\ray\\train\\_internal\\session.py:772: RayDeprecationWarning: `ray.train.report` should be switched to `ray.tune.report` when running in a function passed to Ray Tune. This will be an error in the future. See this issue for more context: https://github.com/ray-project/ray/issues/49454\u001b[32m [repeated 7x across cluster]\u001b[0m\n",
      "\u001b[36m(train_lstm pid=20316)\u001b[0m   _log_deprecation_warning(\u001b[32m [repeated 14x across cluster]\u001b[0m\n",
      "\u001b[36m(train_lstm pid=20316)\u001b[0m C:\\Users\\justi\\anaconda3\\Lib\\site-packages\\ray\\tune\\trainable\\trainable_fn_utils.py:41: RayDeprecationWarning: The `Checkpoint` class should be imported from `ray.tune` when passing it to `ray.tune.report` in a Tune function. Please update your imports. See this issue for more context and migration options: https://github.com/ray-project/ray/issues/49454. Disable these warnings by setting the environment variable: RAY_TRAIN_ENABLE_V2_MIGRATION_WARNINGS=0\u001b[32m [repeated 7x across cluster]\u001b[0m\n",
      "\u001b[36m(train_lstm pid=20040)\u001b[0m Checkpoint successfully created at: Checkpoint(filesystem=local, path=C:/Users/justi/Documents/Springboard/Capstones/Capstone 2/ray_results/lstm_experiment/train_lstm_d7d34_00007_7_hidden_layer_size=32,learning_rate=0.0011_2025-05-02_15-37-12/checkpoint_000001)\u001b[32m [repeated 8x across cluster]\u001b[0m\n"
     ]
    },
    {
     "name": "stdout",
     "output_type": "stream",
     "text": [
      "\u001b[36m(train_lstm pid=20040)\u001b[0m Epoch 10: loss = 0.117604\u001b[32m [repeated 8x across cluster]\u001b[0m\n"
     ]
    },
    {
     "name": "stderr",
     "output_type": "stream",
     "text": [
      "\u001b[36m(train_lstm pid=6780)\u001b[0m Checkpoint successfully created at: Checkpoint(filesystem=local, path=C:/Users/justi/Documents/Springboard/Capstones/Capstone 2/ray_results/lstm_experiment/train_lstm_d7d34_00001_1_hidden_layer_size=64,learning_rate=0.0029_2025-05-02_15-37-12/checkpoint_000001)\u001b[32m [repeated 3x across cluster]\u001b[0m\n"
     ]
    },
    {
     "name": "stdout",
     "output_type": "stream",
     "text": [
      "\u001b[36m(train_lstm pid=6780)\u001b[0m Epoch 10: loss = 0.116152\u001b[32m [repeated 3x across cluster]\u001b[0m\n"
     ]
    },
    {
     "name": "stderr",
     "output_type": "stream",
     "text": [
      "\u001b[36m(train_lstm pid=24424)\u001b[0m Checkpoint successfully created at: Checkpoint(filesystem=local, path=C:/Users/justi/Documents/Springboard/Capstones/Capstone 2/ray_results/lstm_experiment/train_lstm_d7d34_00003_3_hidden_layer_size=32,learning_rate=0.0044_2025-05-02_15-37-12/checkpoint_000002)\u001b[32m [repeated 4x across cluster]\u001b[0m\n"
     ]
    },
    {
     "name": "stdout",
     "output_type": "stream",
     "text": [
      "\u001b[36m(train_lstm pid=24424)\u001b[0m Epoch 20: loss = 0.116321\u001b[32m [repeated 4x across cluster]\u001b[0m\n"
     ]
    },
    {
     "name": "stderr",
     "output_type": "stream",
     "text": [
      "\u001b[36m(train_lstm pid=23972)\u001b[0m C:\\Users\\justi\\anaconda3\\Lib\\site-packages\\ray\\train\\_internal\\session.py:772: RayDeprecationWarning: `ray.train.report` should be switched to `ray.tune.report` when running in a function passed to Ray Tune. This will be an error in the future. See this issue for more context: https://github.com/ray-project/ray/issues/49454\n",
      "\u001b[36m(train_lstm pid=23972)\u001b[0m   _log_deprecation_warning(\n",
      "\u001b[36m(train_lstm pid=23972)\u001b[0m C:\\Users\\justi\\anaconda3\\Lib\\site-packages\\ray\\tune\\trainable\\trainable_fn_utils.py:41: RayDeprecationWarning: The `Checkpoint` class should be imported from `ray.tune` when passing it to `ray.tune.report` in a Tune function. Please update your imports. See this issue for more context and migration options: https://github.com/ray-project/ray/issues/49454. Disable these warnings by setting the environment variable: RAY_TRAIN_ENABLE_V2_MIGRATION_WARNINGS=0\n",
      "\u001b[36m(train_lstm pid=23972)\u001b[0m   _log_deprecation_warning(\n",
      "\u001b[36m(train_lstm pid=23972)\u001b[0m Checkpoint successfully created at: Checkpoint(filesystem=local, path=C:/Users/justi/Documents/Springboard/Capstones/Capstone 2/ray_results/lstm_experiment/train_lstm_d7d34_00009_9_hidden_layer_size=32,learning_rate=0.0004_2025-05-02_15-37-12/checkpoint_000000)\n"
     ]
    },
    {
     "name": "stdout",
     "output_type": "stream",
     "text": [
      "\u001b[36m(train_lstm pid=23972)\u001b[0m Epoch 0: loss = 0.117295\n"
     ]
    },
    {
     "name": "stderr",
     "output_type": "stream",
     "text": [
      "\u001b[36m(train_lstm pid=19260)\u001b[0m Checkpoint successfully created at: Checkpoint(filesystem=local, path=C:/Users/justi/Documents/Springboard/Capstones/Capstone 2/ray_results/lstm_experiment/train_lstm_d7d34_00008_8_hidden_layer_size=64,learning_rate=0.0024_2025-05-02_15-37-12/checkpoint_000000)\n"
     ]
    },
    {
     "name": "stdout",
     "output_type": "stream",
     "text": [
      "\u001b[36m(train_lstm pid=19260)\u001b[0m Epoch 0: loss = 0.119323\n",
      "\u001b[36m(train_lstm pid=23972)\u001b[0m Epoch 10: loss = 0.116470\u001b[32m [repeated 6x across cluster]\u001b[0m\n"
     ]
    },
    {
     "name": "stderr",
     "output_type": "stream",
     "text": [
      "\u001b[36m(train_lstm pid=19260)\u001b[0m C:\\Users\\justi\\anaconda3\\Lib\\site-packages\\ray\\train\\_internal\\session.py:772: RayDeprecationWarning: `ray.train.report` should be switched to `ray.tune.report` when running in a function passed to Ray Tune. This will be an error in the future. See this issue for more context: https://github.com/ray-project/ray/issues/49454\n",
      "\u001b[36m(train_lstm pid=19260)\u001b[0m   _log_deprecation_warning(\u001b[32m [repeated 2x across cluster]\u001b[0m\n",
      "\u001b[36m(train_lstm pid=19260)\u001b[0m C:\\Users\\justi\\anaconda3\\Lib\\site-packages\\ray\\tune\\trainable\\trainable_fn_utils.py:41: RayDeprecationWarning: The `Checkpoint` class should be imported from `ray.tune` when passing it to `ray.tune.report` in a Tune function. Please update your imports. See this issue for more context and migration options: https://github.com/ray-project/ray/issues/49454. Disable these warnings by setting the environment variable: RAY_TRAIN_ENABLE_V2_MIGRATION_WARNINGS=0\n",
      "\u001b[36m(train_lstm pid=23972)\u001b[0m Checkpoint successfully created at: Checkpoint(filesystem=local, path=C:/Users/justi/Documents/Springboard/Capstones/Capstone 2/ray_results/lstm_experiment/train_lstm_d7d34_00009_9_hidden_layer_size=32,learning_rate=0.0004_2025-05-02_15-37-12/checkpoint_000001)\u001b[32m [repeated 6x across cluster]\u001b[0m\n",
      "\u001b[36m(train_lstm pid=24188)\u001b[0m Checkpoint successfully created at: Checkpoint(filesystem=local, path=C:/Users/justi/Documents/Springboard/Capstones/Capstone 2/ray_results/lstm_experiment/train_lstm_d7d34_00000_0_hidden_layer_size=64,learning_rate=0.0006_2025-05-02_15-37-12/checkpoint_000003)\u001b[32m [repeated 4x across cluster]\u001b[0m\n"
     ]
    },
    {
     "name": "stdout",
     "output_type": "stream",
     "text": [
      "\u001b[36m(train_lstm pid=24188)\u001b[0m Epoch 30: loss = 0.115510\u001b[32m [repeated 4x across cluster]\u001b[0m\n"
     ]
    },
    {
     "name": "stderr",
     "output_type": "stream",
     "text": [
      "\u001b[36m(train_lstm pid=24424)\u001b[0m Checkpoint successfully created at: Checkpoint(filesystem=local, path=C:/Users/justi/Documents/Springboard/Capstones/Capstone 2/ray_results/lstm_experiment/train_lstm_d7d34_00003_3_hidden_layer_size=32,learning_rate=0.0044_2025-05-02_15-37-12/checkpoint_000005)\u001b[32m [repeated 5x across cluster]\u001b[0m\n"
     ]
    },
    {
     "name": "stdout",
     "output_type": "stream",
     "text": [
      "\u001b[36m(train_lstm pid=24424)\u001b[0m Epoch 50: loss = 0.075334\u001b[32m [repeated 5x across cluster]\u001b[0m\n"
     ]
    },
    {
     "name": "stderr",
     "output_type": "stream",
     "text": [
      "\u001b[36m(train_lstm pid=23972)\u001b[0m Checkpoint successfully created at: Checkpoint(filesystem=local, path=C:/Users/justi/Documents/Springboard/Capstones/Capstone 2/ray_results/lstm_experiment/train_lstm_d7d34_00009_9_hidden_layer_size=32,learning_rate=0.0004_2025-05-02_15-37-12/checkpoint_000003)\n"
     ]
    },
    {
     "name": "stdout",
     "output_type": "stream",
     "text": [
      "\u001b[36m(train_lstm pid=23972)\u001b[0m Epoch 30: loss = 0.116057\n"
     ]
    },
    {
     "name": "stderr",
     "output_type": "stream",
     "text": [
      "\u001b[36m(train_lstm pid=6780)\u001b[0m Checkpoint successfully created at: Checkpoint(filesystem=local, path=C:/Users/justi/Documents/Springboard/Capstones/Capstone 2/ray_results/lstm_experiment/train_lstm_d7d34_00001_1_hidden_layer_size=64,learning_rate=0.0029_2025-05-02_15-37-12/checkpoint_000004)\n"
     ]
    },
    {
     "name": "stdout",
     "output_type": "stream",
     "text": [
      "\u001b[36m(train_lstm pid=6780)\u001b[0m Epoch 40: loss = 0.088043\n"
     ]
    },
    {
     "name": "stderr",
     "output_type": "stream",
     "text": [
      "\u001b[33m(raylet)\u001b[0m [2025-05-02 15:38:36,965 E 20212 21908] (raylet.exe) worker_pool.cc:581: Some workers of the worker process(17172) have not registered within the timeout. The process is still alive, probably it's hanging during start.\n",
      "\u001b[36m(train_lstm pid=20040)\u001b[0m Checkpoint successfully created at: Checkpoint(filesystem=local, path=C:/Users/justi/Documents/Springboard/Capstones/Capstone 2/ray_results/lstm_experiment/train_lstm_d7d34_00007_7_hidden_layer_size=32,learning_rate=0.0011_2025-05-02_15-37-12/checkpoint_000007)\u001b[32m [repeated 4x across cluster]\u001b[0m\n"
     ]
    },
    {
     "name": "stdout",
     "output_type": "stream",
     "text": [
      "\u001b[36m(train_lstm pid=20040)\u001b[0m Epoch 70: loss = 0.111572\u001b[32m [repeated 4x across cluster]\u001b[0m\n"
     ]
    },
    {
     "name": "stderr",
     "output_type": "stream",
     "text": [
      "\u001b[36m(train_lstm pid=20040)\u001b[0m Checkpoint successfully created at: Checkpoint(filesystem=local, path=C:/Users/justi/Documents/Springboard/Capstones/Capstone 2/ray_results/lstm_experiment/train_lstm_d7d34_00007_7_hidden_layer_size=32,learning_rate=0.0011_2025-05-02_15-37-12/checkpoint_000008)\u001b[32m [repeated 4x across cluster]\u001b[0m\n"
     ]
    },
    {
     "name": "stdout",
     "output_type": "stream",
     "text": [
      "\u001b[36m(train_lstm pid=20040)\u001b[0m Epoch 80: loss = 0.108261\u001b[32m [repeated 4x across cluster]\u001b[0m\n"
     ]
    },
    {
     "name": "stderr",
     "output_type": "stream",
     "text": [
      "\u001b[36m(train_lstm pid=6780)\u001b[0m Checkpoint successfully created at: Checkpoint(filesystem=local, path=C:/Users/justi/Documents/Springboard/Capstones/Capstone 2/ray_results/lstm_experiment/train_lstm_d7d34_00001_1_hidden_layer_size=64,learning_rate=0.0029_2025-05-02_15-37-12/checkpoint_000006)\u001b[32m [repeated 3x across cluster]\u001b[0m\n"
     ]
    },
    {
     "name": "stdout",
     "output_type": "stream",
     "text": [
      "\u001b[36m(train_lstm pid=6780)\u001b[0m Epoch 60: loss = 0.025094\u001b[32m [repeated 3x across cluster]\u001b[0m\n"
     ]
    },
    {
     "name": "stderr",
     "output_type": "stream",
     "text": [
      "\u001b[36m(train_lstm pid=6780)\u001b[0m Checkpoint successfully created at: Checkpoint(filesystem=local, path=C:/Users/justi/Documents/Springboard/Capstones/Capstone 2/ray_results/lstm_experiment/train_lstm_d7d34_00001_1_hidden_layer_size=64,learning_rate=0.0029_2025-05-02_15-37-12/checkpoint_000007)\u001b[32m [repeated 4x across cluster]\u001b[0m\n"
     ]
    },
    {
     "name": "stdout",
     "output_type": "stream",
     "text": [
      "\u001b[36m(train_lstm pid=6780)\u001b[0m Epoch 70: loss = 0.015349\u001b[32m [repeated 4x across cluster]\u001b[0m\n"
     ]
    },
    {
     "name": "stderr",
     "output_type": "stream",
     "text": [
      "\u001b[36m(train_lstm pid=6780)\u001b[0m Checkpoint successfully created at: Checkpoint(filesystem=local, path=C:/Users/justi/Documents/Springboard/Capstones/Capstone 2/ray_results/lstm_experiment/train_lstm_d7d34_00001_1_hidden_layer_size=64,learning_rate=0.0029_2025-05-02_15-37-12/checkpoint_000008)\n"
     ]
    },
    {
     "name": "stdout",
     "output_type": "stream",
     "text": [
      "\u001b[36m(train_lstm pid=6780)\u001b[0m Epoch 80: loss = 0.010540\n"
     ]
    },
    {
     "name": "stderr",
     "output_type": "stream",
     "text": [
      "\u001b[36m(train_lstm pid=6780)\u001b[0m Checkpoint successfully created at: Checkpoint(filesystem=local, path=C:/Users/justi/Documents/Springboard/Capstones/Capstone 2/ray_results/lstm_experiment/train_lstm_d7d34_00001_1_hidden_layer_size=64,learning_rate=0.0029_2025-05-02_15-37-12/checkpoint_000009)\n"
     ]
    },
    {
     "name": "stdout",
     "output_type": "stream",
     "text": [
      "\u001b[36m(train_lstm pid=6780)\u001b[0m Epoch 90: loss = 0.008839\n",
      "Best hyperparameters: {'hidden_layer_size': 64, 'learning_rate': 0.0028647857256497594, 'epochs': 100}\n"
     ]
    },
    {
     "data": {
      "image/png": "[encoded data removed]",
      "text/plain": [
       "<Figure size 640x480 with 1 Axes>"
      ]
     },
     "metadata": {},
     "output_type": "display_data"
    }
   ],
   "source": [
    "# 1) Standard library + ML imports\n",
    "import os\n",
    "import tempfile\n",
    "import pathlib\n",
    "import numpy as np\n",
    "import torch\n",
    "import torch.nn as nn\n",
    "import torch.optim as optim\n",
    "from torch.utils.data import TensorDataset, DataLoader\n",
    "import matplotlib.pyplot as plt\n",
    "\n",
    "# 2) Ray imports\n",
    "import ray\n",
    "from ray import tune                                    \n",
    "from ray.air import session, RunConfig\n",
    "from ray.train import Checkpoint\n",
    "from ray.tune.tune_config import TuneConfig\n",
    "from ray.tune.schedulers import ASHAScheduler\n",
    "\n",
    "# 3) (Re)start Ray\n",
    "ray.shutdown()\n",
    "ray.init(ignore_reinit_error=True, logging_level=\"ERROR\")\n",
    "\n",
    "# 4) Updated LSTM model\n",
    "class LSTMModel(nn.Module):\n",
    "    def __init__(self, input_size, hidden_size, output_size=1):\n",
    "        super().__init__()\n",
    "        self.lstm = nn.LSTM(input_size, hidden_size, batch_first=True, num_layers=2)\n",
    "        self.dropout = nn.Dropout(0.3)\n",
    "        self.fc = nn.Linear(hidden_size, output_size)\n",
    "\n",
    "    def forward(self, x):\n",
    "        out, _ = self.lstm(x)\n",
    "        out = self.dropout(out[:, -1, :])\n",
    "        return self.fc(out)\n",
    "\n",
    "# 5) Create sequences (includes Log_Sales as a feature now)\n",
    "SEQ_LENGTH = 7\n",
    "def create_sequences(df, seq_length):\n",
    "    \"\"\"\n",
    "    Create sequences using all features (including Sales).\n",
    "    Target remains the 'Sales' of the next time step.\n",
    "    \"\"\"\n",
    "    X, y = [], []\n",
    "    features = df.values\n",
    "    for i in range(len(df) - seq_length):\n",
    "        X.append(features[i:i+seq_length])\n",
    "        y.append(features[i+seq_length][df.columns.get_loc('Sales')])\n",
    "    return np.array(X), np.array(y)\n",
    "\n",
    "X_train, y_train = create_sequences(lstm_train, SEQ_LENGTH)\n",
    "X_test, y_test = create_sequences(lstm_test, SEQ_LENGTH)\n",
    "\n",
    "X_train_tensor = torch.Tensor(X_train)\n",
    "y_train_tensor = torch.Tensor(y_train).view(-1, 1)\n",
    "X_test_tensor = torch.Tensor(X_test)\n",
    "y_test_tensor = torch.Tensor(y_test).view(-1, 1)\n",
    "\n",
    "# 6) Training function for Ray Tune\n",
    "def train_lstm(config):\n",
    "    model = LSTMModel(\n",
    "        input_size  = X_train_tensor.shape[2],\n",
    "        hidden_size = config[\"hidden_layer_size\"],\n",
    "    )\n",
    "    loss_fn = nn.MSELoss()\n",
    "    optimizer = optim.Adam(model.parameters(), lr=config[\"learning_rate\"])\n",
    "    epochs = config.get(\"epochs\", 100)\n",
    "\n",
    "    train_dataset = TensorDataset(X_train_tensor, y_train_tensor)\n",
    "    train_loader = DataLoader(train_dataset, batch_size=64, shuffle=True)\n",
    "\n",
    "    for epoch in range(epochs):\n",
    "        model.train()\n",
    "        total_loss = 0.0\n",
    "        for xb, yb in train_loader:\n",
    "            optimizer.zero_grad()\n",
    "            preds = model(xb)\n",
    "            loss = loss_fn(preds, yb)\n",
    "            loss.backward()\n",
    "            optimizer.step()\n",
    "            total_loss += loss.item()\n",
    "        avg_loss = total_loss / len(train_loader)\n",
    "\n",
    "        if epoch % 10 == 0:\n",
    "            print(f\"Epoch {epoch}: loss = {avg_loss:.6f}\")\n",
    "            with tempfile.TemporaryDirectory() as tmpdir:\n",
    "                torch.save(model.state_dict(), os.path.join(tmpdir, \"model.pt\"))\n",
    "                session.report(\n",
    "                    {\"loss\": avg_loss},\n",
    "                    checkpoint=Checkpoint.from_directory(tmpdir)\n",
    "                )\n",
    "\n",
    "# 7) Search space and scheduler\n",
    "search_space = {\n",
    "    \"hidden_layer_size\": tune.choice([32, 64]),\n",
    "    \"learning_rate\": tune.loguniform(1e-4, 5e-3),\n",
    "    \"epochs\": 100,\n",
    "}\n",
    "scheduler = ASHAScheduler()\n",
    "\n",
    "# 8) RunConfig and TuneConfig\n",
    "trainable = tune.with_resources(train_lstm, {\"cpu\": 1})\n",
    "run_cfg = RunConfig(\n",
    "    name=\"lstm_experiment\",\n",
    "    stop={\"training_iteration\": 100},\n",
    "    storage_path=str(pathlib.Path(\"./ray_results\").resolve()),\n",
    "    sync_config=None,\n",
    "    log_to_file=False\n",
    ")\n",
    "tune_cfg = TuneConfig(\n",
    "    metric=\"loss\",\n",
    "    mode=\"min\",\n",
    "    num_samples=10,\n",
    "    scheduler=scheduler\n",
    ")\n",
    "\n",
    "# 9) Run the tuner\n",
    "tuner = tune.Tuner(\n",
    "    trainable,\n",
    "    run_config=run_cfg,\n",
    "    tune_config=tune_cfg,\n",
    "    param_space=search_space\n",
    ")\n",
    "results = tuner.fit()\n",
    "\n",
    "# 10) Load best model and evaluate\n",
    "best = results.get_best_result(metric=\"loss\", mode=\"min\")\n",
    "print(\"Best hyperparameters:\", best.config)\n",
    "ckpt_dir = best.checkpoint.to_directory()\n",
    "\n",
    "best_model = LSTMModel(\n",
    "    input_size=X_train_tensor.shape[2],\n",
    "    hidden_size=best.config[\"hidden_layer_size\"]\n",
    ")\n",
    "best_model.load_state_dict(torch.load(os.path.join(ckpt_dir, \"model.pt\")))\n",
    "\n",
    "# 11) Predictions and plot\n",
    "best_model.eval()\n",
    "with torch.no_grad():\n",
    "    y_pred = best_model(X_test_tensor).numpy().flatten()\n",
    "    y_true = y_test_tensor.numpy().flatten()\n",
    "\n",
    "plt.plot(y_true, label=\"Actual\")\n",
    "plt.plot(y_pred, label=\"Predicted\")\n",
    "plt.legend()\n",
    "plt.title(\"Actual vs Predicted Sales\")\n",
    "plt.show()\n"
   ]
  },
  {
   "cell_type": "code",
   "execution_count": 201,
   "id": "c2e3dbdc-274d-4144-bfaa-a8225bd6b434",
   "metadata": {},
   "outputs": [
    {
     "data": {
      "text/plain": [
       "(-0.19769165, 1.23117)"
      ]
     },
     "execution_count": 201,
     "metadata": {},
     "output_type": "execute_result"
    }
   ],
   "source": [
    "y_pred.min(), y_pred.max()"
   ]
  },
  {
   "cell_type": "code",
   "execution_count": 203,
   "id": "ae7773c1-8ffb-40e7-89c3-ed1571ea0178",
   "metadata": {},
   "outputs": [
    {
     "data": {
      "text/plain": [
       "(0.0010915711, 1.0)"
      ]
     },
     "execution_count": 203,
     "metadata": {},
     "output_type": "execute_result"
    }
   ],
   "source": [
    "y_true.min(), y_true.max()"
   ]
  },
  {
   "cell_type": "code",
   "execution_count": 205,
   "id": "6f9b4148-5a92-41a1-b778-06c9d8bb5a01",
   "metadata": {},
   "outputs": [
    {
     "name": "stdout",
     "output_type": "stream",
     "text": [
      "True: 0.0121, Predicted: 0.3399\n",
      "True: 0.0318, Predicted: 0.0708\n",
      "True: 0.4495, Predicted: 0.2884\n",
      "True: 0.6048, Predicted: 0.4994\n",
      "True: 0.0341, Predicted: 0.7208\n",
      "True: 0.0998, Predicted: 0.6431\n",
      "True: 0.0669, Predicted: 0.3426\n",
      "True: 0.4624, Predicted: 0.1371\n",
      "True: 0.0385, Predicted: 0.0307\n",
      "True: 0.0167, Predicted: 0.3209\n",
      "True: 0.5428, Predicted: 0.1678\n",
      "True: 0.4201, Predicted: 0.4572\n",
      "True: 0.1874, Predicted: 0.0906\n",
      "True: 0.0511, Predicted: 0.0609\n",
      "True: 1.0000, Predicted: 0.1838\n",
      "True: 0.2478, Predicted: 0.0663\n",
      "True: 0.1429, Predicted: 0.1342\n",
      "True: 0.0590, Predicted: 0.3518\n",
      "True: 1.0000, Predicted: 0.0359\n",
      "True: 0.2421, Predicted: 0.0073\n",
      "True: 0.0269, Predicted: 0.0593\n",
      "True: 0.1257, Predicted: 0.0442\n",
      "True: 0.3185, Predicted: 0.4241\n",
      "True: 0.1157, Predicted: 0.2155\n",
      "True: 0.0225, Predicted: 0.5947\n",
      "True: 0.0295, Predicted: 0.7344\n",
      "True: 0.0819, Predicted: 0.1336\n",
      "True: 0.0254, Predicted: 0.1083\n",
      "True: 0.7987, Predicted: 0.1430\n",
      "True: 1.0000, Predicted: 0.4869\n",
      "True: 0.0393, Predicted: 0.5766\n",
      "True: 0.0396, Predicted: 1.1330\n",
      "True: 0.0057, Predicted: 0.7080\n",
      "True: 0.5951, Predicted: 0.1460\n",
      "True: 0.0746, Predicted: 0.1964\n",
      "True: 0.2762, Predicted: 0.2982\n",
      "True: 0.5187, Predicted: 0.1202\n",
      "True: 0.0406, Predicted: 0.0271\n",
      "True: 0.7235, Predicted: 0.7390\n",
      "True: 1.0000, Predicted: 0.2917\n",
      "True: 0.0515, Predicted: 0.2159\n",
      "True: 0.0250, Predicted: 0.3362\n",
      "True: 0.0469, Predicted: 0.2026\n",
      "True: 0.1811, Predicted: 0.7002\n",
      "True: 0.4688, Predicted: 0.5396\n",
      "True: 1.0000, Predicted: 0.2060\n",
      "True: 0.0289, Predicted: 0.0639\n",
      "True: 0.0191, Predicted: 0.4320\n",
      "True: 0.0291, Predicted: 0.0885\n",
      "True: 1.0000, Predicted: 0.3724\n"
     ]
    }
   ],
   "source": [
    "for i in range(50):\n",
    "    print(f\"True: {y_true[i]:.4f}, Predicted: {y_pred[i]:.4f}\")"
   ]
  },
  {
   "cell_type": "code",
   "execution_count": 207,
   "id": "d5341b40-28f1-4c5b-bf19-a03799789368",
   "metadata": {},
   "outputs": [
    {
     "name": "stdout",
     "output_type": "stream",
     "text": [
      "RMSE: 0.42\n",
      "MAE: 0.31\n",
      "MAPE: 690.87%\n"
     ]
    }
   ],
   "source": [
    "rmse = root_mean_squared_error(y_true, y_pred)\n",
    "mae = mean_absolute_error(y_true, y_pred)\n",
    "mape = (abs((y_true - y_pred) / y_true)).mean() * 100\n",
    "\n",
    "print(f\"RMSE: {rmse:.2f}\")\n",
    "print(f\"MAE: {mae:.2f}\")\n",
    "print(f\"MAPE: {mape:.2f}%\")"
   ]
  }
 ],
 "metadata": {
  "kernelspec": {
   "display_name": "Python 3 (ipykernel)",
   "language": "python",
   "name": "python3"
  },
  "language_info": {
   "codemirror_mode": {
    "name": "ipython",
    "version": 3
   },
   "file_extension": ".py",
   "mimetype": "text/x-python",
   "name": "python",
   "nbconvert_exporter": "python",
   "pygments_lexer": "ipython3",
   "version": "3.12.4"
  }
 },
 "nbformat": 4,
 "nbformat_minor": 5
}
