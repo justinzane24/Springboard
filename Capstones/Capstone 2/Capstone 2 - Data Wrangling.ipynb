{
 "cells": [
  {
   "cell_type": "markdown",
   "id": "5d02b193-a1bd-4f8a-b835-48c8627ce36b",
   "metadata": {},
   "source": [
    "## Data Wrangling"
   ]
  },
  {
   "cell_type": "markdown",
   "id": "7e73407a-3dea-4b53-ad72-71ef65b7eb40",
   "metadata": {},
   "source": [
    "### Imports"
   ]
  },
  {
   "cell_type": "code",
   "execution_count": 3,
   "id": "aa82d241-1687-4946-aedb-9d45d667ba1f",
   "metadata": {},
   "outputs": [],
   "source": [
    "#Import necessary libraries\n",
    "import pandas as pd\n",
    "import matplotlib.pyplot as plt\n",
    "import seaborn as sns"
   ]
  },
  {
   "cell_type": "markdown",
   "id": "4b60fb37-54ff-42a5-9ba0-f88beab0011c",
   "metadata": {},
   "source": [
    "### Loading Data"
   ]
  },
  {
   "cell_type": "code",
   "execution_count": 5,
   "id": "20eef291-e60d-46ca-8991-75a6be61d218",
   "metadata": {},
   "outputs": [],
   "source": [
    "#Loads the dataset from the local .csv file\n",
    "df = pd.read_csv('retail_store_inventory.csv')"
   ]
  },
  {
   "cell_type": "code",
   "execution_count": 6,
   "id": "1bf5a0e4-ac75-488a-bbff-0682e5759548",
   "metadata": {},
   "outputs": [
    {
     "name": "stdout",
     "output_type": "stream",
     "text": [
      "<class 'pandas.core.frame.DataFrame'>\n",
      "RangeIndex: 73100 entries, 0 to 73099\n",
      "Data columns (total 15 columns):\n",
      " #   Column              Non-Null Count  Dtype  \n",
      "---  ------              --------------  -----  \n",
      " 0   Date                73100 non-null  object \n",
      " 1   Store ID            73100 non-null  object \n",
      " 2   Product ID          73100 non-null  object \n",
      " 3   Category            73100 non-null  object \n",
      " 4   Region              73100 non-null  object \n",
      " 5   Inventory Level     73100 non-null  int64  \n",
      " 6   Units Sold          73100 non-null  int64  \n",
      " 7   Units Ordered       73100 non-null  int64  \n",
      " 8   Demand Forecast     73100 non-null  float64\n",
      " 9   Price               73100 non-null  float64\n",
      " 10  Discount            73100 non-null  int64  \n",
      " 11  Weather Condition   73100 non-null  object \n",
      " 12  Holiday/Promotion   73100 non-null  int64  \n",
      " 13  Competitor Pricing  73100 non-null  float64\n",
      " 14  Seasonality         73100 non-null  object \n",
      "dtypes: float64(3), int64(5), object(7)\n",
      "memory usage: 8.4+ MB\n"
     ]
    }
   ],
   "source": [
    "df.info()"
   ]
  },
  {
   "cell_type": "markdown",
   "id": "e9370833-25d0-4820-893b-f5ea305a0956",
   "metadata": {},
   "source": [
    "We can see from the output that we have 73,100 rows, 15 columns, and no missing values exist in the dataset. How fortunate!"
   ]
  },
  {
   "cell_type": "code",
   "execution_count": 8,
   "id": "3ccad203-7e4e-40ff-8dbf-caa729722c5b",
   "metadata": {},
   "outputs": [
    {
     "data": {
      "text/html": [
       "<div>\n",
       "<style scoped>\n",
       "    .dataframe tbody tr th:only-of-type {\n",
       "        vertical-align: middle;\n",
       "    }\n",
       "\n",
       "    .dataframe tbody tr th {\n",
       "        vertical-align: top;\n",
       "    }\n",
       "\n",
       "    .dataframe thead th {\n",
       "        text-align: right;\n",
       "    }\n",
       "</style>\n",
       "<table border=\"1\" class=\"dataframe\">\n",
       "  <thead>\n",
       "    <tr style=\"text-align: right;\">\n",
       "      <th></th>\n",
       "      <th>Date</th>\n",
       "      <th>Store ID</th>\n",
       "      <th>Product ID</th>\n",
       "      <th>Category</th>\n",
       "      <th>Region</th>\n",
       "      <th>Inventory Level</th>\n",
       "      <th>Units Sold</th>\n",
       "      <th>Units Ordered</th>\n",
       "      <th>Demand Forecast</th>\n",
       "      <th>Price</th>\n",
       "      <th>Discount</th>\n",
       "      <th>Weather Condition</th>\n",
       "      <th>Holiday/Promotion</th>\n",
       "      <th>Competitor Pricing</th>\n",
       "      <th>Seasonality</th>\n",
       "    </tr>\n",
       "  </thead>\n",
       "  <tbody>\n",
       "    <tr>\n",
       "      <th>0</th>\n",
       "      <td>2022-01-01</td>\n",
       "      <td>S001</td>\n",
       "      <td>P0001</td>\n",
       "      <td>Groceries</td>\n",
       "      <td>North</td>\n",
       "      <td>231</td>\n",
       "      <td>127</td>\n",
       "      <td>55</td>\n",
       "      <td>135.47</td>\n",
       "      <td>33.50</td>\n",
       "      <td>20</td>\n",
       "      <td>Rainy</td>\n",
       "      <td>0</td>\n",
       "      <td>29.69</td>\n",
       "      <td>Autumn</td>\n",
       "    </tr>\n",
       "    <tr>\n",
       "      <th>1</th>\n",
       "      <td>2022-01-01</td>\n",
       "      <td>S001</td>\n",
       "      <td>P0002</td>\n",
       "      <td>Toys</td>\n",
       "      <td>South</td>\n",
       "      <td>204</td>\n",
       "      <td>150</td>\n",
       "      <td>66</td>\n",
       "      <td>144.04</td>\n",
       "      <td>63.01</td>\n",
       "      <td>20</td>\n",
       "      <td>Sunny</td>\n",
       "      <td>0</td>\n",
       "      <td>66.16</td>\n",
       "      <td>Autumn</td>\n",
       "    </tr>\n",
       "    <tr>\n",
       "      <th>2</th>\n",
       "      <td>2022-01-01</td>\n",
       "      <td>S001</td>\n",
       "      <td>P0003</td>\n",
       "      <td>Toys</td>\n",
       "      <td>West</td>\n",
       "      <td>102</td>\n",
       "      <td>65</td>\n",
       "      <td>51</td>\n",
       "      <td>74.02</td>\n",
       "      <td>27.99</td>\n",
       "      <td>10</td>\n",
       "      <td>Sunny</td>\n",
       "      <td>1</td>\n",
       "      <td>31.32</td>\n",
       "      <td>Summer</td>\n",
       "    </tr>\n",
       "    <tr>\n",
       "      <th>3</th>\n",
       "      <td>2022-01-01</td>\n",
       "      <td>S001</td>\n",
       "      <td>P0004</td>\n",
       "      <td>Toys</td>\n",
       "      <td>North</td>\n",
       "      <td>469</td>\n",
       "      <td>61</td>\n",
       "      <td>164</td>\n",
       "      <td>62.18</td>\n",
       "      <td>32.72</td>\n",
       "      <td>10</td>\n",
       "      <td>Cloudy</td>\n",
       "      <td>1</td>\n",
       "      <td>34.74</td>\n",
       "      <td>Autumn</td>\n",
       "    </tr>\n",
       "    <tr>\n",
       "      <th>4</th>\n",
       "      <td>2022-01-01</td>\n",
       "      <td>S001</td>\n",
       "      <td>P0005</td>\n",
       "      <td>Electronics</td>\n",
       "      <td>East</td>\n",
       "      <td>166</td>\n",
       "      <td>14</td>\n",
       "      <td>135</td>\n",
       "      <td>9.26</td>\n",
       "      <td>73.64</td>\n",
       "      <td>0</td>\n",
       "      <td>Sunny</td>\n",
       "      <td>0</td>\n",
       "      <td>68.95</td>\n",
       "      <td>Summer</td>\n",
       "    </tr>\n",
       "  </tbody>\n",
       "</table>\n",
       "</div>"
      ],
      "text/plain": [
       "         Date Store ID Product ID     Category Region  Inventory Level  \\\n",
       "0  2022-01-01     S001      P0001    Groceries  North              231   \n",
       "1  2022-01-01     S001      P0002         Toys  South              204   \n",
       "2  2022-01-01     S001      P0003         Toys   West              102   \n",
       "3  2022-01-01     S001      P0004         Toys  North              469   \n",
       "4  2022-01-01     S001      P0005  Electronics   East              166   \n",
       "\n",
       "   Units Sold  Units Ordered  Demand Forecast  Price  Discount  \\\n",
       "0         127             55           135.47  33.50        20   \n",
       "1         150             66           144.04  63.01        20   \n",
       "2          65             51            74.02  27.99        10   \n",
       "3          61            164            62.18  32.72        10   \n",
       "4          14            135             9.26  73.64         0   \n",
       "\n",
       "  Weather Condition  Holiday/Promotion  Competitor Pricing Seasonality  \n",
       "0             Rainy                  0               29.69      Autumn  \n",
       "1             Sunny                  0               66.16      Autumn  \n",
       "2             Sunny                  1               31.32      Summer  \n",
       "3            Cloudy                  1               34.74      Autumn  \n",
       "4             Sunny                  0               68.95      Summer  "
      ]
     },
     "execution_count": 8,
     "metadata": {},
     "output_type": "execute_result"
    }
   ],
   "source": [
    "df.head()"
   ]
  },
  {
   "cell_type": "markdown",
   "id": "4b574681-c254-4849-92cd-7a923743a4d4",
   "metadata": {},
   "source": [
    "### Exploring the Data"
   ]
  },
  {
   "cell_type": "code",
   "execution_count": 10,
   "id": "880244f8-5b46-4793-ad67-ff88cfe867df",
   "metadata": {},
   "outputs": [
    {
     "data": {
      "text/plain": [
       "Index(['Date', 'Store ID', 'Product ID', 'Category', 'Region',\n",
       "       'Inventory Level', 'Units Sold', 'Units Ordered', 'Demand Forecast',\n",
       "       'Price', 'Discount', 'Weather Condition', 'Holiday/Promotion',\n",
       "       'Competitor Pricing', 'Seasonality'],\n",
       "      dtype='object')"
      ]
     },
     "execution_count": 10,
     "metadata": {},
     "output_type": "execute_result"
    }
   ],
   "source": [
    "df.columns"
   ]
  },
  {
   "cell_type": "markdown",
   "id": "3dd7d954-f18a-4c8a-9c77-de31b9bd76a0",
   "metadata": {},
   "source": [
    "Columns appear to be labeled well and make sense with the first few rows we saw from the head() method."
   ]
  },
  {
   "cell_type": "code",
   "execution_count": 12,
   "id": "690ec6d5-8602-4473-8359-159d072c1340",
   "metadata": {},
   "outputs": [
    {
     "data": {
      "text/plain": [
       "Date                   object\n",
       "Store ID               object\n",
       "Product ID             object\n",
       "Category               object\n",
       "Region                 object\n",
       "Inventory Level         int64\n",
       "Units Sold              int64\n",
       "Units Ordered           int64\n",
       "Demand Forecast       float64\n",
       "Price                 float64\n",
       "Discount                int64\n",
       "Weather Condition      object\n",
       "Holiday/Promotion       int64\n",
       "Competitor Pricing    float64\n",
       "Seasonality            object\n",
       "dtype: object"
      ]
     },
     "execution_count": 12,
     "metadata": {},
     "output_type": "execute_result"
    }
   ],
   "source": [
    "df.dtypes"
   ]
  },
  {
   "cell_type": "markdown",
   "id": "807d6684-36a8-455c-a91b-eae015b9abb7",
   "metadata": {},
   "source": [
    "From the dtypes() method, we see a number of integer columns, floats, and strings. An important distinction to note is the Date column being stored as a string, not datetime."
   ]
  },
  {
   "cell_type": "code",
   "execution_count": 14,
   "id": "66cd5bab-bab3-4d1f-982c-7017530bb6a0",
   "metadata": {},
   "outputs": [
    {
     "data": {
      "text/plain": [
       "count          73100\n",
       "unique           731\n",
       "top       2022-01-01\n",
       "freq             100\n",
       "Name: Date, dtype: object"
      ]
     },
     "execution_count": 14,
     "metadata": {},
     "output_type": "execute_result"
    }
   ],
   "source": [
    "df['Date'].describe()"
   ]
  },
  {
   "cell_type": "markdown",
   "id": "e97e6dab-043b-45f6-8a03-d346f3506df4",
   "metadata": {},
   "source": [
    "There are 731 unique time points in the dataset. Let's convert the variable and verify we get the same results."
   ]
  },
  {
   "cell_type": "code",
   "execution_count": 16,
   "id": "bd9939e0-aa1c-4443-b250-64ce0e1ad0e4",
   "metadata": {},
   "outputs": [],
   "source": [
    "df['Date'] = pd.to_datetime(df['Date'])"
   ]
  },
  {
   "cell_type": "code",
   "execution_count": 17,
   "id": "d418db8a-2664-4295-b0f7-1547d8e2d44d",
   "metadata": {},
   "outputs": [
    {
     "data": {
      "text/plain": [
       "Date                  datetime64[ns]\n",
       "Store ID                      object\n",
       "Product ID                    object\n",
       "Category                      object\n",
       "Region                        object\n",
       "Inventory Level                int64\n",
       "Units Sold                     int64\n",
       "Units Ordered                  int64\n",
       "Demand Forecast              float64\n",
       "Price                        float64\n",
       "Discount                       int64\n",
       "Weather Condition             object\n",
       "Holiday/Promotion              int64\n",
       "Competitor Pricing           float64\n",
       "Seasonality                   object\n",
       "dtype: object"
      ]
     },
     "execution_count": 17,
     "metadata": {},
     "output_type": "execute_result"
    }
   ],
   "source": [
    "df.dtypes"
   ]
  },
  {
   "cell_type": "code",
   "execution_count": 18,
   "id": "e59b02e0-e29e-4c40-bb06-bee118cfbd03",
   "metadata": {},
   "outputs": [
    {
     "data": {
      "text/plain": [
       "<DatetimeArray>\n",
       "['2022-01-01 00:00:00', '2022-01-02 00:00:00', '2022-01-03 00:00:00',\n",
       " '2022-01-04 00:00:00', '2022-01-05 00:00:00', '2022-01-06 00:00:00',\n",
       " '2022-01-07 00:00:00', '2022-01-08 00:00:00', '2022-01-09 00:00:00',\n",
       " '2022-01-10 00:00:00',\n",
       " ...\n",
       " '2023-12-23 00:00:00', '2023-12-24 00:00:00', '2023-12-25 00:00:00',\n",
       " '2023-12-26 00:00:00', '2023-12-27 00:00:00', '2023-12-28 00:00:00',\n",
       " '2023-12-29 00:00:00', '2023-12-30 00:00:00', '2023-12-31 00:00:00',\n",
       " '2024-01-01 00:00:00']\n",
       "Length: 731, dtype: datetime64[ns]"
      ]
     },
     "execution_count": 18,
     "metadata": {},
     "output_type": "execute_result"
    }
   ],
   "source": [
    "df['Date'].unique()"
   ]
  },
  {
   "cell_type": "code",
   "execution_count": 19,
   "id": "ad911ced-49a7-479b-a2ba-fa57b0980827",
   "metadata": {},
   "outputs": [
    {
     "data": {
      "text/plain": [
       "0       2022-01-01\n",
       "1       2022-01-01\n",
       "2       2022-01-01\n",
       "3       2022-01-01\n",
       "4       2022-01-01\n",
       "           ...    \n",
       "73095   2024-01-01\n",
       "73096   2024-01-01\n",
       "73097   2024-01-01\n",
       "73098   2024-01-01\n",
       "73099   2024-01-01\n",
       "Name: Date, Length: 73100, dtype: datetime64[ns]"
      ]
     },
     "execution_count": 19,
     "metadata": {},
     "output_type": "execute_result"
    }
   ],
   "source": [
    "df.Date"
   ]
  },
  {
   "cell_type": "markdown",
   "id": "cb7a23cb-4d48-4012-bc47-1b92ebbda7fc",
   "metadata": {},
   "source": [
    "Now the Date column is correctly formatted. Additionally, we can see the dates start on January 1st, 2022, end on January 1st, 2024, and are taken on daily intervals; i.e., there are no hours, minutes, or seconds involved with the measurements. The number of unique values (731) verifies the span of 2 years."
   ]
  },
  {
   "cell_type": "markdown",
   "id": "16700432-e38e-4506-94de-c7b0a76d8726",
   "metadata": {
    "jp-MarkdownHeadingCollapsed": true
   },
   "source": [
    "#### Categorical Features"
   ]
  },
  {
   "cell_type": "code",
   "execution_count": 22,
   "id": "cf120a3c-2371-450e-9c57-accc6dfdcf25",
   "metadata": {},
   "outputs": [
    {
     "data": {
      "text/html": [
       "<div>\n",
       "<style scoped>\n",
       "    .dataframe tbody tr th:only-of-type {\n",
       "        vertical-align: middle;\n",
       "    }\n",
       "\n",
       "    .dataframe tbody tr th {\n",
       "        vertical-align: top;\n",
       "    }\n",
       "\n",
       "    .dataframe thead th {\n",
       "        text-align: right;\n",
       "    }\n",
       "</style>\n",
       "<table border=\"1\" class=\"dataframe\">\n",
       "  <thead>\n",
       "    <tr style=\"text-align: right;\">\n",
       "      <th></th>\n",
       "      <th>Store ID</th>\n",
       "      <th>Product ID</th>\n",
       "      <th>Category</th>\n",
       "      <th>Region</th>\n",
       "      <th>Weather Condition</th>\n",
       "      <th>Seasonality</th>\n",
       "    </tr>\n",
       "  </thead>\n",
       "  <tbody>\n",
       "    <tr>\n",
       "      <th>0</th>\n",
       "      <td>S001</td>\n",
       "      <td>P0001</td>\n",
       "      <td>Groceries</td>\n",
       "      <td>North</td>\n",
       "      <td>Rainy</td>\n",
       "      <td>Autumn</td>\n",
       "    </tr>\n",
       "    <tr>\n",
       "      <th>1</th>\n",
       "      <td>S001</td>\n",
       "      <td>P0002</td>\n",
       "      <td>Toys</td>\n",
       "      <td>South</td>\n",
       "      <td>Sunny</td>\n",
       "      <td>Autumn</td>\n",
       "    </tr>\n",
       "    <tr>\n",
       "      <th>2</th>\n",
       "      <td>S001</td>\n",
       "      <td>P0003</td>\n",
       "      <td>Toys</td>\n",
       "      <td>West</td>\n",
       "      <td>Sunny</td>\n",
       "      <td>Summer</td>\n",
       "    </tr>\n",
       "    <tr>\n",
       "      <th>3</th>\n",
       "      <td>S001</td>\n",
       "      <td>P0004</td>\n",
       "      <td>Toys</td>\n",
       "      <td>North</td>\n",
       "      <td>Cloudy</td>\n",
       "      <td>Autumn</td>\n",
       "    </tr>\n",
       "    <tr>\n",
       "      <th>4</th>\n",
       "      <td>S001</td>\n",
       "      <td>P0005</td>\n",
       "      <td>Electronics</td>\n",
       "      <td>East</td>\n",
       "      <td>Sunny</td>\n",
       "      <td>Summer</td>\n",
       "    </tr>\n",
       "    <tr>\n",
       "      <th>...</th>\n",
       "      <td>...</td>\n",
       "      <td>...</td>\n",
       "      <td>...</td>\n",
       "      <td>...</td>\n",
       "      <td>...</td>\n",
       "      <td>...</td>\n",
       "    </tr>\n",
       "    <tr>\n",
       "      <th>73095</th>\n",
       "      <td>S005</td>\n",
       "      <td>P0016</td>\n",
       "      <td>Furniture</td>\n",
       "      <td>East</td>\n",
       "      <td>Snowy</td>\n",
       "      <td>Winter</td>\n",
       "    </tr>\n",
       "    <tr>\n",
       "      <th>73096</th>\n",
       "      <td>S005</td>\n",
       "      <td>P0017</td>\n",
       "      <td>Toys</td>\n",
       "      <td>North</td>\n",
       "      <td>Cloudy</td>\n",
       "      <td>Autumn</td>\n",
       "    </tr>\n",
       "    <tr>\n",
       "      <th>73097</th>\n",
       "      <td>S005</td>\n",
       "      <td>P0018</td>\n",
       "      <td>Clothing</td>\n",
       "      <td>West</td>\n",
       "      <td>Rainy</td>\n",
       "      <td>Winter</td>\n",
       "    </tr>\n",
       "    <tr>\n",
       "      <th>73098</th>\n",
       "      <td>S005</td>\n",
       "      <td>P0019</td>\n",
       "      <td>Toys</td>\n",
       "      <td>East</td>\n",
       "      <td>Rainy</td>\n",
       "      <td>Spring</td>\n",
       "    </tr>\n",
       "    <tr>\n",
       "      <th>73099</th>\n",
       "      <td>S005</td>\n",
       "      <td>P0020</td>\n",
       "      <td>Groceries</td>\n",
       "      <td>East</td>\n",
       "      <td>Rainy</td>\n",
       "      <td>Spring</td>\n",
       "    </tr>\n",
       "  </tbody>\n",
       "</table>\n",
       "<p>73100 rows × 6 columns</p>\n",
       "</div>"
      ],
      "text/plain": [
       "      Store ID Product ID     Category Region Weather Condition Seasonality\n",
       "0         S001      P0001    Groceries  North             Rainy      Autumn\n",
       "1         S001      P0002         Toys  South             Sunny      Autumn\n",
       "2         S001      P0003         Toys   West             Sunny      Summer\n",
       "3         S001      P0004         Toys  North            Cloudy      Autumn\n",
       "4         S001      P0005  Electronics   East             Sunny      Summer\n",
       "...        ...        ...          ...    ...               ...         ...\n",
       "73095     S005      P0016    Furniture   East             Snowy      Winter\n",
       "73096     S005      P0017         Toys  North            Cloudy      Autumn\n",
       "73097     S005      P0018     Clothing   West             Rainy      Winter\n",
       "73098     S005      P0019         Toys   East             Rainy      Spring\n",
       "73099     S005      P0020    Groceries   East             Rainy      Spring\n",
       "\n",
       "[73100 rows x 6 columns]"
      ]
     },
     "execution_count": 22,
     "metadata": {},
     "output_type": "execute_result"
    }
   ],
   "source": [
    "df.select_dtypes('object')"
   ]
  },
  {
   "cell_type": "markdown",
   "id": "28c5000e-e444-488f-9118-c0189c8e9b03",
   "metadata": {},
   "source": [
    "Let's check the range of values and counts of each for the categorical variables."
   ]
  },
  {
   "cell_type": "code",
   "execution_count": 24,
   "id": "a7867628-f4f5-4741-a47e-3206e81437f9",
   "metadata": {},
   "outputs": [
    {
     "data": {
      "text/plain": [
       "[Store ID\n",
       " S001    14620\n",
       " S002    14620\n",
       " S003    14620\n",
       " S004    14620\n",
       " S005    14620\n",
       " Name: count, dtype: int64,\n",
       " Product ID\n",
       " P0001    3655\n",
       " P0002    3655\n",
       " P0003    3655\n",
       " P0004    3655\n",
       " P0005    3655\n",
       " P0006    3655\n",
       " P0007    3655\n",
       " P0008    3655\n",
       " P0009    3655\n",
       " P0010    3655\n",
       " P0011    3655\n",
       " P0012    3655\n",
       " P0013    3655\n",
       " P0014    3655\n",
       " P0015    3655\n",
       " P0016    3655\n",
       " P0017    3655\n",
       " P0018    3655\n",
       " P0019    3655\n",
       " P0020    3655\n",
       " Name: count, dtype: int64,\n",
       " Category\n",
       " Furniture      14699\n",
       " Toys           14643\n",
       " Clothing       14626\n",
       " Groceries      14611\n",
       " Electronics    14521\n",
       " Name: count, dtype: int64,\n",
       " Region\n",
       " East     18349\n",
       " South    18297\n",
       " North    18228\n",
       " West     18226\n",
       " Name: count, dtype: int64,\n",
       " Weather Condition\n",
       " Sunny     18290\n",
       " Rainy     18278\n",
       " Snowy     18272\n",
       " Cloudy    18260\n",
       " Name: count, dtype: int64,\n",
       " Seasonality\n",
       " Spring    18317\n",
       " Summer    18305\n",
       " Winter    18285\n",
       " Autumn    18193\n",
       " Name: count, dtype: int64]"
      ]
     },
     "execution_count": 24,
     "metadata": {},
     "output_type": "execute_result"
    }
   ],
   "source": [
    "[df[x].value_counts().sort_values(ascending=False) for x in df.select_dtypes('object')]"
   ]
  },
  {
   "cell_type": "markdown",
   "id": "3caaba06-d254-4fd1-ac46-658af03a35dc",
   "metadata": {},
   "source": [
    "All categories look to be fairly evenly distributed and appear to sum to 71,300, but we'll verify to be sure."
   ]
  },
  {
   "cell_type": "code",
   "execution_count": 26,
   "id": "93496dda-beab-4212-ae6a-791bad83f73c",
   "metadata": {},
   "outputs": [
    {
     "data": {
      "text/plain": [
       "[73100, 73100, 73100, 73100, 73100, 73100]"
      ]
     },
     "execution_count": 26,
     "metadata": {},
     "output_type": "execute_result"
    }
   ],
   "source": [
    "[df[x].value_counts().sort_values(ascending=False).sum() for x in df.select_dtypes('object')]"
   ]
  },
  {
   "cell_type": "markdown",
   "id": "d25570f5-bc99-4b57-910f-e71ebe5b3454",
   "metadata": {},
   "source": [
    "Looks good! Now let's take a look at the numeric columns."
   ]
  },
  {
   "cell_type": "markdown",
   "id": "50b82d1b-988d-42a0-b7c8-fc58cac6719d",
   "metadata": {
    "jp-MarkdownHeadingCollapsed": true
   },
   "source": [
    "#### Numeric Features"
   ]
  },
  {
   "cell_type": "code",
   "execution_count": 29,
   "id": "81f7e4ad-a5f9-4148-b8d3-cfc054332cbf",
   "metadata": {},
   "outputs": [
    {
     "data": {
      "text/html": [
       "<div>\n",
       "<style scoped>\n",
       "    .dataframe tbody tr th:only-of-type {\n",
       "        vertical-align: middle;\n",
       "    }\n",
       "\n",
       "    .dataframe tbody tr th {\n",
       "        vertical-align: top;\n",
       "    }\n",
       "\n",
       "    .dataframe thead th {\n",
       "        text-align: right;\n",
       "    }\n",
       "</style>\n",
       "<table border=\"1\" class=\"dataframe\">\n",
       "  <thead>\n",
       "    <tr style=\"text-align: right;\">\n",
       "      <th></th>\n",
       "      <th>count</th>\n",
       "      <th>mean</th>\n",
       "      <th>std</th>\n",
       "      <th>min</th>\n",
       "      <th>25%</th>\n",
       "      <th>50%</th>\n",
       "      <th>75%</th>\n",
       "      <th>max</th>\n",
       "    </tr>\n",
       "  </thead>\n",
       "  <tbody>\n",
       "    <tr>\n",
       "      <th>Inventory Level</th>\n",
       "      <td>73100.0</td>\n",
       "      <td>274.469877</td>\n",
       "      <td>129.949514</td>\n",
       "      <td>50.00</td>\n",
       "      <td>162.00</td>\n",
       "      <td>273.000</td>\n",
       "      <td>387.0000</td>\n",
       "      <td>500.00</td>\n",
       "    </tr>\n",
       "    <tr>\n",
       "      <th>Units Sold</th>\n",
       "      <td>73100.0</td>\n",
       "      <td>136.464870</td>\n",
       "      <td>108.919406</td>\n",
       "      <td>0.00</td>\n",
       "      <td>49.00</td>\n",
       "      <td>107.000</td>\n",
       "      <td>203.0000</td>\n",
       "      <td>499.00</td>\n",
       "    </tr>\n",
       "    <tr>\n",
       "      <th>Units Ordered</th>\n",
       "      <td>73100.0</td>\n",
       "      <td>110.004473</td>\n",
       "      <td>52.277448</td>\n",
       "      <td>20.00</td>\n",
       "      <td>65.00</td>\n",
       "      <td>110.000</td>\n",
       "      <td>155.0000</td>\n",
       "      <td>200.00</td>\n",
       "    </tr>\n",
       "    <tr>\n",
       "      <th>Demand Forecast</th>\n",
       "      <td>73100.0</td>\n",
       "      <td>141.494720</td>\n",
       "      <td>109.254076</td>\n",
       "      <td>-9.99</td>\n",
       "      <td>53.67</td>\n",
       "      <td>113.015</td>\n",
       "      <td>208.0525</td>\n",
       "      <td>518.55</td>\n",
       "    </tr>\n",
       "    <tr>\n",
       "      <th>Price</th>\n",
       "      <td>73100.0</td>\n",
       "      <td>55.135108</td>\n",
       "      <td>26.021945</td>\n",
       "      <td>10.00</td>\n",
       "      <td>32.65</td>\n",
       "      <td>55.050</td>\n",
       "      <td>77.8600</td>\n",
       "      <td>100.00</td>\n",
       "    </tr>\n",
       "    <tr>\n",
       "      <th>Discount</th>\n",
       "      <td>73100.0</td>\n",
       "      <td>10.009508</td>\n",
       "      <td>7.083746</td>\n",
       "      <td>0.00</td>\n",
       "      <td>5.00</td>\n",
       "      <td>10.000</td>\n",
       "      <td>15.0000</td>\n",
       "      <td>20.00</td>\n",
       "    </tr>\n",
       "    <tr>\n",
       "      <th>Holiday/Promotion</th>\n",
       "      <td>73100.0</td>\n",
       "      <td>0.497305</td>\n",
       "      <td>0.499996</td>\n",
       "      <td>0.00</td>\n",
       "      <td>0.00</td>\n",
       "      <td>0.000</td>\n",
       "      <td>1.0000</td>\n",
       "      <td>1.00</td>\n",
       "    </tr>\n",
       "    <tr>\n",
       "      <th>Competitor Pricing</th>\n",
       "      <td>73100.0</td>\n",
       "      <td>55.146077</td>\n",
       "      <td>26.191408</td>\n",
       "      <td>5.03</td>\n",
       "      <td>32.68</td>\n",
       "      <td>55.010</td>\n",
       "      <td>77.8200</td>\n",
       "      <td>104.94</td>\n",
       "    </tr>\n",
       "  </tbody>\n",
       "</table>\n",
       "</div>"
      ],
      "text/plain": [
       "                      count        mean         std    min     25%      50%  \\\n",
       "Inventory Level     73100.0  274.469877  129.949514  50.00  162.00  273.000   \n",
       "Units Sold          73100.0  136.464870  108.919406   0.00   49.00  107.000   \n",
       "Units Ordered       73100.0  110.004473   52.277448  20.00   65.00  110.000   \n",
       "Demand Forecast     73100.0  141.494720  109.254076  -9.99   53.67  113.015   \n",
       "Price               73100.0   55.135108   26.021945  10.00   32.65   55.050   \n",
       "Discount            73100.0   10.009508    7.083746   0.00    5.00   10.000   \n",
       "Holiday/Promotion   73100.0    0.497305    0.499996   0.00    0.00    0.000   \n",
       "Competitor Pricing  73100.0   55.146077   26.191408   5.03   32.68   55.010   \n",
       "\n",
       "                         75%     max  \n",
       "Inventory Level     387.0000  500.00  \n",
       "Units Sold          203.0000  499.00  \n",
       "Units Ordered       155.0000  200.00  \n",
       "Demand Forecast     208.0525  518.55  \n",
       "Price                77.8600  100.00  \n",
       "Discount             15.0000   20.00  \n",
       "Holiday/Promotion     1.0000    1.00  \n",
       "Competitor Pricing   77.8200  104.94  "
      ]
     },
     "execution_count": 29,
     "metadata": {},
     "output_type": "execute_result"
    }
   ],
   "source": [
    "df.drop(columns=['Date']).describe().T"
   ]
  },
  {
   "cell_type": "markdown",
   "id": "f0cbc96f-a929-4312-9d61-243fb13e312a",
   "metadata": {},
   "source": [
    "The minimum and maximum values look plausible, but values for the Holiday/Promotion column look odd. We can see the range is 0-1, which implies we are dealing with a binary variable. The column is fine as-is, but we need to keep this in mind as a consideration while modeling.\n",
    "\n",
    "Finally, we see that our target variable, Demand Forecast, has a minimum value of -9.99, maximum of 518.55, and mean of 141.49472."
   ]
  },
  {
   "cell_type": "code",
   "execution_count": 31,
   "id": "a28c74a3-e5ef-4c32-8e26-b80ada52e503",
   "metadata": {},
   "outputs": [
    {
     "data": {
      "image/png": "[encoded data removed]",
      "text/plain": [
       "<Figure size 1000x1000 with 9 Axes>"
      ]
     },
     "metadata": {},
     "output_type": "display_data"
    }
   ],
   "source": [
    "df.drop(columns='Date').hist(bins=30, figsize=(10,10))\n",
    "plt.subplots_adjust(hspace=0.5)"
   ]
  },
  {
   "cell_type": "markdown",
   "id": "ac68df20-de4b-43c6-b8bc-9b5c99457270",
   "metadata": {},
   "source": [
    "Inventory Level, Units Ordered, Price, and Discount look to be nearly uniformly distributed. Competitor Pricing is similar, but has a few more values on the lower and upper ends of the distribution. Finally, Units Sold and Demand Forecast have unimodal, right-tailed distributions; log-normal or exponential transformations may be useful considerations."
   ]
  },
  {
   "cell_type": "markdown",
   "id": "63e79082-5b12-4ed4-94cc-2653e600b104",
   "metadata": {},
   "source": [
    "### Save Data"
   ]
  },
  {
   "cell_type": "code",
   "execution_count": 50,
   "id": "9a8090e0-4fcd-4319-9008-fcfb9f8d3da7",
   "metadata": {
    "scrolled": true
   },
   "outputs": [
    {
     "name": "stdout",
     "output_type": "stream",
     "text": [
      "<class 'pandas.core.frame.DataFrame'>\n",
      "RangeIndex: 73100 entries, 0 to 73099\n",
      "Data columns (total 15 columns):\n",
      " #   Column              Non-Null Count  Dtype         \n",
      "---  ------              --------------  -----         \n",
      " 0   Date                73100 non-null  datetime64[ns]\n",
      " 1   Store ID            73100 non-null  object        \n",
      " 2   Product ID          73100 non-null  object        \n",
      " 3   Category            73100 non-null  object        \n",
      " 4   Region              73100 non-null  object        \n",
      " 5   Inventory Level     73100 non-null  int64         \n",
      " 6   Units Sold          73100 non-null  int64         \n",
      " 7   Units Ordered       73100 non-null  int64         \n",
      " 8   Demand Forecast     73100 non-null  float64       \n",
      " 9   Price               73100 non-null  float64       \n",
      " 10  Discount            73100 non-null  int64         \n",
      " 11  Weather Condition   73100 non-null  object        \n",
      " 12  Holiday/Promotion   73100 non-null  int64         \n",
      " 13  Competitor Pricing  73100 non-null  float64       \n",
      " 14  Seasonality         73100 non-null  object        \n",
      "dtypes: datetime64[ns](1), float64(3), int64(5), object(6)\n",
      "memory usage: 8.4+ MB\n"
     ]
    }
   ],
   "source": [
    "df.info()"
   ]
  },
  {
   "cell_type": "code",
   "execution_count": 52,
   "id": "3c4e0ed4-d353-4919-84d1-8fa0b6230650",
   "metadata": {},
   "outputs": [],
   "source": [
    "df.to_csv('retail_cleaned.csv')"
   ]
  }
 ],
 "metadata": {
  "kernelspec": {
   "display_name": "Python 3 (ipykernel)",
   "language": "python",
   "name": "python3"
  },
  "language_info": {
   "codemirror_mode": {
    "name": "ipython",
    "version": 3
   },
   "file_extension": ".py",
   "mimetype": "text/x-python",
   "name": "python",
   "nbconvert_exporter": "python",
   "pygments_lexer": "ipython3",
   "version": "3.12.4"
  }
 },
 "nbformat": 4,
 "nbformat_minor": 5
}
